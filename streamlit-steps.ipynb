{
 "cells": [
  {
   "cell_type": "markdown",
   "metadata": {},
   "source": [
    "## Создание приложения со streamlit\n",
    "\n",
    "### Установка streamlit\n",
    "\n",
    "**Важный момент:** чтобы пользоваться всеми возможностями библиотеки `streamlit`, нужна версия Python не ниже 3.8. Если у вас Python более старой версии, обновлять его необязательно, можно запускать приложения streamlit в Google Colab (см. ниже).\n",
    "\n",
    "Проверим свою версию Python:"
   ]
  },
  {
   "cell_type": "code",
   "execution_count": null,
   "metadata": {},
   "outputs": [],
   "source": [
    "!python --version"
   ]
  },
  {
   "cell_type": "markdown",
   "metadata": {},
   "source": [
    "Установим `streamlit` и принудительно обновим (опция `--upgrade`) на случай, если библиотека уже есть, но в старой версии:"
   ]
  },
  {
   "cell_type": "code",
   "execution_count": null,
   "metadata": {},
   "outputs": [],
   "source": [
    "!pip install streamlit --upgrade"
   ]
  },
  {
   "cell_type": "markdown",
   "metadata": {},
   "source": [
    "Импортируем библиотеку:"
   ]
  },
  {
   "cell_type": "code",
   "execution_count": null,
   "metadata": {},
   "outputs": [],
   "source": [
    "import streamlit as st"
   ]
  },
  {
   "cell_type": "markdown",
   "metadata": {},
   "source": [
    "Если импортируется с некоторым небольшим предупреждением о  `numexpr`, нестрашно, если вылетает ошибка `ImportError`, нужно разобраться с тем, какие версии каких модулей оказались несовместимыми (обычно проблема с теми инструментами, которые общие и у `streamlit`, и у `pandas`). Пример проблемного импорта ниже:"
   ]
  },
  {
   "cell_type": "raw",
   "metadata": {},
   "source": [
    "2024-03-24 08:52:12.089 INFO    numexpr.utils: NumExpr defaulting to 8 threads.\n",
    "/opt/anaconda3/lib/python3.9/site-packages/pandas/core/computation/expressions.py:21: UserWarning: Pandas requires version '2.8.4' or newer of 'numexpr' (version '2.7.3' currently installed).\n",
    "  from pandas.core.computation.check import NUMEXPR_INSTALLED\n",
    "/opt/anaconda3/lib/python3.9/site-packages/pandas/core/arrays/masked.py:60: UserWarning: Pandas requires version '1.3.6' or newer of 'bottleneck' (version '1.3.2' currently installed).\n",
    "  from pandas.core import ("
   ]
  },
  {
   "cell_type": "markdown",
   "metadata": {},
   "source": [
    "В примере выше проблема с `numexpr` и `bottleneck`, их можно обновить отдельно:"
   ]
  },
  {
   "cell_type": "code",
   "execution_count": null,
   "metadata": {},
   "outputs": [],
   "source": [
    "!pip install numexpr --upgrade"
   ]
  },
  {
   "cell_type": "code",
   "execution_count": null,
   "metadata": {},
   "outputs": [],
   "source": [
    "!pip install bottleneck --upgrade"
   ]
  },
  {
   "cell_type": "markdown",
   "metadata": {},
   "source": [
    "Или установить конкретную версию модуля/библиотеки, которая требуется, согласно сообщению об ошибке:"
   ]
  },
  {
   "cell_type": "code",
   "execution_count": null,
   "metadata": {},
   "outputs": [],
   "source": [
    "!pip install numexpr==2.8.4"
   ]
  },
  {
   "cell_type": "markdown",
   "metadata": {},
   "source": [
    "А теперь снова попробовать импортировать `streamlit`:"
   ]
  },
  {
   "cell_type": "code",
   "execution_count": null,
   "metadata": {},
   "outputs": [],
   "source": [
    "import streamlit as st"
   ]
  },
  {
   "cell_type": "markdown",
   "metadata": {},
   "source": [
    "### Проверка streamlit\n",
    "\n",
    "Если со `streamlit` работаем в первый раз, можно запустить встроенный в него пример (не наш код) с командной строки, иначе в Jupyter ничего не получится – при первичном вызове `streamlit` ожидается ввод email с клавиатуры. \n",
    "\n",
    "В Windows можно зайти в консоль Anaconda (в меню *Пуск* ищем папку *Anaconda*, в ней терминал/командную строку). На Mac просто запускаем терминал (в *Launchpad* ищем Терминал, открываем новое окно, не нужно что-то вводить что-то в черное/белое окно, которое используется для запуска работающего Jupyter).\n",
    "\n",
    "В терминале/командной строке пишем:\n",
    "\n",
    "    streamlit hello\n",
    "    \n",
    "Нажимаем *Enter*, если запрашивается email, вводим его и нажимаем *Enter* (или просто нажимаем на *Enter*, если не хотим вводить email).\n",
    "\n",
    "Пример окна консоли после успешного запуска:\n",
    "\n",
    "<img src=\"one.jpeg\" width=\"70%\">\n",
    "\n",
    "Запускается шаблонное приложение, иллюстрирующее возможности этой библиотеки. Оно открывается в новой вкладке браузера, локально, обычно по адресу `http://localhost:8501/`. Эта ссылка является активной только на текущем ноутбуке, пока приложение работает, то есть пока окно с консолью не закрыто (исполнение ячейки в Jupyter не остановлено)."
   ]
  },
  {
   "cell_type": "markdown",
   "metadata": {},
   "source": [
    "###  Создание и запуск приложения\n",
    "\n",
    "Создадим приложение, которое на основе данных по заработной плате сотрудников университетов США в файле `Salaries.csv` выводит описательные статистики для выбранной пользователем переменной и строит график для визуализации её распределения:\n",
    "\n",
    "* если тип столбца с переменной текстовый (`object`), строится столбиковая диаграмма;\n",
    "* если тип столбца с переменной числовой (иное), строится гистограмма.\n",
    "\n",
    "Создадим новый исполняемый файл с расширением `.py`, впишем туда код и сохраним изменения. \n",
    "\n",
    "**Способ 1.** В Home Page в Jupyter Notebook выбираем *New - Text file*, изменяем расширение `.txt` на `.py` и даем файлу название типа `myapp.py`. Вписываем код (пример ниже без строки с `%%writefile myapp.py`) и сохраняем изменения.\n",
    "\n",
    "**Способ 2.** В файле Jupyter Notebook в ячейку помещаем код, который должен быть в файле `myapp.py`, в начале ячейки добавляем строку `%%writefile myapp.py`, чтобы содержимое ячейки записалось и сохранилось в файл."
   ]
  },
  {
   "cell_type": "code",
   "execution_count": 1,
   "metadata": {},
   "outputs": [
    {
     "name": "stdout",
     "output_type": "stream",
     "text": [
      "Overwriting myapp.py\n"
     ]
    }
   ],
   "source": [
    "%%writefile myapp.py\n",
    "\n",
    "import streamlit as st\n",
    "import pandas as pd\n",
    "from matplotlib import pyplot as plt\n",
    "\n",
    "# prepare data\n",
    "\n",
    "dat = pd.read_csv(\"Salaries.csv\")\n",
    "dat.rename(columns = {\"yrs.since.phd\" : \"phd\", \n",
    "            \"yrs.service\" : \"service\"}, inplace = True)\n",
    "\n",
    "# prepare the list of variables,\n",
    "# without Untitled, the 1st one\n",
    "\n",
    "options = list(dat.columns[1:]) \n",
    "\n",
    "# add title and a dropdown menu to select a column\n",
    "\n",
    "st.title(\"Salaries in US universities\")\n",
    "selected = st.sidebar.selectbox(\"Choose a variable\", options)\n",
    "\n",
    "# add a field for the color of the graph (e.g. #346eeb)\n",
    "\n",
    "fill_color = st.sidebar.text_input(\"Enter a color:\", value = \"#346eeb\")\n",
    "\n",
    "# create a table with descriptive statistics\n",
    "\n",
    "selected_table = dat[selected].describe()\n",
    "\n",
    "# if column is not numeric (type object)\n",
    "# create a table with frequencies\n",
    "# and plot a bar chart -> plot in ax, save as fig\n",
    "# otherwise, plot a histogram -> plot in ax, save as fig\n",
    "\n",
    "if dat[selected].dtype == \"object\":\n",
    "    freqs = dat[selected].value_counts()\n",
    "    fig, ax = plt.subplots()\n",
    "    ax.bar(freqs.index, freqs.values, color = fill_color)\n",
    "    \n",
    "else:\n",
    "    fig, ax = plt.subplots()\n",
    "    ax.hist(dat[selected], color = fill_color, edgecolor = \"white\")\n",
    "    \n",
    "# add two tabs, 1st with table of descriptives,     \n",
    "# 2nd with the graph\n",
    "\n",
    "tab1, tab2 = st.tabs([\"Statistics\", \"Visualization\"])\n",
    "\n",
    "with tab1:\n",
    "    st.table(selected_table)\n",
    "\n",
    "with tab2:    \n",
    "    st.pyplot(fig)\n",
    "    "
   ]
  },
  {
   "cell_type": "markdown",
   "metadata": {},
   "source": [
    "Пояснения к коду:\n",
    "    \n",
    "* считываем данные из файла `Salaries.csv`, переименовываем столбцы, записываем названия столбцов в список строк `options`;\n",
    "* добавляем заголовок (`title`);\n",
    "* добавляем как элемент бокового меню (`sidebar`) выпадающее меню `selectbox` для выбора названий столбцов; \n",
    "* добавляем как элемент бокового меню (`sidebar`) поле с текстовым вводом `text_input` для выбора цвета (значение цвета `#346eeb` зафиксировано по умолчанию);\n",
    "* создаем таблицу с описательными статистиками по выбранному столбцу `selected_table`;\n",
    "* проверяем условие на тип столбца и отрисовываем в осях `ax` либо столбиковую диаграмму (`bar`), либо гистограмму (`hist`);\n",
    "* добавляем две вкладки `tab1` и `tab2` на странице с приложением;\n",
    "* во вкладке `tab1` размещаем таблицу с описательными статистиками `selected_table`;\n",
    "* во вкладке `tab2` размещаем график `fig` (в нем ранее сохранена картинка либо с гистограммой, либо со столбиковой диаграммой)."
   ]
  },
  {
   "cell_type": "markdown",
   "metadata": {},
   "source": [
    "Запускаем приложение! Можно запускать его через терминал/командную строку, прописывая полный  путь в файлу `myapp.py`, а можно прямо через Jupyter. \n",
    "\n",
    "**Через терминал/командную строку:**\n",
    "\n",
    "Находим путь к текущей папке:"
   ]
  },
  {
   "cell_type": "code",
   "execution_count": 2,
   "metadata": {},
   "outputs": [
    {
     "data": {
      "text/plain": [
       "'/Users/allat/Desktop'"
      ]
     },
     "execution_count": 2,
     "metadata": {},
     "output_type": "execute_result"
    }
   ],
   "source": [
    "import os\n",
    "os.getcwd()"
   ]
  },
  {
   "cell_type": "markdown",
   "metadata": {},
   "source": [
    "В командной строке набираем \n",
    "\n",
    "    streamlit run \"/Users/allat/Desktop/myapp.py\"\n",
    "\n",
    "и нажимаем *Enter*."
   ]
  },
  {
   "cell_type": "markdown",
   "metadata": {},
   "source": [
    "**Через Jupyter Notebook:**\n",
    "\n",
    "В ipynb-файле рядом с `myapp.py` запускаем ячейку:"
   ]
  },
  {
   "cell_type": "code",
   "execution_count": null,
   "metadata": {},
   "outputs": [],
   "source": [
    "!streamlit run app.py"
   ]
  },
  {
   "cell_type": "markdown",
   "metadata": {},
   "source": [
    "В новой вкладке должна открыться страница с приложением, см. [видео](https://www.dropbox.com/scl/fi/9ieyqoctmahe1kvxqhrj3/st-example.mp4?rlkey=6oz350hrnnl2r3n9g159zw416&dl=0) с иллюстрацией работы."
   ]
  },
  {
   "cell_type": "markdown",
   "metadata": {},
   "source": [
    "### Запуск приложения в Google Colab\n",
    "\n",
    "Запускать приложения в Google Colab потенциально проблематично, так как запускаться они будут где-то на облаке, к которому за рамками Colab у нас доступа нет (ссылка вида `http://localhost:8501/` ни к чему не приведет).\n",
    "\n",
    "Однако есть способ, [описанный](https://discuss.streamlit.io/t/how-to-launch-streamlit-app-from-google-colab-notebook/42399) в самом сообществе Streamlit. \n",
    "\n",
    "**Шаг 1.** Заходим в Google Colab, создаем новый ноутбук, устанавливаем библиотеку `localtunnel`, она позволит запускать приложение на удаленном сервере и иметь доступ к нему:\n",
    "\n",
    "    !npm install localtunnel\n",
    "    \n",
    "**Шаг 2.** Запрашиваем IP адрес для этого соединения:"
   ]
  },
  {
   "cell_type": "code",
   "execution_count": 3,
   "metadata": {},
   "outputs": [
    {
     "name": "stdout",
     "output_type": "stream",
     "text": [
      "Password/Enpoint IP for localtunnel is: 98.98.166.186\n"
     ]
    }
   ],
   "source": [
    "import urllib\n",
    "print(\"Password/Enpoint IP for localtunnel is:\",\n",
    "      urllib.request.urlopen('https://ipv4.icanhazip.com').read().decode('utf8').strip(\"\\n\"))"
   ]
  },
  {
   "cell_type": "markdown",
   "metadata": {},
   "source": [
    "**Шаг 3.** Устанавливаем `streamlit`:\n",
    "\n",
    "    !pip install streamlit\n",
    "\n",
    "**Шаг 4.** Загружаем файл  с приложением в Colab или записываем код в новый исполняемый через `%%writefile` как выше. Запускаем его с фоновом режиме (чтобы оно запустилось и чтобы ячейка не «висела»):\n",
    "\n",
    "    !streamlit run myapp.py &>/content/logs.txt&\n",
    "    \n",
    "**Шаг 5.** Переходим по нужному адресу `localtunnel`:\n",
    "\n",
    "    !npx localtunnel --port 8501\n",
    "    \n",
    "Проходим по ссылке и вводим в поле для пароля/IP значение, которое было выдано ранее в `urlopen`, нажимаем *Click to submit*. Через некоторое время должна открыться страница с приложением."
   ]
  },
  {
   "cell_type": "markdown",
   "metadata": {},
   "source": [
    "### Публикация приложения streamlit\n",
    "\n",
    "1. Создаем аккаунт на [Github](https://github.com/), бесплатно, теперь требует двухфакторной аутентификации.\n",
    "\n",
    "2. Создаем аккаунт на [Streamlit](https://streamlit.io/), в нем – репозиторий (папку) с файлами для приложения и публикуем приложение по [инструкции](https://carpentries-incubator.github.io/python-interactive-data-visualizations/08-publish-your-app/index.html). \n",
    "\n",
    "Пример репозитория с приложением – [ссылка](https://github.com/allatambov/steamlit-salaries?tab=readme-ov-file). В папке есть исполняемый файл `.py`, файл с данными, файл `requirements.txt` с перечнем необходимых библиотек, файл `README.md` с документацией. Подробнее о файлах см. в README, обратите особое внимание на `requirements.txt`, без него на сервере ничего не заработает."
   ]
  }
 ],
 "metadata": {
  "kernelspec": {
   "display_name": "Python 3",
   "language": "python",
   "name": "python3"
  },
  "language_info": {
   "codemirror_mode": {
    "name": "ipython",
    "version": 3
   },
   "file_extension": ".py",
   "mimetype": "text/x-python",
   "name": "python",
   "nbconvert_exporter": "python",
   "pygments_lexer": "ipython3",
   "version": "3.7.4"
  }
 },
 "nbformat": 4,
 "nbformat_minor": 5
}
