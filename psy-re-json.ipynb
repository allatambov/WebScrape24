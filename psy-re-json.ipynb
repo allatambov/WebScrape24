{
 "cells": [
  {
   "cell_type": "markdown",
   "metadata": {
    "id": "-uy2mgLQFdGk"
   },
   "source": [
    "# Web-scraping: сбор данных из баз данных и интернет-источников\n",
    "\n",
    "\n",
    "## Извлечение кода JavaScript из HTML и обработка JSON-строк\n",
    "\n",
    "*Алла Тамбовцева*"
   ]
  },
  {
   "cell_type": "markdown",
   "metadata": {},
   "source": [
    "### Очень краткое введение в регулярные выражения"
   ]
  },
  {
   "cell_type": "markdown",
   "metadata": {},
   "source": [
    "Регулярные выражения – выражения, последовательности символов, которые позволяют искать совпадения в тексте. Выражаясь более формально, они помогают найти подстроки определенного вида в строке. Еще о регулярных выражениях можно думать как о шаблонах, в которые мы можем подставлять текст, и этот текст либо соответствует шаблону, либо нет. \n",
    "\n",
    "В самом простом случае в качестве регулярного выражения может использоваться обычная строка. Например, чтобы найти в предложении *Кошка сидит под столом.* слово *Кошка*, ничего специального применять не нужно, достаточно воспользоваться оператором `in`. Если нас интересует слово *кошка* в любом регистре, то это уже более интересная задача. Правда, ее все еще можно решить без регулярных выражений, приведя все слова в строке к нижнему регистру. А что, если у нас будет текст подлиннее, и в нем необходимо «обнаружить» *кошку* в разных падежах? И еще производные слова вроде *кошечка*? Тут уже удобнее написать некоторый шаблон, чтобы не создавать длинный список слов с разными формами слова *кошка*. Давайте немного потренируемся (но не на кошках)."
   ]
  },
  {
   "cell_type": "markdown",
   "metadata": {
    "id": "vLHN_BrgNIXu"
   },
   "source": [
    "Импортируем модуль `re` для работы с регулярными выражениями:"
   ]
  },
  {
   "cell_type": "code",
   "execution_count": 1,
   "metadata": {
    "id": "_ytzc_5RthdZ"
   },
   "outputs": [],
   "source": [
    "import re"
   ]
  },
  {
   "cell_type": "markdown",
   "metadata": {
    "id": "9-G5FC1tNJ-1"
   },
   "source": [
    "В качестве игрушечного примера возьмем обычную строку со странным текстом (текст невнятный, но отражает эволюцию смеха на пути к сессии):"
   ]
  },
  {
   "cell_type": "code",
   "execution_count": 2,
   "metadata": {
    "id": "nV70p74VuSEz"
   },
   "outputs": [],
   "source": [
    "data0 = \"ha haha ha-ha hah heh. hse.\""
   ]
  },
  {
   "cell_type": "markdown",
   "metadata": {
    "id": "K3taewV-NMrF"
   },
   "source": [
    "Найдем в этой строке все подстроки, которые соответствуют шаблону `h.h` – вместо точки может быть любой символ (буква, цифра, пробел и прочие знаки). Воспользуемся функцией `findall()`, она возвращает список совпадений:"
   ]
  },
  {
   "cell_type": "code",
   "execution_count": 3,
   "metadata": {
    "colab": {
     "base_uri": "https://localhost:8080/"
    },
    "id": "6BOVThXLuhR4",
    "outputId": "6f97850c-a773-45b3-b65d-a01a911cbf86"
   },
   "outputs": [
    {
     "data": {
      "text/plain": [
       "['hah', 'hah', 'heh']"
      ]
     },
     "execution_count": 3,
     "metadata": {},
     "output_type": "execute_result"
    }
   ],
   "source": [
    "re.findall(\"h.h\", data0)"
   ]
  },
  {
   "cell_type": "markdown",
   "metadata": {
    "id": "aceJiknvNYvK"
   },
   "source": [
    "Если нужны именно точки, символ `.` нужно экранировать с помощью `\\`, в такой записи слэш показывает, что мы ищем именно точку, а не используем ее как специальный символ, принятый в синтаксисе регулярных выражений. Итак, найдем все «слова», начинающиеся с `h`, состоящие из четырех символов, последний из которых – точка:"
   ]
  },
  {
   "cell_type": "code",
   "execution_count": 4,
   "metadata": {
    "colab": {
     "base_uri": "https://localhost:8080/"
    },
    "id": "H4M6-2aPu1gA",
    "outputId": "e1b2faf1-47e3-43d6-bec1-2257300be63c"
   },
   "outputs": [
    {
     "data": {
      "text/plain": [
       "['heh.', 'hse.']"
      ]
     },
     "execution_count": 4,
     "metadata": {},
     "output_type": "execute_result"
    }
   ],
   "source": [
    "re.findall(\"h..\\.\", data0)"
   ]
  },
  {
   "cell_type": "markdown",
   "metadata": {
    "id": "Y-UXil5yOHBv"
   },
   "source": [
    "Точка – далеко не единственный специальный символ в регулярных выражениях. Так, символ `+`  показывает, что нас интересуют случаи, когда элемент, стоящий слева от `+`, встречается не менее одного раза. Найдем подстроки, где точно есть буква `h`, а за ней стоит хотя бы одна буква `a`:"
   ]
  },
  {
   "cell_type": "code",
   "execution_count": 5,
   "metadata": {
    "colab": {
     "base_uri": "https://localhost:8080/"
    },
    "id": "4m7Kp9W2vNwQ",
    "outputId": "461de9c2-cda6-46c9-d3e4-c441d3d50a64"
   },
   "outputs": [
    {
     "data": {
      "text/plain": [
       "['ha', 'ha', 'ha', 'ha', 'ha', 'ha']"
      ]
     },
     "execution_count": 5,
     "metadata": {},
     "output_type": "execute_result"
    }
   ],
   "source": [
    "# подстроки с h с хотя бы с одной буквой a\n",
    "re.findall(\"ha+\", data0)"
   ]
  },
  {
   "cell_type": "markdown",
   "metadata": {
    "id": "SvmjXnV7OQ-d"
   },
   "source": [
    "Если мы допускаем, что буквы `a` может не быть совсем, нам понадобится другой символ – символ `*` (ноль и более вхождений элемента, стоящего слева от `*`):"
   ]
  },
  {
   "cell_type": "code",
   "execution_count": 6,
   "metadata": {
    "colab": {
     "base_uri": "https://localhost:8080/"
    },
    "id": "Jx8-JzLHvrTI",
    "outputId": "5fa0964a-695b-4c5b-f77c-87f8aaa33d7f"
   },
   "outputs": [
    {
     "data": {
      "text/plain": [
       "['ha', 'ha', 'ha', 'ha', 'ha', 'ha', 'h', 'h', 'h', 'h']"
      ]
     },
     "execution_count": 6,
     "metadata": {},
     "output_type": "execute_result"
    }
   ],
   "source": [
    "# подстроки, где точно есть h, а буква a встречается или нет\n",
    "re.findall(\"ha*\", data0)"
   ]
  },
  {
   "cell_type": "markdown",
   "metadata": {
    "id": "KZ1atElBQQkP"
   },
   "source": [
    "А если нас интересуют случаи, когда какой-то символ встречается ноль раз или один раз, то пригодится символ `?`:"
   ]
  },
  {
   "cell_type": "code",
   "execution_count": 7,
   "metadata": {
    "colab": {
     "base_uri": "https://localhost:8080/"
    },
    "id": "2bZYXp_Mv2e6",
    "outputId": "8f390bfe-48a9-4b79-92ed-b60866e21a6c"
   },
   "outputs": [
    {
     "data": {
      "text/plain": [
       "['haha', 'ha-ha']"
      ]
     },
     "execution_count": 7,
     "metadata": {},
     "output_type": "execute_result"
    }
   ],
   "source": [
    "# подстроки haha или ha-ha, с дефисом посередине и без него\n",
    "re.findall(\"ha-?ha\", data0)"
   ]
  },
  {
   "cell_type": "markdown",
   "metadata": {
    "id": "lhqrrDl2SNoY"
   },
   "source": [
    "Особую роль в регулярных выражениях играют скобки разного вида. Круглые скобки могут использоваться для объединения символов в группы, а квадратные – для перечисления всех вариантов, которые могут встретиться в некотором месте строки:"
   ]
  },
  {
   "cell_type": "code",
   "execution_count": 8,
   "metadata": {},
   "outputs": [
    {
     "data": {
      "text/plain": [
       "['hah ', 'heh.']"
      ]
     },
     "execution_count": 8,
     "metadata": {},
     "output_type": "execute_result"
    }
   ],
   "source": [
    "# hah или heh с точкой или пробелом на конце\n",
    "# \\s – обозначение пробела (от space)\n",
    "\n",
    "re.findall(\"h[ae]h[\\.\\s]\", data0)"
   ]
  },
  {
   "cell_type": "markdown",
   "metadata": {
    "id": "lhqrrDl2SNoY"
   },
   "source": [
    "В квадратные скобки также можно вписывать последовательности – готовые перечни известных символов:\n",
    "\n",
    "* `[a-z]`: строчные буквы английского алфавита;\n",
    "* `[A-Z]`: заглавные буквы английского алфавита;\n",
    "* `[а-я]`: строчные буквы русского алфавита;\n",
    "* `[А-Я]`: заглавные буквы русского алфавита;\n",
    "* `[0-9]`: цифры от 0 до 9.\n",
    "\n",
    "Проверим, есть ли в нашей строке цифры:"
   ]
  },
  {
   "cell_type": "code",
   "execution_count": 9,
   "metadata": {},
   "outputs": [
    {
     "data": {
      "text/plain": [
       "[]"
      ]
     },
     "execution_count": 9,
     "metadata": {},
     "output_type": "execute_result"
    }
   ],
   "source": [
    "re.findall(\"[0-9]\", data0)  # нет, мы и не ждали"
   ]
  },
  {
   "cell_type": "markdown",
   "metadata": {},
   "source": [
    "А теперь проверим, есть ли в нашей строке последовательности ровно из трех строчных английских букв. Для этого пригодится еще один вид скобок – фигурные. В фигурных скобках указывают количество символов, которое необходимо найти:"
   ]
  },
  {
   "cell_type": "code",
   "execution_count": 10,
   "metadata": {
    "colab": {
     "base_uri": "https://localhost:8080/"
    },
    "id": "fc8krE_DwZq5",
    "outputId": "dbb589fe-3f26-44c0-d14c-3d706cfa0537"
   },
   "outputs": [
    {
     "data": {
      "text/plain": [
       "['hah', 'hah', 'heh', 'hse']"
      ]
     },
     "execution_count": 10,
     "metadata": {},
     "output_type": "execute_result"
    }
   ],
   "source": [
    "# последовательности ровно из трех английских букв\n",
    "re.findall(\"[a-z]{3}\", data0)"
   ]
  },
  {
   "cell_type": "markdown",
   "metadata": {},
   "source": [
    "Если мы не знаем точное количество символов, но знаем интервал, его границы тоже можно указать в фигурных скобках через запятую:"
   ]
  },
  {
   "cell_type": "code",
   "execution_count": 11,
   "metadata": {},
   "outputs": [
    {
     "data": {
      "text/plain": [
       "['haha', 'hah', 'heh', 'hse']"
      ]
     },
     "execution_count": 11,
     "metadata": {},
     "output_type": "execute_result"
    }
   ],
   "source": [
    "# последовательности из 3-4 английских букв\n",
    "re.findall(\"[a-z]{3,4}\", data0)"
   ]
  },
  {
   "cell_type": "markdown",
   "metadata": {},
   "source": [
    "Границы интервала можно опускать:"
   ]
  },
  {
   "cell_type": "code",
   "execution_count": 12,
   "metadata": {},
   "outputs": [
    {
     "data": {
      "text/plain": [
       "['haha', 'hah', 'heh', 'hse']"
      ]
     },
     "execution_count": 12,
     "metadata": {},
     "output_type": "execute_result"
    }
   ],
   "source": [
    "# последовательности не менее, чем из 3 английских букв\n",
    "re.findall(\"[a-z]{3,}\", data0)"
   ]
  },
  {
   "cell_type": "code",
   "execution_count": 13,
   "metadata": {},
   "outputs": [
    {
     "data": {
      "text/plain": [
       "['ha',\n",
       " '',\n",
       " 'hah',\n",
       " 'a',\n",
       " '',\n",
       " 'ha',\n",
       " '',\n",
       " 'ha',\n",
       " '',\n",
       " 'hah',\n",
       " '',\n",
       " 'heh',\n",
       " '',\n",
       " '',\n",
       " 'hse',\n",
       " '',\n",
       " '']"
      ]
     },
     "execution_count": 13,
     "metadata": {},
     "output_type": "execute_result"
    }
   ],
   "source": [
    "# последовательности не более, чем из 3 английских букв (пустые тоже есть)\n",
    "re.findall(\"[a-z]{,3}\", data0)"
   ]
  },
  {
   "cell_type": "markdown",
   "metadata": {
    "id": "OevxBgKTTHa0"
   },
   "source": [
    "Давайте повнимательнее посмотрим на поиск цифр и чисел, может пригодиться, например, для обработки номеров телефонов или адресов. Создадим другую, более вразумительную строку:"
   ]
  },
  {
   "cell_type": "code",
   "execution_count": 14,
   "metadata": {
    "id": "Sifp7LaUwv-Q"
   },
   "outputs": [],
   "source": [
    "data1 = \"+7(906)000-11-23 Alla A\" "
   ]
  },
  {
   "cell_type": "markdown",
   "metadata": {},
   "source": [
    "Пока просто найдем все цифры:"
   ]
  },
  {
   "cell_type": "code",
   "execution_count": 15,
   "metadata": {
    "colab": {
     "base_uri": "https://localhost:8080/"
    },
    "id": "GQF5D7Eow9AA",
    "outputId": "b18d9147-8094-4ced-ebd1-f8b9268d559c"
   },
   "outputs": [
    {
     "data": {
      "text/plain": [
       "['7', '9', '0', '6', '0', '0', '0', '1', '1', '2', '3']"
      ]
     },
     "execution_count": 15,
     "metadata": {},
     "output_type": "execute_result"
    }
   ],
   "source": [
    "re.findall(\"[0-9]\", data1)"
   ]
  },
  {
   "cell_type": "markdown",
   "metadata": {
    "id": "ECFXyCdOTNyN"
   },
   "source": [
    "Для поиска цифр вместо последовательности часто используют ее сокращенную версию – специальный символ `\\d` (от *digits*, экранируется с помощью слэша, чтобы не путать с обычной буквой *d*):"
   ]
  },
  {
   "cell_type": "code",
   "execution_count": 16,
   "metadata": {
    "colab": {
     "base_uri": "https://localhost:8080/"
    },
    "id": "gDVy6IVOTeSM",
    "outputId": "4a754bfd-02a8-41ec-e381-460dd838ad83"
   },
   "outputs": [
    {
     "data": {
      "text/plain": [
       "['7', '9', '0', '6', '0', '0', '0', '1', '1', '2', '3']"
      ]
     },
     "execution_count": 16,
     "metadata": {},
     "output_type": "execute_result"
    }
   ],
   "source": [
    "re.findall(\"\\d\", data1)"
   ]
  },
  {
   "cell_type": "markdown",
   "metadata": {
    "id": "8Bv02KhzThBU"
   },
   "source": [
    "Цифры нашли, но ведь цифры в строке – далеко не всегда номер телефона, теоретически они могут быть и в адресе (как обычном, так и электронном), и в названии сайта.  Напишем паттерн для поиска именно номера телефона в предположении, что:\n",
    "\n",
    "* телефон точно начинается с `+7`;\n",
    "* после `+7` обязательно стоят скобки вокруг первых трех цифр;\n",
    "* а вот дефисы между группами цифр могут отсутствовать):"
   ]
  },
  {
   "cell_type": "code",
   "execution_count": 17,
   "metadata": {
    "colab": {
     "base_uri": "https://localhost:8080/"
    },
    "id": "l6qnvUmQxFwQ",
    "outputId": "b9166840-31d7-4e76-fae4-987ca05eff35"
   },
   "outputs": [
    {
     "data": {
      "text/plain": [
       "['+7(906)000-11-23']"
      ]
     },
     "execution_count": 17,
     "metadata": {},
     "output_type": "execute_result"
    }
   ],
   "source": [
    "# \\+7: экранируем +, чтобы не путать со специальным символом +\n",
    "# (\\d{3}\\): набор из 3 цифр в скобках\n",
    "# \\d{3}: набор из 3 цифр\n",
    "# -?: дефис встречается 0 или 1 раз\n",
    "# \\d{2}: набор из 2 цифр\n",
    "\n",
    "re.findall(\"\\+7\\(\\d{3}\\)\\d{3}-?\\d{2}-?\\d{2}\", data1)"
   ]
  },
  {
   "cell_type": "markdown",
   "metadata": {},
   "source": [
    "Если допустить, что телефон может начинаться с `8`, а не только с `+7`, выражение будет выглядеть так:"
   ]
  },
  {
   "cell_type": "code",
   "execution_count": 18,
   "metadata": {},
   "outputs": [
    {
     "data": {
      "text/plain": [
       "['+7(906)000-11-23']"
      ]
     },
     "execution_count": 18,
     "metadata": {},
     "output_type": "execute_result"
    }
   ],
   "source": [
    "# \\+?: + встречается 0 или 1 раз\n",
    "# после 7 или 8\n",
    "\n",
    "re.findall(\"\\+?[78]\\(\\d{3}\\)\\d{3}-?\\d{2}-?\\d{2}\", data1)"
   ]
  },
  {
   "cell_type": "markdown",
   "metadata": {},
   "source": [
    "Проверим на другой строке:"
   ]
  },
  {
   "cell_type": "code",
   "execution_count": 19,
   "metadata": {},
   "outputs": [
    {
     "data": {
      "text/plain": [
       "['+7(906)000-11-23', '8(906)111-00-23']"
      ]
     },
     "execution_count": 19,
     "metadata": {},
     "output_type": "execute_result"
    }
   ],
   "source": [
    "data2 = \"+7(906)000-11-23 Alla Borisovna 8(906)111-00-23 Alla Andreevna\" \n",
    "re.findall(\"\\+?[78]\\(\\d{3}\\)\\d{3}-?\\d{2}-?\\d{2}\", data2)"
   ]
  },
  {
   "cell_type": "markdown",
   "metadata": {},
   "source": [
    "Ну, а если допустить, что «приставки» `+7` или `8` может вообще не быть, то понадобится еще один `?`:"
   ]
  },
  {
   "cell_type": "code",
   "execution_count": 20,
   "metadata": {},
   "outputs": [
    {
     "data": {
      "text/plain": [
       "['+7(906)000-11-23', '8(906)111-00-23', '(999)233-00-21']"
      ]
     },
     "execution_count": 20,
     "metadata": {},
     "output_type": "execute_result"
    }
   ],
   "source": [
    "data3 = \"+7(906)000-11-23 Alla Borisovna 8(906)111-00-23 Alla Andreevna (999)233-00-21 Alla\" \n",
    "re.findall(\"\\+?[78]?\\(\\d{3}\\)\\d{3}-?\\d{2}-?\\d{2}\", data3)"
   ]
  },
  {
   "cell_type": "markdown",
   "metadata": {},
   "source": [
    "Итак, на этом краткое введение в регулярные выражения мы закончим, сейчас увидим, зачем они могут понадобиться при парсинге, даже если мы выгружаем информацию с помощью BeautifulSoup."
   ]
  },
  {
   "cell_type": "markdown",
   "metadata": {
    "id": "RqvZjUlyTxkf"
   },
   "source": [
    "### Извлечение информации из кода JavaScript внутри HTML"
   ]
  },
  {
   "cell_type": "markdown",
   "metadata": {
    "id": "q6wcCvIqT6fP"
   },
   "source": [
    "Совсем недавно у нас было домашнее задание на парсинг страницы фильма «Не покидай...» с сайта www.kino-teatr.ru. Сайт некоммерческий, довольно дружелюбный, позволяет свободно выгружать информацию (но уже не всегда!). \n",
    "\n",
    "У него есть одна особенность: число лайков и дизлайков, поставленных актерам пользователями, загружается на страницу динамически, то есть автоматически «подтягивается» с сервера при загрузке страницы в определенный момент времени. На практике это выливается в то, что найти нужную информацию по тэгам просто невозможно, ее нет в основном коде HTML. Как быть? Понять, как выглядит запрос данных, который отправляется на сервер, и выяснить, где хранятся нужные нам данные. Мы рассмотрим несложный случай, когда сайт забирает информацию из строки JSON, которая находится на странице, но внутри кода, написанного на JavaScript. Такое можно встретить на страницах с результатами каких-нибудь игр или на сайтах, посвященных динамике цен или курсу валют (другой вопрос, что не всегда JSON прямо так явно находится в том же файле, где и код HTML).\n",
    "\n",
    "Так как ранее мы обсуждали довольно базовый парсинг, в домашнем задании не требовалось собирать число лайков и дизлайков, эти значения были даны в виде готового списка словарей. Обновим задачу – теперь нам нужно собрать только id актеров и информацию о числе голосов за и против. \n",
    "\n",
    "Начало работы стандартное – загружаем код HTML страницы по ссылке и преобразуем его в объект BeautifulSoup:"
   ]
  },
  {
   "cell_type": "code",
   "execution_count": 21,
   "metadata": {},
   "outputs": [],
   "source": [
    "import requests\n",
    "from bs4 import BeautifulSoup"
   ]
  },
  {
   "cell_type": "code",
   "execution_count": 22,
   "metadata": {
    "id": "TiFPGCxixdgf"
   },
   "outputs": [],
   "source": [
    "page = requests.get(\"https://www.kino-teatr.ru/kino/movie/sov/4319/titr/\")\n",
    "soup = BeautifulSoup(page.text)"
   ]
  },
  {
   "cell_type": "markdown",
   "metadata": {
    "id": "L_GYmQJOaOri"
   },
   "source": [
    "Просто найти на странице кнопки красного и зеленого цвета и забрать с них текст не получится:\n",
    "\n",
    "![](НП01.jpeg)\n",
    "\n",
    "Поэтому для этого на нужно найти код JavaScript, где есть записи с числами `plus` и `minus` с привязкой к id актеров. Код JavaScript, если он не вынесен в отдельный файл, заключается в тэги `<script>`. Если мы внимательно изучим исходный код страницы, мы заметим, что нужный нам блок кода имеет атрибут `type` со значением `text/javascript`, и среди таких блоков он находится на 7-ом месте:"
   ]
  },
  {
   "cell_type": "code",
   "execution_count": 23,
   "metadata": {
    "id": "tIThe0pp1BKx"
   },
   "outputs": [
    {
     "data": {
      "text/plain": [
       "'<script type=\"text/javascript\">\\r\\n<!--\\r\\n\\r\\n// Рисуем кнопки в javascript\\r\\nfunction print_role_rating_buttons(role)\\r\\n{\\r\\n    var span = $(\"#role_rating_\"+role.id);\\r\\n    var site = \\'desktop\\'\\r\\n\\r\\n    if (span) {\\r\\n        if (site == \\'desktop\\') {\\r\\n            span.html(\"<input type=\\'button\\' value=\\'+ \" + role.plus +\"\\' class=\\'acter_vote acter_vote_plus rating_button like\\' title=\\'Мне понравилась эта актёрская работа\\' mark=\\'plus\\' clicked=\\'0\\' role_id=\\'\" + role.id +\"\\' onClick=\\'return sendVote(this)\\' mark=\\'plus\\'> <input type=\\'button\\' value=\\'- \" + role.minus + \"\\' class=\\'acter_vote acter_vote_minus rating_button dislike\\' title=\\'Мне не понравилась эта актёрская работа\\' mark=\\'minus\\' clicked=\\'0\\' role_id=\\'\" + role.id +\"\\' onClick=\\'return sendVote(this)\\' mark=\\'minus\\'>\")\\r\\n        } else {\\r\\n            span.html(\"<button class=\\'acter_vote acter_vote_plus ui-btn ui-btn-inline ui-corner-all ui-btn-text-left ui-btn-icon-left ui-icon-plus\\' title=\\'Мне понравилась эта актёрская работа\\' mark=\\'plus\\' clicked=\\'0\\' role_id=\\'\" + role.id +\"\\' onClick=\\'return sendVote(this)\\' mark=\\'plus\\'>\" + role.plus +\"</button> <button class=\\'acter_vote acter_vote_minus ui-btn ui-btn-inline ui-corner-all ui-btn-text-left ui-btn-icon-left ui-icon-minus\\' title=\\'Мне не понравилась эта актёрская работа\\' mark=\\'minus\\' clicked=\\'0\\' role_id=\\'\" + role.id +\"\\' onClick=\\'return sendVote(this)\\' mark=\\'minus\\'>\" + role.minus + \"</button>\")\\r\\n        }\\r\\n        span.addClass(\"role_rating nowrap\");\\r\\n        if (role.voted != \\'\\') {\\r\\n            mark_voted_buttons(role.id, role.voted);\\r\\n        }\\r\\n    }\\r\\n}\\r\\n\\r\\n// Делаем кнопки неактивными\\r\\nfunction mark_voted_buttons(role_id, voted)\\r\\n{\\r\\n    if (voted == \"plus\") {\\r\\n        var inactive = \"minus\";\\r\\n    } else {\\r\\n        var inactive = \"plus\";\\r\\n    }\\r\\n    $(\"#role_rating_\"+role_id+\" .acter_vote_\"+inactive).addClass(\"role_rating_inactive\");\\r\\n    $(\"#role_rating_\"+role_id+\" .acter_vote_\"+inactive).attr(\\'title\\', \\'\\');\\r\\n    $(\"#role_rating_\"+role_id+\" .acter_vote_\"+voted).addClass(\"role_rating_voted\");\\r\\n    // Кликать больше нельзя\\r\\n    $(\"#role_rating_\"+role_id+\" .acter_vote\").attr(\"clicked\", 1);\\r\\n    var site = \\'desktop\\'\\r\\n    if (site == \\'desktop\\') {\\r\\n        // Кнопка вообще отключена\\r\\n        //$(\"#role_rating_\"+role_id+\" .acter_vote\").attr(\"disabled\", true);\\r\\n    } else {\\r\\n        $(\"#role_rating_\"+role_id+\" .acter_vote_\"+voted).addClass(\"voted\");\\r\\n    }\\r\\n}\\r\\n\\r\\n// Отправляем голос\\r\\nfunction sendVote(button)\\r\\n{\\r\\n    var member_id = \\'0\\';\\r\\n    var page = \\'titr\\';\\r\\n    var site = \\'desktop\\'\\r\\n    // Только зарегистрированные могут голосовать\\r\\n    if(member_id < 1) {\\r\\n        if (site == \\'desktop\\') {\\r\\n            self.location = \"/forum/auth/\";\\r\\n            /*\\r\\n            $(\"#vote_dialog\").dialogModal({\\r\\n                buttons: {\\r\\n                    yes: {title: \\'Да\\', action: \\'self.location=\\\\\"/forum/reg/\\\\\"\\'},\\r\\n                    no: {title: \\'Нет\\', action: \\'\\'}\\r\\n                }\\r\\n            }); */\\r\\n        } else {\\r\\n            //$.mobile.changePage(\\'#vote_dialog\\', \\'pop\\', true, true);\\r\\n            //$.mobile.changePage(\"/forum/auth/\");\\r\\n            self.location = \"/forum/auth/\";\\r\\n        }\\r\\n        return false;\\r\\n    }\\r\\n    // Если уже кликнули по кнопке - второй раз не обрабатываем\\r\\n    if (button.getAttribute(\"clicked\") == 1) {\\r\\n        return;\\r\\n    }\\r\\n    var plus_button = button.parentNode.firstChild;\\r\\n    var minus_button = button.parentNode.lastChild;\\r\\n    plus_button.setAttribute(\"clicked\", 1); // чтобы больше не кликали\\r\\n    minus_button.setAttribute(\"clicked\", 1); // чтобы больше не кликали\\r\\n\\tvar scr = screen.availHeight + \"#\" + screen.availWidth + \"#\" + screen.colorDepth + \"#\" + screen.pixelDepth + \"#\" + screen.height + \"#\" + screen.width;\\r\\n\\tvar mark = button.getAttribute(\"mark\");\\r\\n\\tvar role_id = button.getAttribute(\"role_id\");\\r\\n    // Делаем ajax-запрос\\r\\n    if (site == \\'desktop\\') {\\r\\n        $.getJSON(\\'/vote/role/\\', { screen: scr, mark: mark, role_id: role_id, page: page } , function (data) {\\r\\n            if (data.error) {\\r\\n                // Выводим сообщение об ошибке\\r\\n                $(\"#alert_dialog\").dialogModal({\\r\\n                    text: data.error,\\r\\n                    buttons: {\\r\\n                        ok: {title: \\'ОК\\', action: \\'\\'}\\r\\n                    }\\r\\n                });\\r\\n                return false;\\r\\n            } else {\\r\\n                plus_button.value = \"+ \" + data.plus;\\r\\n                minus_button.value = \"- \" + data.minus;\\r\\n                // Отмечаем кнопки как неактивные\\r\\n                mark_voted_buttons(role_id, mark);\\r\\n                ym(12718750,\\'reachGoal\\',\\'role_vote\\');\\r\\n            }\\r\\n        });\\r\\n    } else {\\r\\n        $.ajax({url: \\'/vote/role/\\',\\r\\n            dataType: \"json\",\\r\\n            async: true,\\r\\n            data: { screen: scr, mark: mark, role_id: role_id, page: page },\\r\\n            success: function (data) {\\r\\n                if (data.error) {\\r\\n                    // to do - сделать диалог\\r\\n                    alert(data.error);\\r\\n                } else {\\r\\n                    plus_button.innerHTML = data.plus;\\r\\n                    minus_button.innerHTML = data.minus;\\r\\n                }\\r\\n                // Отмечаем кнопки как неактивные\\r\\n                mark_voted_buttons(role_id, mark);\\r\\n            },\\r\\n            error: function (request,error) {\\r\\n                // Какая-то ошибка\\r\\n                // alert(JSON.stringify(request))\\r\\n            }\\r\\n        });\\r\\n    }\\r\\n}\\r\\n\\r\\nfunction print_all_role_rating_buttons ()\\r\\n{\\r\\n    print_role_rating_buttons({ id:\"160325\", plus:\"55\", minus:\"2\", voted:\"\" });\\nprint_role_rating_buttons({ id:\"1928641\", plus:\"28\", minus:\"1\", voted:\"\" });\\nprint_role_rating_buttons({ id:\"1966145\", plus:\"23\", minus:\"1\", voted:\"\" });\\nprint_role_rating_buttons({ id:\"1973000\", plus:\"23\", minus:\"1\", voted:\"\" });\\nprint_role_rating_buttons({ id:\"1973001\", plus:\"24\", minus:\"1\", voted:\"\" });\\nprint_role_rating_buttons({ id:\"1973002\", plus:\"25\", minus:\"0\", voted:\"\" });\\nprint_role_rating_buttons({ id:\"1973003\", plus:\"25\", minus:\"1\", voted:\"\" });\\nprint_role_rating_buttons({ id:\"1973005\", plus:\"25\", minus:\"2\", voted:\"\" });\\nprint_role_rating_buttons({ id:\"1973007\", plus:\"28\", minus:\"1\", voted:\"\" });\\nprint_role_rating_buttons({ id:\"1973008\", plus:\"22\", minus:\"1\", voted:\"\" });\\nprint_role_rating_buttons({ id:\"1973010\", plus:\"34\", minus:\"6\", voted:\"\" });\\nprint_role_rating_buttons({ id:\"1973011\", plus:\"46\", minus:\"3\", voted:\"\" });\\nprint_role_rating_buttons({ id:\"2088754\", plus:\"29\", minus:\"2\", voted:\"\" });\\nprint_role_rating_buttons({ id:\"16800\", plus:\"156\", minus:\"4\", voted:\"\" });\\nprint_role_rating_buttons({ id:\"16801\", plus:\"109\", minus:\"26\", voted:\"\" });\\nprint_role_rating_buttons({ id:\"16803\", plus:\"125\", minus:\"12\", voted:\"\" });\\nprint_role_rating_buttons({ id:\"16802\", plus:\"146\", minus:\"8\", voted:\"\" });\\nprint_role_rating_buttons({ id:\"16804\", plus:\"140\", minus:\"6\", voted:\"\" });\\nprint_role_rating_buttons({ id:\"56008\", plus:\"102\", minus:\"10\", voted:\"\" });\\nprint_role_rating_buttons({ id:\"62460\", plus:\"102\", minus:\"4\", voted:\"\" });\\nprint_role_rating_buttons({ id:\"72744\", plus:\"123\", minus:\"3\", voted:\"\" });\\nprint_role_rating_buttons({ id:\"83813\", plus:\"43\", minus:\"2\", voted:\"\" });\\nprint_role_rating_buttons({ id:\"89473\", plus:\"100\", minus:\"21\", voted:\"\" });\\nprint_role_rating_buttons({ id:\"124124\", plus:\"128\", minus:\"7\", voted:\"\" });\\nprint_role_rating_buttons({ id:\"132138\", plus:\"132\", minus:\"2\", voted:\"\" });\\nprint_role_rating_buttons({ id:\"132139\", plus:\"116\", minus:\"5\", voted:\"\" });\\nprint_role_rating_buttons({ id:\"132140\", plus:\"78\", minus:\"3\", voted:\"\" });\\nprint_role_rating_buttons({ id:\"132141\", plus:\"72\", minus:\"6\", voted:\"\" });\\nprint_role_rating_buttons({ id:\"132143\", plus:\"3\", minus:\"0\", voted:\"\" });\\n\\r\\n}\\r\\n// После загрузки страницы запускаем действо\\r\\nif (window.addEventListener) {\\r\\n    window.addEventListener(\"DOMContentLoaded\",function(event) {\\r\\n        print_all_role_rating_buttons()\\r\\n    });\\r\\n} else {\\r\\n    $(document).ready( print_all_role_rating_buttons() );\\r\\n}\\r\\n\\r\\n//-->\\r\\n</script>'"
      ]
     },
     "execution_count": 23,
     "metadata": {},
     "output_type": "execute_result"
    }
   ],
   "source": [
    "# выполняем поиск и извлекаем текст – код JavaScript в виде строки\n",
    "\n",
    "text = str(soup.find_all(\"script\", {\"type\" : \"text/javascript\"})[6])\n",
    "text"
   ]
  },
  {
   "cell_type": "markdown",
   "metadata": {
    "id": "mufdvISta0a_"
   },
   "source": [
    "Блок с кодом довольно большой, в нем содержатся разные функции для отрисовки и обновления информации на кнопках (на них отображаются голоса за и против, на них же можно кликать после авторизации, чтобы записать свой голос). Нам же понадобится часть кода после функции `print_role_rating_buttons ()`, так как именно под ней располагается необходимая информация. Воспользуемся методом `.split()` и разобьем строку на части:"
   ]
  },
  {
   "cell_type": "code",
   "execution_count": 24,
   "metadata": {
    "colab": {
     "base_uri": "https://localhost:8080/",
     "height": 178
    },
    "id": "q_l2ewa91xDA",
    "outputId": "862bb2a1-fe75-4647-cd49-770c9cd24b98"
   },
   "outputs": [
    {
     "name": "stdout",
     "output_type": "stream",
     "text": [
      "\r\n",
      "{\r\n",
      "    print_role_rating_buttons({ id:\"160325\", plus:\"55\", minus:\"2\", voted:\"\" });\n",
      "print_role_rating_buttons({ id:\"1928641\", plus:\"28\", minus:\"1\", voted:\"\" });\n",
      "print_role_rating_buttons({ id:\"1966145\", plus:\"23\", minus:\"1\", voted:\"\" });\n",
      "print_role_rating_buttons({ id:\"1973000\", plus:\"23\", minus:\"1\", voted:\"\" });\n",
      "print_role_rating_buttons({ id:\"1973001\", plus:\"24\", minus:\"1\", voted:\"\" });\n",
      "print_role_rating_buttons({ id:\"1973002\", plus:\"25\", minus:\"0\", voted:\"\" });\n",
      "print_role_rating_buttons({ id:\"1973003\", plus:\"25\", minus:\"1\", voted:\"\" });\n",
      "print_role_rating_buttons({ id:\"1973005\", plus:\"25\", minus:\"2\", voted:\"\" });\n",
      "print_role_rating_buttons({ id:\"1973007\", plus:\"28\", minus:\"1\", voted:\"\" });\n",
      "print_role_rating_buttons({ id:\"1973008\", plus:\"22\", minus:\"1\", voted:\"\" });\n",
      "print_role_rating_buttons({ id:\"1973010\", plus:\"34\", minus:\"6\", voted:\"\" });\n",
      "print_role_rating_buttons({ id:\"1973011\", plus:\"46\", minus:\"3\", voted:\"\" });\n",
      "print_role_rating_buttons({ id:\"2088754\", plus:\"29\", minus:\"2\", voted:\"\" });\n",
      "print_role_rating_buttons({ id:\"16800\", plus:\"156\", minus:\"4\", voted:\"\" });\n",
      "print_role_rating_buttons({ id:\"16801\", plus:\"109\", minus:\"26\", voted:\"\" });\n",
      "print_role_rating_buttons({ id:\"16803\", plus:\"125\", minus:\"12\", voted:\"\" });\n",
      "print_role_rating_buttons({ id:\"16802\", plus:\"146\", minus:\"8\", voted:\"\" });\n",
      "print_role_rating_buttons({ id:\"16804\", plus:\"140\", minus:\"6\", voted:\"\" });\n",
      "print_role_rating_buttons({ id:\"56008\", plus:\"102\", minus:\"10\", voted:\"\" });\n",
      "print_role_rating_buttons({ id:\"62460\", plus:\"102\", minus:\"4\", voted:\"\" });\n",
      "print_role_rating_buttons({ id:\"72744\", plus:\"123\", minus:\"3\", voted:\"\" });\n",
      "print_role_rating_buttons({ id:\"83813\", plus:\"43\", minus:\"2\", voted:\"\" });\n",
      "print_role_rating_buttons({ id:\"89473\", plus:\"100\", minus:\"21\", voted:\"\" });\n",
      "print_role_rating_buttons({ id:\"124124\", plus:\"128\", minus:\"7\", voted:\"\" });\n",
      "print_role_rating_buttons({ id:\"132138\", plus:\"132\", minus:\"2\", voted:\"\" });\n",
      "print_role_rating_buttons({ id:\"132139\", plus:\"116\", minus:\"5\", voted:\"\" });\n",
      "print_role_rating_buttons({ id:\"132140\", plus:\"78\", minus:\"3\", voted:\"\" });\n",
      "print_role_rating_buttons({ id:\"132141\", plus:\"72\", minus:\"6\", voted:\"\" });\n",
      "print_role_rating_buttons({ id:\"132143\", plus:\"3\", minus:\"0\", voted:\"\" });\n",
      "\r\n",
      "}\r\n",
      "// После загрузки страницы запускаем действо\r\n",
      "if (window.addEventListener) {\r\n",
      "    window.addEventListener(\"DOMContentLoaded\",function(event) {\r\n",
      "        print_all_role_rating_buttons()\r\n",
      "    });\r\n",
      "} else {\r\n",
      "    $(document).ready( print_all_role_rating_buttons() );\r\n",
      "}\r\n",
      "\r\n",
      "//-->\r\n",
      "</script>\n"
     ]
    }
   ],
   "source": [
    "for_votes = text.split(\"function print_all_role_rating_buttons ()\")[1]\n",
    "print(for_votes)"
   ]
  },
  {
   "cell_type": "markdown",
   "metadata": {
    "id": "biYkCL0pa9r5"
   },
   "source": [
    "Хотя с синтаксисом JavaScript знакомы немногие, не очень сложно догадаться, что означают записи такого вида:\n",
    "\n",
    "    print_role_rating_buttons({ id:\"16800\", plus:\"156\", minus:\"4\", voted:\"\" });\n",
    "    \n",
    "Такая строка кода активирует функцию `print_role_rating_buttons()` – применяет ее к такому набору данных и наносит на кнопки, соответствующие актеру с id 16800 значения 156 (зеленая кнопка) и 4 (красная кнопка).\n",
    "\n",
    "*Примечание 1*. Синхронизация не происходит мгновенно, актуальное значение 156 подставляется на кнопку не сразу, там вполне может стоять значение 155, а мы, благодаря значениям из JavaScript, обладаем более актуальной информацией. Это стоит иметь в виду при выгрузке информации, когда мы сверяем полученные результаты и то, что видим на экране.\n",
    "\n",
    "*Примечание 2*. Значение `voted` в коде выше является непустым, в случае, если пользователь зарегистрирован и оценивал игру актера (по крайней мере, какое-то время после голосования значение в `voted` держится, потом на самой странице отметка о голосовании остается, а в JSON стирается). Сравним скрин и фрагменты кода для такого случая (да, ради иллюстрации и проверки кода JavaScript я зарегистрировалась):\n",
    "\n",
    "![](НП02.jpeg)\n",
    "    \n",
    "Код:\n",
    "\n",
    "    print_role_rating_buttons({ id:\"56008\", plus:\"102\", minus:\"10\", voted:\"\" });\n",
    "    print_role_rating_buttons({ id:\"132139\", plus:\"116\", minus:\"5\", voted:\"\" });\n",
    "\n",
    "\n",
    "Все фрагменты кода выше – это обычные строки, объекты типа *string*. Поэтому с помощью регулярных выражений мы сможем найти в них записи в фигурных скобках, затем сделать из них словари, а из списка словарей с единообразными ключами собрать датафрейм!\n",
    "\n",
    "Найдем все подстроки, соответствующие шаблону `\\{.+\\}`, то есть просто все наборы символов, заключенных в фигурные скобки (скобки экранируем, чтобы не перепутать со специальными скобками в регулярных выражениях):"
   ]
  },
  {
   "cell_type": "code",
   "execution_count": 25,
   "metadata": {
    "colab": {
     "base_uri": "https://localhost:8080/"
    },
    "id": "IuOiJBH62SNR",
    "outputId": "fc743fd2-59e5-4ae1-8f44-94afbd54a8f3"
   },
   "outputs": [
    {
     "data": {
      "text/plain": [
       "['{ id:\"160325\", plus:\"55\", minus:\"2\", voted:\"\" }',\n",
       " '{ id:\"1928641\", plus:\"28\", minus:\"1\", voted:\"\" }',\n",
       " '{ id:\"1966145\", plus:\"23\", minus:\"1\", voted:\"\" }',\n",
       " '{ id:\"1973000\", plus:\"23\", minus:\"1\", voted:\"\" }',\n",
       " '{ id:\"1973001\", plus:\"24\", minus:\"1\", voted:\"\" }',\n",
       " '{ id:\"1973002\", plus:\"25\", minus:\"0\", voted:\"\" }',\n",
       " '{ id:\"1973003\", plus:\"25\", minus:\"1\", voted:\"\" }',\n",
       " '{ id:\"1973005\", plus:\"25\", minus:\"2\", voted:\"\" }',\n",
       " '{ id:\"1973007\", plus:\"28\", minus:\"1\", voted:\"\" }',\n",
       " '{ id:\"1973008\", plus:\"22\", minus:\"1\", voted:\"\" }',\n",
       " '{ id:\"1973010\", plus:\"34\", minus:\"6\", voted:\"\" }',\n",
       " '{ id:\"1973011\", plus:\"46\", minus:\"3\", voted:\"\" }',\n",
       " '{ id:\"2088754\", plus:\"29\", minus:\"2\", voted:\"\" }',\n",
       " '{ id:\"16800\", plus:\"156\", minus:\"4\", voted:\"\" }',\n",
       " '{ id:\"16801\", plus:\"109\", minus:\"26\", voted:\"\" }',\n",
       " '{ id:\"16803\", plus:\"125\", minus:\"12\", voted:\"\" }',\n",
       " '{ id:\"16802\", plus:\"146\", minus:\"8\", voted:\"\" }',\n",
       " '{ id:\"16804\", plus:\"140\", minus:\"6\", voted:\"\" }',\n",
       " '{ id:\"56008\", plus:\"102\", minus:\"10\", voted:\"\" }',\n",
       " '{ id:\"62460\", plus:\"102\", minus:\"4\", voted:\"\" }',\n",
       " '{ id:\"72744\", plus:\"123\", minus:\"3\", voted:\"\" }',\n",
       " '{ id:\"83813\", plus:\"43\", minus:\"2\", voted:\"\" }',\n",
       " '{ id:\"89473\", plus:\"100\", minus:\"21\", voted:\"\" }',\n",
       " '{ id:\"124124\", plus:\"128\", minus:\"7\", voted:\"\" }',\n",
       " '{ id:\"132138\", plus:\"132\", minus:\"2\", voted:\"\" }',\n",
       " '{ id:\"132139\", plus:\"116\", minus:\"5\", voted:\"\" }',\n",
       " '{ id:\"132140\", plus:\"78\", minus:\"3\", voted:\"\" }',\n",
       " '{ id:\"132141\", plus:\"72\", minus:\"6\", voted:\"\" }',\n",
       " '{ id:\"132143\", plus:\"3\", minus:\"0\", voted:\"\" }']"
      ]
     },
     "execution_count": 25,
     "metadata": {},
     "output_type": "execute_result"
    }
   ],
   "source": [
    "votes_str = re.findall(\"\\{.+\\}\", for_votes)\n",
    "votes_str"
   ]
  },
  {
   "cell_type": "markdown",
   "metadata": {
    "id": "RYbwcHgabx5k"
   },
   "source": [
    "Выберем один элемент списка и изучим его:"
   ]
  },
  {
   "cell_type": "code",
   "execution_count": 26,
   "metadata": {
    "colab": {
     "base_uri": "https://localhost:8080/",
     "height": 36
    },
    "id": "mU9Njyqd27vY",
    "outputId": "c096b0b8-0dec-4419-e73d-489f8d73b06d"
   },
   "outputs": [
    {
     "data": {
      "text/plain": [
       "'{ id:\"160325\", plus:\"55\", minus:\"2\", voted:\"\" }'"
      ]
     },
     "execution_count": 26,
     "metadata": {},
     "output_type": "execute_result"
    }
   ],
   "source": [
    "v = votes_str[0]\n",
    "v"
   ]
  },
  {
   "cell_type": "markdown",
   "metadata": {
    "id": "E-0_l9XXb9cL"
   },
   "source": [
    "На первый взгляд, этот элемент представляет собой полноценный словарь, просто заключенный в кавычки. \n",
    "Однако есть проблема: чтобы переделать строку в словарь, нужна строка, соответствующая формату JSON, а здесь не хватает кавычек вокруг ключей. Как эту проблему решить? Найти по какому-то паттерну эти ключи и доклеить вокруг них кавычки с помощью функции `sub()` из модуля `re` для «умной» замены (не обычная замена, так как мы не конкретный набор символов заменяем на другой, а ищем совпадения по некоторому общему шаблону и их изменяем). \n",
    "\n",
    "Поиск будет простой – в строке с «неправильным» словарем содержатся либо цифры, либо буквы, либо пробелы с запятыми и знаками препинания, а нам нужны последовательности из одной и более букв:"
   ]
  },
  {
   "cell_type": "code",
   "execution_count": 27,
   "metadata": {
    "colab": {
     "base_uri": "https://localhost:8080/"
    },
    "id": "Cw5A5CWf3ePg",
    "outputId": "cfcce27d-8d73-4a76-c252-c911301d7b5a"
   },
   "outputs": [
    {
     "data": {
      "text/plain": [
       "['id', 'plus', 'minus', 'voted']"
      ]
     },
     "execution_count": 27,
     "metadata": {},
     "output_type": "execute_result"
    }
   ],
   "source": [
    "re.findall(\"[a-z]+\", v)"
   ]
  },
  {
   "cell_type": "markdown",
   "metadata": {},
   "source": [
    "Если были буквы были и строчные, и заглавные, код был бы таким – пример другой строки:"
   ]
  },
  {
   "cell_type": "code",
   "execution_count": 28,
   "metadata": {},
   "outputs": [
    {
     "data": {
      "text/plain": [
       "['id', 'FOR', 'AGAINST']"
      ]
     },
     "execution_count": 28,
     "metadata": {},
     "output_type": "execute_result"
    }
   ],
   "source": [
    "# | для или, один и более символов в обоих случаях\n",
    "\n",
    "re.findall(\"[a-z]+|[A-Z]+\", \"{id : 23, FOR: 100, AGAINST: 45} \")"
   ]
  },
  {
   "cell_type": "markdown",
   "metadata": {
    "id": "G_q7dhUicmgr"
   },
   "source": [
    "Напишем функцию `add_quotes()`, которая принимает на вход строку `x`, доклеивает к ней кавычки и убирает пробелы. Нам нужно преобразовать строку `x` в группу – объект из регулярных выражений – через `+` доклеить кавычки и на всякий случай убрать лишние пробелы:"
   ]
  },
  {
   "cell_type": "code",
   "execution_count": 29,
   "metadata": {
    "id": "aFyRacKQ4DhY"
   },
   "outputs": [],
   "source": [
    "# x.group(): функция sub() из re для умной замены\n",
    "# работает не со строками, а с объектом специального типа – группа символов\n",
    "\n",
    "def add_quotes(x):\n",
    "    g = '\"' + x.group() + '\"'\n",
    "    return g.strip()"
   ]
  },
  {
   "cell_type": "markdown",
   "metadata": {
    "id": "LOdtz96ic7xX"
   },
   "source": [
    "Применяем функцию `sub` к одной строке `v` и проверяем:"
   ]
  },
  {
   "cell_type": "code",
   "execution_count": 30,
   "metadata": {
    "colab": {
     "base_uri": "https://localhost:8080/",
     "height": 36
    },
    "id": "FbqZNZns3tIo",
    "outputId": "7c54d271-af6e-4f9e-b230-3859dbd6a272"
   },
   "outputs": [
    {
     "data": {
      "text/plain": [
       "'{ \"id\":\"160325\", \"plus\":\"55\", \"minus\":\"2\", \"voted\":\"\" }'"
      ]
     },
     "execution_count": 30,
     "metadata": {},
     "output_type": "execute_result"
    }
   ],
   "source": [
    "# аргументы:\n",
    "# шаблон, по которому ищем, что заменять\n",
    "# функция, которая выполняет преобразование – доклеивает к результатм поиска кавычки\n",
    "# строка, по который выполняем поиск\n",
    "\n",
    "re.sub(\"[a-z]+\", add_quotes, v)"
   ]
  },
  {
   "cell_type": "markdown",
   "metadata": {
    "id": "kMTr1v0ac_Xs"
   },
   "source": [
    "Все работает, применяем ко всем строкам и получаем список валидных json-строк:"
   ]
  },
  {
   "cell_type": "code",
   "execution_count": 31,
   "metadata": {
    "colab": {
     "base_uri": "https://localhost:8080/"
    },
    "id": "uLi1JxS94g1I",
    "outputId": "689a49d1-dcfc-40d3-e2db-c479f3bf1c42"
   },
   "outputs": [
    {
     "data": {
      "text/plain": [
       "['{ \"id\":\"160325\", \"plus\":\"55\", \"minus\":\"2\", \"voted\":\"\" }',\n",
       " '{ \"id\":\"1928641\", \"plus\":\"28\", \"minus\":\"1\", \"voted\":\"\" }',\n",
       " '{ \"id\":\"1966145\", \"plus\":\"23\", \"minus\":\"1\", \"voted\":\"\" }',\n",
       " '{ \"id\":\"1973000\", \"plus\":\"23\", \"minus\":\"1\", \"voted\":\"\" }',\n",
       " '{ \"id\":\"1973001\", \"plus\":\"24\", \"minus\":\"1\", \"voted\":\"\" }',\n",
       " '{ \"id\":\"1973002\", \"plus\":\"25\", \"minus\":\"0\", \"voted\":\"\" }',\n",
       " '{ \"id\":\"1973003\", \"plus\":\"25\", \"minus\":\"1\", \"voted\":\"\" }',\n",
       " '{ \"id\":\"1973005\", \"plus\":\"25\", \"minus\":\"2\", \"voted\":\"\" }',\n",
       " '{ \"id\":\"1973007\", \"plus\":\"28\", \"minus\":\"1\", \"voted\":\"\" }',\n",
       " '{ \"id\":\"1973008\", \"plus\":\"22\", \"minus\":\"1\", \"voted\":\"\" }',\n",
       " '{ \"id\":\"1973010\", \"plus\":\"34\", \"minus\":\"6\", \"voted\":\"\" }',\n",
       " '{ \"id\":\"1973011\", \"plus\":\"46\", \"minus\":\"3\", \"voted\":\"\" }',\n",
       " '{ \"id\":\"2088754\", \"plus\":\"29\", \"minus\":\"2\", \"voted\":\"\" }',\n",
       " '{ \"id\":\"16800\", \"plus\":\"156\", \"minus\":\"4\", \"voted\":\"\" }',\n",
       " '{ \"id\":\"16801\", \"plus\":\"109\", \"minus\":\"26\", \"voted\":\"\" }',\n",
       " '{ \"id\":\"16803\", \"plus\":\"125\", \"minus\":\"12\", \"voted\":\"\" }',\n",
       " '{ \"id\":\"16802\", \"plus\":\"146\", \"minus\":\"8\", \"voted\":\"\" }',\n",
       " '{ \"id\":\"16804\", \"plus\":\"140\", \"minus\":\"6\", \"voted\":\"\" }',\n",
       " '{ \"id\":\"56008\", \"plus\":\"102\", \"minus\":\"10\", \"voted\":\"\" }',\n",
       " '{ \"id\":\"62460\", \"plus\":\"102\", \"minus\":\"4\", \"voted\":\"\" }',\n",
       " '{ \"id\":\"72744\", \"plus\":\"123\", \"minus\":\"3\", \"voted\":\"\" }',\n",
       " '{ \"id\":\"83813\", \"plus\":\"43\", \"minus\":\"2\", \"voted\":\"\" }',\n",
       " '{ \"id\":\"89473\", \"plus\":\"100\", \"minus\":\"21\", \"voted\":\"\" }',\n",
       " '{ \"id\":\"124124\", \"plus\":\"128\", \"minus\":\"7\", \"voted\":\"\" }',\n",
       " '{ \"id\":\"132138\", \"plus\":\"132\", \"minus\":\"2\", \"voted\":\"\" }',\n",
       " '{ \"id\":\"132139\", \"plus\":\"116\", \"minus\":\"5\", \"voted\":\"\" }',\n",
       " '{ \"id\":\"132140\", \"plus\":\"78\", \"minus\":\"3\", \"voted\":\"\" }',\n",
       " '{ \"id\":\"132141\", \"plus\":\"72\", \"minus\":\"6\", \"voted\":\"\" }',\n",
       " '{ \"id\":\"132143\", \"plus\":\"3\", \"minus\":\"0\", \"voted\":\"\" }']"
      ]
     },
     "execution_count": 31,
     "metadata": {},
     "output_type": "execute_result"
    }
   ],
   "source": [
    "votes_new = [re.sub(\"[a-z]+\", add_quotes, v) for v in votes_str]\n",
    "votes_new"
   ]
  },
  {
   "cell_type": "markdown",
   "metadata": {
    "id": "8P3kXjk8dIES"
   },
   "source": [
    "Теперь нам осталось считать эти валидные JSON-строки с помощью Python – то есть превратить их в обычные питоновские словари.  Импортируем модуль `json`:"
   ]
  },
  {
   "cell_type": "code",
   "execution_count": 32,
   "metadata": {
    "id": "_ce5F15A4voh"
   },
   "outputs": [],
   "source": [
    "import json"
   ]
  },
  {
   "cell_type": "markdown",
   "metadata": {
    "id": "_LOqfUYsddAm"
   },
   "source": [
    "Проверяем работу функции `loads()` на примере первой строки из полученного списка `votes_new`:"
   ]
  },
  {
   "cell_type": "code",
   "execution_count": 33,
   "metadata": {
    "colab": {
     "base_uri": "https://localhost:8080/"
    },
    "id": "o4htP23Q43I4",
    "outputId": "660b9219-5201-4059-93bb-7e4f5c0c3ccc"
   },
   "outputs": [
    {
     "data": {
      "text/plain": [
       "{'id': '160325', 'plus': '55', 'minus': '2', 'voted': ''}"
      ]
     },
     "execution_count": 33,
     "metadata": {},
     "output_type": "execute_result"
    }
   ],
   "source": [
    "json.loads(votes_new[0])"
   ]
  },
  {
   "cell_type": "markdown",
   "metadata": {},
   "source": [
    "Напоминание: в модуле `json` есть две похожих функции:\n",
    "\n",
    "* `load()` загружает данные из файла с расширением `.json`;\n",
    "* `loads()` – загружает данные из JSON-строки.\n",
    "\n",
    "Теперь применим эту функцию ко всем строкам в `votes_new` и сразу преобразуем получившийся список словарей в датафрейм:"
   ]
  },
  {
   "cell_type": "code",
   "execution_count": 34,
   "metadata": {},
   "outputs": [],
   "source": [
    "import pandas as pd"
   ]
  },
  {
   "cell_type": "code",
   "execution_count": 35,
   "metadata": {
    "colab": {
     "base_uri": "https://localhost:8080/",
     "height": 927
    },
    "id": "ECFJ7nkJ5CG3",
    "outputId": "4f8fd376-d628-42ab-dc2a-df03f3753f4c"
   },
   "outputs": [
    {
     "data": {
      "text/html": [
       "<div>\n",
       "<style scoped>\n",
       "    .dataframe tbody tr th:only-of-type {\n",
       "        vertical-align: middle;\n",
       "    }\n",
       "\n",
       "    .dataframe tbody tr th {\n",
       "        vertical-align: top;\n",
       "    }\n",
       "\n",
       "    .dataframe thead th {\n",
       "        text-align: right;\n",
       "    }\n",
       "</style>\n",
       "<table border=\"1\" class=\"dataframe\">\n",
       "  <thead>\n",
       "    <tr style=\"text-align: right;\">\n",
       "      <th></th>\n",
       "      <th>id</th>\n",
       "      <th>plus</th>\n",
       "      <th>minus</th>\n",
       "      <th>voted</th>\n",
       "    </tr>\n",
       "  </thead>\n",
       "  <tbody>\n",
       "    <tr>\n",
       "      <th>0</th>\n",
       "      <td>160325</td>\n",
       "      <td>55</td>\n",
       "      <td>2</td>\n",
       "      <td></td>\n",
       "    </tr>\n",
       "    <tr>\n",
       "      <th>1</th>\n",
       "      <td>1928641</td>\n",
       "      <td>28</td>\n",
       "      <td>1</td>\n",
       "      <td></td>\n",
       "    </tr>\n",
       "    <tr>\n",
       "      <th>2</th>\n",
       "      <td>1966145</td>\n",
       "      <td>23</td>\n",
       "      <td>1</td>\n",
       "      <td></td>\n",
       "    </tr>\n",
       "    <tr>\n",
       "      <th>3</th>\n",
       "      <td>1973000</td>\n",
       "      <td>23</td>\n",
       "      <td>1</td>\n",
       "      <td></td>\n",
       "    </tr>\n",
       "    <tr>\n",
       "      <th>4</th>\n",
       "      <td>1973001</td>\n",
       "      <td>24</td>\n",
       "      <td>1</td>\n",
       "      <td></td>\n",
       "    </tr>\n",
       "    <tr>\n",
       "      <th>5</th>\n",
       "      <td>1973002</td>\n",
       "      <td>25</td>\n",
       "      <td>0</td>\n",
       "      <td></td>\n",
       "    </tr>\n",
       "    <tr>\n",
       "      <th>6</th>\n",
       "      <td>1973003</td>\n",
       "      <td>25</td>\n",
       "      <td>1</td>\n",
       "      <td></td>\n",
       "    </tr>\n",
       "    <tr>\n",
       "      <th>7</th>\n",
       "      <td>1973005</td>\n",
       "      <td>25</td>\n",
       "      <td>2</td>\n",
       "      <td></td>\n",
       "    </tr>\n",
       "    <tr>\n",
       "      <th>8</th>\n",
       "      <td>1973007</td>\n",
       "      <td>28</td>\n",
       "      <td>1</td>\n",
       "      <td></td>\n",
       "    </tr>\n",
       "    <tr>\n",
       "      <th>9</th>\n",
       "      <td>1973008</td>\n",
       "      <td>22</td>\n",
       "      <td>1</td>\n",
       "      <td></td>\n",
       "    </tr>\n",
       "    <tr>\n",
       "      <th>10</th>\n",
       "      <td>1973010</td>\n",
       "      <td>34</td>\n",
       "      <td>6</td>\n",
       "      <td></td>\n",
       "    </tr>\n",
       "    <tr>\n",
       "      <th>11</th>\n",
       "      <td>1973011</td>\n",
       "      <td>46</td>\n",
       "      <td>3</td>\n",
       "      <td></td>\n",
       "    </tr>\n",
       "    <tr>\n",
       "      <th>12</th>\n",
       "      <td>2088754</td>\n",
       "      <td>29</td>\n",
       "      <td>2</td>\n",
       "      <td></td>\n",
       "    </tr>\n",
       "    <tr>\n",
       "      <th>13</th>\n",
       "      <td>16800</td>\n",
       "      <td>156</td>\n",
       "      <td>4</td>\n",
       "      <td></td>\n",
       "    </tr>\n",
       "    <tr>\n",
       "      <th>14</th>\n",
       "      <td>16801</td>\n",
       "      <td>109</td>\n",
       "      <td>26</td>\n",
       "      <td></td>\n",
       "    </tr>\n",
       "    <tr>\n",
       "      <th>15</th>\n",
       "      <td>16803</td>\n",
       "      <td>125</td>\n",
       "      <td>12</td>\n",
       "      <td></td>\n",
       "    </tr>\n",
       "    <tr>\n",
       "      <th>16</th>\n",
       "      <td>16802</td>\n",
       "      <td>146</td>\n",
       "      <td>8</td>\n",
       "      <td></td>\n",
       "    </tr>\n",
       "    <tr>\n",
       "      <th>17</th>\n",
       "      <td>16804</td>\n",
       "      <td>140</td>\n",
       "      <td>6</td>\n",
       "      <td></td>\n",
       "    </tr>\n",
       "    <tr>\n",
       "      <th>18</th>\n",
       "      <td>56008</td>\n",
       "      <td>102</td>\n",
       "      <td>10</td>\n",
       "      <td></td>\n",
       "    </tr>\n",
       "    <tr>\n",
       "      <th>19</th>\n",
       "      <td>62460</td>\n",
       "      <td>102</td>\n",
       "      <td>4</td>\n",
       "      <td></td>\n",
       "    </tr>\n",
       "    <tr>\n",
       "      <th>20</th>\n",
       "      <td>72744</td>\n",
       "      <td>123</td>\n",
       "      <td>3</td>\n",
       "      <td></td>\n",
       "    </tr>\n",
       "    <tr>\n",
       "      <th>21</th>\n",
       "      <td>83813</td>\n",
       "      <td>43</td>\n",
       "      <td>2</td>\n",
       "      <td></td>\n",
       "    </tr>\n",
       "    <tr>\n",
       "      <th>22</th>\n",
       "      <td>89473</td>\n",
       "      <td>100</td>\n",
       "      <td>21</td>\n",
       "      <td></td>\n",
       "    </tr>\n",
       "    <tr>\n",
       "      <th>23</th>\n",
       "      <td>124124</td>\n",
       "      <td>128</td>\n",
       "      <td>7</td>\n",
       "      <td></td>\n",
       "    </tr>\n",
       "    <tr>\n",
       "      <th>24</th>\n",
       "      <td>132138</td>\n",
       "      <td>132</td>\n",
       "      <td>2</td>\n",
       "      <td></td>\n",
       "    </tr>\n",
       "    <tr>\n",
       "      <th>25</th>\n",
       "      <td>132139</td>\n",
       "      <td>116</td>\n",
       "      <td>5</td>\n",
       "      <td></td>\n",
       "    </tr>\n",
       "    <tr>\n",
       "      <th>26</th>\n",
       "      <td>132140</td>\n",
       "      <td>78</td>\n",
       "      <td>3</td>\n",
       "      <td></td>\n",
       "    </tr>\n",
       "    <tr>\n",
       "      <th>27</th>\n",
       "      <td>132141</td>\n",
       "      <td>72</td>\n",
       "      <td>6</td>\n",
       "      <td></td>\n",
       "    </tr>\n",
       "    <tr>\n",
       "      <th>28</th>\n",
       "      <td>132143</td>\n",
       "      <td>3</td>\n",
       "      <td>0</td>\n",
       "      <td></td>\n",
       "    </tr>\n",
       "  </tbody>\n",
       "</table>\n",
       "</div>"
      ],
      "text/plain": [
       "         id plus minus voted\n",
       "0    160325   55     2      \n",
       "1   1928641   28     1      \n",
       "2   1966145   23     1      \n",
       "3   1973000   23     1      \n",
       "4   1973001   24     1      \n",
       "5   1973002   25     0      \n",
       "6   1973003   25     1      \n",
       "7   1973005   25     2      \n",
       "8   1973007   28     1      \n",
       "9   1973008   22     1      \n",
       "10  1973010   34     6      \n",
       "11  1973011   46     3      \n",
       "12  2088754   29     2      \n",
       "13    16800  156     4      \n",
       "14    16801  109    26      \n",
       "15    16803  125    12      \n",
       "16    16802  146     8      \n",
       "17    16804  140     6      \n",
       "18    56008  102    10      \n",
       "19    62460  102     4      \n",
       "20    72744  123     3      \n",
       "21    83813   43     2      \n",
       "22    89473  100    21      \n",
       "23   124124  128     7      \n",
       "24   132138  132     2      \n",
       "25   132139  116     5      \n",
       "26   132140   78     3      \n",
       "27   132141   72     6      \n",
       "28   132143    3     0      "
      ]
     },
     "execution_count": 35,
     "metadata": {},
     "output_type": "execute_result"
    }
   ],
   "source": [
    "ratings = pd.DataFrame([json.loads(v) for v in votes_new])\n",
    "ratings"
   ]
  },
  {
   "cell_type": "markdown",
   "metadata": {
    "id": "swYiGBFJeUgo"
   },
   "source": [
    "Ура! Вся относительно тяжелая работа проделана, а собрать остальную информацию об актерах, чтобы затем склеить датафреймы по id, можно довольно стандартным образом."
   ]
  }
 ],
 "metadata": {
  "colab": {
   "provenance": []
  },
  "kernelspec": {
   "display_name": "Python 3",
   "language": "python",
   "name": "python3"
  },
  "language_info": {
   "codemirror_mode": {
    "name": "ipython",
    "version": 3
   },
   "file_extension": ".py",
   "mimetype": "text/x-python",
   "name": "python",
   "nbconvert_exporter": "python",
   "pygments_lexer": "ipython3",
   "version": "3.7.4"
  }
 },
 "nbformat": 4,
 "nbformat_minor": 1
}
