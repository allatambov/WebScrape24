{
 "cells": [
  {
   "cell_type": "markdown",
   "metadata": {
    "id": "-pjmDh7zSGgl"
   },
   "source": [
    "# Web-scraping: сбор данных из баз данных и интернет-источников\n",
    "\n",
    "*Алла Тамбовцева*\n",
    "\n",
    "## Практикум 1.1. Введение в парсинг с BeautifulSoup: поиск по тэгам"
   ]
  },
  {
   "cell_type": "markdown",
   "metadata": {
    "id": "DkfzzRPxSGgn"
   },
   "source": [
    "Импортируем необходимые библиотеки. Нам понадобится модуль `requests` для отправки запросов, для «подключения» к странице и получения её содержимого в виде строки, и функция `BeautifulSoup` из библиотеки `bs4` для удобного поиска по полученной строке:"
   ]
  },
  {
   "cell_type": "code",
   "execution_count": null,
   "metadata": {
    "id": "O12LEqzrSGgn"
   },
   "outputs": [],
   "source": [
    "import requests"
   ]
  },
  {
   "cell_type": "code",
   "execution_count": null,
   "metadata": {
    "id": "uczW60I_SGgo"
   },
   "outputs": [],
   "source": [
    "from bs4 import BeautifulSoup"
   ]
  },
  {
   "cell_type": "markdown",
   "metadata": {
    "id": "qVJLlk6KSGgo"
   },
   "source": [
    "Подключаемся к странице сайта с материалами [math-info.hse.ru](http://math-info.hse.ru)"
   ]
  },
  {
   "cell_type": "code",
   "execution_count": null,
   "metadata": {
    "id": "pqYv9JTgSGgo"
   },
   "outputs": [],
   "source": [
    "page = requests.get(\"http://math-info.hse.ru/2023-24\")"
   ]
  },
  {
   "cell_type": "code",
   "execution_count": null,
   "metadata": {
    "colab": {
     "base_uri": "https://localhost:8080/"
    },
    "id": "7Q3S1Kd9SGgo",
    "outputId": "243beca2-f89b-49f5-a40c-520e7d029437"
   },
   "outputs": [],
   "source": [
    "page"
   ]
  },
  {
   "cell_type": "markdown",
   "metadata": {
    "id": "pEobSFdASGgp"
   },
   "source": [
    "Объект, который мы сохранили в `page`, имеет особый тип *request*, он же запрос. Из него можно извлечь исходный код страницы в виде обычного текста (тип *string*). Однако в нашем случае мы этого сделать не сможем, потому что в ответ на запрос мы получили результат с кодом ошибки 404. Известная ошибка, которая возникает тогда, когда ссылка ведёт вникуда. Исправляемся – добавляем слэш в конце ссылки, в данном случае это важно:"
   ]
  },
  {
   "cell_type": "code",
   "execution_count": null,
   "metadata": {
    "colab": {
     "base_uri": "https://localhost:8080/"
    },
    "id": "csgKxdm7SGgp",
    "outputId": "6dceeb5b-c5cd-442b-8b41-68e0ad559943"
   },
   "outputs": [],
   "source": [
    "page = requests.get(\"http://math-info.hse.ru/2023-24/\")\n",
    "page"
   ]
  },
  {
   "cell_type": "markdown",
   "metadata": {
    "id": "oaCV7u9sSGgq"
   },
   "source": [
    "Теперь код 200, это означает, что запрос был благополучно отправлен и на него был получен ответ. Извлечём из полученного ответа код HTML в виде обычной строки:"
   ]
  },
  {
   "cell_type": "code",
   "execution_count": null,
   "metadata": {
    "colab": {
     "base_uri": "https://localhost:8080/",
     "height": 191
    },
    "id": "Jy-aS8wtSGgq",
    "outputId": "7027c88e-1cb4-4030-c5fc-b594632231c1"
   },
   "outputs": [],
   "source": [
    "# print(page.text)"
   ]
  },
  {
   "cell_type": "markdown",
   "metadata": {
    "id": "iuJRw0pESGgr"
   },
   "source": [
    "Выполнять поиск по такой строке с тэгами не очень удобно (даже если вы знакомы с регулярными выражениями), поэтому преобразуем строку в объект типа `BeautifulSoup`. Такой объект внешне несильно отличается от обычной строки, однако внутри по структуре похож на словарь, и это сходство значительно упрощает поиск по тэгам и атрибутам."
   ]
  },
  {
   "cell_type": "code",
   "execution_count": null,
   "metadata": {
    "id": "WlC4yHltSGgr"
   },
   "outputs": [],
   "source": [
    "soup = BeautifulSoup(page.text)"
   ]
  },
  {
   "cell_type": "code",
   "execution_count": null,
   "metadata": {
    "id": "j4l6coBmSGgr"
   },
   "outputs": [],
   "source": [
    "# внешне то же самое, что и ранее\n",
    "# soup"
   ]
  },
  {
   "cell_type": "markdown",
   "metadata": {
    "id": "7mU7ygJUSGgr"
   },
   "source": [
    "На объектах `BeautifulSoup` определены методы `.find()` и `.find_all()`. Оба метода возвращают фрагменты кода HTML, которые соответствуют критериям поиска, различие заключается в том, что метод `.find()` предназначен для поиска одного совпадения (если критериям поиска соответствует несколько элементов на странице, то берётся только первый), а метод `.find_all()` – для поиска всех совпадений. В первом случае результат возвращается в виде одного элемента типа `BeautifulSoup`, а во втором – в виде списка таких элементов. Давайте попробуем что-то поискать!\n",
    "\n",
    "Найдём сначала заголовок первого уровня – он здесь точно один (тэг `<h1>`):"
   ]
  },
  {
   "cell_type": "code",
   "execution_count": null,
   "metadata": {
    "colab": {
     "base_uri": "https://localhost:8080/"
    },
    "id": "rxkdXNVdSGgr",
    "outputId": "524e9939-a961-454d-cb21-62177d3cdc8a"
   },
   "outputs": [],
   "source": [
    "soup.find(\"h1\")"
   ]
  },
  {
   "cell_type": "markdown",
   "metadata": {
    "id": "ksYa09DTSGgr"
   },
   "source": [
    "Результат – фрагмент кода HTML со всеми тэгами. Как получить «чистый» текст? Запросить текст с помощью атрибута `.text`:"
   ]
  },
  {
   "cell_type": "code",
   "execution_count": null,
   "metadata": {
    "colab": {
     "base_uri": "https://localhost:8080/",
     "height": 35
    },
    "id": "zZKl7ipSSGgs",
    "outputId": "c67181cf-b1ab-4115-aac4-56cd8e8d3b72"
   },
   "outputs": [],
   "source": [
    "soup.find(\"h1\").text"
   ]
  },
  {
   "cell_type": "markdown",
   "metadata": {
    "id": "DlbMPeBOSGgs"
   },
   "source": [
    "Теперь найдём все заголовки второго уровня:"
   ]
  },
  {
   "cell_type": "code",
   "execution_count": null,
   "metadata": {
    "colab": {
     "base_uri": "https://localhost:8080/"
    },
    "id": "SEpVOwYaSGgs",
    "outputId": "169066c3-fd71-4d04-b571-16a246d512b2"
   },
   "outputs": [],
   "source": [
    "soup.find_all(\"h2\")"
   ]
  },
  {
   "cell_type": "markdown",
   "metadata": {
    "id": "Rohvw3B3SGgs"
   },
   "source": [
    "Сохраним полученный с названием `h2` и поработаем с ним (и не только)!"
   ]
  },
  {
   "cell_type": "code",
   "execution_count": null,
   "metadata": {
    "id": "bXBmGtLMSGgs"
   },
   "outputs": [],
   "source": [
    "h2 = soup.find_all(\"h2\")"
   ]
  },
  {
   "cell_type": "markdown",
   "metadata": {
    "id": "c8DP3vbuSGgs"
   },
   "source": [
    "### Задача 1"
   ]
  },
  {
   "cell_type": "markdown",
   "metadata": {
    "id": "O28z8H8USGgs"
   },
   "source": [
    "Сохраните в новый список `hh` только названия образовательных программ или факультетов/школ, то есть все элементы списка `h2`, кроме первого и последнего."
   ]
  },
  {
   "cell_type": "code",
   "execution_count": null,
   "metadata": {
    "colab": {
     "base_uri": "https://localhost:8080/"
    },
    "id": "m0OZiHqsSGgs",
    "outputId": "2876e79e-02d5-49c7-823e-2f2abe94bee2"
   },
   "outputs": [],
   "source": [
    "### YOUR CODE HERE ###"
   ]
  },
  {
   "cell_type": "markdown",
   "metadata": {
    "id": "FFnt7QSfSGgs"
   },
   "source": [
    "### Задача 2"
   ]
  },
  {
   "cell_type": "markdown",
   "metadata": {
    "id": "OOQC7f6nSGgt"
   },
   "source": [
    "Извлеките из каждого элемента списка `hh` текст и сохраните полученные названия программ/факультетов/школ в список `headers`."
   ]
  },
  {
   "cell_type": "code",
   "execution_count": null,
   "metadata": {
    "colab": {
     "base_uri": "https://localhost:8080/"
    },
    "id": "nvzBra-XSGgt",
    "outputId": "2fa2d1d2-64f4-4259-db63-f92fcac7178e"
   },
   "outputs": [],
   "source": [
    "### YOUR CODE HERE ###"
   ]
  },
  {
   "cell_type": "markdown",
   "metadata": {
    "id": "_0_RCudGSGgt"
   },
   "source": [
    "### Задача 3"
   ]
  },
  {
   "cell_type": "markdown",
   "metadata": {
    "id": "LDXG6yyoSGgt"
   },
   "source": [
    "Найдите на странице список курсов ОП «Политология» (их просто больше всего) и сохраните его в переменную `polit`."
   ]
  },
  {
   "cell_type": "code",
   "execution_count": null,
   "metadata": {
    "colab": {
     "base_uri": "https://localhost:8080/"
    },
    "id": "NslOXiYnSGgt",
    "outputId": "a0c4fb48-dac1-4e59-8712-c5edff8cb09a"
   },
   "outputs": [],
   "source": [
    "### YOUR CODE HERE ###"
   ]
  },
  {
   "cell_type": "markdown",
   "metadata": {
    "id": "C90-qRkVSGgt"
   },
   "source": [
    "### Задача 4"
   ]
  },
  {
   "cell_type": "markdown",
   "metadata": {
    "id": "vovHPPuASGgt"
   },
   "source": [
    "Используя `polit`, получите список названий курсов и назовите его `names`."
   ]
  },
  {
   "cell_type": "code",
   "execution_count": null,
   "metadata": {
    "colab": {
     "base_uri": "https://localhost:8080/"
    },
    "id": "P6KsJhd_SGgt",
    "outputId": "8c68aa78-0b69-4b03-d662-d4c42ae6157a"
   },
   "outputs": [],
   "source": [
    "### YOUR CODE HERE ###"
   ]
  },
  {
   "cell_type": "markdown",
   "metadata": {
    "id": "3yYf5Uz2SGgt"
   },
   "source": [
    "### Задача 5"
   ]
  },
  {
   "cell_type": "markdown",
   "metadata": {
    "id": "iKv_t-OUSGgt"
   },
   "source": [
    "Извлеките из каждого элемента `names` названия предметов «в чистом» виде, без указаний на то, на каком курсе они читаются, и сохраните результаты в новый список `names_clean`.\n",
    "\n",
    "Подсказка: метод `.split()` для строк."
   ]
  },
  {
   "cell_type": "code",
   "execution_count": null,
   "metadata": {
    "colab": {
     "base_uri": "https://localhost:8080/"
    },
    "id": "tX6uOGMMSGgt",
    "outputId": "17d62362-3963-4244-b8ed-e38fe7471dc1"
   },
   "outputs": [],
   "source": [
    "### YOUR CODE HERE ###"
   ]
  },
  {
   "cell_type": "markdown",
   "metadata": {
    "id": "x0qQ_seASGgu"
   },
   "source": [
    "### Задача 6"
   ]
  },
  {
   "cell_type": "markdown",
   "metadata": {
    "id": "Mj0Galm3SGgu"
   },
   "source": [
    "Дан перечень id для курсов, созданный с помощью функции `range()`:"
   ]
  },
  {
   "cell_type": "code",
   "execution_count": null,
   "metadata": {
    "id": "6cm2K5HRSGgv"
   },
   "outputs": [],
   "source": [
    "ids = range(1, 6)"
   ]
  },
  {
   "cell_type": "code",
   "execution_count": null,
   "metadata": {
    "colab": {
     "base_uri": "https://localhost:8080/"
    },
    "id": "00lD-OwxSGgv",
    "outputId": "da47455f-897f-4579-afb0-bf41e7389ff3"
   },
   "outputs": [],
   "source": [
    "### YOUR CODE HERE ###"
   ]
  },
  {
   "cell_type": "markdown",
   "metadata": {
    "id": "3DZB4nLzSGgw"
   },
   "source": [
    "Используя `ids` и список `names_clean`, создайте словарь `info`, где ключами являются id, а значениями – названия курсов."
   ]
  }
 ],
 "metadata": {
  "colab": {
   "provenance": []
  },
  "kernelspec": {
   "display_name": "Python 3",
   "language": "python",
   "name": "python3"
  },
  "language_info": {
   "codemirror_mode": {
    "name": "ipython",
    "version": 3
   },
   "file_extension": ".py",
   "mimetype": "text/x-python",
   "name": "python",
   "nbconvert_exporter": "python",
   "pygments_lexer": "ipython3",
   "version": "3.7.4"
  }
 },
 "nbformat": 4,
 "nbformat_minor": 1
}
