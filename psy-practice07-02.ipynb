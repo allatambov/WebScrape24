{
 "cells": [
  {
   "cell_type": "markdown",
   "metadata": {},
   "source": [
    "# Web-scraping: сбор данных из баз данных и интернет-источников\n",
    "*Алла Тамбовцева, НИУ ВШЭ*\n",
    "\n",
    "## Практикум 7.2. Управление браузером с Selenium: скачивание файлов"
   ]
  },
  {
   "cell_type": "markdown",
   "metadata": {},
   "source": [
    "### Часть 1: скачиваем PDF и ZIP"
   ]
  },
  {
   "cell_type": "markdown",
   "metadata": {},
   "source": [
    "Импортируем необходимые модули и коллекции методов:"
   ]
  },
  {
   "cell_type": "code",
   "execution_count": 1,
   "metadata": {},
   "outputs": [],
   "source": [
    "from selenium import webdriver as wd\n",
    "from selenium.webdriver.common.keys import Keys\n",
    "from selenium.webdriver.common.by import By"
   ]
  },
  {
   "cell_type": "markdown",
   "metadata": {},
   "source": [
    "Начинаем новую сессию работы с браузером – новое окно браузера:"
   ]
  },
  {
   "cell_type": "code",
   "execution_count": 2,
   "metadata": {},
   "outputs": [],
   "source": [
    "br = wd.Chrome()"
   ]
  },
  {
   "cell_type": "markdown",
   "metadata": {},
   "source": [
    "Переходим на сайт для поиска нот (*why not?*):"
   ]
  },
  {
   "cell_type": "code",
   "execution_count": 3,
   "metadata": {},
   "outputs": [],
   "source": [
    "br.get(\"https://ponotam.ru/\")"
   ]
  },
  {
   "cell_type": "markdown",
   "metadata": {},
   "source": [
    "Давайте для практики будем искать все необходимые элементы (поля для поиска, ссылки, кнопки) через XPATH.\n",
    "Сначала нам нужно найти поле для поиска. Давайте найдем его и отправим туда значение *Happy New Year*."
   ]
  },
  {
   "cell_type": "code",
   "execution_count": 4,
   "metadata": {},
   "outputs": [],
   "source": [
    "search = br.find_element(By.XPATH, \"//input[@id='edit-search-block-form--2']\")\n",
    "\n",
    "search.send_keys(\"Happy New Year\")"
   ]
  },
  {
   "cell_type": "markdown",
   "metadata": {},
   "source": [
    "Теперь попробуем найти кнопку для активации поиска (обратите внимание на тэг `<label>`):"
   ]
  },
  {
   "cell_type": "code",
   "execution_count": 5,
   "metadata": {},
   "outputs": [
    {
     "ename": "ElementClickInterceptedException",
     "evalue": "Message: element click intercepted: Element <label class=\"element-invisible\" for=\"edit-search-block-form--2\">...</label> is not clickable at point (133, 100). Other element would receive the click: <div class=\"container-inline\">...</div>\n  (Session info: chrome=116.0.5845.187)\nStacktrace:\n0   chromedriver                        0x00000001045f0638 chromedriver + 5002808\n1   chromedriver                        0x00000001045e7a53 chromedriver + 4966995\n2   chromedriver                        0x0000000104198a57 chromedriver + 449111\n3   chromedriver                        0x00000001041e68f8 chromedriver + 768248\n4   chromedriver                        0x00000001041e4345 chromedriver + 758597\n5   chromedriver                        0x00000001041e1884 chromedriver + 747652\n6   chromedriver                        0x00000001041e064f chromedriver + 742991\n7   chromedriver                        0x00000001041d303a chromedriver + 688186\n8   chromedriver                        0x00000001042053f2 chromedriver + 893938\n9   chromedriver                        0x00000001041d28b8 chromedriver + 686264\n10  chromedriver                        0x00000001042055ae chromedriver + 894382\n11  chromedriver                        0x0000000104220391 chromedriver + 1004433\n12  chromedriver                        0x00000001042051c3 chromedriver + 893379\n13  chromedriver                        0x00000001041d0df9 chromedriver + 679417\n14  chromedriver                        0x00000001041d1fde chromedriver + 683998\n15  chromedriver                        0x00000001045ad2d9 chromedriver + 4727513\n16  chromedriver                        0x00000001045b22de chromedriver + 4747998\n17  chromedriver                        0x00000001045702c9 chromedriver + 4477641\n18  chromedriver                        0x00000001045b302d chromedriver + 4751405\n19  chromedriver                        0x00000001045860ec chromedriver + 4567276\n20  chromedriver                        0x00000001045d07f8 chromedriver + 4872184\n21  chromedriver                        0x00000001045d09b7 chromedriver + 4872631\n22  chromedriver                        0x00000001045e0a1f chromedriver + 4938271\n23  libsystem_pthread.dylib             0x00007fff77559661 _pthread_body + 340\n24  libsystem_pthread.dylib             0x00007fff7755950d _pthread_body + 0\n25  libsystem_pthread.dylib             0x00007fff77558bf9 thread_start + 13\n",
     "output_type": "error",
     "traceback": [
      "\u001b[0;31m---------------------------------------------------------------------------\u001b[0m",
      "\u001b[0;31mElementClickInterceptedException\u001b[0m          Traceback (most recent call last)",
      "\u001b[0;32m<ipython-input-5-53af26b6694b>\u001b[0m in \u001b[0;36m<module>\u001b[0;34m\u001b[0m\n\u001b[1;32m      1\u001b[0m \u001b[0mbutton\u001b[0m \u001b[0;34m=\u001b[0m \u001b[0mbr\u001b[0m\u001b[0;34m.\u001b[0m\u001b[0mfind_element\u001b[0m\u001b[0;34m(\u001b[0m\u001b[0mBy\u001b[0m\u001b[0;34m.\u001b[0m\u001b[0mXPATH\u001b[0m\u001b[0;34m,\u001b[0m \u001b[0;34m\"//label[@for='edit-search-block-form--2']\"\u001b[0m\u001b[0;34m)\u001b[0m\u001b[0;34m\u001b[0m\u001b[0;34m\u001b[0m\u001b[0m\n\u001b[0;32m----> 2\u001b[0;31m \u001b[0mbutton\u001b[0m\u001b[0;34m.\u001b[0m\u001b[0mclick\u001b[0m\u001b[0;34m(\u001b[0m\u001b[0;34m)\u001b[0m\u001b[0;34m\u001b[0m\u001b[0;34m\u001b[0m\u001b[0m\n\u001b[0m",
      "\u001b[0;32m/opt/anaconda3/lib/python3.7/site-packages/selenium/webdriver/remote/webelement.py\u001b[0m in \u001b[0;36mclick\u001b[0;34m(self)\u001b[0m\n\u001b[1;32m     92\u001b[0m     \u001b[0;32mdef\u001b[0m \u001b[0mclick\u001b[0m\u001b[0;34m(\u001b[0m\u001b[0mself\u001b[0m\u001b[0;34m)\u001b[0m \u001b[0;34m->\u001b[0m \u001b[0;32mNone\u001b[0m\u001b[0;34m:\u001b[0m\u001b[0;34m\u001b[0m\u001b[0;34m\u001b[0m\u001b[0m\n\u001b[1;32m     93\u001b[0m         \u001b[0;34m\"\"\"Clicks the element.\"\"\"\u001b[0m\u001b[0;34m\u001b[0m\u001b[0;34m\u001b[0m\u001b[0m\n\u001b[0;32m---> 94\u001b[0;31m         \u001b[0mself\u001b[0m\u001b[0;34m.\u001b[0m\u001b[0m_execute\u001b[0m\u001b[0;34m(\u001b[0m\u001b[0mCommand\u001b[0m\u001b[0;34m.\u001b[0m\u001b[0mCLICK_ELEMENT\u001b[0m\u001b[0;34m)\u001b[0m\u001b[0;34m\u001b[0m\u001b[0;34m\u001b[0m\u001b[0m\n\u001b[0m\u001b[1;32m     95\u001b[0m \u001b[0;34m\u001b[0m\u001b[0m\n\u001b[1;32m     96\u001b[0m     \u001b[0;32mdef\u001b[0m \u001b[0msubmit\u001b[0m\u001b[0;34m(\u001b[0m\u001b[0mself\u001b[0m\u001b[0;34m)\u001b[0m\u001b[0;34m:\u001b[0m\u001b[0;34m\u001b[0m\u001b[0;34m\u001b[0m\u001b[0m\n",
      "\u001b[0;32m/opt/anaconda3/lib/python3.7/site-packages/selenium/webdriver/remote/webelement.py\u001b[0m in \u001b[0;36m_execute\u001b[0;34m(self, command, params)\u001b[0m\n\u001b[1;32m    393\u001b[0m             \u001b[0mparams\u001b[0m \u001b[0;34m=\u001b[0m \u001b[0;34m{\u001b[0m\u001b[0;34m}\u001b[0m\u001b[0;34m\u001b[0m\u001b[0;34m\u001b[0m\u001b[0m\n\u001b[1;32m    394\u001b[0m         \u001b[0mparams\u001b[0m\u001b[0;34m[\u001b[0m\u001b[0;34m\"id\"\u001b[0m\u001b[0;34m]\u001b[0m \u001b[0;34m=\u001b[0m \u001b[0mself\u001b[0m\u001b[0;34m.\u001b[0m\u001b[0m_id\u001b[0m\u001b[0;34m\u001b[0m\u001b[0;34m\u001b[0m\u001b[0m\n\u001b[0;32m--> 395\u001b[0;31m         \u001b[0;32mreturn\u001b[0m \u001b[0mself\u001b[0m\u001b[0;34m.\u001b[0m\u001b[0m_parent\u001b[0m\u001b[0;34m.\u001b[0m\u001b[0mexecute\u001b[0m\u001b[0;34m(\u001b[0m\u001b[0mcommand\u001b[0m\u001b[0;34m,\u001b[0m \u001b[0mparams\u001b[0m\u001b[0;34m)\u001b[0m\u001b[0;34m\u001b[0m\u001b[0;34m\u001b[0m\u001b[0m\n\u001b[0m\u001b[1;32m    396\u001b[0m \u001b[0;34m\u001b[0m\u001b[0m\n\u001b[1;32m    397\u001b[0m     \u001b[0;32mdef\u001b[0m \u001b[0mfind_element\u001b[0m\u001b[0;34m(\u001b[0m\u001b[0mself\u001b[0m\u001b[0;34m,\u001b[0m \u001b[0mby\u001b[0m\u001b[0;34m=\u001b[0m\u001b[0mBy\u001b[0m\u001b[0;34m.\u001b[0m\u001b[0mID\u001b[0m\u001b[0;34m,\u001b[0m \u001b[0mvalue\u001b[0m\u001b[0;34m=\u001b[0m\u001b[0;32mNone\u001b[0m\u001b[0;34m)\u001b[0m \u001b[0;34m->\u001b[0m \u001b[0mWebElement\u001b[0m\u001b[0;34m:\u001b[0m\u001b[0;34m\u001b[0m\u001b[0;34m\u001b[0m\u001b[0m\n",
      "\u001b[0;32m/opt/anaconda3/lib/python3.7/site-packages/selenium/webdriver/remote/webdriver.py\u001b[0m in \u001b[0;36mexecute\u001b[0;34m(self, driver_command, params)\u001b[0m\n\u001b[1;32m    343\u001b[0m         \u001b[0mresponse\u001b[0m \u001b[0;34m=\u001b[0m \u001b[0mself\u001b[0m\u001b[0;34m.\u001b[0m\u001b[0mcommand_executor\u001b[0m\u001b[0;34m.\u001b[0m\u001b[0mexecute\u001b[0m\u001b[0;34m(\u001b[0m\u001b[0mdriver_command\u001b[0m\u001b[0;34m,\u001b[0m \u001b[0mparams\u001b[0m\u001b[0;34m)\u001b[0m\u001b[0;34m\u001b[0m\u001b[0;34m\u001b[0m\u001b[0m\n\u001b[1;32m    344\u001b[0m         \u001b[0;32mif\u001b[0m \u001b[0mresponse\u001b[0m\u001b[0;34m:\u001b[0m\u001b[0;34m\u001b[0m\u001b[0;34m\u001b[0m\u001b[0m\n\u001b[0;32m--> 345\u001b[0;31m             \u001b[0mself\u001b[0m\u001b[0;34m.\u001b[0m\u001b[0merror_handler\u001b[0m\u001b[0;34m.\u001b[0m\u001b[0mcheck_response\u001b[0m\u001b[0;34m(\u001b[0m\u001b[0mresponse\u001b[0m\u001b[0;34m)\u001b[0m\u001b[0;34m\u001b[0m\u001b[0;34m\u001b[0m\u001b[0m\n\u001b[0m\u001b[1;32m    346\u001b[0m             \u001b[0mresponse\u001b[0m\u001b[0;34m[\u001b[0m\u001b[0;34m\"value\"\u001b[0m\u001b[0;34m]\u001b[0m \u001b[0;34m=\u001b[0m \u001b[0mself\u001b[0m\u001b[0;34m.\u001b[0m\u001b[0m_unwrap_value\u001b[0m\u001b[0;34m(\u001b[0m\u001b[0mresponse\u001b[0m\u001b[0;34m.\u001b[0m\u001b[0mget\u001b[0m\u001b[0;34m(\u001b[0m\u001b[0;34m\"value\"\u001b[0m\u001b[0;34m,\u001b[0m \u001b[0;32mNone\u001b[0m\u001b[0;34m)\u001b[0m\u001b[0;34m)\u001b[0m\u001b[0;34m\u001b[0m\u001b[0;34m\u001b[0m\u001b[0m\n\u001b[1;32m    347\u001b[0m             \u001b[0;32mreturn\u001b[0m \u001b[0mresponse\u001b[0m\u001b[0;34m\u001b[0m\u001b[0;34m\u001b[0m\u001b[0m\n",
      "\u001b[0;32m/opt/anaconda3/lib/python3.7/site-packages/selenium/webdriver/remote/errorhandler.py\u001b[0m in \u001b[0;36mcheck_response\u001b[0;34m(self, response)\u001b[0m\n\u001b[1;32m    227\u001b[0m                 \u001b[0malert_text\u001b[0m \u001b[0;34m=\u001b[0m \u001b[0mvalue\u001b[0m\u001b[0;34m[\u001b[0m\u001b[0;34m\"alert\"\u001b[0m\u001b[0;34m]\u001b[0m\u001b[0;34m.\u001b[0m\u001b[0mget\u001b[0m\u001b[0;34m(\u001b[0m\u001b[0;34m\"text\"\u001b[0m\u001b[0;34m)\u001b[0m\u001b[0;34m\u001b[0m\u001b[0;34m\u001b[0m\u001b[0m\n\u001b[1;32m    228\u001b[0m             \u001b[0;32mraise\u001b[0m \u001b[0mexception_class\u001b[0m\u001b[0;34m(\u001b[0m\u001b[0mmessage\u001b[0m\u001b[0;34m,\u001b[0m \u001b[0mscreen\u001b[0m\u001b[0;34m,\u001b[0m \u001b[0mstacktrace\u001b[0m\u001b[0;34m,\u001b[0m \u001b[0malert_text\u001b[0m\u001b[0;34m)\u001b[0m  \u001b[0;31m# type: ignore[call-arg]  # mypy is not smart enough here\u001b[0m\u001b[0;34m\u001b[0m\u001b[0;34m\u001b[0m\u001b[0m\n\u001b[0;32m--> 229\u001b[0;31m         \u001b[0;32mraise\u001b[0m \u001b[0mexception_class\u001b[0m\u001b[0;34m(\u001b[0m\u001b[0mmessage\u001b[0m\u001b[0;34m,\u001b[0m \u001b[0mscreen\u001b[0m\u001b[0;34m,\u001b[0m \u001b[0mstacktrace\u001b[0m\u001b[0;34m)\u001b[0m\u001b[0;34m\u001b[0m\u001b[0;34m\u001b[0m\u001b[0m\n\u001b[0m",
      "\u001b[0;31mElementClickInterceptedException\u001b[0m: Message: element click intercepted: Element <label class=\"element-invisible\" for=\"edit-search-block-form--2\">...</label> is not clickable at point (133, 100). Other element would receive the click: <div class=\"container-inline\">...</div>\n  (Session info: chrome=116.0.5845.187)\nStacktrace:\n0   chromedriver                        0x00000001045f0638 chromedriver + 5002808\n1   chromedriver                        0x00000001045e7a53 chromedriver + 4966995\n2   chromedriver                        0x0000000104198a57 chromedriver + 449111\n3   chromedriver                        0x00000001041e68f8 chromedriver + 768248\n4   chromedriver                        0x00000001041e4345 chromedriver + 758597\n5   chromedriver                        0x00000001041e1884 chromedriver + 747652\n6   chromedriver                        0x00000001041e064f chromedriver + 742991\n7   chromedriver                        0x00000001041d303a chromedriver + 688186\n8   chromedriver                        0x00000001042053f2 chromedriver + 893938\n9   chromedriver                        0x00000001041d28b8 chromedriver + 686264\n10  chromedriver                        0x00000001042055ae chromedriver + 894382\n11  chromedriver                        0x0000000104220391 chromedriver + 1004433\n12  chromedriver                        0x00000001042051c3 chromedriver + 893379\n13  chromedriver                        0x00000001041d0df9 chromedriver + 679417\n14  chromedriver                        0x00000001041d1fde chromedriver + 683998\n15  chromedriver                        0x00000001045ad2d9 chromedriver + 4727513\n16  chromedriver                        0x00000001045b22de chromedriver + 4747998\n17  chromedriver                        0x00000001045702c9 chromedriver + 4477641\n18  chromedriver                        0x00000001045b302d chromedriver + 4751405\n19  chromedriver                        0x00000001045860ec chromedriver + 4567276\n20  chromedriver                        0x00000001045d07f8 chromedriver + 4872184\n21  chromedriver                        0x00000001045d09b7 chromedriver + 4872631\n22  chromedriver                        0x00000001045e0a1f chromedriver + 4938271\n23  libsystem_pthread.dylib             0x00007fff77559661 _pthread_body + 340\n24  libsystem_pthread.dylib             0x00007fff7755950d _pthread_body + 0\n25  libsystem_pthread.dylib             0x00007fff77558bf9 thread_start + 13\n"
     ]
    }
   ],
   "source": [
    "button = br.find_element(By.XPATH, \"//label[@for='edit-search-block-form--2']\")\n",
    "button.click()"
   ]
  },
  {
   "cell_type": "markdown",
   "metadata": {},
   "source": [
    "Проблема! Попробуем последовать совету Python:"
   ]
  },
  {
   "cell_type": "code",
   "execution_count": 6,
   "metadata": {},
   "outputs": [],
   "source": [
    "button = br.find_element(By.XPATH, \"//div[@class='container-inline']\")\n",
    "button.click()"
   ]
  },
  {
   "cell_type": "markdown",
   "metadata": {},
   "source": [
    "Хочешь сделать хорошо – сделай сам :) На самом деле сообщение выше не совет – это предупреждение о том, что какой-то другой объект «получит» наш клик, он либо находится слишком близко (мы не ту локацию нашли), либо просто перекрывает тот объект, который нам нужен (всплывающее окно, невидимый элемент меню, который становится видимым при определённых действиях на странице, но который всё равно мешает). \n",
    "\n",
    "Давайте просто найдём эту кнопку по ID и кликнем на нее!"
   ]
  },
  {
   "cell_type": "code",
   "execution_count": 7,
   "metadata": {},
   "outputs": [],
   "source": [
    "button = br.find_element(By.ID, \"edit-submit\")\n",
    "button.click()"
   ]
  },
  {
   "cell_type": "markdown",
   "metadata": {},
   "source": [
    "Перешли на страницу с результатами, давайте заберем ссылку на единственный результат по частичному тексту ссылки и кликнем на нее."
   ]
  },
  {
   "cell_type": "code",
   "execution_count": 8,
   "metadata": {},
   "outputs": [],
   "source": [
    "link = br.find_element(By.PARTIAL_LINK_TEXT, \"Happy new Year\")\n",
    "link.click()"
   ]
  },
  {
   "cell_type": "markdown",
   "metadata": {},
   "source": [
    "Ура! Чтобы скачать pdf-файл с нотами, нужно кликнуть на соответствующую иконку. Давайте найдем ее через XPATH и кликнем."
   ]
  },
  {
   "cell_type": "code",
   "execution_count": 9,
   "metadata": {},
   "outputs": [],
   "source": [
    "pdf = br.find_element(By.XPATH, \"//img[@alt='Скачать PDF']\")\n",
    "pdf.click()"
   ]
  },
  {
   "cell_type": "markdown",
   "metadata": {},
   "source": [
    "Идеально! В браузере открылся pdf-файл, но как его автоматически скачать, неясно. Давайте откроем браузер с дополнительными опциями, чтобы PDF скачивался сразу, а не просто открывался в браузере."
   ]
  },
  {
   "cell_type": "code",
   "execution_count": 10,
   "metadata": {},
   "outputs": [],
   "source": [
    "options = wd.ChromeOptions()"
   ]
  },
  {
   "cell_type": "code",
   "execution_count": 11,
   "metadata": {},
   "outputs": [],
   "source": [
    "# словарь \n",
    "# default_directory: папка для загрузок, поменяйте или закомментируйте, \n",
    "# если папка по умолчанию устраивает\n",
    "# prompt_for_download: автоматическое скачивание без всплывающих вопросов\n",
    "# plugins.always_open_pdf_externally: скачивание без открытия в браузере\n",
    "\n",
    "options.add_experimental_option('prefs', {\n",
    "\"download.default_directory\": \"/Users/allat/Downloads/\", \n",
    "\"download.prompt_for_download\": False, \n",
    "\"download.directory_upgrade\": True,\n",
    "\"plugins.always_open_pdf_externally\": True\n",
    "})"
   ]
  },
  {
   "cell_type": "markdown",
   "metadata": {},
   "source": [
    "Открываем браузер с дополнением `options`:"
   ]
  },
  {
   "cell_type": "code",
   "execution_count": 12,
   "metadata": {},
   "outputs": [],
   "source": [
    "br = wd.Chrome(options=options)"
   ]
  },
  {
   "cell_type": "markdown",
   "metadata": {},
   "source": [
    "Осталось повторить все проделанные операции по скачиванию!"
   ]
  },
  {
   "cell_type": "code",
   "execution_count": 13,
   "metadata": {},
   "outputs": [],
   "source": [
    "br.get(\"https://ponotam.ru/\")"
   ]
  },
  {
   "cell_type": "code",
   "execution_count": 14,
   "metadata": {},
   "outputs": [],
   "source": [
    "search = br.find_element(By.XPATH, \"//input[@id='edit-search-block-form--2']\")\n",
    "search.send_keys(\"Happy New Year\")"
   ]
  },
  {
   "cell_type": "code",
   "execution_count": 15,
   "metadata": {},
   "outputs": [],
   "source": [
    "button = br.find_element(By.ID, \"edit-submit\")\n",
    "button.click()"
   ]
  },
  {
   "cell_type": "code",
   "execution_count": 16,
   "metadata": {},
   "outputs": [],
   "source": [
    "link = br.find_element(By.PARTIAL_LINK_TEXT, \"Happy new Year\")\n",
    "link.click()"
   ]
  },
  {
   "cell_type": "code",
   "execution_count": 17,
   "metadata": {},
   "outputs": [],
   "source": [
    "pdf = br.find_element(By.XPATH, \"//img[@alt='Скачать PDF']\")\n",
    "pdf.click()"
   ]
  },
  {
   "cell_type": "markdown",
   "metadata": {},
   "source": [
    "Выполните то же самое для файла с zip-архивом."
   ]
  },
  {
   "cell_type": "code",
   "execution_count": 18,
   "metadata": {},
   "outputs": [],
   "source": [
    "br.get(\"https://ponotam.ru/\")\n",
    "\n",
    "search = br.find_element(By.XPATH, \"//input[@id='edit-search-block-form--2']\")\n",
    "search.send_keys(\"Happy New Year\")\n",
    "\n",
    "button = br.find_element(By.ID, \"edit-submit\")\n",
    "button.click()"
   ]
  },
  {
   "cell_type": "code",
   "execution_count": 19,
   "metadata": {},
   "outputs": [],
   "source": [
    "link = br.find_element(By.PARTIAL_LINK_TEXT, \"Happy new Year\")\n",
    "link.click()"
   ]
  },
  {
   "cell_type": "code",
   "execution_count": 20,
   "metadata": {},
   "outputs": [],
   "source": [
    "zip_ = br.find_element(By.XPATH, \"//img[@alt='Скачать ZIP']\")\n",
    "zip_.click()"
   ]
  },
  {
   "cell_type": "markdown",
   "metadata": {},
   "source": [
    "### Часть 2: скачиваем файлы DOC\n",
    "\n",
    "Давайте зайдем на страницу сайта Вышки, на которой хранятся бланки заявлений для приема на работу и скачаем все бланки в формате `.doc`. В данном случае задача не очень сложная: если посмотреть на исходный код страницы, можно заметить, что для скачивания файлов необходимо просто кликнуть на ссылку, которая заканчивается расширением `.doc`. Поэтому пока не будем использовать Selenium, а вытащим из исходного кода страницы подходящие ссылки:"
   ]
  },
  {
   "cell_type": "code",
   "execution_count": 21,
   "metadata": {},
   "outputs": [],
   "source": [
    "import requests\n",
    "from bs4 import BeautifulSoup"
   ]
  },
  {
   "cell_type": "code",
   "execution_count": 22,
   "metadata": {},
   "outputs": [],
   "source": [
    "page = requests.get(\"https://hr.hse.ru/blanki\")\n",
    "soup = BeautifulSoup(page.text)"
   ]
  },
  {
   "cell_type": "code",
   "execution_count": 23,
   "metadata": {},
   "outputs": [],
   "source": [
    "# находим все элементы с тэгом <a>\n",
    "# так как не во всех тэгах <a> есть ссылки (атрибут href),\n",
    "# пишем try-except, чтобы код не ломался при столкновениями с такими случаями\n",
    "# в итоге забираем только те ссылки, которые заканчиваются на .doc\n",
    "\n",
    "L = soup.find_all(\"a\")\n",
    "docs = []\n",
    "for a in L:\n",
    "    try:\n",
    "        if a.get(\"href\").endswith(\".doc\"):\n",
    "            docs.append(a.get(\"href\"))\n",
    "    except:\n",
    "        pass"
   ]
  },
  {
   "cell_type": "code",
   "execution_count": 24,
   "metadata": {},
   "outputs": [
    {
     "name": "stdout",
     "output_type": "stream",
     "text": [
      "['https://www.hse.ru/data/2021/07/13/1313008643/5%20%D0%9F%D0%9F%D0%A1_%D0%97%D0%B0%D1%8F%D0%B2%D0%BB%D0%B5%D0%BD%D0%B8%D0%B5%20%D0%BF%D1%80%D0%B8%D0%B5%D0%BC%20%D0%BF%D0%BE%20%D0%B2%D0%BD%D0%B5%D1%88%D0%BD%D0%B5%D0%BC%D1%83%20%D1%81%D0%BE%D0%B2%D0%BC.%20%D0%B0%D1%84%D1%84,%20%D0%B3%D1%80%D0%B0%D0%B6%D0%B4,%20%D0%BD%D0%B0%D0%B3%D1%80%D1%83%D0%B7%D0%BA%D0%B0_080721.doc', 'https://www.hse.ru/data/2021/07/13/1143788942/6%20%D0%9F%D0%9F%D0%A1_%D0%97%D0%B0%D1%8F%D0%B2%D0%BB%D0%B5%D0%BD%D0%B8%D0%B5%20%D0%BF%D1%80%D0%B8%D0%B5%D0%BC%20%D0%BF%D0%BE%20%D0%B2%D0%BD%D1%83%D1%82%D1%80%20%D1%81%D0%BE%D0%B2%D0%BC,%20%D0%B3%D1%80-%D0%B2%D0%BE,%20%D0%BD%D0%B0%D0%B3%D1%80%D1%83%D0%B7%D0%BA%D0%B0_080721.doc', '/data/2021/07/29/1083147102/17 Заявление о приеме на работу (основное место работы, НРД) 080721.doc', '/data/2021/07/13/1305904881/Пенсионное-НИУ-ВШЭ.doc', '/data/2021/07/13/1312363400/19 Перевод 080721.doc', '/data/2021/07/13/1105489121/20 ППС_Заявление на перевод _080721.doc', '/data/2023/04/04/2025441262/20 ППС_Заявление на перевод _в связи с избранием.doc', 'https://www.hse.ru/data/2021/07/13/1123538207/21%20%D0%97%D0%B0%D1%8F%D0%B2%D0%BB%D0%B5%D0%BD%D0%B8%D0%B5%20%D0%BE%D0%B1%20%D1%83%D0%B2%D0%BE%D0%BB%D1%8C%D0%BD%D0%B5%D0%BD%D0%B8%D0%B8%20080721.doc', 'https://www.hse.ru/data/2021/07/16/1186862320/22%20%D0%97%D0%B0%D1%8F%D0%B2%D0%BB%D0%B5%D0%BD%D0%B8%D0%B5%20%D0%BE%20%D0%BF%D1%80%D0%B8%D0%B5%D0%BC%D0%B5%20%D0%BD%D0%B0%20%D1%80%D0%B0%D0%B1%D0%BE%D1%82%D1%83%20(%D0%BE%D1%81%D0%BD%D0%BE%D0%B2%D0%BD%D0%BE..%D0%BE%D1%82%D1%8B%20%D0%9B%D0%B8%D1%86%D0%B5%D0%B9%20%D0%9A%D0%9E%D0%9F%20%D0%BE%D0%B1%D1%89%D0%B5%D0%B6%D0%B8%D1%82%D0%B8%D0%B5)%20080721.doc', '/mirror/pubs/share/882611318.doc']\n"
     ]
    }
   ],
   "source": [
    "print(docs[0:10])"
   ]
  },
  {
   "cell_type": "code",
   "execution_count": 25,
   "metadata": {},
   "outputs": [],
   "source": [
    "# не все ссылки на doc полные \n",
    "# для экономии времени отфильтруем только полные\n",
    "# относительные ссылки при желании можно будет дополнить потом\n",
    "\n",
    "docs_full = []\n",
    "for doc in docs:\n",
    "    if doc.startswith(\"http\"):\n",
    "        docs_full.append(doc)"
   ]
  },
  {
   "cell_type": "markdown",
   "metadata": {},
   "source": [
    "Теперь осталось только прокликать все ссылки из списка с помощью Selenium, по умолчанию документы сохранятся в папку с загрузками. На всякий случай добавим задержку в 5 секунд после каждого скачивания:"
   ]
  },
  {
   "cell_type": "code",
   "execution_count": 26,
   "metadata": {},
   "outputs": [],
   "source": [
    "from time import sleep"
   ]
  },
  {
   "cell_type": "code",
   "execution_count": 27,
   "metadata": {},
   "outputs": [],
   "source": [
    "br = wd.Chrome()"
   ]
  },
  {
   "cell_type": "code",
   "execution_count": 29,
   "metadata": {},
   "outputs": [],
   "source": [
    "# проверяем папку с загрузками\n",
    "\n",
    "for i in docs_full:\n",
    "    br.get(i)\n",
    "    sleep(5)"
   ]
  }
 ],
 "metadata": {
  "kernelspec": {
   "display_name": "Python 3",
   "language": "python",
   "name": "python3"
  },
  "language_info": {
   "codemirror_mode": {
    "name": "ipython",
    "version": 3
   },
   "file_extension": ".py",
   "mimetype": "text/x-python",
   "name": "python",
   "nbconvert_exporter": "python",
   "pygments_lexer": "ipython3",
   "version": "3.7.4"
  }
 },
 "nbformat": 4,
 "nbformat_minor": 2
}
