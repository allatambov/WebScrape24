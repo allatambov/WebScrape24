{
 "cells": [
  {
   "cell_type": "markdown",
   "metadata": {},
   "source": [
    "# Web-scraping: сбор данных из баз данных и интернет-источников\n",
    "\n",
    "*Алла Тамбовцева*\n",
    "\n",
    "## Практикум 1.2. Парсинг с `BeautifulSoup`: тэги и атрибуты"
   ]
  },
  {
   "cell_type": "markdown",
   "metadata": {},
   "source": [
    "Мы уже немного познакомились со структурой html-страниц и поиском информации по тэгам, теперь попробуем выгрузить информацию из более интересной страницы, а точнее, с сайта [nplus1.ru](https://nplus1.ru/). Наша задача – выгрузить недавние новости в датафрейм `pandas`, чтобы потом сохранить все в файл Excel.\n",
    "\n",
    "Для работы нам снова понадобится модуль `requests` для отправки запросов, для «подключения» к странице и получения ее содержимого в виде строки, и функция `BeautifulSoup` из библиотеки `bs4` для удобного поиска по полученной строке:"
   ]
  },
  {
   "cell_type": "code",
   "execution_count": 1,
   "metadata": {},
   "outputs": [],
   "source": [
    "import requests\n",
    "from bs4 import BeautifulSoup"
   ]
  },
  {
   "cell_type": "markdown",
   "metadata": {},
   "source": [
    "Сохраним ссылку на главную страницу в переменную `main` и отправим запрос к ней с помощью функции `get()` из `requests`:"
   ]
  },
  {
   "cell_type": "code",
   "execution_count": 2,
   "metadata": {},
   "outputs": [],
   "source": [
    "main = \"https://nplus1.ru/\"\n",
    "page = requests.get(main)"
   ]
  },
  {
   "cell_type": "markdown",
   "metadata": {},
   "source": [
    "Заберём исходный код страницы и преобразуем строку с ним в объект `BeautifulSoup`:"
   ]
  },
  {
   "cell_type": "code",
   "execution_count": 3,
   "metadata": {},
   "outputs": [],
   "source": [
    "soup = BeautifulSoup(page.text)"
   ]
  },
  {
   "cell_type": "markdown",
   "metadata": {},
   "source": [
    "Чтобы сгрузить все новости с главной страницы сайта, нужно собрать все ссылки на страницы с этими новостями. Ссылки в html-файле всегда заключены в тэг `<a></a>` и имеют атрибут `href`. Найдем кусочки кода HTML, соответствующие всем ссылкам на главной странице сайта:"
   ]
  },
  {
   "cell_type": "code",
   "execution_count": 4,
   "metadata": {},
   "outputs": [
    {
     "data": {
      "text/plain": [
       "[<a class=\"hover:underline transition-colors duration-75\" href=\"https://nplus1.ru/search?tags=880\">Астрономия</a>,\n",
       " <a class=\"hover:underline transition-colors duration-75\" href=\"https://nplus1.ru/search?tags=768\">Генетика</a>,\n",
       " <a class=\"hover:underline transition-colors duration-75\" href=\"https://nplus1.ru/search?tags=890\">Математика</a>,\n",
       " <a class=\"hover:underline transition-colors duration-75\" href=\"https://nplus1.ru/search?tags=871\">Космонавтика</a>,\n",
       " <a class=\"hover:underline transition-colors duration-75\" href=\"https://nplus1.ru/search?tags=876\">Археология</a>,\n",
       " <a class=\"hover:underline transition-colors duration-75\" href=\"https://nplus1.ru/search?tags=775\">Нейронауки</a>,\n",
       " <a class=\"hover:underline transition-colors duration-75\" href=\"https://nplus1.ru/search?tags=767\">На мышах</a>,\n",
       " <a class=\"hover:underline transition-colors duration-75\" href=\"https://nplus1.ru/search?tags=771\">Звук</a>,\n",
       " <a class=\"hover:underline transition-colors duration-75\" href=\"https://nplus1.ru/search?tags=772\">Красота</a>,\n",
       " <a class=\"hover:underline transition-colors duration-75\" href=\"https://nplus1.ru/search?tags=778\">Научные закрытия</a>]"
      ]
     },
     "execution_count": 4,
     "metadata": {},
     "output_type": "execute_result"
    }
   ],
   "source": [
    "links_raw = soup.find_all(\"a\") \n",
    "links_raw[10:20]  # несколько штук для примера"
   ]
  },
  {
   "cell_type": "markdown",
   "metadata": {},
   "source": [
    "Каждый элемент возвращаемого списка имеет тип `BeautifulSoup` и структуру, очень похожую на словарь. Например, ссылка `<a class=\"hover:underline transition-colors duration-75\" href=\"/search/empty/768\">Генетика</a>` изнутри выглядит как словарь следующего вида:\n",
    "\n",
    "    {'href' : '/search/empty/768', \n",
    "     'class' : 'hover:underline transition-colors duration-75'}.\n",
    "    \n",
    "Как мы помним, значение по ключу из словаря можно вызвать с помощью метода `.get()`. Давайте извлечем значения по ключу `href` из каждого элемента списка `links`:"
   ]
  },
  {
   "cell_type": "code",
   "execution_count": 5,
   "metadata": {},
   "outputs": [
    {
     "data": {
      "text/plain": [
       "['https://nplus1.ru/search?tags=880',\n",
       " 'https://nplus1.ru/search?tags=768',\n",
       " 'https://nplus1.ru/search?tags=890',\n",
       " 'https://nplus1.ru/search?tags=871',\n",
       " 'https://nplus1.ru/search?tags=876',\n",
       " 'https://nplus1.ru/search?tags=775',\n",
       " 'https://nplus1.ru/search?tags=767',\n",
       " 'https://nplus1.ru/search?tags=771',\n",
       " 'https://nplus1.ru/search?tags=772',\n",
       " 'https://nplus1.ru/search?tags=778']"
      ]
     },
     "execution_count": 5,
     "metadata": {},
     "output_type": "execute_result"
    }
   ],
   "source": [
    "links = [li.get(\"href\") for li in links_raw] \n",
    "links[10:20]  # несколько штук для примера"
   ]
  },
  {
   "cell_type": "markdown",
   "metadata": {},
   "source": [
    "Ссылок в списке выше много. Но нам нужны только новости – ссылки, которые начинаются с `https://nplus1.ru/news`. Создадим пустой список `news` и будем добавлять в него только ссылки, которые удовлетворяют этому условию."
   ]
  },
  {
   "cell_type": "code",
   "execution_count": 6,
   "metadata": {},
   "outputs": [],
   "source": [
    "news = []\n",
    "for li in links:\n",
    "    if \"https://nplus1.ru/news/\" in li:\n",
    "        news.append(li)"
   ]
  },
  {
   "cell_type": "code",
   "execution_count": 7,
   "metadata": {},
   "outputs": [
    {
     "data": {
      "text/plain": [
       "['https://nplus1.ru/news/2024/01/26/ingenuity-its-done',\n",
       " 'https://nplus1.ru/news/2024/01/27/buruli-ulcer',\n",
       " 'https://nplus1.ru/news/2024/01/27/dream-job-for-ai',\n",
       " 'https://nplus1.ru/news/2024/01/27/stay-slim',\n",
       " 'https://nplus1.ru/news/2024/01/27/ants-lions-zebras',\n",
       " 'https://nplus1.ru/news/2024/01/26/jezero-gpr-observations',\n",
       " 'https://nplus1.ru/news/2024/01/26/lisa-go',\n",
       " 'https://nplus1.ru/news/2024/01/26/hd-88986-b',\n",
       " 'https://nplus1.ru/news/2024/01/26/buprenorphine-or-methadone',\n",
       " 'https://nplus1.ru/news/2024/01/26/dolphin-vs-manatee']"
      ]
     },
     "execution_count": 7,
     "metadata": {},
     "output_type": "execute_result"
    }
   ],
   "source": [
    "news[0:10]"
   ]
  },
  {
   "cell_type": "markdown",
   "metadata": {},
   "source": [
    "Первая ссылка ведет не совсем на новость, скорее, на объявление, поэтому давайте ее уберем:"
   ]
  },
  {
   "cell_type": "code",
   "execution_count": 8,
   "metadata": {},
   "outputs": [],
   "source": [
    "news = news[1:] "
   ]
  },
  {
   "cell_type": "markdown",
   "metadata": {},
   "source": [
    "Теперь наша задача сводится к следующему: изучить одну страницу с новостью, научиться из нее вытаскивать текст и всю необходимую информацию, а потом применить весь набор действий к каждой ссылке из `news` в цикле. Посмотрим на новость с индексом 0, у вас может быть другая, новости обновляются."
   ]
  },
  {
   "cell_type": "code",
   "execution_count": 9,
   "metadata": {},
   "outputs": [
    {
     "name": "stdout",
     "output_type": "stream",
     "text": [
      "https://nplus1.ru/news/2024/01/27/buruli-ulcer\n"
     ]
    }
   ],
   "source": [
    "link0 = news[0]\n",
    "print(link0)"
   ]
  },
  {
   "cell_type": "markdown",
   "metadata": {},
   "source": [
    "### Задача 1\n",
    "\n",
    "Отправьте запрос к странице по ссылке `link0` с одной новостью, получите результат в виде объекта `BeautifulSoup` и сохраните его как `soup0`."
   ]
  },
  {
   "cell_type": "code",
   "execution_count": 10,
   "metadata": {},
   "outputs": [],
   "source": [
    "page0 = requests.get(link0)\n",
    "soup0 = BeautifulSoup(page0.text)"
   ]
  },
  {
   "cell_type": "markdown",
   "metadata": {},
   "source": [
    "### Задача 2\n",
    "\n",
    "Найдите заголовок новости и сохраните его в переменную `title`."
   ]
  },
  {
   "cell_type": "code",
   "execution_count": 11,
   "metadata": {},
   "outputs": [
    {
     "name": "stdout",
     "output_type": "stream",
     "text": [
      "Австралийских комаров-кусак обвинили в распространении возбудителя язвы Бурули. До этого механизм передачи инфекции оставался неизвестным\n"
     ]
    }
   ],
   "source": [
    "title = soup0.find(\"title\").text\n",
    "title = title.replace(\"\\xa0\", \" \") # заменяем неразрывный пробел на обычный\n",
    "print(title)"
   ]
  },
  {
   "cell_type": "markdown",
   "metadata": {},
   "source": [
    "### Задача 3\n",
    "\n",
    "Найдите имя автора новости и дату её публикации. Сохраните их в `author` и `date` соответственно."
   ]
  },
  {
   "cell_type": "code",
   "execution_count": 12,
   "metadata": {},
   "outputs": [
    {
     "data": {
      "text/plain": [
       "[<meta charset=\"utf-8\"/>,\n",
       " <meta content=\"width=device-width, initial-scale=1\" name=\"viewport\"/>,\n",
       " <meta content=\"#f26e40\" name=\"msapplication-TileColor\"/>,\n",
       " <meta content=\"#ffffff\" name=\"theme-color\"/>,\n",
       " <meta content=\"8c90b02c84ac3b72\" name=\"yandex-verification\"/>,\n",
       " <meta content=\"b419949322895fc9106e24ed01be58ac\" name=\"pmail-verification\"/>,\n",
       " <meta content=\"N + 1 — главное издание о науке, технике и технологиях\" name=\"description\"/>,\n",
       " <meta content=\"N + 1 — главное издание о науке, технике и технологиях\" property=\"og:site_name\"/>,\n",
       " <meta content=\"Австралийских комаров-кусак обвинили в распространении возбудителя язвы Бурули\" property=\"og:title\"/>,\n",
       " <meta content=\"https://minio.nplus1.ru/app-images/882118/65b4fc70c42d5_cover_share.png\" property=\"og:image\"/>,\n",
       " <meta content=\"https://nplus1.ru/news/2024/01/27/buruli-ulcer\" property=\"og:url\"/>,\n",
       " <meta content=\"N + 1 — главное издание о науке, технике и технологиях\" property=\"og:description\"/>,\n",
       " <meta content=\"article\" property=\"og:type\"/>,\n",
       " <meta content=\"2024-01-27\" itemprop=\"datePublished\"/>,\n",
       " <meta content=\"2024-01-27\" itemprop=\"datePublished\"/>,\n",
       " <meta content=\"Слава Гоменюк\" name=\"mediator_author\"/>,\n",
       " <meta content=\"Слава Гоменюк\" name=\"author\"/>,\n",
       " <meta content=\"\" name=\"copyright\"/>,\n",
       " <meta content=\"summary_large_image\" name=\"twitter:card\"/>,\n",
       " <meta content=\"@nplusodin\" name=\"twitter:site\"/>,\n",
       " <meta content=\"Австралийских комаров-кусак обвинили в распространении возбудителя язвы Бурули\" name=\"twitter:title\"/>,\n",
       " <meta content=\"N + 1 — главное издание о науке, технике и технологиях\" name=\"twitter:description\"/>,\n",
       " <meta content=\"https://minio.nplus1.ru/app-images/882118/65b4fc70c42d5_cover_share.png\" name=\"twitter:image\"/>]"
      ]
     },
     "execution_count": 12,
     "metadata": {},
     "output_type": "execute_result"
    }
   ],
   "source": [
    "# находим все тэги meta\n",
    "soup0.find_all(\"meta\")"
   ]
  },
  {
   "cell_type": "code",
   "execution_count": 13,
   "metadata": {},
   "outputs": [
    {
     "data": {
      "text/plain": [
       "<meta content=\"2024-01-27\" itemprop=\"datePublished\"/>"
      ]
     },
     "execution_count": 13,
     "metadata": {},
     "output_type": "execute_result"
    }
   ],
   "source": [
    "# уточняем критерии поиска\n",
    "# указываем значение атрибута itemprop\n",
    "\n",
    "soup0.find(\"meta\", {\"itemprop\" : \"datePublished\"})"
   ]
  },
  {
   "cell_type": "code",
   "execution_count": 14,
   "metadata": {},
   "outputs": [
    {
     "data": {
      "text/plain": [
       "'2024-01-27'"
      ]
     },
     "execution_count": 14,
     "metadata": {},
     "output_type": "execute_result"
    }
   ],
   "source": [
    "# забираем содержимое из атрибута content\n",
    "# по анологии со ссылкой и href\n",
    "\n",
    "soup0.find(\"meta\", {\"itemprop\" : \"datePublished\"}).get(\"content\")"
   ]
  },
  {
   "cell_type": "code",
   "execution_count": 15,
   "metadata": {},
   "outputs": [
    {
     "name": "stdout",
     "output_type": "stream",
     "text": [
      "2024-01-27 Слава Гоменюк\n"
     ]
    }
   ],
   "source": [
    "# все вместе и аналогично для автора\n",
    "\n",
    "date = soup0.find(\"meta\", {\"itemprop\" : \"datePublished\"}).get(\"content\")\n",
    "author = soup0.find(\"meta\", {\"name\" : \"mediator_author\"}).get(\"content\")\n",
    "\n",
    "print(date, author)"
   ]
  },
  {
   "cell_type": "markdown",
   "metadata": {},
   "source": [
    "### Задача 4\n",
    "\n",
    "Найдите сложность новости и рубрики, к которым она относится. Сохраните сложность в переменную `diffc`. Рубрики сначала можно сохранить в список, а затем его элементы объединить в одну строку `rubs`.\n",
    "\n",
    "**Подсказка:** чтобы упростить себе жизнь, найдите сначала раздел (`div`), в котором на странице хранится дата и время публикации, сложность и рубрики, а затем выполняйте поиск в рамках этого раздела."
   ]
  },
  {
   "cell_type": "code",
   "execution_count": 16,
   "metadata": {},
   "outputs": [],
   "source": [
    "# находим подходящий фрагмент кода\n",
    "\n",
    "div = soup0.find(\"div\",\n",
    "                 {\"class\" : \"flex flex-wrap lg:mb-10 gap-2 text-tags xl:pr-9\"})"
   ]
  },
  {
   "cell_type": "code",
   "execution_count": 17,
   "metadata": {},
   "outputs": [
    {
     "name": "stdout",
     "output_type": "stream",
     "text": [
      "3.2\n"
     ]
    }
   ],
   "source": [
    "# находим внутри этого фрагмента четвертый элемент с тэгом span\n",
    "# в нем хранится сложность\n",
    "\n",
    "diffc = div.find_all(\"span\")[3].text\n",
    "print(diffc) # тип пока текстовый, не числовой"
   ]
  },
  {
   "cell_type": "code",
   "execution_count": 18,
   "metadata": {},
   "outputs": [
    {
     "name": "stdout",
     "output_type": "stream",
     "text": [
      "Медицина\n"
     ]
    }
   ],
   "source": [
    "# находим рубрики – все элементы после сложности, может быть несколько\n",
    "# извлекаем текст рубрик\n",
    "# склеиваем в одну строку\n",
    "\n",
    "rubs_raw = div.find_all(\"span\")[4:]\n",
    "rubs_clean = [r.text for r in rubs_raw]\n",
    "rubs = \", \".join(rubs_clean)\n",
    "print(rubs)"
   ]
  },
  {
   "cell_type": "markdown",
   "metadata": {},
   "source": [
    "### Задача 5\n",
    "\n",
    "Соберите из абзацев текст новости и сохраните его в переменную `text`. Избавьтесь от постронних символов (`\\xa0`, `\\n`) в тексте. "
   ]
  },
  {
   "cell_type": "code",
   "execution_count": 19,
   "metadata": {},
   "outputs": [
    {
     "data": {
      "text/plain": [
       "[<p class=\"text-36 md:text-44 xl:text-54 font-spectral text-main-gray mb-6\">До этого механизм передачи инфекции оставался неизвестным</p>,\n",
       " <p class=\"mb-6\">Австралийские ученые провели обширный анализ распространенности возбудителя язвы Бурули <em>Mycobacterium ulcerans</em> на юго-востоке страны и выяснили, что комары-кусаки <em>Aedes notoscriptus</em> переносят микобактерию и заражают ей людей. Как <a href=\"https://www.nature.com/articles/s41564-023-01553-1\">сообщается</a> в журнале <em>Nature Microbiology</em>, анализ показал совпадение между кластерами распространения <em>M. ulcerans</em>, <em>Ae. notoscriptus</em>, поссумов — резервуаров инфекции — и случаев язвы Бурули. До этого механизм и путь передачи заболевания оставались неизвестными.</p>,\n",
       " <p class=\"mb-6\">Под язвой Берули <a href=\"https://www.who.int/ru/news-room/fact-sheets/detail/buruli-ulcer-(mycobacterium-ulcerans-infection)\">понимают</a> некротизирующую инфекцию кожи и подкожно-жировой клетчатки, которая вызывается <em>Mycobacterium ulcerans</em>. Заболевание редко приводит к летальному исходу, но может закончиться серьезным разрушением тканей. Болезнь <a href=\"http://www.ncbi.nlm.nih.gov/entrez/query.fcgi?cmd=Retrieve&amp;db=PubMed&amp;dopt=Abstract&amp;list_uids=21179505\">встречается</a> в более чем 32 странах, наибольшее бремя от нее терпит Западная и Центральная Африка. Однако язва Бурули неожиданно распространилась в юго-восточной части Австралии с умеренным климатом и вторгается в крупные столичные центры — Мельбурн и Джелонг.</p>]"
      ]
     },
     "execution_count": 19,
     "metadata": {},
     "output_type": "execute_result"
    }
   ],
   "source": [
    "# ищем все абзацы с классом mb-6, чтобы не забрать лишний текст\n",
    "# несколько абзацев для примера\n",
    "\n",
    "pars_raw = soup0.find_all(\"p\", {\"class\" : \"mb-6\"})\n",
    "pars_raw[0:3] "
   ]
  },
  {
   "cell_type": "code",
   "execution_count": 20,
   "metadata": {},
   "outputs": [
    {
     "data": {
      "text/plain": [
       "[<p class=\"mb-6\">Результаты этого исследования впервые объясняют механизм и путь передачи язвы Берули с достаточной доказательной базой. Хотя, возможно, это не единственные механизмы, с помощью которых инфекция распространяется среди людей, эти данные уже сейчас можно использовать для разработки мер профилактики. </p>,\n",
       " <p class=\"mb-6\">О том, почему человечество до сих пор не победило инфекционные болезни, можно прочитать в нашем материале <a href=\"https://nplus1.ru/material/2019/03/01/eradication-infection\">«Ликвидировать нельзя элиминировать»</a>.</p>,\n",
       " <p class=\"text-36 md:text-44 xl:text-54 font-spectral text-main-gray mb-6\">Причем психотерапия оказалась эффективнее физических упражнений</p>,\n",
       " <p class=\"mb-6\">Систематический обзор и метаанализ 28 исследований показал, что терапия расстройств настроения оказывает положительное воздействие на общее воспаление и уровень биомаркеров воспалительных заболеваний кишечника — кальпротектин кала и С-реактивный белок. При этом, как отмечают ученые в статье, опубликованной в журнале eBioMedicine, величина эффекта была больше при проведении психотерапевтических вмешательств по сравнению с физическими упражнениями или антидепрессантами.</p>]"
      ]
     },
     "execution_count": 20,
     "metadata": {},
     "output_type": "execute_result"
    }
   ],
   "source": [
    "# проблема: забирается подзаголовок новости с длинным классом ... text-main-gray mb-6,\n",
    "# подзаголовок следующей новости на странице с таким же длинным классом,\n",
    "# плюс абзацы следующей новости после него с классом mb-6\n",
    "\n",
    "pars_raw[-4:]"
   ]
  },
  {
   "cell_type": "code",
   "execution_count": 21,
   "metadata": {},
   "outputs": [],
   "source": [
    "# для избавления от первого подзаголовка отсекаем первый элемент списка\n",
    "\n",
    "pars_raw = pars_raw[1:]"
   ]
  },
  {
   "cell_type": "code",
   "execution_count": 22,
   "metadata": {},
   "outputs": [
    {
     "name": "stdout",
     "output_type": "stream",
     "text": [
      "[['mb-6'], ['mb-6'], ['mb-6'], ['mb-6'], ['mb-6'], ['mb-6'], ['mb-6'], ['mb-6'], ['text-36', 'md:text-44', 'xl:text-54', 'font-spectral', 'text-main-gray', 'mb-6'], ['mb-6']]\n"
     ]
    }
   ],
   "source": [
    "# находим индекс элемента с длинным классом ... text-main-gray mb-6 \n",
    "# и отбираем все элементы до него\n",
    "\n",
    "classes = [p.get(\"class\") for p in pars_raw]\n",
    "print(classes)"
   ]
  },
  {
   "cell_type": "code",
   "execution_count": 23,
   "metadata": {},
   "outputs": [],
   "source": [
    "for c in classes:\n",
    "    if \"text-main-gray\" in c:\n",
    "        i = classes.index(c)\n",
    "\n",
    "pars_raw = pars_raw[:i]"
   ]
  },
  {
   "cell_type": "code",
   "execution_count": 24,
   "metadata": {},
   "outputs": [
    {
     "name": "stdout",
     "output_type": "stream",
     "text": [
      "Австралийские ученые провели обширный анализ распространенности возбудителя язвы Бурули Mycobacterium ulcerans на юго-востоке страны и выяснили, что комары-кусаки Aedes notoscriptus переносят микобактерию и заражают ей людей. Как сообщается в журнале Nature Microbiology, анализ показал совпадение между кластерами распространения M. ulcerans, Ae. notoscriptus, поссумов — резервуаров инфекции — и случаев язвы Бурули. До этого механизм и путь передачи заболевания оставались неизвестными. Под язвой Берули понимают некротизирующую инфекцию кожи и подкожно-жировой клетчатки, которая вызывается Mycobacterium ulcerans. Заболевание редко приводит к летальному исходу, но может закончиться серьезным разрушением тканей. Болезнь встречается в более чем 32 странах, наибольшее бремя от нее терпит Западная и Центральная Африка. Однако язва Бурули неожиданно распространилась в юго-восточной части Австралии с умеренным климатом и вторгается в крупные столичные центры — Мельбурн и Джелонг. При этом точно неизвестно, как люди заражаются язвой Бурули, что препятствует разработке эффективных методов профилактики. Это же делает невозможным эпидемиологические прогнозы: средний инкубационный период составляет 4-5 месяцев, вспышки возникают в определенных географических районах, а затем болезнь исчезает на несколько лет. Также очень сложно выделить микобактерию в чистой культуре из окружающей среды из-за ее очень медленного роста. Эти факторы в совокупности на протяжении 80 лет делали невероятно сложной задачу установить, каким образом M. ulcerans распространяется среди людей. Впрочем, уже сейчас известно, что резервуаром инфекции можно считать поссумов, и главенствующая гипотеза о передачи возбудителя человеку говорит об основополагающей вине комаров.  Питер Ми (Peter Mee) с коллегами из научного проекта AgriBio исследовали распространенность M. ulcerans среди комаров, людей и поссумов в районе полуострова Морнингтон на юго-востоке Австралии с помощью секвенирования генома, метабаркодинга комаров и анализа пространственной кластеризации. Всего для этого собрали 73580 комаров (72263 самки и 1317 самцов). Большинство этих насекомых было собрано в ходе масштабного обследования 2019-2020 годов. Больше всего комаров относилось к виду Culex molestus (42 процента), за ним следуют комары-кусаки Aedes notoscriptus (35 процентов) и Culex australicus (8 процентов); всего в наборе были представители 26 видов комаров.  Количественный ПЦР-анализ показал, что только у одного вида комаров наблюдалась статистически значимая положительная связь с M. ulcerans — Aedes notoscriptus (р < 0,0001). Дополнительные генетические исследования подтвердили эту связь. Затем геномные эпидемиологические исследования показали наличие характерных сигнатур однонуклеотидных полиморфизмов как у исследуемых комаров, так и в клинических изолятах M. ulcerans из конкретных эндемичных районов юго-восточной Австралии. Дальнейший филогенетический анализ показал, что генотипы M. ulcerans из выделений поссума и комаров совместно сгруппированы друг с другом и с изолятами M. ulcerans человека с полуострова Морнингтон. Эта закономерность согласовывалась с общим циклом передачи микобактерии между поссумами, комарами и людьми.  При этом ученые не нашли связи между M. ulcerans и конкретной линией комаров. Дополнительные исследования показали, что в одном эндемичном районе, где часто наблюдались случаи язвы Берули, также наблюдали скопление поссумов (р < 0,05). Статистические методы подтвердили причинно-следственную связь между присутствием M. ulcerans у поссумов и комаров и заражением людей язвой Бурули на полуострове Морнингтон. Результаты этого исследования впервые объясняют механизм и путь передачи язвы Берули с достаточной доказательной базой. Хотя, возможно, это не единственные механизмы, с помощью которых инфекция распространяется среди людей, эти данные уже сейчас можно использовать для разработки мер профилактики.  О том, почему человечество до сих пор не победило инфекционные болезни, можно прочитать в нашем материале «Ликвидировать нельзя элиминировать».\n"
     ]
    }
   ],
   "source": [
    "# извлекаем текст\n",
    "# склеиваем все абзацы в один большой текст\n",
    "# заменяем символы через .replace()\n",
    "# \\xa0 – неразрывные пробелы, \\n - переходы на новую строку\n",
    "\n",
    "pars = [p.text for p in pars_raw]\n",
    "text = \" \".join(pars)\n",
    "text = text.replace(\"\\xa0\", \" \").replace(\"\\n\", \" \")\n",
    "print(text)"
   ]
  },
  {
   "cell_type": "markdown",
   "metadata": {},
   "source": [
    "### Задача 6\n",
    "\n",
    "Напишите функцию `get_news()`, которая принимает на вход ссылку на страницу с одной новостью, а возвращает список из следующих характеристик: имя автора, дата публикации, сложность новости, рубрики, текст новости."
   ]
  },
  {
   "cell_type": "code",
   "execution_count": 25,
   "metadata": {},
   "outputs": [],
   "source": [
    "def get_news(link0):\n",
    "    page0 = requests.get(link0)\n",
    "    soup0 = BeautifulSoup(page0.text)\n",
    "    \n",
    "    title = soup0.find(\"title\").text\n",
    "    title = title.replace(\"\\xa0\", \" \")\n",
    "    date = soup0.find(\"meta\", {\"itemprop\" : \"datePublished\"}).get(\"content\")\n",
    "    author = soup0.find(\"meta\", {\"name\" : \"mediator_author\"}).get(\"content\")\n",
    "    \n",
    "    div = soup0.find(\"div\",\n",
    "                 {\"class\" : \"flex flex-wrap lg:mb-10 gap-2 text-tags xl:pr-9\"})\n",
    "    diffc = div.find_all(\"span\")[3].text\n",
    "    rubs_raw = div.find_all(\"span\")[4:]\n",
    "    rubs_clean = [r.text for r in rubs_raw]\n",
    "    rubs = \", \".join(rubs_clean)\n",
    "    \n",
    "    pars_raw = soup0.find_all(\"p\", {\"class\" : \"mb-6\"})\n",
    "    pars_raw = pars_raw[1:]\n",
    "    classes = [p.get(\"class\") for p in pars_raw]\n",
    "    for c in classes:\n",
    "        if \"text-main-gray\" in c:\n",
    "            i = classes.index(c)\n",
    "\n",
    "    pars_raw = pars_raw[:i]\n",
    "    pars = [p.text for p in pars_raw]\n",
    "    text = \" \".join(pars)\n",
    "    text = text.replace(\"\\xa0\", \" \").replace(\"\\n\", \" \")\n",
    "    \n",
    "    return title, date, author, diffc, rubs, text"
   ]
  },
  {
   "cell_type": "code",
   "execution_count": 26,
   "metadata": {},
   "outputs": [
    {
     "data": {
      "text/plain": [
       "('ESA одобрило постройку космической гравитационно-волновой обсерватории LISA. Она полетит в космос в 2035 году',\n",
       " '2024-01-26',\n",
       " 'Александр Войтюк',\n",
       " '2.3',\n",
       " 'Космонавтика',\n",
       " 'Европейское космическое агентство (ESA) одобрило старт постройки трех аппаратов для будущей космической гравитационно-волновой обсерватории LISA. Она должна полететь в космос в 2035 году, сообщается на сайте агентства. LISA (Laser Interferometer Space Antenna) разрабатывается ESA совместно с NASA. Это космический лазерный интерферометр, который будет состоять из трех аппаратов, формирующих равносторонний треугольник со стороной в 1,5 миллиона километров. Принцип работы LISA аналогичен наземным обсерваториям LIGO и Virgo, однако она будет чувствительна к волнам гораздо меньшей частоты — рабочий диапазон составит от 0,1 миллигерца до 1 герца. Кроме того, треугольная схема вместо L-образной, которая используется на Земле, позволяет исследовать больше свойств гравитационных волн. В качестве пробных тел в LISA будут использоваться два двухкилограммовых кубика из золота и платины, эксперименты с ними проводились ранее на прототипе обсерватории LISA Pathfinder и оказались успешны.  25 января 2024 года Комитет научной программы ESA завершил анализ проекта, признал, что он пригоден для постройки, и разрешил приступать к созданию научных приборов и космических аппаратов. До 2025 года будут выбраны подрядчики в Европе, а NASA предоставит лазеры, телескопы для приема лазерных лучей и источники ультрафиолетового света. Ожидается, что в космос три аппарата будут запущены при помощи тяжелой ракеты «Ариан-6» в 2035 году. Целями для LISA помимо событий слияний сверхмассивных черных дыр станут сверхкомпактные двойные системы в нашей галактике, содержащие нейтронные звезды и белые карлики, а также события слияний компактных объектов разных типов или разных масс. О дальнейших направлениях исследований гравитационных волн можно узнать из материала «За волной волна».')"
      ]
     },
     "execution_count": 26,
     "metadata": {},
     "output_type": "execute_result"
    }
   ],
   "source": [
    "# тестим на любой новости из списка news\n",
    "\n",
    "get_news(news[5])"
   ]
  },
  {
   "cell_type": "markdown",
   "metadata": {},
   "source": [
    "Отлично! Теперь осталось применить функцию ко всем ссылкам в списке `news`. Чтобы сайт не понял, что мы его автоматически грабим, будем выгружать новости постепенно – с задержкой в 1.5 секунды. Импортируем для этого функцию `sleep` :"
   ]
  },
  {
   "cell_type": "code",
   "execution_count": 27,
   "metadata": {},
   "outputs": [],
   "source": [
    "from time import sleep"
   ]
  },
  {
   "cell_type": "markdown",
   "metadata": {},
   "source": [
    "Теперь будем применять функцию в цикле к каждой ссылке в `news`, только с одним дополнением – добавленной конструкцией `try-except`, которая позволит продолжать исполнение цикла, если при применении функции Python столкнулся с ошибкой любого вида:"
   ]
  },
  {
   "cell_type": "code",
   "execution_count": 28,
   "metadata": {},
   "outputs": [
    {
     "name": "stdout",
     "output_type": "stream",
     "text": [
      "https://nplus1.ru/news/2024/01/27/buruli-ulcer\n",
      "https://nplus1.ru/news/2024/01/27/dream-job-for-ai\n",
      "https://nplus1.ru/news/2024/01/27/stay-slim\n",
      "https://nplus1.ru/news/2024/01/27/ants-lions-zebras\n",
      "https://nplus1.ru/news/2024/01/26/jezero-gpr-observations\n",
      "https://nplus1.ru/news/2024/01/26/lisa-go\n",
      "https://nplus1.ru/news/2024/01/26/hd-88986-b\n",
      "https://nplus1.ru/news/2024/01/26/buprenorphine-or-methadone\n",
      "https://nplus1.ru/news/2024/01/26/dolphin-vs-manatee\n",
      "https://nplus1.ru/news/2024/01/26/cold-water-period\n",
      "https://nplus1.ru/news/2024/01/26/antechinus-reduce-sleep\n",
      "https://nplus1.ru/news/2024/01/26/handwriting-brain-connectivity\n",
      "https://nplus1.ru/news/2024/01/26/dna-from-coprolites\n",
      "https://nplus1.ru/news/2024/01/26/bog-body-from-northern-ireland\n",
      "https://nplus1.ru/news/2024/01/26/mind-in-vitro\n",
      "https://nplus1.ru/news/2024/01/26/anyway-flush-any-way\n",
      "https://nplus1.ru/news/2024/01/26/seaweed-food-solution\n",
      "https://nplus1.ru/news/2024/01/26/origins-of-treponemal-diseases\n",
      "https://nplus1.ru/news/2024/01/26/sisyphus-beetles-cooperation\n",
      "https://nplus1.ru/news/2024/01/26/augmented-reality-usisivac\n",
      "https://nplus1.ru/news/2024/01/25/quarterhorse-mk0-takes-first-steps\n",
      "https://nplus1.ru/news/2024/01/25/developmental-risks-of-preterm%20birt\n",
      "https://nplus1.ru/news/2024/01/25/carrot-of-the-bends\n",
      "https://nplus1.ru/news/2024/01/25/slim-photos\n",
      "https://nplus1.ru/news/2024/01/25/mood-improve-inflammatory-biomarkers\n",
      "https://nplus1.ru/news/2024/01/25/causes-of-death-among-hiv\n",
      "https://nplus1.ru/news/2024/01/25/repetead-sexual-failures-fruit-flies\n",
      "https://nplus1.ru/news/2024/01/25/brazilian-heatwaves\n",
      "https://nplus1.ru/news/2024/01/25/first-stars-in-star\n",
      "Something went wrong\n",
      "https://nplus1.ru/news/2024/01/25/groundwater-depletion\n",
      "https://nplus1.ru/news/2024/01/25/puff-life\n",
      "https://nplus1.ru/news/2024/01/25/fracture-risk-among-kidney-donors\n",
      "https://nplus1.ru/news/2024/01/24/papillomavirus-vaccination\n",
      "https://nplus1.ru/news/2024/01/24/slim-off\n",
      "https://nplus1.ru/news/2024/01/24/capuchins-stone-tool\n",
      "https://nplus1.ru/news/2024/01/24/education-and-adult-mortality\n",
      "https://nplus1.ru/news/2024/01/24/sea-otters-forest-restoration\n",
      "https://nplus1.ru/news/2024/01/20/slim-moon\n",
      "https://nplus1.ru/news/2024/01/15/millennium-camera\n",
      "https://nplus1.ru/news/2024/01/15/dispilio\n",
      "https://nplus1.ru/news/2024/01/14/h-63433-d\n",
      "https://nplus1.ru/news/2024/01/10/genomes-from-china\n",
      "https://nplus1.ru/news/2024/01/11/gravity-1-go\n",
      "https://nplus1.ru/news/2024/01/16/experiments-with-stone-axes\n",
      "https://nplus1.ru/news/2024/01/25/slim-photos\n",
      "https://nplus1.ru/news/2024/01/13/psychedelic-mass-extinction\n",
      "https://nplus1.ru/news/2024/01/09/koban-culture-genomes\n",
      "Something went wrong\n",
      "https://nplus1.ru/news/2020/06/01/gray-hair\n",
      "https://nplus1.ru/news/2022/01/25/coronavirus-survivial\n",
      "https://nplus1.ru/news/2024/01/15/x-59-rollout\n",
      "https://nplus1.ru/news/2024/01/18/tigers-pacing\n",
      "https://nplus1.ru/news/2024/01/09/tubular-beads-from-denisova-cave\n",
      "https://nplus1.ru/news/2024/01/06/xrism-first\n",
      "https://nplus1.ru/news/2024/01/05/ancient-medicine-from-karelia\n",
      "https://nplus1.ru/news/2024/01/04/tiger-vladivostok\n",
      "https://nplus1.ru/news/2024/01/19/bottom-trawling\n",
      "https://nplus1.ru/news/2024/01/06/antichondroconvulsant\n",
      "https://nplus1.ru/news/2024/01/09/koban-culture-genomes\n",
      "https://nplus1.ru/news/2024/01/09/oneirohealing\n",
      "https://nplus1.ru/news/2024/01/10/genomic-history-of-ancient-eurasians\n",
      "https://nplus1.ru/news/2024/01/11/inhale-and-urinate\n",
      "https://nplus1.ru/news/2024/01/16/clone-rhezus\n",
      "https://nplus1.ru/news/2024/01/17/antiaromatic-cp-cation\n",
      "https://nplus1.ru/news/2024/01/18/cavity-67-p\n",
      "https://nplus1.ru/news/2024/01/19/b-pic-tail\n",
      "https://nplus1.ru/news/2024/01/22/conus-no-cevns\n",
      "https://nplus1.ru/news/2024/01/23/turkish-earthquake-ruptures\n",
      "https://nplus1.ru/news/2024/01/24/red-to-white\n",
      "https://nplus1.ru/news/2024/01/25/first-stars-in-star\n",
      "https://nplus1.ru/news/2024/01/26/mind-in-vitro\n",
      "https://nplus1.ru/news/2024/01/26/jezero-gpr-observations\n"
     ]
    }
   ],
   "source": [
    "info = []\n",
    "for n in news:\n",
    "    # пробуй исполнить следующий код\n",
    "    try:\n",
    "        res = get_news(n)\n",
    "        info.append(res)\n",
    "        print(n)\n",
    "    # если он вызвал ошибку, печатай сообщение и иди дальше\n",
    "    except:\n",
    "        print(\"Something went wrong\")\n",
    "        print(n)\n",
    "    sleep(1.2)"
   ]
  },
  {
   "cell_type": "markdown",
   "metadata": {},
   "source": [
    "Посмотрим на несколько элементов `info`:"
   ]
  },
  {
   "cell_type": "code",
   "execution_count": 29,
   "metadata": {},
   "outputs": [
    {
     "data": {
      "text/plain": [
       "[('Самцы сумчатых мышей отказались от сна ради размножения. Но не факт, что именно это привело к их гибели в конце брачного периода',\n",
       "  '2024-01-26',\n",
       "  'Катерина Петрова',\n",
       "  '2.5',\n",
       "  'Зоология',\n",
       "  'Исследователи из Австралии, Нидерландов и Швейцарии изучили активность сумчатых мышей, самцы которых в конце брачного периода обычно погибают от истощения. Они выяснили, что самцы с началом сезона размножения становились активнее и начинали меньше спать — видимо, чтобы оплодотворить побольше самок. При этом исследователи не уверены, что именно нехватка сна — причина синхронной гибели самцов по завершении брачной гонки. Исследование опубликовано в Current Biology. У самцов австралийских сумчатых мышей рода Antechinus всего один репродуктивный период в жизни. Сезон размножения у этих животных длится недолго, а конкуренция между самцами очень высока: они борются за возможность спариться с самками и в конце сезона обычно массово погибают — от истощения, инфекций и внутренних кровотечений. Самки при этом могут дожить до следующего сезона размножения. Ученые из Университета Ла Троба в Мельбурне под руководством Эрики Заид (Erika Zaid) с коллегами из Нидерландов и Швейцарии предположили, что самцы сумчатых мышей могут жертвовать сном, чтобы сохранять очень высокую активность во время брачного периода — так делают самцы птиц дутышей (Calidris melanotos), и это помогает им выигрывать конкуренцию. Северные олени во время полярного дня дремлют, пока жуют жвачку — это позволяет им компенсировать нехватку сна. А морские слоны во время кормовых миграций спят всего по два часа в день во время погружений — чтобы не стать жертвой хищников. Чтобы проверить, происходит ли что-то подобное у сумчатых мышей, ученые исследовали сон двух видов, Antechinus swainsonii и Antechinus agilis, до сезона размножения, во время него и после. К выловленным диким A. swainsonii они крепили акселерометры, а также брали у них образцы крови. У A. swainsonii акселерометров не было, но у них брали кровь. До сезона размножения разницы в активности самцов и самок не было, но с началом сезона самцы стали активнее, особенно в ночное время (p < 0,001). Один самец увеличил свою активность вдвое. Вместе с увеличением активности в крови самцов увеличивались уровни тестостерона. Интересно, что активность изолированных самцов A. swainsonii в лаборатории тоже увеличивалась с наступлением сезона размножения даже при отсутствии брачного поведения и конфликтов с другими самцами. Чтобы выяснить, как быстро сумчатые мыши засыпают и могут ли они бодрствовать, будучи неподвижными, ученые записывали электроэнцефалограммы четырех самцов A. swainsonii в лаборатории. Обычно спустя пять секунд неподвижного бодрствования животные засыпали. Данные о сне, полученные с помощью ЭЭГ, попадали с данными об активности, которые собирали с помощью акселерометров. То есть заметное увеличение активности самцов во время сезона размножения и после его окончания наверняка отражало снижение времени, проведенного во сне. Также в образцах крови A. agilis, взятых до и во время сезона размножения, авторы измерили уровень щавелевой кислоты — у плацентарных млекопитающих при дефиците сна ее уровень снижается. Уровни этого биомаркера действительно были снижены у самцов в период размножения, однако они были снижены и у самок, хоть и не так сильно. Это может говорить о том, что и самки во время брачного периода спят меньше — возможно, из-за приставаний самцов.  Судя по всему, самцы сумчатых мышей действительно жертвуют сном во время брачного периода, чтобы иметь больше шансов спариться с самками, течка у которых синхронизирована и длится не долго. Однако авторы отметили, что потеря сна вряд ли может быть причиной синхронной смерти самцов сумчатых мышей в конце сезона размножения. В этом исследовании погибли два самца A. swainsonii из десяти — остальные выжили, но стали бесплодными. И среди выживших самцов были те, кто спал меньше погибших. Также исследователи поставили под сомнение и другую причину, которой объясняют синхронную гибель самцов, — увеличение уровня кортикостероидов в крови. Повышенный уровень этих гормонов способствует распаду белков; энергия, полученная при этом, может позволять самцам больше бодрствовать. Поэтому гормональные изменения в организмах самцов в сезон размножения могут быть адаптивным преимуществом. Впрочем, это не значит, что хронически повышенный уровень кортикостероидов не может одновременно ослаблять животных и приводить в итоге к их гибели. Недавно зоологи из Австралии заметили, как темная сумчатая мышь поедает останки сородича, погибшего в сезон размножения. Ученые предположили, что такая практика может быть широко распространена среди сумчатых мышей — погибшие самцы могут служить пищей как для других самцов, так и для самок.'),\n",
       " ('Письмо от руки связали с формированием памяти и кодированием информации. Это показал анализ электроэнцефалограмм',\n",
       "  '2024-01-26',\n",
       "  'Слава Гоменюк',\n",
       "  '3.4',\n",
       "  'Медицина',\n",
       "  'Небольшое исследование норвежских ученых показало, что паттерны электроэнцефалограммы (ЭЭГ) в теменной и центральной областях мозга были гораздо сложнее при письме от руки, чем при печати на клавиатуре. По данным исследователей, опубликовавших статью в журнале Frontiers in Psychology, подобные паттерны в этих областях мозга ассоциированы с формированием памяти и кодированием новой информации — основополагающими функциями обучения.  Набор текста на клавиатуре практически повсеместно вымещает традиционное письмо от руки. При этом мало что известно про то, как такая трансформация обучения влияет на развитие детей. Врачи знают, что письмо от руки не только улучшает точность правописания и улучшает память, но и облегчает распознавание и понимание букв, причем неважно, пользуется ребенок обычной ручкой или цифровой. Кроме того, исследования показывают, что обучению способствует точная координация сложных движений рук при тщательном формировании каждой буквы при использовании ручки.  Исследовательская группа под руководством Одри ван дер Меер (Audrey van der Meer) из Норвежского университета естественных и технических наук ранее проводила исследование, в котором ученые обнаружили разную степень активности мозга на ЭЭГ при письме от руки и наборе текста на клавиатуре. Теперь они исследовали, как различные области мозга взаимодействуют друг с другом при письме от руки и наборе текста на клавиатуре.  В работе приняло участие 36 здоровых студентов. Им предлагалось 30 слов, которые они должны были написать от руки с помощью цифровой ручки непосредственно на экране, либо ввести представленное слово указательным пальцем правой руки на клавиатуре. В это время им проводилась ЭЭГ.  Анализ данных ЭЭГ показал, что областями мозга, в которых наблюдалась значительная разница паттернов между письмом и набором текста, были центральные и теменные области мозга на частотах от тета (2 Герца) до гамма (60 Герц). В центральной и теменной областях паттерны положительной когерентности были более заметны на более низких частотах (тета и альфа) для рукописного ввода. Анализ с использованием частотно-временных индикаторов и матрицы связности показал, что при письме от руки наблюдаются широко распространенные связи когерентности тета/альфа ритмов между теменно-правой, теменно-средней и теменно-левой областями, а также между центрально-правой и центрально-левой. В целом между письмом от руки и набором текста на клавиатуре наблюдалось 32 кластерных различия. По данным ученых, подобные паттерны, как при письме от руки, на ЭЭГ также наблюдаются в процессах сенсомоторной интеграции, которая лежит в основе формирования памяти и кодирования информации — то есть обучения. Поэтому исследователи считают, что письму от руки стоит уделять внимание при обучении в школе и университетах, несмотря на растущую цифровизацию образования. Впрочем, дальнейшие исследования будут направлены на то, отличаются ли эти паттерны ЭЭГ у взрослых и детей, а также то, какие еще интеграции областей головного мозга происходят в модели полноценной письменной работы.  Ранее мы рассказывали про другие факторы, которые влияют на память и обучение. Так, ученые из трех стран показали, что ЛСД повышает пластичность мозга у мышей.')]"
      ]
     },
     "execution_count": 29,
     "metadata": {},
     "output_type": "execute_result"
    }
   ],
   "source": [
    "info[10:12]"
   ]
  },
  {
   "cell_type": "markdown",
   "metadata": {},
   "source": [
    "Финальный штрих – импортируем `pandas` и преобразуемый полученный список кортежей в датафрейм:"
   ]
  },
  {
   "cell_type": "code",
   "execution_count": 30,
   "metadata": {},
   "outputs": [],
   "source": [
    "import pandas as pd"
   ]
  },
  {
   "cell_type": "code",
   "execution_count": 31,
   "metadata": {},
   "outputs": [
    {
     "data": {
      "text/html": [
       "<div>\n",
       "<style scoped>\n",
       "    .dataframe tbody tr th:only-of-type {\n",
       "        vertical-align: middle;\n",
       "    }\n",
       "\n",
       "    .dataframe tbody tr th {\n",
       "        vertical-align: top;\n",
       "    }\n",
       "\n",
       "    .dataframe thead th {\n",
       "        text-align: right;\n",
       "    }\n",
       "</style>\n",
       "<table border=\"1\" class=\"dataframe\">\n",
       "  <thead>\n",
       "    <tr style=\"text-align: right;\">\n",
       "      <th></th>\n",
       "      <th>0</th>\n",
       "      <th>1</th>\n",
       "      <th>2</th>\n",
       "      <th>3</th>\n",
       "      <th>4</th>\n",
       "      <th>5</th>\n",
       "    </tr>\n",
       "  </thead>\n",
       "  <tbody>\n",
       "    <tr>\n",
       "      <th>0</th>\n",
       "      <td>Австралийских комаров-кусак обвинили в распрос...</td>\n",
       "      <td>2024-01-27</td>\n",
       "      <td>Слава Гоменюк</td>\n",
       "      <td>3.2</td>\n",
       "      <td>Медицина</td>\n",
       "      <td>Австралийские ученые провели обширный анализ р...</td>\n",
       "    </tr>\n",
       "    <tr>\n",
       "      <th>1</th>\n",
       "      <td>Нейросеть научили определять симметричность гр...</td>\n",
       "      <td>2024-01-27</td>\n",
       "      <td>Олег Лищук</td>\n",
       "      <td>1.5</td>\n",
       "      <td>Медицина</td>\n",
       "      <td>Испанские исследователи обучили нейросеть с вы...</td>\n",
       "    </tr>\n",
       "    <tr>\n",
       "      <th>2</th>\n",
       "      <td>Снижение веса сохранилось через год после курс...</td>\n",
       "      <td>2024-01-27</td>\n",
       "      <td>Олег Лищук</td>\n",
       "      <td>1.8</td>\n",
       "      <td>Медицина</td>\n",
       "      <td>Американские исследователи проанализировали ба...</td>\n",
       "    </tr>\n",
       "    <tr>\n",
       "      <th>3</th>\n",
       "      <td>Львы стали реже охотиться на зебр из-за распро...</td>\n",
       "      <td>2024-01-27</td>\n",
       "      <td>Сергей Коленов</td>\n",
       "      <td>4.1</td>\n",
       "      <td>Зоология, Экология и климат</td>\n",
       "      <td>Ученые выяснили, что появление в Восточной Афр...</td>\n",
       "    </tr>\n",
       "    <tr>\n",
       "      <th>4</th>\n",
       "      <td>Георадар «Персеверанса» увидел древнюю эрозию ...</td>\n",
       "      <td>2024-01-26</td>\n",
       "      <td>Винера Андреева</td>\n",
       "      <td>4.6</td>\n",
       "      <td>Астрономия</td>\n",
       "      <td>Планетологи представили результаты анализа гео...</td>\n",
       "    </tr>\n",
       "  </tbody>\n",
       "</table>\n",
       "</div>"
      ],
      "text/plain": [
       "                                                   0           1  \\\n",
       "0  Австралийских комаров-кусак обвинили в распрос...  2024-01-27   \n",
       "1  Нейросеть научили определять симметричность гр...  2024-01-27   \n",
       "2  Снижение веса сохранилось через год после курс...  2024-01-27   \n",
       "3  Львы стали реже охотиться на зебр из-за распро...  2024-01-27   \n",
       "4  Георадар «Персеверанса» увидел древнюю эрозию ...  2024-01-26   \n",
       "\n",
       "                 2    3                            4  \\\n",
       "0    Слава Гоменюк  3.2                     Медицина   \n",
       "1       Олег Лищук  1.5                     Медицина   \n",
       "2       Олег Лищук  1.8                     Медицина   \n",
       "3   Сергей Коленов  4.1  Зоология, Экология и климат   \n",
       "4  Винера Андреева  4.6                   Астрономия   \n",
       "\n",
       "                                                   5  \n",
       "0  Австралийские ученые провели обширный анализ р...  \n",
       "1  Испанские исследователи обучили нейросеть с вы...  \n",
       "2  Американские исследователи проанализировали ба...  \n",
       "3  Ученые выяснили, что появление в Восточной Афр...  \n",
       "4  Планетологи представили результаты анализа гео...  "
      ]
     },
     "execution_count": 31,
     "metadata": {},
     "output_type": "execute_result"
    }
   ],
   "source": [
    "df = pd.DataFrame(info)\n",
    "df.head() # первые несколько строк"
   ]
  },
  {
   "cell_type": "markdown",
   "metadata": {},
   "source": [
    "Добавим содержательные названия столбцов и выгрузим датафрейм в файл:"
   ]
  },
  {
   "cell_type": "code",
   "execution_count": 32,
   "metadata": {},
   "outputs": [],
   "source": [
    "df.columns = [\"title\", \"author\", \"date\", \"diffc\", \"rubrics\", \"text\"]\n",
    "df.to_excel(\"nplus1.xlsx\")"
   ]
  },
  {
   "cell_type": "markdown",
   "metadata": {},
   "source": [
    "### Дополнительно\n",
    "\n",
    "Вспомним `pandas` и немного поработаем с полученными данными. \n",
    "\n",
    "**Сюжет 1. Сложность новости.** Если мы посмотрим на типы столбцов, мы увидим, что они все типа *object*, то есть текстовые."
   ]
  },
  {
   "cell_type": "code",
   "execution_count": 33,
   "metadata": {},
   "outputs": [
    {
     "name": "stdout",
     "output_type": "stream",
     "text": [
      "<class 'pandas.core.frame.DataFrame'>\n",
      "RangeIndex: 69 entries, 0 to 68\n",
      "Data columns (total 6 columns):\n",
      " #   Column   Non-Null Count  Dtype \n",
      "---  ------   --------------  ----- \n",
      " 0   title    69 non-null     object\n",
      " 1   author   69 non-null     object\n",
      " 2   date     69 non-null     object\n",
      " 3   diffc    69 non-null     object\n",
      " 4   rubrics  69 non-null     object\n",
      " 5   text     69 non-null     object\n",
      "dtypes: object(6)\n",
      "memory usage: 3.4+ KB\n"
     ]
    }
   ],
   "source": [
    "df.info()"
   ]
  },
  {
   "cell_type": "markdown",
   "metadata": {},
   "source": [
    " Скорректируем тип столбца `diffc` – изменим его на `float` с помощью метода `.astype()`:"
   ]
  },
  {
   "cell_type": "code",
   "execution_count": 34,
   "metadata": {},
   "outputs": [
    {
     "name": "stdout",
     "output_type": "stream",
     "text": [
      "<class 'pandas.core.frame.DataFrame'>\n",
      "RangeIndex: 69 entries, 0 to 68\n",
      "Data columns (total 6 columns):\n",
      " #   Column   Non-Null Count  Dtype  \n",
      "---  ------   --------------  -----  \n",
      " 0   title    69 non-null     object \n",
      " 1   author   69 non-null     object \n",
      " 2   date     69 non-null     object \n",
      " 3   diffc    69 non-null     float64\n",
      " 4   rubrics  69 non-null     object \n",
      " 5   text     69 non-null     object \n",
      "dtypes: float64(1), object(5)\n",
      "memory usage: 3.4+ KB\n"
     ]
    }
   ],
   "source": [
    "df[\"diffc\"] = df[\"diffc\"].astype(float)\n",
    "df.info()"
   ]
  },
  {
   "cell_type": "markdown",
   "metadata": {},
   "source": [
    "Построим гистограмму для визуализации распределения сложности новости:"
   ]
  },
  {
   "cell_type": "code",
   "execution_count": 36,
   "metadata": {},
   "outputs": [
    {
     "data": {
      "text/plain": [
       "<matplotlib.axes._subplots.AxesSubplot at 0x1252f1410>"
      ]
     },
     "execution_count": 36,
     "metadata": {},
     "output_type": "execute_result"
    },
    {
     "data": {
      "image/png": "[encoded data removed]",
      "text/plain": [
       "<Figure size 432x288 with 1 Axes>"
      ]
     },
     "metadata": {
      "needs_background": "light"
     },
     "output_type": "display_data"
    }
   ],
   "source": [
    "# color – цвет заливки, edgecolor – цвет границ столбцов\n",
    "df[\"diffc\"].hist(color = \"limegreen\", edgecolor = \"white\")"
   ]
  },
  {
   "cell_type": "markdown",
   "metadata": {},
   "source": [
    "Выберем самые сложности новости – посмотрим, к каким рубрикам они относятся:"
   ]
  },
  {
   "cell_type": "code",
   "execution_count": 37,
   "metadata": {},
   "outputs": [
    {
     "data": {
      "text/html": [
       "<div>\n",
       "<style scoped>\n",
       "    .dataframe tbody tr th:only-of-type {\n",
       "        vertical-align: middle;\n",
       "    }\n",
       "\n",
       "    .dataframe tbody tr th {\n",
       "        vertical-align: top;\n",
       "    }\n",
       "\n",
       "    .dataframe thead th {\n",
       "        text-align: right;\n",
       "    }\n",
       "</style>\n",
       "<table border=\"1\" class=\"dataframe\">\n",
       "  <thead>\n",
       "    <tr style=\"text-align: right;\">\n",
       "      <th></th>\n",
       "      <th>title</th>\n",
       "      <th>author</th>\n",
       "      <th>date</th>\n",
       "      <th>diffc</th>\n",
       "      <th>rubrics</th>\n",
       "      <th>text</th>\n",
       "    </tr>\n",
       "  </thead>\n",
       "  <tbody>\n",
       "    <tr>\n",
       "      <th>57</th>\n",
       "      <td>Палеогенетики нашли предков ямников на Среднем...</td>\n",
       "      <td>2024-01-10</td>\n",
       "      <td>Михаил Подрезов</td>\n",
       "      <td>6.5</td>\n",
       "      <td>Антропология</td>\n",
       "      <td>Палеогенетики прочитали 317 геномов древних ев...</td>\n",
       "    </tr>\n",
       "    <tr>\n",
       "      <th>59</th>\n",
       "      <td>В Китае успешно клонировали макака-резуса. На ...</td>\n",
       "      <td>2024-01-16</td>\n",
       "      <td>Олег Лищук</td>\n",
       "      <td>6.9</td>\n",
       "      <td>Биология, Зоология, Медицина</td>\n",
       "      <td>Китайские исследователи усовершенствовали техн...</td>\n",
       "    </tr>\n",
       "    <tr>\n",
       "      <th>60</th>\n",
       "      <td>Соль замещенного циклопентадиенильного катиона...</td>\n",
       "      <td>2024-01-17</td>\n",
       "      <td>Михаил Бойм</td>\n",
       "      <td>7.1</td>\n",
       "      <td>Химия</td>\n",
       "      <td>Химики из Германии синтезировали соль антиаром...</td>\n",
       "    </tr>\n",
       "    <tr>\n",
       "      <th>63</th>\n",
       "      <td>Эксперимент CONUS пока не увидел рассеяния ант...</td>\n",
       "      <td>2024-01-22</td>\n",
       "      <td>Дмитрий Рудик</td>\n",
       "      <td>7.8</td>\n",
       "      <td>Физика</td>\n",
       "      <td>Немецкие ученые из эксперимента CONUS пока не ...</td>\n",
       "    </tr>\n",
       "  </tbody>\n",
       "</table>\n",
       "</div>"
      ],
      "text/plain": [
       "                                                title      author  \\\n",
       "57  Палеогенетики нашли предков ямников на Среднем...  2024-01-10   \n",
       "59  В Китае успешно клонировали макака-резуса. На ...  2024-01-16   \n",
       "60  Соль замещенного циклопентадиенильного катиона...  2024-01-17   \n",
       "63  Эксперимент CONUS пока не увидел рассеяния ант...  2024-01-22   \n",
       "\n",
       "               date  diffc                       rubrics  \\\n",
       "57  Михаил Подрезов    6.5                  Антропология   \n",
       "59       Олег Лищук    6.9  Биология, Зоология, Медицина   \n",
       "60      Михаил Бойм    7.1                         Химия   \n",
       "63    Дмитрий Рудик    7.8                        Физика   \n",
       "\n",
       "                                                 text  \n",
       "57  Палеогенетики прочитали 317 геномов древних ев...  \n",
       "59  Китайские исследователи усовершенствовали техн...  \n",
       "60  Химики из Германии синтезировали соль антиаром...  \n",
       "63  Немецкие ученые из эксперимента CONUS пока не ...  "
      ]
     },
     "execution_count": 37,
     "metadata": {},
     "output_type": "execute_result"
    }
   ],
   "source": [
    "df[df[\"diffc\"] > 6]"
   ]
  },
  {
   "cell_type": "markdown",
   "metadata": {},
   "source": [
    "**Сюжет 2. Выбор новостей по рубрикам.** Если мы хотим выбрать новости, которые относятся к какой-то рубрике и только к ней, проблем не возникает:"
   ]
  },
  {
   "cell_type": "code",
   "execution_count": 38,
   "metadata": {},
   "outputs": [
    {
     "data": {
      "text/html": [
       "<div>\n",
       "<style scoped>\n",
       "    .dataframe tbody tr th:only-of-type {\n",
       "        vertical-align: middle;\n",
       "    }\n",
       "\n",
       "    .dataframe tbody tr th {\n",
       "        vertical-align: top;\n",
       "    }\n",
       "\n",
       "    .dataframe thead th {\n",
       "        text-align: right;\n",
       "    }\n",
       "</style>\n",
       "<table border=\"1\" class=\"dataframe\">\n",
       "  <thead>\n",
       "    <tr style=\"text-align: right;\">\n",
       "      <th></th>\n",
       "      <th>title</th>\n",
       "      <th>author</th>\n",
       "      <th>date</th>\n",
       "      <th>diffc</th>\n",
       "      <th>rubrics</th>\n",
       "      <th>text</th>\n",
       "    </tr>\n",
       "  </thead>\n",
       "  <tbody>\n",
       "    <tr>\n",
       "      <th>0</th>\n",
       "      <td>Австралийских комаров-кусак обвинили в распрос...</td>\n",
       "      <td>2024-01-27</td>\n",
       "      <td>Слава Гоменюк</td>\n",
       "      <td>3.2</td>\n",
       "      <td>Медицина</td>\n",
       "      <td>Австралийские ученые провели обширный анализ р...</td>\n",
       "    </tr>\n",
       "    <tr>\n",
       "      <th>1</th>\n",
       "      <td>Нейросеть научили определять симметричность гр...</td>\n",
       "      <td>2024-01-27</td>\n",
       "      <td>Олег Лищук</td>\n",
       "      <td>1.5</td>\n",
       "      <td>Медицина</td>\n",
       "      <td>Испанские исследователи обучили нейросеть с вы...</td>\n",
       "    </tr>\n",
       "    <tr>\n",
       "      <th>2</th>\n",
       "      <td>Снижение веса сохранилось через год после курс...</td>\n",
       "      <td>2024-01-27</td>\n",
       "      <td>Олег Лищук</td>\n",
       "      <td>1.8</td>\n",
       "      <td>Медицина</td>\n",
       "      <td>Американские исследователи проанализировали ба...</td>\n",
       "    </tr>\n",
       "    <tr>\n",
       "      <th>7</th>\n",
       "      <td>Бупренорфин вызвал меньше врожденных пороков п...</td>\n",
       "      <td>2024-01-26</td>\n",
       "      <td>Слава Гоменюк</td>\n",
       "      <td>2.9</td>\n",
       "      <td>Медицина</td>\n",
       "      <td>Когортное исследование более 13 тысяч беременн...</td>\n",
       "    </tr>\n",
       "    <tr>\n",
       "      <th>9</th>\n",
       "      <td>Купание в холодной воде облегчило симптомы мен...</td>\n",
       "      <td>2024-01-26</td>\n",
       "      <td>Слава Гоменюк</td>\n",
       "      <td>2.5</td>\n",
       "      <td>Медицина</td>\n",
       "      <td>Ученые опросили более тысячи женщин и выяснили...</td>\n",
       "    </tr>\n",
       "    <tr>\n",
       "      <th>11</th>\n",
       "      <td>Письмо от руки связали с формированием памяти ...</td>\n",
       "      <td>2024-01-26</td>\n",
       "      <td>Слава Гоменюк</td>\n",
       "      <td>3.4</td>\n",
       "      <td>Медицина</td>\n",
       "      <td>Небольшое исследование норвежских ученых показ...</td>\n",
       "    </tr>\n",
       "    <tr>\n",
       "      <th>15</th>\n",
       "      <td>Закрытие крышки унитаза не повлияло на распрос...</td>\n",
       "      <td>2024-01-26</td>\n",
       "      <td>Олег Лищук</td>\n",
       "      <td>1.4</td>\n",
       "      <td>Медицина</td>\n",
       "      <td>Американские исследователи провели микробиолог...</td>\n",
       "    </tr>\n",
       "    <tr>\n",
       "      <th>21</th>\n",
       "      <td>Рождение с 32 по 36 неделю связали с повышенны...</td>\n",
       "      <td>2024-01-25</td>\n",
       "      <td>Слава Гоменюк</td>\n",
       "      <td>2.4</td>\n",
       "      <td>Медицина</td>\n",
       "      <td>Когортное исследование более миллиона шведских...</td>\n",
       "    </tr>\n",
       "    <tr>\n",
       "      <th>24</th>\n",
       "      <td>Терапия расстройств настроения снизила уровень...</td>\n",
       "      <td>2024-01-25</td>\n",
       "      <td>Слава Гоменюк</td>\n",
       "      <td>3.1</td>\n",
       "      <td>Медицина</td>\n",
       "      <td>Систематический обзор и метаанализ 28 исследов...</td>\n",
       "    </tr>\n",
       "    <tr>\n",
       "      <th>25</th>\n",
       "      <td>За 20 лет доля смертей от СПИДа снизилась на 3...</td>\n",
       "      <td>2024-01-25</td>\n",
       "      <td>Слава Гоменюк</td>\n",
       "      <td>2.7</td>\n",
       "      <td>Медицина</td>\n",
       "      <td>Анализ 17 североамериканских и европейских рее...</td>\n",
       "    </tr>\n",
       "    <tr>\n",
       "      <th>30</th>\n",
       "      <td>Донорство почки связали с повышенным риском пе...</td>\n",
       "      <td>2024-01-25</td>\n",
       "      <td>Слава Гоменюк</td>\n",
       "      <td>2.7</td>\n",
       "      <td>Медицина</td>\n",
       "      <td>Исследование американских ученых, которые проа...</td>\n",
       "    </tr>\n",
       "    <tr>\n",
       "      <th>31</th>\n",
       "      <td>Вакцинация от ВПЧ в 12&amp;#150;13 лет защитила шо...</td>\n",
       "      <td>2024-01-24</td>\n",
       "      <td>Слава Гоменюк</td>\n",
       "      <td>2.6</td>\n",
       "      <td>Медицина</td>\n",
       "      <td>Исследование шотландских ученых показало, что ...</td>\n",
       "    </tr>\n",
       "    <tr>\n",
       "      <th>34</th>\n",
       "      <td>Долгую учебу связали со снижением риска смерти...</td>\n",
       "      <td>2024-01-24</td>\n",
       "      <td>Слава Гоменюк</td>\n",
       "      <td>2.5</td>\n",
       "      <td>Медицина</td>\n",
       "      <td>Систематический обзор и метаанализ американски...</td>\n",
       "    </tr>\n",
       "  </tbody>\n",
       "</table>\n",
       "</div>"
      ],
      "text/plain": [
       "                                                title      author  \\\n",
       "0   Австралийских комаров-кусак обвинили в распрос...  2024-01-27   \n",
       "1   Нейросеть научили определять симметричность гр...  2024-01-27   \n",
       "2   Снижение веса сохранилось через год после курс...  2024-01-27   \n",
       "7   Бупренорфин вызвал меньше врожденных пороков п...  2024-01-26   \n",
       "9   Купание в холодной воде облегчило симптомы мен...  2024-01-26   \n",
       "11  Письмо от руки связали с формированием памяти ...  2024-01-26   \n",
       "15  Закрытие крышки унитаза не повлияло на распрос...  2024-01-26   \n",
       "21  Рождение с 32 по 36 неделю связали с повышенны...  2024-01-25   \n",
       "24  Терапия расстройств настроения снизила уровень...  2024-01-25   \n",
       "25  За 20 лет доля смертей от СПИДа снизилась на 3...  2024-01-25   \n",
       "30  Донорство почки связали с повышенным риском пе...  2024-01-25   \n",
       "31  Вакцинация от ВПЧ в 12&#150;13 лет защитила шо...  2024-01-24   \n",
       "34  Долгую учебу связали со снижением риска смерти...  2024-01-24   \n",
       "\n",
       "             date  diffc   rubrics  \\\n",
       "0   Слава Гоменюк    3.2  Медицина   \n",
       "1      Олег Лищук    1.5  Медицина   \n",
       "2      Олег Лищук    1.8  Медицина   \n",
       "7   Слава Гоменюк    2.9  Медицина   \n",
       "9   Слава Гоменюк    2.5  Медицина   \n",
       "11  Слава Гоменюк    3.4  Медицина   \n",
       "15     Олег Лищук    1.4  Медицина   \n",
       "21  Слава Гоменюк    2.4  Медицина   \n",
       "24  Слава Гоменюк    3.1  Медицина   \n",
       "25  Слава Гоменюк    2.7  Медицина   \n",
       "30  Слава Гоменюк    2.7  Медицина   \n",
       "31  Слава Гоменюк    2.6  Медицина   \n",
       "34  Слава Гоменюк    2.5  Медицина   \n",
       "\n",
       "                                                 text  \n",
       "0   Австралийские ученые провели обширный анализ р...  \n",
       "1   Испанские исследователи обучили нейросеть с вы...  \n",
       "2   Американские исследователи проанализировали ба...  \n",
       "7   Когортное исследование более 13 тысяч беременн...  \n",
       "9   Ученые опросили более тысячи женщин и выяснили...  \n",
       "11  Небольшое исследование норвежских ученых показ...  \n",
       "15  Американские исследователи провели микробиолог...  \n",
       "21  Когортное исследование более миллиона шведских...  \n",
       "24  Систематический обзор и метаанализ 28 исследов...  \n",
       "25  Анализ 17 североамериканских и европейских рее...  \n",
       "30  Исследование американских ученых, которые проа...  \n",
       "31  Исследование шотландских ученых показало, что ...  \n",
       "34  Систематический обзор и метаанализ американски...  "
      ]
     },
     "execution_count": 38,
     "metadata": {},
     "output_type": "execute_result"
    }
   ],
   "source": [
    "df[df[\"rubrics\"] == \"Медицина\"]"
   ]
  },
  {
   "cell_type": "markdown",
   "metadata": {},
   "source": [
    "Проблемы возникают тогда, когда новость относится к разным рубрикам, потому что тут уже нужно проверять вхождение нужного слова в строку. Для этого пригодится метод `.contains()`, который скрыт внутри набора методов `str` для строк, он проверяет вхождение подстроки в строку и возвращает `True` или `False` как обычное условие: "
   ]
  },
  {
   "cell_type": "code",
   "execution_count": 39,
   "metadata": {},
   "outputs": [
    {
     "data": {
      "text/html": [
       "<div>\n",
       "<style scoped>\n",
       "    .dataframe tbody tr th:only-of-type {\n",
       "        vertical-align: middle;\n",
       "    }\n",
       "\n",
       "    .dataframe tbody tr th {\n",
       "        vertical-align: top;\n",
       "    }\n",
       "\n",
       "    .dataframe thead th {\n",
       "        text-align: right;\n",
       "    }\n",
       "</style>\n",
       "<table border=\"1\" class=\"dataframe\">\n",
       "  <thead>\n",
       "    <tr style=\"text-align: right;\">\n",
       "      <th></th>\n",
       "      <th>title</th>\n",
       "      <th>author</th>\n",
       "      <th>date</th>\n",
       "      <th>diffc</th>\n",
       "      <th>rubrics</th>\n",
       "      <th>text</th>\n",
       "    </tr>\n",
       "  </thead>\n",
       "  <tbody>\n",
       "    <tr>\n",
       "      <th>0</th>\n",
       "      <td>Австралийских комаров-кусак обвинили в распрос...</td>\n",
       "      <td>2024-01-27</td>\n",
       "      <td>Слава Гоменюк</td>\n",
       "      <td>3.2</td>\n",
       "      <td>Медицина</td>\n",
       "      <td>Австралийские ученые провели обширный анализ р...</td>\n",
       "    </tr>\n",
       "    <tr>\n",
       "      <th>1</th>\n",
       "      <td>Нейросеть научили определять симметричность гр...</td>\n",
       "      <td>2024-01-27</td>\n",
       "      <td>Олег Лищук</td>\n",
       "      <td>1.5</td>\n",
       "      <td>Медицина</td>\n",
       "      <td>Испанские исследователи обучили нейросеть с вы...</td>\n",
       "    </tr>\n",
       "    <tr>\n",
       "      <th>2</th>\n",
       "      <td>Снижение веса сохранилось через год после курс...</td>\n",
       "      <td>2024-01-27</td>\n",
       "      <td>Олег Лищук</td>\n",
       "      <td>1.8</td>\n",
       "      <td>Медицина</td>\n",
       "      <td>Американские исследователи проанализировали ба...</td>\n",
       "    </tr>\n",
       "    <tr>\n",
       "      <th>7</th>\n",
       "      <td>Бупренорфин вызвал меньше врожденных пороков п...</td>\n",
       "      <td>2024-01-26</td>\n",
       "      <td>Слава Гоменюк</td>\n",
       "      <td>2.9</td>\n",
       "      <td>Медицина</td>\n",
       "      <td>Когортное исследование более 13 тысяч беременн...</td>\n",
       "    </tr>\n",
       "    <tr>\n",
       "      <th>9</th>\n",
       "      <td>Купание в холодной воде облегчило симптомы мен...</td>\n",
       "      <td>2024-01-26</td>\n",
       "      <td>Слава Гоменюк</td>\n",
       "      <td>2.5</td>\n",
       "      <td>Медицина</td>\n",
       "      <td>Ученые опросили более тысячи женщин и выяснили...</td>\n",
       "    </tr>\n",
       "    <tr>\n",
       "      <th>11</th>\n",
       "      <td>Письмо от руки связали с формированием памяти ...</td>\n",
       "      <td>2024-01-26</td>\n",
       "      <td>Слава Гоменюк</td>\n",
       "      <td>3.4</td>\n",
       "      <td>Медицина</td>\n",
       "      <td>Небольшое исследование норвежских ученых показ...</td>\n",
       "    </tr>\n",
       "    <tr>\n",
       "      <th>14</th>\n",
       "      <td>Универсальный интерфейс поможет конструировать...</td>\n",
       "      <td>2024-01-26</td>\n",
       "      <td>Олег Лищук</td>\n",
       "      <td>4.4</td>\n",
       "      <td>Технологии, IT, Медицина, Биология, Гаджеты</td>\n",
       "      <td>Американские исследователи разработали масштаб...</td>\n",
       "    </tr>\n",
       "    <tr>\n",
       "      <th>15</th>\n",
       "      <td>Закрытие крышки унитаза не повлияло на распрос...</td>\n",
       "      <td>2024-01-26</td>\n",
       "      <td>Олег Лищук</td>\n",
       "      <td>1.4</td>\n",
       "      <td>Медицина</td>\n",
       "      <td>Американские исследователи провели микробиолог...</td>\n",
       "    </tr>\n",
       "    <tr>\n",
       "      <th>21</th>\n",
       "      <td>Рождение с 32 по 36 неделю связали с повышенны...</td>\n",
       "      <td>2024-01-25</td>\n",
       "      <td>Слава Гоменюк</td>\n",
       "      <td>2.4</td>\n",
       "      <td>Медицина</td>\n",
       "      <td>Когортное исследование более миллиона шведских...</td>\n",
       "    </tr>\n",
       "    <tr>\n",
       "      <th>24</th>\n",
       "      <td>Терапия расстройств настроения снизила уровень...</td>\n",
       "      <td>2024-01-25</td>\n",
       "      <td>Слава Гоменюк</td>\n",
       "      <td>3.1</td>\n",
       "      <td>Медицина</td>\n",
       "      <td>Систематический обзор и метаанализ 28 исследов...</td>\n",
       "    </tr>\n",
       "    <tr>\n",
       "      <th>25</th>\n",
       "      <td>За 20 лет доля смертей от СПИДа снизилась на 3...</td>\n",
       "      <td>2024-01-25</td>\n",
       "      <td>Слава Гоменюк</td>\n",
       "      <td>2.7</td>\n",
       "      <td>Медицина</td>\n",
       "      <td>Анализ 17 североамериканских и европейских рее...</td>\n",
       "    </tr>\n",
       "    <tr>\n",
       "      <th>27</th>\n",
       "      <td>Волны жары связали со смертью почти 50 тысяч ж...</td>\n",
       "      <td>2024-01-25</td>\n",
       "      <td>Марина Попова</td>\n",
       "      <td>1.9</td>\n",
       "      <td>Экология и климат, Медицина</td>\n",
       "      <td>48075 смертей в крупных бразильских городах с ...</td>\n",
       "    </tr>\n",
       "    <tr>\n",
       "      <th>30</th>\n",
       "      <td>Донорство почки связали с повышенным риском пе...</td>\n",
       "      <td>2024-01-25</td>\n",
       "      <td>Слава Гоменюк</td>\n",
       "      <td>2.7</td>\n",
       "      <td>Медицина</td>\n",
       "      <td>Исследование американских ученых, которые проа...</td>\n",
       "    </tr>\n",
       "    <tr>\n",
       "      <th>31</th>\n",
       "      <td>Вакцинация от ВПЧ в 12&amp;#150;13 лет защитила шо...</td>\n",
       "      <td>2024-01-24</td>\n",
       "      <td>Слава Гоменюк</td>\n",
       "      <td>2.6</td>\n",
       "      <td>Медицина</td>\n",
       "      <td>Исследование шотландских ученых показало, что ...</td>\n",
       "    </tr>\n",
       "    <tr>\n",
       "      <th>34</th>\n",
       "      <td>Долгую учебу связали со снижением риска смерти...</td>\n",
       "      <td>2024-01-24</td>\n",
       "      <td>Слава Гоменюк</td>\n",
       "      <td>2.5</td>\n",
       "      <td>Медицина</td>\n",
       "      <td>Систематический обзор и метаанализ американски...</td>\n",
       "    </tr>\n",
       "    <tr>\n",
       "      <th>46</th>\n",
       "      <td>Омикрон оказался самым устойчивым во внешней с...</td>\n",
       "      <td>2022-01-25</td>\n",
       "      <td>Анастасия Кузнецова–Фантони</td>\n",
       "      <td>3.3</td>\n",
       "      <td>Медицина, Коронавирусные хроники</td>\n",
       "      <td>Коронавирусом обычно заражаются при контакте с...</td>\n",
       "    </tr>\n",
       "    <tr>\n",
       "      <th>54</th>\n",
       "      <td>Антиконвульсант замедлил прогрессирование осте...</td>\n",
       "      <td>2024-01-06</td>\n",
       "      <td>Олег Лищук</td>\n",
       "      <td>4.8</td>\n",
       "      <td>Медицина, Биология</td>\n",
       "      <td>Американские исследователи обнаружили, что про...</td>\n",
       "    </tr>\n",
       "    <tr>\n",
       "      <th>56</th>\n",
       "      <td>Онейроген ибогаин уменьшил отдаленные последст...</td>\n",
       "      <td>2024-01-09</td>\n",
       "      <td>Олег Лищук</td>\n",
       "      <td>5.1</td>\n",
       "      <td>Медицина, Психология</td>\n",
       "      <td>Американские и канадские исследователи сообщил...</td>\n",
       "    </tr>\n",
       "    <tr>\n",
       "      <th>58</th>\n",
       "      <td>Вдыхаемые наносенсоры помогут определить рак л...</td>\n",
       "      <td>2024-01-11</td>\n",
       "      <td>Олег Лищук</td>\n",
       "      <td>4.4</td>\n",
       "      <td>Медицина, Технологии</td>\n",
       "      <td>Американские биоинженеры разработали систему с...</td>\n",
       "    </tr>\n",
       "    <tr>\n",
       "      <th>59</th>\n",
       "      <td>В Китае успешно клонировали макака-резуса. На ...</td>\n",
       "      <td>2024-01-16</td>\n",
       "      <td>Олег Лищук</td>\n",
       "      <td>6.9</td>\n",
       "      <td>Биология, Зоология, Медицина</td>\n",
       "      <td>Китайские исследователи усовершенствовали техн...</td>\n",
       "    </tr>\n",
       "    <tr>\n",
       "      <th>67</th>\n",
       "      <td>Универсальный интерфейс поможет конструировать...</td>\n",
       "      <td>2024-01-26</td>\n",
       "      <td>Олег Лищук</td>\n",
       "      <td>4.4</td>\n",
       "      <td>Технологии, IT, Медицина, Биология, Гаджеты</td>\n",
       "      <td>Американские исследователи разработали масштаб...</td>\n",
       "    </tr>\n",
       "  </tbody>\n",
       "</table>\n",
       "</div>"
      ],
      "text/plain": [
       "                                                title      author  \\\n",
       "0   Австралийских комаров-кусак обвинили в распрос...  2024-01-27   \n",
       "1   Нейросеть научили определять симметричность гр...  2024-01-27   \n",
       "2   Снижение веса сохранилось через год после курс...  2024-01-27   \n",
       "7   Бупренорфин вызвал меньше врожденных пороков п...  2024-01-26   \n",
       "9   Купание в холодной воде облегчило симптомы мен...  2024-01-26   \n",
       "11  Письмо от руки связали с формированием памяти ...  2024-01-26   \n",
       "14  Универсальный интерфейс поможет конструировать...  2024-01-26   \n",
       "15  Закрытие крышки унитаза не повлияло на распрос...  2024-01-26   \n",
       "21  Рождение с 32 по 36 неделю связали с повышенны...  2024-01-25   \n",
       "24  Терапия расстройств настроения снизила уровень...  2024-01-25   \n",
       "25  За 20 лет доля смертей от СПИДа снизилась на 3...  2024-01-25   \n",
       "27  Волны жары связали со смертью почти 50 тысяч ж...  2024-01-25   \n",
       "30  Донорство почки связали с повышенным риском пе...  2024-01-25   \n",
       "31  Вакцинация от ВПЧ в 12&#150;13 лет защитила шо...  2024-01-24   \n",
       "34  Долгую учебу связали со снижением риска смерти...  2024-01-24   \n",
       "46  Омикрон оказался самым устойчивым во внешней с...  2022-01-25   \n",
       "54  Антиконвульсант замедлил прогрессирование осте...  2024-01-06   \n",
       "56  Онейроген ибогаин уменьшил отдаленные последст...  2024-01-09   \n",
       "58  Вдыхаемые наносенсоры помогут определить рак л...  2024-01-11   \n",
       "59  В Китае успешно клонировали макака-резуса. На ...  2024-01-16   \n",
       "67  Универсальный интерфейс поможет конструировать...  2024-01-26   \n",
       "\n",
       "                           date  diffc  \\\n",
       "0                 Слава Гоменюк    3.2   \n",
       "1                    Олег Лищук    1.5   \n",
       "2                    Олег Лищук    1.8   \n",
       "7                 Слава Гоменюк    2.9   \n",
       "9                 Слава Гоменюк    2.5   \n",
       "11                Слава Гоменюк    3.4   \n",
       "14                   Олег Лищук    4.4   \n",
       "15                   Олег Лищук    1.4   \n",
       "21                Слава Гоменюк    2.4   \n",
       "24                Слава Гоменюк    3.1   \n",
       "25                Слава Гоменюк    2.7   \n",
       "27                Марина Попова    1.9   \n",
       "30                Слава Гоменюк    2.7   \n",
       "31                Слава Гоменюк    2.6   \n",
       "34                Слава Гоменюк    2.5   \n",
       "46  Анастасия Кузнецова–Фантони    3.3   \n",
       "54                   Олег Лищук    4.8   \n",
       "56                   Олег Лищук    5.1   \n",
       "58                   Олег Лищук    4.4   \n",
       "59                   Олег Лищук    6.9   \n",
       "67                   Олег Лищук    4.4   \n",
       "\n",
       "                                        rubrics  \\\n",
       "0                                      Медицина   \n",
       "1                                      Медицина   \n",
       "2                                      Медицина   \n",
       "7                                      Медицина   \n",
       "9                                      Медицина   \n",
       "11                                     Медицина   \n",
       "14  Технологии, IT, Медицина, Биология, Гаджеты   \n",
       "15                                     Медицина   \n",
       "21                                     Медицина   \n",
       "24                                     Медицина   \n",
       "25                                     Медицина   \n",
       "27                  Экология и климат, Медицина   \n",
       "30                                     Медицина   \n",
       "31                                     Медицина   \n",
       "34                                     Медицина   \n",
       "46             Медицина, Коронавирусные хроники   \n",
       "54                           Медицина, Биология   \n",
       "56                         Медицина, Психология   \n",
       "58                         Медицина, Технологии   \n",
       "59                 Биология, Зоология, Медицина   \n",
       "67  Технологии, IT, Медицина, Биология, Гаджеты   \n",
       "\n",
       "                                                 text  \n",
       "0   Австралийские ученые провели обширный анализ р...  \n",
       "1   Испанские исследователи обучили нейросеть с вы...  \n",
       "2   Американские исследователи проанализировали ба...  \n",
       "7   Когортное исследование более 13 тысяч беременн...  \n",
       "9   Ученые опросили более тысячи женщин и выяснили...  \n",
       "11  Небольшое исследование норвежских ученых показ...  \n",
       "14  Американские исследователи разработали масштаб...  \n",
       "15  Американские исследователи провели микробиолог...  \n",
       "21  Когортное исследование более миллиона шведских...  \n",
       "24  Систематический обзор и метаанализ 28 исследов...  \n",
       "25  Анализ 17 североамериканских и европейских рее...  \n",
       "27  48075 смертей в крупных бразильских городах с ...  \n",
       "30  Исследование американских ученых, которые проа...  \n",
       "31  Исследование шотландских ученых показало, что ...  \n",
       "34  Систематический обзор и метаанализ американски...  \n",
       "46  Коронавирусом обычно заражаются при контакте с...  \n",
       "54  Американские исследователи обнаружили, что про...  \n",
       "56  Американские и канадские исследователи сообщил...  \n",
       "58  Американские биоинженеры разработали систему с...  \n",
       "59  Китайские исследователи усовершенствовали техн...  \n",
       "67  Американские исследователи разработали масштаб...  "
      ]
     },
     "execution_count": 39,
     "metadata": {},
     "output_type": "execute_result"
    }
   ],
   "source": [
    "df[df[\"rubrics\"].str.contains(\"Медицина\")]"
   ]
  },
  {
   "cell_type": "markdown",
   "metadata": {},
   "source": [
    "К слову, если рубрик несколько и мы ищем их по отдельности, будет полезен метод `.isin()`, он проверяет, входит ли значение в ячейке в список, который мы подали на вход:"
   ]
  },
  {
   "cell_type": "code",
   "execution_count": 40,
   "metadata": {},
   "outputs": [
    {
     "data": {
      "text/html": [
       "<div>\n",
       "<style scoped>\n",
       "    .dataframe tbody tr th:only-of-type {\n",
       "        vertical-align: middle;\n",
       "    }\n",
       "\n",
       "    .dataframe tbody tr th {\n",
       "        vertical-align: top;\n",
       "    }\n",
       "\n",
       "    .dataframe thead th {\n",
       "        text-align: right;\n",
       "    }\n",
       "</style>\n",
       "<table border=\"1\" class=\"dataframe\">\n",
       "  <thead>\n",
       "    <tr style=\"text-align: right;\">\n",
       "      <th></th>\n",
       "      <th>title</th>\n",
       "      <th>author</th>\n",
       "      <th>date</th>\n",
       "      <th>diffc</th>\n",
       "      <th>rubrics</th>\n",
       "      <th>text</th>\n",
       "    </tr>\n",
       "  </thead>\n",
       "  <tbody>\n",
       "    <tr>\n",
       "      <th>8</th>\n",
       "      <td>Зоологи уличили афалин в нападениях на детеныш...</td>\n",
       "      <td>2024-01-26</td>\n",
       "      <td>Сергей Коленов</td>\n",
       "      <td>2.3</td>\n",
       "      <td>Зоология</td>\n",
       "      <td>Зоологи обнаружили, что афалины регулярно взаи...</td>\n",
       "    </tr>\n",
       "    <tr>\n",
       "      <th>10</th>\n",
       "      <td>Самцы сумчатых мышей отказались от сна ради ра...</td>\n",
       "      <td>2024-01-26</td>\n",
       "      <td>Катерина Петрова</td>\n",
       "      <td>2.5</td>\n",
       "      <td>Зоология</td>\n",
       "      <td>Исследователи из Австралии, Нидерландов и Швей...</td>\n",
       "    </tr>\n",
       "    <tr>\n",
       "      <th>18</th>\n",
       "      <td>Пары жуков сизифов эффективнее одиночек перене...</td>\n",
       "      <td>2024-01-26</td>\n",
       "      <td>Катерина Петрова</td>\n",
       "      <td>1.9</td>\n",
       "      <td>Зоология</td>\n",
       "      <td>Ученые из Швеции и Южной Африки наблюдали за н...</td>\n",
       "    </tr>\n",
       "    <tr>\n",
       "      <th>26</th>\n",
       "      <td>Повторяющиеся сексуальные неудачи снизили стре...</td>\n",
       "      <td>2024-01-25</td>\n",
       "      <td>Катерина Петрова</td>\n",
       "      <td>3.3</td>\n",
       "      <td>Зоология</td>\n",
       "      <td>Ученые из Израиля, США и Швеции проверили, как...</td>\n",
       "    </tr>\n",
       "    <tr>\n",
       "      <th>33</th>\n",
       "      <td>Самки белолицых капуцинов с острова Хикарон от...</td>\n",
       "      <td>2024-01-24</td>\n",
       "      <td>Катерина Петрова</td>\n",
       "      <td>2.1</td>\n",
       "      <td>Зоология</td>\n",
       "      <td>Биологи из Германии попытались понять, почему ...</td>\n",
       "    </tr>\n",
       "    <tr>\n",
       "      <th>48</th>\n",
       "      <td>Биологи помешали тиграм из зоопарка ходить туд...</td>\n",
       "      <td>2024-01-18</td>\n",
       "      <td>Катерина Петрова</td>\n",
       "      <td>1.8</td>\n",
       "      <td>Зоология</td>\n",
       "      <td>Биологи из Нидерландов смогли снизить частоту ...</td>\n",
       "    </tr>\n",
       "    <tr>\n",
       "      <th>52</th>\n",
       "      <td>Амурский тигр умылся и отдохнул на фоне Владив...</td>\n",
       "      <td>2024-01-04</td>\n",
       "      <td>Сергей Коленов</td>\n",
       "      <td>1.1</td>\n",
       "      <td>Зоология</td>\n",
       "      <td>Автоматическая камера, установленная на вершин...</td>\n",
       "    </tr>\n",
       "    <tr>\n",
       "      <th>63</th>\n",
       "      <td>Эксперимент CONUS пока не увидел рассеяния ант...</td>\n",
       "      <td>2024-01-22</td>\n",
       "      <td>Дмитрий Рудик</td>\n",
       "      <td>7.8</td>\n",
       "      <td>Физика</td>\n",
       "      <td>Немецкие ученые из эксперимента CONUS пока не ...</td>\n",
       "    </tr>\n",
       "    <tr>\n",
       "      <th>65</th>\n",
       "      <td>Вода и ниобат лития превратили красный свет в ...</td>\n",
       "      <td>2024-01-24</td>\n",
       "      <td>Артем Моськин</td>\n",
       "      <td>5.1</td>\n",
       "      <td>Физика</td>\n",
       "      <td>Китайские физики пропустили излучение сапфиров...</td>\n",
       "    </tr>\n",
       "  </tbody>\n",
       "</table>\n",
       "</div>"
      ],
      "text/plain": [
       "                                                title      author  \\\n",
       "8   Зоологи уличили афалин в нападениях на детеныш...  2024-01-26   \n",
       "10  Самцы сумчатых мышей отказались от сна ради ра...  2024-01-26   \n",
       "18  Пары жуков сизифов эффективнее одиночек перене...  2024-01-26   \n",
       "26  Повторяющиеся сексуальные неудачи снизили стре...  2024-01-25   \n",
       "33  Самки белолицых капуцинов с острова Хикарон от...  2024-01-24   \n",
       "48  Биологи помешали тиграм из зоопарка ходить туд...  2024-01-18   \n",
       "52  Амурский тигр умылся и отдохнул на фоне Владив...  2024-01-04   \n",
       "63  Эксперимент CONUS пока не увидел рассеяния ант...  2024-01-22   \n",
       "65  Вода и ниобат лития превратили красный свет в ...  2024-01-24   \n",
       "\n",
       "                date  diffc   rubrics  \\\n",
       "8     Сергей Коленов    2.3  Зоология   \n",
       "10  Катерина Петрова    2.5  Зоология   \n",
       "18  Катерина Петрова    1.9  Зоология   \n",
       "26  Катерина Петрова    3.3  Зоология   \n",
       "33  Катерина Петрова    2.1  Зоология   \n",
       "48  Катерина Петрова    1.8  Зоология   \n",
       "52    Сергей Коленов    1.1  Зоология   \n",
       "63     Дмитрий Рудик    7.8    Физика   \n",
       "65     Артем Моськин    5.1    Физика   \n",
       "\n",
       "                                                 text  \n",
       "8   Зоологи обнаружили, что афалины регулярно взаи...  \n",
       "10  Исследователи из Австралии, Нидерландов и Швей...  \n",
       "18  Ученые из Швеции и Южной Африки наблюдали за н...  \n",
       "26  Ученые из Израиля, США и Швеции проверили, как...  \n",
       "33  Биологи из Германии попытались понять, почему ...  \n",
       "48  Биологи из Нидерландов смогли снизить частоту ...  \n",
       "52  Автоматическая камера, установленная на вершин...  \n",
       "63  Немецкие ученые из эксперимента CONUS пока не ...  \n",
       "65  Китайские физики пропустили излучение сапфиров...  "
      ]
     },
     "execution_count": 40,
     "metadata": {},
     "output_type": "execute_result"
    }
   ],
   "source": [
    "# str уже не нужен\n",
    "\n",
    "df[df[\"rubrics\"].isin([\"Зоология\", \"Физика\"])]"
   ]
  },
  {
   "cell_type": "markdown",
   "metadata": {},
   "source": [
    "**Сюжет 3. Разделение рубрик на несколько столбцов.** Если нам для каких-то целей будет удобнее распределить рубрики по разным столбцам (одна рубрика – один столбец), можно воспользоваться методом `.split()`, который тоже хранится внутри набора `str`:"
   ]
  },
  {
   "cell_type": "code",
   "execution_count": 41,
   "metadata": {},
   "outputs": [
    {
     "data": {
      "text/plain": [
       "0                                        [Медицина]\n",
       "1                                        [Медицина]\n",
       "2                                        [Медицина]\n",
       "3                     [Зоология, Экология и климат]\n",
       "4                                      [Астрономия]\n",
       "                          ...                      \n",
       "64                                       [Геология]\n",
       "65                                         [Физика]\n",
       "66                                     [Астрономия]\n",
       "67    [Технологии, IT, Медицина, Биология, Гаджеты]\n",
       "68                                     [Астрономия]\n",
       "Name: rubrics, Length: 69, dtype: object"
      ]
     },
     "execution_count": 41,
     "metadata": {},
     "output_type": "execute_result"
    }
   ],
   "source": [
    "df[\"rubrics\"].str.split(\", \")"
   ]
  },
  {
   "cell_type": "markdown",
   "metadata": {},
   "source": [
    "По умолчанию метод `.split()` в `pandas`, как и в стандартном Python, возвращает список со строками, причём проделывает это для всех ячеек. Это не всегда удобно, при выгрузке в файл это все превратится в строки со скобками и запятыми. Добавим аргумент `expand`, который «растянет» содержимое список на столбцы:"
   ]
  },
  {
   "cell_type": "code",
   "execution_count": 42,
   "metadata": {},
   "outputs": [
    {
     "data": {
      "text/html": [
       "<div>\n",
       "<style scoped>\n",
       "    .dataframe tbody tr th:only-of-type {\n",
       "        vertical-align: middle;\n",
       "    }\n",
       "\n",
       "    .dataframe tbody tr th {\n",
       "        vertical-align: top;\n",
       "    }\n",
       "\n",
       "    .dataframe thead th {\n",
       "        text-align: right;\n",
       "    }\n",
       "</style>\n",
       "<table border=\"1\" class=\"dataframe\">\n",
       "  <thead>\n",
       "    <tr style=\"text-align: right;\">\n",
       "      <th></th>\n",
       "      <th>0</th>\n",
       "      <th>1</th>\n",
       "      <th>2</th>\n",
       "      <th>3</th>\n",
       "      <th>4</th>\n",
       "    </tr>\n",
       "  </thead>\n",
       "  <tbody>\n",
       "    <tr>\n",
       "      <th>0</th>\n",
       "      <td>Медицина</td>\n",
       "      <td>None</td>\n",
       "      <td>None</td>\n",
       "      <td>None</td>\n",
       "      <td>None</td>\n",
       "    </tr>\n",
       "    <tr>\n",
       "      <th>1</th>\n",
       "      <td>Медицина</td>\n",
       "      <td>None</td>\n",
       "      <td>None</td>\n",
       "      <td>None</td>\n",
       "      <td>None</td>\n",
       "    </tr>\n",
       "    <tr>\n",
       "      <th>2</th>\n",
       "      <td>Медицина</td>\n",
       "      <td>None</td>\n",
       "      <td>None</td>\n",
       "      <td>None</td>\n",
       "      <td>None</td>\n",
       "    </tr>\n",
       "    <tr>\n",
       "      <th>3</th>\n",
       "      <td>Зоология</td>\n",
       "      <td>Экология и климат</td>\n",
       "      <td>None</td>\n",
       "      <td>None</td>\n",
       "      <td>None</td>\n",
       "    </tr>\n",
       "    <tr>\n",
       "      <th>4</th>\n",
       "      <td>Астрономия</td>\n",
       "      <td>None</td>\n",
       "      <td>None</td>\n",
       "      <td>None</td>\n",
       "      <td>None</td>\n",
       "    </tr>\n",
       "    <tr>\n",
       "      <th>...</th>\n",
       "      <td>...</td>\n",
       "      <td>...</td>\n",
       "      <td>...</td>\n",
       "      <td>...</td>\n",
       "      <td>...</td>\n",
       "    </tr>\n",
       "    <tr>\n",
       "      <th>64</th>\n",
       "      <td>Геология</td>\n",
       "      <td>None</td>\n",
       "      <td>None</td>\n",
       "      <td>None</td>\n",
       "      <td>None</td>\n",
       "    </tr>\n",
       "    <tr>\n",
       "      <th>65</th>\n",
       "      <td>Физика</td>\n",
       "      <td>None</td>\n",
       "      <td>None</td>\n",
       "      <td>None</td>\n",
       "      <td>None</td>\n",
       "    </tr>\n",
       "    <tr>\n",
       "      <th>66</th>\n",
       "      <td>Астрономия</td>\n",
       "      <td>None</td>\n",
       "      <td>None</td>\n",
       "      <td>None</td>\n",
       "      <td>None</td>\n",
       "    </tr>\n",
       "    <tr>\n",
       "      <th>67</th>\n",
       "      <td>Технологии</td>\n",
       "      <td>IT</td>\n",
       "      <td>Медицина</td>\n",
       "      <td>Биология</td>\n",
       "      <td>Гаджеты</td>\n",
       "    </tr>\n",
       "    <tr>\n",
       "      <th>68</th>\n",
       "      <td>Астрономия</td>\n",
       "      <td>None</td>\n",
       "      <td>None</td>\n",
       "      <td>None</td>\n",
       "      <td>None</td>\n",
       "    </tr>\n",
       "  </tbody>\n",
       "</table>\n",
       "<p>69 rows × 5 columns</p>\n",
       "</div>"
      ],
      "text/plain": [
       "             0                  1         2         3        4\n",
       "0     Медицина               None      None      None     None\n",
       "1     Медицина               None      None      None     None\n",
       "2     Медицина               None      None      None     None\n",
       "3     Зоология  Экология и климат      None      None     None\n",
       "4   Астрономия               None      None      None     None\n",
       "..         ...                ...       ...       ...      ...\n",
       "64    Геология               None      None      None     None\n",
       "65      Физика               None      None      None     None\n",
       "66  Астрономия               None      None      None     None\n",
       "67  Технологии                 IT  Медицина  Биология  Гаджеты\n",
       "68  Астрономия               None      None      None     None\n",
       "\n",
       "[69 rows x 5 columns]"
      ]
     },
     "execution_count": 42,
     "metadata": {},
     "output_type": "execute_result"
    }
   ],
   "source": [
    "df_rubs = df[\"rubrics\"].str.split(\", \", expand = True)\n",
    "df_rubs"
   ]
  },
  {
   "cell_type": "markdown",
   "metadata": {},
   "source": [
    "Максимальное число рубрик здесь пять, у новостей, которые относятся к меньшему числу рубрик стоят пустые значения (здесь `None` и `nan` равнозначны). Присвоим столбцам названия:"
   ]
  },
  {
   "cell_type": "code",
   "execution_count": 43,
   "metadata": {},
   "outputs": [],
   "source": [
    "df_rubs.columns = [\"rubric01\", \"rubric02\", \"rubric03\", \"rubric04\", \"rubric05\"]"
   ]
  },
  {
   "cell_type": "markdown",
   "metadata": {},
   "source": [
    "Объединим наш старый датафрейм `df` с `df_rubs` по столбцам (`axis = 1`, то есть приклеиваем данные из `df_rubs` справа, а не снизу в виде новых строк):"
   ]
  },
  {
   "cell_type": "code",
   "execution_count": 44,
   "metadata": {},
   "outputs": [
    {
     "data": {
      "text/html": [
       "<div>\n",
       "<style scoped>\n",
       "    .dataframe tbody tr th:only-of-type {\n",
       "        vertical-align: middle;\n",
       "    }\n",
       "\n",
       "    .dataframe tbody tr th {\n",
       "        vertical-align: top;\n",
       "    }\n",
       "\n",
       "    .dataframe thead th {\n",
       "        text-align: right;\n",
       "    }\n",
       "</style>\n",
       "<table border=\"1\" class=\"dataframe\">\n",
       "  <thead>\n",
       "    <tr style=\"text-align: right;\">\n",
       "      <th></th>\n",
       "      <th>title</th>\n",
       "      <th>author</th>\n",
       "      <th>date</th>\n",
       "      <th>diffc</th>\n",
       "      <th>rubrics</th>\n",
       "      <th>text</th>\n",
       "      <th>rubric01</th>\n",
       "      <th>rubric02</th>\n",
       "      <th>rubric03</th>\n",
       "      <th>rubric04</th>\n",
       "      <th>rubric05</th>\n",
       "    </tr>\n",
       "  </thead>\n",
       "  <tbody>\n",
       "    <tr>\n",
       "      <th>0</th>\n",
       "      <td>Австралийских комаров-кусак обвинили в распрос...</td>\n",
       "      <td>2024-01-27</td>\n",
       "      <td>Слава Гоменюк</td>\n",
       "      <td>3.2</td>\n",
       "      <td>Медицина</td>\n",
       "      <td>Австралийские ученые провели обширный анализ р...</td>\n",
       "      <td>Медицина</td>\n",
       "      <td>None</td>\n",
       "      <td>None</td>\n",
       "      <td>None</td>\n",
       "      <td>None</td>\n",
       "    </tr>\n",
       "    <tr>\n",
       "      <th>1</th>\n",
       "      <td>Нейросеть научили определять симметричность гр...</td>\n",
       "      <td>2024-01-27</td>\n",
       "      <td>Олег Лищук</td>\n",
       "      <td>1.5</td>\n",
       "      <td>Медицина</td>\n",
       "      <td>Испанские исследователи обучили нейросеть с вы...</td>\n",
       "      <td>Медицина</td>\n",
       "      <td>None</td>\n",
       "      <td>None</td>\n",
       "      <td>None</td>\n",
       "      <td>None</td>\n",
       "    </tr>\n",
       "    <tr>\n",
       "      <th>2</th>\n",
       "      <td>Снижение веса сохранилось через год после курс...</td>\n",
       "      <td>2024-01-27</td>\n",
       "      <td>Олег Лищук</td>\n",
       "      <td>1.8</td>\n",
       "      <td>Медицина</td>\n",
       "      <td>Американские исследователи проанализировали ба...</td>\n",
       "      <td>Медицина</td>\n",
       "      <td>None</td>\n",
       "      <td>None</td>\n",
       "      <td>None</td>\n",
       "      <td>None</td>\n",
       "    </tr>\n",
       "    <tr>\n",
       "      <th>3</th>\n",
       "      <td>Львы стали реже охотиться на зебр из-за распро...</td>\n",
       "      <td>2024-01-27</td>\n",
       "      <td>Сергей Коленов</td>\n",
       "      <td>4.1</td>\n",
       "      <td>Зоология, Экология и климат</td>\n",
       "      <td>Ученые выяснили, что появление в Восточной Афр...</td>\n",
       "      <td>Зоология</td>\n",
       "      <td>Экология и климат</td>\n",
       "      <td>None</td>\n",
       "      <td>None</td>\n",
       "      <td>None</td>\n",
       "    </tr>\n",
       "    <tr>\n",
       "      <th>4</th>\n",
       "      <td>Георадар «Персеверанса» увидел древнюю эрозию ...</td>\n",
       "      <td>2024-01-26</td>\n",
       "      <td>Винера Андреева</td>\n",
       "      <td>4.6</td>\n",
       "      <td>Астрономия</td>\n",
       "      <td>Планетологи представили результаты анализа гео...</td>\n",
       "      <td>Астрономия</td>\n",
       "      <td>None</td>\n",
       "      <td>None</td>\n",
       "      <td>None</td>\n",
       "      <td>None</td>\n",
       "    </tr>\n",
       "    <tr>\n",
       "      <th>...</th>\n",
       "      <td>...</td>\n",
       "      <td>...</td>\n",
       "      <td>...</td>\n",
       "      <td>...</td>\n",
       "      <td>...</td>\n",
       "      <td>...</td>\n",
       "      <td>...</td>\n",
       "      <td>...</td>\n",
       "      <td>...</td>\n",
       "      <td>...</td>\n",
       "      <td>...</td>\n",
       "    </tr>\n",
       "    <tr>\n",
       "      <th>64</th>\n",
       "      <td>Землетрясения в Турции в феврале 2023 года про...</td>\n",
       "      <td>2024-01-23</td>\n",
       "      <td>Винера Андреева</td>\n",
       "      <td>5.7</td>\n",
       "      <td>Геология</td>\n",
       "      <td>Геологи исследовали механику разрушительного д...</td>\n",
       "      <td>Геология</td>\n",
       "      <td>None</td>\n",
       "      <td>None</td>\n",
       "      <td>None</td>\n",
       "      <td>None</td>\n",
       "    </tr>\n",
       "    <tr>\n",
       "      <th>65</th>\n",
       "      <td>Вода и ниобат лития превратили красный свет в ...</td>\n",
       "      <td>2024-01-24</td>\n",
       "      <td>Артем Моськин</td>\n",
       "      <td>5.1</td>\n",
       "      <td>Физика</td>\n",
       "      <td>Китайские физики пропустили излучение сапфиров...</td>\n",
       "      <td>Физика</td>\n",
       "      <td>None</td>\n",
       "      <td>None</td>\n",
       "      <td>None</td>\n",
       "      <td>None</td>\n",
       "    </tr>\n",
       "    <tr>\n",
       "      <th>66</th>\n",
       "      <td>Астрономы нашли следы вещества «звезды Барбиге...</td>\n",
       "      <td>2024-01-25</td>\n",
       "      <td>Александр Войтюк</td>\n",
       "      <td>5.5</td>\n",
       "      <td>Астрономия</td>\n",
       "      <td>Астрономы обнаружили следы вещества массивной ...</td>\n",
       "      <td>Астрономия</td>\n",
       "      <td>None</td>\n",
       "      <td>None</td>\n",
       "      <td>None</td>\n",
       "      <td>None</td>\n",
       "    </tr>\n",
       "    <tr>\n",
       "      <th>67</th>\n",
       "      <td>Универсальный интерфейс поможет конструировать...</td>\n",
       "      <td>2024-01-26</td>\n",
       "      <td>Олег Лищук</td>\n",
       "      <td>4.4</td>\n",
       "      <td>Технологии, IT, Медицина, Биология, Гаджеты</td>\n",
       "      <td>Американские исследователи разработали масштаб...</td>\n",
       "      <td>Технологии</td>\n",
       "      <td>IT</td>\n",
       "      <td>Медицина</td>\n",
       "      <td>Биология</td>\n",
       "      <td>Гаджеты</td>\n",
       "    </tr>\n",
       "    <tr>\n",
       "      <th>68</th>\n",
       "      <td>Георадар «Персеверанса» увидел древнюю эрозию ...</td>\n",
       "      <td>2024-01-26</td>\n",
       "      <td>Винера Андреева</td>\n",
       "      <td>4.6</td>\n",
       "      <td>Астрономия</td>\n",
       "      <td>Планетологи представили результаты анализа гео...</td>\n",
       "      <td>Астрономия</td>\n",
       "      <td>None</td>\n",
       "      <td>None</td>\n",
       "      <td>None</td>\n",
       "      <td>None</td>\n",
       "    </tr>\n",
       "  </tbody>\n",
       "</table>\n",
       "<p>69 rows × 11 columns</p>\n",
       "</div>"
      ],
      "text/plain": [
       "                                                title      author  \\\n",
       "0   Австралийских комаров-кусак обвинили в распрос...  2024-01-27   \n",
       "1   Нейросеть научили определять симметричность гр...  2024-01-27   \n",
       "2   Снижение веса сохранилось через год после курс...  2024-01-27   \n",
       "3   Львы стали реже охотиться на зебр из-за распро...  2024-01-27   \n",
       "4   Георадар «Персеверанса» увидел древнюю эрозию ...  2024-01-26   \n",
       "..                                                ...         ...   \n",
       "64  Землетрясения в Турции в феврале 2023 года про...  2024-01-23   \n",
       "65  Вода и ниобат лития превратили красный свет в ...  2024-01-24   \n",
       "66  Астрономы нашли следы вещества «звезды Барбиге...  2024-01-25   \n",
       "67  Универсальный интерфейс поможет конструировать...  2024-01-26   \n",
       "68  Георадар «Персеверанса» увидел древнюю эрозию ...  2024-01-26   \n",
       "\n",
       "                date  diffc                                      rubrics  \\\n",
       "0      Слава Гоменюк    3.2                                     Медицина   \n",
       "1         Олег Лищук    1.5                                     Медицина   \n",
       "2         Олег Лищук    1.8                                     Медицина   \n",
       "3     Сергей Коленов    4.1                  Зоология, Экология и климат   \n",
       "4    Винера Андреева    4.6                                   Астрономия   \n",
       "..               ...    ...                                          ...   \n",
       "64   Винера Андреева    5.7                                     Геология   \n",
       "65     Артем Моськин    5.1                                       Физика   \n",
       "66  Александр Войтюк    5.5                                   Астрономия   \n",
       "67        Олег Лищук    4.4  Технологии, IT, Медицина, Биология, Гаджеты   \n",
       "68   Винера Андреева    4.6                                   Астрономия   \n",
       "\n",
       "                                                 text    rubric01  \\\n",
       "0   Австралийские ученые провели обширный анализ р...    Медицина   \n",
       "1   Испанские исследователи обучили нейросеть с вы...    Медицина   \n",
       "2   Американские исследователи проанализировали ба...    Медицина   \n",
       "3   Ученые выяснили, что появление в Восточной Афр...    Зоология   \n",
       "4   Планетологи представили результаты анализа гео...  Астрономия   \n",
       "..                                                ...         ...   \n",
       "64  Геологи исследовали механику разрушительного д...    Геология   \n",
       "65  Китайские физики пропустили излучение сапфиров...      Физика   \n",
       "66  Астрономы обнаружили следы вещества массивной ...  Астрономия   \n",
       "67  Американские исследователи разработали масштаб...  Технологии   \n",
       "68  Планетологи представили результаты анализа гео...  Астрономия   \n",
       "\n",
       "             rubric02  rubric03  rubric04 rubric05  \n",
       "0                None      None      None     None  \n",
       "1                None      None      None     None  \n",
       "2                None      None      None     None  \n",
       "3   Экология и климат      None      None     None  \n",
       "4                None      None      None     None  \n",
       "..                ...       ...       ...      ...  \n",
       "64               None      None      None     None  \n",
       "65               None      None      None     None  \n",
       "66               None      None      None     None  \n",
       "67                 IT  Медицина  Биология  Гаджеты  \n",
       "68               None      None      None     None  \n",
       "\n",
       "[69 rows x 11 columns]"
      ]
     },
     "execution_count": 44,
     "metadata": {},
     "output_type": "execute_result"
    }
   ],
   "source": [
    "final = pd.concat([df, df_rubs], axis = 1)\n",
    "final"
   ]
  },
  {
   "cell_type": "code",
   "execution_count": 45,
   "metadata": {},
   "outputs": [],
   "source": [
    "final.to_csv(\"nplus1_upd.csv\")"
   ]
  }
 ],
 "metadata": {
  "kernelspec": {
   "display_name": "Python 3",
   "language": "python",
   "name": "python3"
  },
  "language_info": {
   "codemirror_mode": {
    "name": "ipython",
    "version": 3
   },
   "file_extension": ".py",
   "mimetype": "text/x-python",
   "name": "python",
   "nbconvert_exporter": "python",
   "pygments_lexer": "ipython3",
   "version": "3.7.4"
  }
 },
 "nbformat": 4,
 "nbformat_minor": 2
}
