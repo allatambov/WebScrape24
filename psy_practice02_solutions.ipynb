{
  "cells": [
    {
      "cell_type": "markdown",
      "metadata": {
        "id": "jds3P1Q8p10f"
      },
      "source": [
        "# Web-scraping: сбор данных из баз данных и интернет-источников\n",
        "\n",
        "*Алла Тамбовцева*\n",
        "\n",
        "## Практикум 1.2. Парсинг с `BeautifulSoup`: тэги и атрибуты"
      ]
    },
    {
      "cell_type": "markdown",
      "metadata": {
        "id": "w9ohdjDwp10h"
      },
      "source": [
        "Мы уже немного познакомились со структурой html-страниц и поиском информации по тэгам, теперь попробуем выгрузить информацию из более интересной страницы, а точнее, с сайта [nplus1.ru](https://nplus1.ru/). Наша задача – выгрузить недавние новости в датафрейм `pandas`, чтобы потом сохранить все в файл Excel.\n",
        "\n",
        "Для работы нам снова понадобится модуль `requests` для отправки запросов, для «подключения» к странице и получения ее содержимого в виде строки, и функция `BeautifulSoup` из библиотеки `bs4` для удобного поиска по полученной строке:"
      ]
    },
    {
      "cell_type": "code",
      "execution_count": 1,
      "metadata": {
        "id": "JEcAFjxbp10i"
      },
      "outputs": [],
      "source": [
        "import requests\n",
        "from bs4 import BeautifulSoup"
      ]
    },
    {
      "cell_type": "markdown",
      "metadata": {
        "id": "tCysgBU1p10j"
      },
      "source": [
        "Сохраним ссылку на главную страницу в переменную `main` и отправим запрос к ней с помощью функции `get()` из `requests`:"
      ]
    },
    {
      "cell_type": "code",
      "execution_count": 2,
      "metadata": {
        "id": "4DOtZb-_p10j"
      },
      "outputs": [],
      "source": [
        "main = \"https://nplus1.ru/\"\n",
        "page = requests.get(main)"
      ]
    },
    {
      "cell_type": "markdown",
      "metadata": {
        "id": "f-vYqZ2Mp10j"
      },
      "source": [
        "Заберём исходный код страницы и преобразуем строку с ним в объект `BeautifulSoup`:"
      ]
    },
    {
      "cell_type": "code",
      "execution_count": 3,
      "metadata": {
        "id": "vT3VFt6Qp10j"
      },
      "outputs": [],
      "source": [
        "soup = BeautifulSoup(page.text)"
      ]
    },
    {
      "cell_type": "markdown",
      "metadata": {
        "id": "YYG2XzFVp10j"
      },
      "source": [
        "Чтобы сгрузить все новости с главной страницы сайта, нужно собрать все ссылки на страницы с этими новостями. Ссылки в html-файле всегда заключены в тэг `<a></a>` и имеют атрибут `href`. Найдем кусочки кода HTML, соответствующие всем ссылкам на главной странице сайта:"
      ]
    },
    {
      "cell_type": "code",
      "execution_count": 4,
      "metadata": {
        "colab": {
          "base_uri": "https://localhost:8080/"
        },
        "id": "XD-Izfz7p10j",
        "outputId": "740e16d6-ce5e-4427-85ea-4f1b53935225"
      },
      "outputs": [
        {
          "output_type": "execute_result",
          "data": {
            "text/plain": [
              "[<a class=\"hover:underline transition-colors duration-75\" href=\"https://nplus1.ru/search?tags=880\">Астрономия</a>,\n",
              " <a class=\"hover:underline transition-colors duration-75\" href=\"https://nplus1.ru/search?tags=768\">Генетика</a>,\n",
              " <a class=\"hover:underline transition-colors duration-75\" href=\"https://nplus1.ru/search?tags=890\">Математика</a>,\n",
              " <a class=\"hover:underline transition-colors duration-75\" href=\"https://nplus1.ru/search?tags=871\">Космонавтика</a>,\n",
              " <a class=\"hover:underline transition-colors duration-75\" href=\"https://nplus1.ru/search?tags=876\">Археология</a>,\n",
              " <a class=\"hover:underline transition-colors duration-75\" href=\"https://nplus1.ru/search?tags=775\">Нейронауки</a>,\n",
              " <a class=\"hover:underline transition-colors duration-75\" href=\"https://nplus1.ru/search?tags=767\">На мышах</a>,\n",
              " <a class=\"hover:underline transition-colors duration-75\" href=\"https://nplus1.ru/search?tags=771\">Звук</a>,\n",
              " <a class=\"hover:underline transition-colors duration-75\" href=\"https://nplus1.ru/search?tags=772\">Красота</a>,\n",
              " <a class=\"hover:underline transition-colors duration-75\" href=\"https://nplus1.ru/search?tags=778\">Научные закрытия</a>]"
            ]
          },
          "metadata": {},
          "execution_count": 4
        }
      ],
      "source": [
        "links_raw = soup.find_all(\"a\")\n",
        "links_raw[10:20]  # несколько штук для примера"
      ]
    },
    {
      "cell_type": "markdown",
      "metadata": {
        "id": "zgEL1VJap10k"
      },
      "source": [
        "Каждый элемент возвращаемого списка имеет тип `BeautifulSoup` и структуру, очень похожую на словарь. Например, ссылка `<a class=\"hover:underline transition-colors duration-75\" href=\"/search/empty/768\">Генетика</a>` изнутри выглядит как словарь следующего вида:\n",
        "\n",
        "    {'href' : '/search/empty/768',\n",
        "     'class' : 'hover:underline transition-colors duration-75'}.\n",
        "    \n",
        "Как мы помним, значение по ключу из словаря можно вызвать с помощью метода `.get()`. Давайте извлечем значения по ключу `href` из каждого элемента списка `links`:"
      ]
    },
    {
      "cell_type": "code",
      "execution_count": 5,
      "metadata": {
        "colab": {
          "base_uri": "https://localhost:8080/"
        },
        "id": "PYCkZG3ip10l",
        "outputId": "e8c898a2-ba54-4251-f030-d2acce1bcead"
      },
      "outputs": [
        {
          "output_type": "execute_result",
          "data": {
            "text/plain": [
              "['https://nplus1.ru/search?tags=880',\n",
              " 'https://nplus1.ru/search?tags=768',\n",
              " 'https://nplus1.ru/search?tags=890',\n",
              " 'https://nplus1.ru/search?tags=871',\n",
              " 'https://nplus1.ru/search?tags=876',\n",
              " 'https://nplus1.ru/search?tags=775',\n",
              " 'https://nplus1.ru/search?tags=767',\n",
              " 'https://nplus1.ru/search?tags=771',\n",
              " 'https://nplus1.ru/search?tags=772',\n",
              " 'https://nplus1.ru/search?tags=778']"
            ]
          },
          "metadata": {},
          "execution_count": 5
        }
      ],
      "source": [
        "links = [li.get(\"href\") for li in links_raw]\n",
        "links[10:20]  # несколько штук для примера"
      ]
    },
    {
      "cell_type": "markdown",
      "metadata": {
        "id": "qLgk0f9Jp10l"
      },
      "source": [
        "Ссылок в списке выше много. Но нам нужны только новости – ссылки, которые начинаются с `https://nplus1.ru/news`. Создадим пустой список `news` и будем добавлять в него только ссылки, которые удовлетворяют этому условию."
      ]
    },
    {
      "cell_type": "code",
      "execution_count": 6,
      "metadata": {
        "id": "RLEL5Cxqp10l"
      },
      "outputs": [],
      "source": [
        "news = []\n",
        "for li in links:\n",
        "    if \"https://nplus1.ru/news/\" in li:\n",
        "        news.append(li)"
      ]
    },
    {
      "cell_type": "code",
      "execution_count": 7,
      "metadata": {
        "colab": {
          "base_uri": "https://localhost:8080/"
        },
        "id": "BhOKWngRp10l",
        "outputId": "9ad4ff2a-fd60-4e2d-a0e1-7d118181c457"
      },
      "outputs": [
        {
          "output_type": "execute_result",
          "data": {
            "text/plain": [
              "['https://nplus1.ru/news/2015/09/21/editor-thy-name',\n",
              " 'https://nplus1.ru/news/2024/01/19/bempedoic-acid',\n",
              " 'https://nplus1.ru/news/2024/01/19/peregrine-fall',\n",
              " 'https://nplus1.ru/news/2024/01/19/iup-in-china',\n",
              " 'https://nplus1.ru/news/2024/01/19/pig-liver',\n",
              " 'https://nplus1.ru/news/2024/01/19/ulfberht-sword',\n",
              " 'https://nplus1.ru/news/2024/01/19/bottom-trawling',\n",
              " 'https://nplus1.ru/news/2024/01/19/dna-from-birch-tar',\n",
              " 'https://nplus1.ru/news/2024/01/19/antechinus-mimetes',\n",
              " 'https://nplus1.ru/news/2024/01/19/just-do-not-smoke']"
            ]
          },
          "metadata": {},
          "execution_count": 7
        }
      ],
      "source": [
        "news[0:10]"
      ]
    },
    {
      "cell_type": "markdown",
      "metadata": {
        "id": "1xJAdsd6p10l"
      },
      "source": [
        "Первая ссылка ведет не совсем на новость, скорее, на объявление, поэтому давайте ее уберем:"
      ]
    },
    {
      "cell_type": "code",
      "execution_count": 8,
      "metadata": {
        "id": "Z77GMKXep10l"
      },
      "outputs": [],
      "source": [
        "news = news[1:]"
      ]
    },
    {
      "cell_type": "markdown",
      "metadata": {
        "id": "ZQtTo5Ecp10l"
      },
      "source": [
        "Теперь наша задача сводится к следующему: изучить одну страницу с новостью, научиться из нее вытаскивать текст и всю необходимую информацию, а потом применить весь набор действий к каждой ссылке из `news` в цикле. Посмотрим на новость с индексом 0, у вас может быть другая, новости обновляются."
      ]
    },
    {
      "cell_type": "code",
      "execution_count": 9,
      "metadata": {
        "colab": {
          "base_uri": "https://localhost:8080/"
        },
        "id": "O7I8qRJkp10m",
        "outputId": "957bc150-9824-41d0-f960-b6507a210c31"
      },
      "outputs": [
        {
          "output_type": "stream",
          "name": "stdout",
          "text": [
            "https://nplus1.ru/news/2024/01/19/bempedoic-acid\n"
          ]
        }
      ],
      "source": [
        "link0 = news[0]\n",
        "print(link0)"
      ]
    },
    {
      "cell_type": "markdown",
      "metadata": {
        "id": "dLwYfBWGp10m"
      },
      "source": [
        "### Задача 1\n",
        "\n",
        "Отправьте запрос к странице по ссылке `link0` с одной новостью, получите результат в виде объекта `BeautifulSoup` и сохраните его как `soup0`."
      ]
    },
    {
      "cell_type": "code",
      "execution_count": 10,
      "metadata": {
        "id": "6DXYLmdnp10m"
      },
      "outputs": [],
      "source": [
        "page0 = requests.get(link0)\n",
        "soup0 = BeautifulSoup(page0.text)"
      ]
    },
    {
      "cell_type": "markdown",
      "metadata": {
        "id": "lhYSXcqrp10m"
      },
      "source": [
        "### Задача 2\n",
        "\n",
        "Найдите заголовок новости и сохраните его в переменную `title`."
      ]
    },
    {
      "cell_type": "code",
      "execution_count": 12,
      "metadata": {
        "colab": {
          "base_uri": "https://localhost:8080/"
        },
        "id": "jcGixQmpp10m",
        "outputId": "9eabc495-fc92-40b3-c945-21a9d4ca615d"
      },
      "outputs": [
        {
          "output_type": "stream",
          "name": "stdout",
          "text": [
            "Бемпедоевая кислота снизила риск инфаркта и инсульта. И других серьезных сердечно-сосудистых событий\n"
          ]
        }
      ],
      "source": [
        "title = soup0.find(\"title\").text\n",
        "title = title.replace(\"\\xa0\", \" \") # заменяем неразрывный пробел на обычный\n",
        "print(title)"
      ]
    },
    {
      "cell_type": "markdown",
      "metadata": {
        "id": "nRu1Ibtrp10m"
      },
      "source": [
        "### Задача 3\n",
        "\n",
        "Найдите имя автора новости и дату её публикации. Сохраните их в `author` и `date` соответственно."
      ]
    },
    {
      "cell_type": "code",
      "execution_count": 13,
      "metadata": {
        "colab": {
          "base_uri": "https://localhost:8080/"
        },
        "id": "enQtWjWDp10m",
        "outputId": "bef89c2e-0860-4235-e5f7-b3eddd55b796"
      },
      "outputs": [
        {
          "output_type": "execute_result",
          "data": {
            "text/plain": [
              "[<meta charset=\"utf-8\"/>,\n",
              " <meta content=\"width=device-width, initial-scale=1\" name=\"viewport\"/>,\n",
              " <meta content=\"#f26e40\" name=\"msapplication-TileColor\"/>,\n",
              " <meta content=\"#ffffff\" name=\"theme-color\"/>,\n",
              " <meta content=\"8c90b02c84ac3b72\" name=\"yandex-verification\"/>,\n",
              " <meta content=\"b419949322895fc9106e24ed01be58ac\" name=\"pmail-verification\"/>,\n",
              " <meta content=\"N + 1 — главное издание о науке, технике и технологиях\" name=\"description\"/>,\n",
              " <meta content=\"N + 1 — главное издание о науке, технике и технологиях\" property=\"og:site_name\"/>,\n",
              " <meta content=\"Бемпедоевая кислота снизила риск инфаркта и инсульта\" property=\"og:title\"/>,\n",
              " <meta content=\"https://minio.nplus1.ru/app-images/879086/65a95dcee874a_cover_share.png\" property=\"og:image\"/>,\n",
              " <meta content=\"https://nplus1.ru/news/2024/01/19/bempedoic-acid\" property=\"og:url\"/>,\n",
              " <meta content=\"N + 1 — главное издание о науке, технике и технологиях\" property=\"og:description\"/>,\n",
              " <meta content=\"article\" property=\"og:type\"/>,\n",
              " <meta content=\"2024-01-19\" itemprop=\"datePublished\"/>,\n",
              " <meta content=\"2024-01-19\" itemprop=\"datePublished\"/>,\n",
              " <meta content=\"Слава Гоменюк\" name=\"mediator_author\"/>,\n",
              " <meta content=\"Слава Гоменюк\" name=\"author\"/>,\n",
              " <meta content=\"\" name=\"copyright\"/>,\n",
              " <meta content=\"summary_large_image\" name=\"twitter:card\"/>,\n",
              " <meta content=\"@nplusodin\" name=\"twitter:site\"/>,\n",
              " <meta content=\"Бемпедоевая кислота снизила риск инфаркта и инсульта\" name=\"twitter:title\"/>,\n",
              " <meta content=\"N + 1 — главное издание о науке, технике и технологиях\" name=\"twitter:description\"/>,\n",
              " <meta content=\"https://minio.nplus1.ru/app-images/879086/65a95dcee874a_cover_share.png\" name=\"twitter:image\"/>]"
            ]
          },
          "metadata": {},
          "execution_count": 13
        }
      ],
      "source": [
        "# находим все тэги meta\n",
        "soup0.find_all(\"meta\")"
      ]
    },
    {
      "cell_type": "code",
      "execution_count": 14,
      "metadata": {
        "colab": {
          "base_uri": "https://localhost:8080/"
        },
        "id": "WE3lNjKVp10n",
        "outputId": "c4ba4f90-7372-42e1-e9f2-d6a407d8bd5c"
      },
      "outputs": [
        {
          "output_type": "execute_result",
          "data": {
            "text/plain": [
              "<meta content=\"2024-01-19\" itemprop=\"datePublished\"/>"
            ]
          },
          "metadata": {},
          "execution_count": 14
        }
      ],
      "source": [
        "# уточняем критерии поиска\n",
        "# указываем значение атрибута itemprop\n",
        "\n",
        "soup0.find(\"meta\", {\"itemprop\" : \"datePublished\"})"
      ]
    },
    {
      "cell_type": "code",
      "source": [
        "# забираем содержимое из атрибута content\n",
        "# по анологии со ссылкой и href\n",
        "\n",
        "soup0.find(\"meta\", {\"itemprop\" : \"datePublished\"}).get(\"content\")"
      ],
      "metadata": {
        "colab": {
          "base_uri": "https://localhost:8080/",
          "height": 35
        },
        "id": "GBlEslFlq-S8",
        "outputId": "451bd9e4-fdbe-4d5f-d145-82d89c732680"
      },
      "execution_count": 15,
      "outputs": [
        {
          "output_type": "execute_result",
          "data": {
            "text/plain": [
              "'2024-01-19'"
            ],
            "application/vnd.google.colaboratory.intrinsic+json": {
              "type": "string"
            }
          },
          "metadata": {},
          "execution_count": 15
        }
      ]
    },
    {
      "cell_type": "code",
      "execution_count": 16,
      "metadata": {
        "colab": {
          "base_uri": "https://localhost:8080/"
        },
        "id": "bb_yAx2up10n",
        "outputId": "4843c6e1-8d89-4917-a3c4-5f4763956489"
      },
      "outputs": [
        {
          "output_type": "stream",
          "name": "stdout",
          "text": [
            "2024-01-19 Слава Гоменюк\n"
          ]
        }
      ],
      "source": [
        "# все вместе и аналогично для автора\n",
        "\n",
        "date = soup0.find(\"meta\", {\"itemprop\" : \"datePublished\"}).get(\"content\")\n",
        "author = soup0.find(\"meta\", {\"name\" : \"mediator_author\"}).get(\"content\")\n",
        "\n",
        "print(date, author)"
      ]
    },
    {
      "cell_type": "markdown",
      "metadata": {
        "id": "jpv6qYu0p10n"
      },
      "source": [
        "### Задача 4\n",
        "\n",
        "Найдите сложность новости и рубрики, к которым она относится. Сохраните сложность в переменную `diffc`. Рубрики сначала можно сохранить в список, а затем его элементы объединить в одну строку `rubs`.\n",
        "\n",
        "**Подсказка:** чтобы упростить себе жизнь, найдите сначала раздел (`div`), в котором на странице хранится дата и время публикации, сложность и рубрики, а затем выполняйте поиск в рамках этого раздела."
      ]
    },
    {
      "cell_type": "code",
      "execution_count": null,
      "metadata": {
        "id": "XE2TsD6up10n"
      },
      "outputs": [],
      "source": [
        "# находим подходящий фрагмент кода\n",
        "\n",
        "div = soup0.find(\"div\",\n",
        "                 {\"class\" : \"flex flex-wrap lg:mb-10 gap-2 text-tags xl:pr-9\"})"
      ]
    },
    {
      "cell_type": "code",
      "execution_count": null,
      "metadata": {
        "id": "m9abeit1p10n"
      },
      "outputs": [],
      "source": [
        "# находим внутри этого фрагмента четвертый элемент с тэгом span\n",
        "# в нем хранится сложность\n",
        "\n",
        "diffc = div.find_all(\"span\")[3].text"
      ]
    },
    {
      "cell_type": "code",
      "execution_count": null,
      "metadata": {
        "id": "vDZbS0uZp10n",
        "outputId": "a999a977-ea7b-4f6a-ac1d-5cf00925862a"
      },
      "outputs": [
        {
          "data": {
            "text/plain": [
              "2.5"
            ]
          },
          "execution_count": 17,
          "metadata": {},
          "output_type": "execute_result"
        }
      ],
      "source": [
        "# при желании можем сразу превратить результат в число типа float, но пока не будем\n",
        "# сделаем после сбора всех значений\n",
        "\n",
        "float(div.find_all(\"span\")[3].text)"
      ]
    },
    {
      "cell_type": "code",
      "execution_count": null,
      "metadata": {
        "id": "8Z_KvHytp10o",
        "outputId": "c07e6cd0-706c-40ba-9d4b-e7ce334366f6"
      },
      "outputs": [
        {
          "data": {
            "text/plain": [
              "'Медицина, Биология'"
            ]
          },
          "execution_count": 18,
          "metadata": {},
          "output_type": "execute_result"
        }
      ],
      "source": [
        "# находим рубрики – все элементы после сложности, может быть несколько\n",
        "# извлекаем текст рубрик\n",
        "# склеиваем в одну строку\n",
        "\n",
        "rubs_raw = div.find_all(\"span\")[4:]\n",
        "rubs_list = [r.text for r in rubs_raw]\n",
        "rubs = \", \".join(rubs_list)\n",
        "rubs"
      ]
    },
    {
      "cell_type": "markdown",
      "metadata": {
        "id": "SvPLc9vLp10o"
      },
      "source": [
        "### Задача 5\n",
        "\n",
        "Соберите из абзацев текст новости и сохраните его в переменную `text`. Избавьтесь от постронних символов (`\\xa0`, `\\n`) в тексте."
      ]
    },
    {
      "cell_type": "code",
      "execution_count": null,
      "metadata": {
        "id": "ANuvK3CIp10o",
        "outputId": "38e9f543-2f2d-47db-e919-5df0750fd72e"
      },
      "outputs": [
        {
          "data": {
            "text/plain": [
              "'Технология помогла мышам лучше восстановиться после ношения гипса Биоинженеры из Гарвардского университета наносили на мышцы гель-эластомер с пружиной внутри и таким образом воспроизводили сокращение и растяжение мышц в обездвиженных конечностях. Технология защитила мышей от атрофии конечностей и запустила рост мышечной ткани. Работа опубликована в журнале Nature Materials. Атрофия мышц — это процесс, при котором происходит истончение мышечных волокон и уменьшение объема мышцы. Атрофия быстро наступает при недостатке физической нагрузки, например, после длительного ношения гипса или у лежачих больных. Это происходит потому, что в обездвиженных мышцах ухудшается кровоток и доставка питательных веществ. А еще мышцам крайне важно постоянно испытывать механическое напряжение, а когда сигналов о сокращении и растяжении мышц нет, организм перестает перестает поддерживать мышечную ткань в рабочем состоянии.  Обездвиженным людям пытаются помочь механотерапией — массажем или компрессионными устройствами. Но такие методы создают концентрическое сжатие мышцы, а вот растяжение и сокращение по длине мышцы раньше никогда не применялось. Тому было сразу два препятствия — отсутствие нужных механических устройств и сложность передачи внешних импульсов на поверхность мышцы.  У Дэвида Муни (David J. Mooney) и его команды из Института биологической инженерии Висса при Гарвардском университете и Гарвардской школы инженерии и прикладных наук имени Джона А. Полсона получилось разрешить обе проблемы. Они разработали гель-эластомер с механической активностью — MAGENTA (mechanically active gel-elastomer-nitinol tissue adhesive), который устанавливается прямо на мышцу и обеспечивает движение мышцы в продольной оси.  Биоинженеры использовали нитинол — сплав титана и никеля с памятью формы, который быстро меняет одну конфигурацию на другую при нагревании примерно до 40 градусов Цельсия. Пружина проводами соединялась с внешним микропроцессором, на котором задавали частоту и продолжительность движений. Пружина нагревалась и срабатывала, — сокращала и растягивала мышцу в след за собой. Нитиноловую пружину покрыли эластомером, который прикреплял имплантат к тканям и защищал мышцу от нагрева.  Биоинженеры попробовали избавиться от проводов, и активировать механизм лазером — так технология стала бы удобнее. Действительно, MAGENTA без каких-либо электрических проводов функционировала как светочувствительный привод при облучении лазером через кожу. Хотя лазерная стимуляция не давала таких же высоких частот, как электрическая, инженеры считают, в будущем это получится улучшить. Для начала команда ученых испытала устройство на изолированной мышце ex vivo, а потом имплантировала его в икроножную мышцу живой мыши. В обоих случаях MAGENTA не вызывала воспаления и не повреждала ткани, а главное, — создавала такой же тонус мышц, как при естественной физической нагрузке.  Убедившись в том, что технология безопасна и работоспособна, инженеры приступили к основной цели — оценке лечебных свойств MAGENTA. Задние лапки мышей обездвижили в гипсе на четырнадцать дней, — за это время объем мышечной ткани сильно уменьшился. Но у мышей, которым предварительно имплантировали MAGENTA и стимулировали мышцы каждый день в течение всего пяти минут, — атрофия была намного меньше.  Исследователи пошли дальше и решили проверить, сможет ли MAGENTA не только защитить здоровые, но и восстановить атрофированные мышцы. Для этого лапки мышей загипсовали уже на три недели, что привело к атрофии, а после этого в течение семи дней использовали MAGENTA. Как и ожидалось, стимулированные мышцы лучше восстановили массу и силу сокращений по сравнению с нелеченными.  Механическая стимуляция MAGENTA запускала факторы роста мышечной ткани. У мышей повышался уровень белка YAP1, — который отвечает за размножение клеток и уменьшает их гибель, и белок MRTF-A, — за счет которого юные мышечные клетки дифференцируются в активные зрелые. Кроме того, в с имплантом MAGENTA в мышцах синтезировалось больше белка, и мышечные волокна были более развитыми и сильными.  В предыдущем исследовании Дэвид Муни с коллегами пробовал восстановить мышцы с помощью устройства для концентрического сжатия мышц. При сравнении оказалось, что только MAGENTA дает ощутимый терапевтический эффект при лечении атрофии. За счет расположения на самой мышце MAGENTA стимулировала мускулатуру с самых глубоких слоев. Кроме того, растягивание и сжатие в длину гораздо ближе к естественной работе мышц, чем концентрическое давление. Сами разработчики считают, что устройство может быть приспособлено для для лечения пациентов в клиниках, — в особенности благодаря беспроводному управлению лазером.  Биоинженерные технологии с каждым днем внедряются в самые значимые области медицины. В Германии, например, разработали биоразлагаемые электроды для безопасной реабилитации после операций на сердце. А в Корее создали кардиостимулятор в виде пластыря для сердца, который совмещает в себе датчики давления, электроды ЭКГ и дефибриллятор.  Но безопасность лечения все еще вызывает сомнения '"
            ]
          },
          "execution_count": 19,
          "metadata": {},
          "output_type": "execute_result"
        }
      ],
      "source": [
        "# ищем все абзацы с классом mb-6, чтобы не забрать лишний текст\n",
        "# извлекаем текст\n",
        "# склеиваем все абзацы в один большой текст\n",
        "# заменяем символы через .replace()\n",
        "# \\xa0 – неразрывные пробелы, \\n - переходы на новую строку\n",
        "\n",
        "pars_raw = soup0.find_all(\"p\", {\"class\" : \"mb-6\"})\n",
        "pars = [p.text for p in pars_raw]\n",
        "text = \" \".join(pars)\n",
        "text = text.replace(\"\\xa0\", \" \").replace(\"\\n\", \" \")\n",
        "text"
      ]
    },
    {
      "cell_type": "markdown",
      "metadata": {
        "id": "qDzGfSZhp10o"
      },
      "source": [
        "### Задача 6\n",
        "\n",
        "Напишите функцию `get_news()`, которая принимает на вход ссылку на страницу с одной новостью, а возвращает список из следующих характеристик: имя автора, дата публикации, сложность новости, рубрики, текст новости."
      ]
    },
    {
      "cell_type": "code",
      "execution_count": null,
      "metadata": {
        "id": "a4xqyY5Wp10o"
      },
      "outputs": [],
      "source": [
        "def get_news(link0):\n",
        "    page0 = requests.get(link0)\n",
        "    soup0 = BeautifulSoup(page0.text)\n",
        "    title = soup0.find(\"title\").text\n",
        "    author = soup0.find(\"meta\", {\"name\" : \"mediator_author\"}).get(\"content\")\n",
        "    date = soup0.find(\"meta\", {\"itemprop\" : \"datePublished\"}).get(\"content\")\n",
        "    div = soup0.find(\"div\",\n",
        "                 {\"class\" : \"flex flex-wrap lg:mb-10 gap-2 text-tags xl:pr-9\"})\n",
        "    diffc = div.find_all(\"span\")[3].text\n",
        "    rubs_raw = div.find_all(\"span\")[4:]\n",
        "    rubs_list = [r.text for r in rubs_raw]\n",
        "    rubs = \", \".join(rubs_list)\n",
        "    pars_raw = soup0.find_all(\"p\", {\"class\" : \"mb-6\"})\n",
        "    pars = [p.text for p in pars_raw]\n",
        "    text = \" \".join(pars)\n",
        "    text = text.replace(\"\\xa0\", \" \").replace(\"\\n\", \" \")\n",
        "    return [title, author, date, diffc, rubs, text]"
      ]
    },
    {
      "cell_type": "markdown",
      "metadata": {
        "id": "B-yXmhBap10p"
      },
      "source": [
        "Отлично! Теперь осталось применить функцию ко всем ссылкам в списке `news`. Чтобы сайт не понял, что мы его автоматически грабим, будем выгружать новости постепенно – с задержкой в 1.5 секунды. Импортируем для этого функцию `sleep` :"
      ]
    },
    {
      "cell_type": "code",
      "execution_count": null,
      "metadata": {
        "id": "Ge2sOH2Xp10p"
      },
      "outputs": [],
      "source": [
        "from time import sleep"
      ]
    },
    {
      "cell_type": "markdown",
      "metadata": {
        "id": "ERdVIGOxp10p"
      },
      "source": [
        "Теперь будем применять функцию в цикле к каждой ссылке в `news`, только с одним дополнением – добавленной конструкцией `try-except`, которая позволит продолжать исполнение цикла, если при применении функции Python столкнулся с ошибкой любого вида:"
      ]
    },
    {
      "cell_type": "code",
      "execution_count": null,
      "metadata": {
        "id": "5YSMGjuEp10p",
        "outputId": "292eb5ea-d872-4d20-f583-78af2f7247ed"
      },
      "outputs": [
        {
          "name": "stdout",
          "output_type": "stream",
          "text": [
            "https://nplus1.ru/news/2023/01/16/MAGENTA-anti-atrophy\n",
            "https://nplus1.ru/news/2023/01/17/restoration-of-spermatogenesis\n",
            "https://nplus1.ru/news/2023/01/17/healthy-mice-reprogrammed\n",
            "https://nplus1.ru/news/2023/01/17/tursiops-truncatus\n",
            "https://nplus1.ru/news/2023/01/17/CMH-adolescent\n",
            "https://nplus1.ru/news/2023/01/17/Molecule-in-SlowMo\n",
            "https://nplus1.ru/news/2023/01/17/SLYM-meninge\n",
            "https://nplus1.ru/news/2023/01/17/child-with-dogs\n",
            "https://nplus1.ru/news/2023/01/17/singing-intervention-aphasia\n",
            "https://nplus1.ru/news/2023/01/17/ppnb\n",
            "https://nplus1.ru/news/2023/01/17/anti-Nogo-A\n",
            "https://nplus1.ru/news/2023/01/16/walliserops-trifurcatus\n",
            "https://nplus1.ru/news/2023/01/16/Mister-Bubbles\n",
            "https://nplus1.ru/news/2023/01/16/like-share\n",
            "https://nplus1.ru/news/2023/01/16/marriage-in-minoan-crete\n",
            "https://nplus1.ru/news/2023/01/16/found-in-translation\n",
            "https://nplus1.ru/news/2023/01/16/da5-mice\n",
            "https://nplus1.ru/news/2023/01/16/royal-tomb\n",
            "https://nplus1.ru/news/2023/01/14/toi-700-e\n",
            "https://nplus1.ru/news/2023/01/14/Atom-music\n",
            "https://nplus1.ru/news/2023/01/14/shape-effects\n",
            "https://nplus1.ru/news/2023/01/14/moon-shakeleton\n",
            "https://nplus1.ru/news/2023/01/13/podocnemis-expansa\n",
            "https://nplus1.ru/news/2023/01/13/transferrin-receptor-vs-lupus\n",
            "https://nplus1.ru/news/2023/01/13/tractor-beam\n",
            "https://nplus1.ru/news/2023/01/13/salted-fish\n",
            "https://nplus1.ru/news/2023/01/13/free-vivarium\n",
            "https://nplus1.ru/news/2023/01/13/electric-molecular-motor\n",
            "https://nplus1.ru/news/2023/01/13/sceloporus-occidentalis\n",
            "https://nplus1.ru/news/2023/01/13/gene-editing-for-cardiac-protection\n",
            "https://nplus1.ru/news/2023/01/13/siberian-genomes\n",
            "https://nplus1.ru/news/2023/01/13/symplocos-kowalewskii\n",
            "https://nplus1.ru/news/2023/01/13/septic-arthritis\n",
            "https://nplus1.ru/news/2023/01/12/oncology-suicide\n",
            "https://nplus1.ru/news/2023/01/12/STEREO-no-sterile\n",
            "https://nplus1.ru/news/2023/01/12/kraken\n",
            "https://nplus1.ru/news/2023/01/12/genomes-from-charleston\n",
            "https://nplus1.ru/news/2023/01/12/varenyi-araxis-pomog-detyam-sest-zarenyi-araxis\n",
            "https://nplus1.ru/news/2023/01/07/Submarine-paradox-softened\n",
            "https://nplus1.ru/news/2022/12/28/signed-ring\n",
            "https://nplus1.ru/news/2023/01/10/HAMSAB\n",
            "https://nplus1.ru/news/2023/01/09/dual-cheshire\n",
            "https://nplus1.ru/news/2022/12/30/kurayka\n",
            "https://nplus1.ru/news/2023/01/05/returned\n",
            "https://nplus1.ru/news/2023/01/14/toi-700-e\n",
            "https://nplus1.ru/news/2023/01/13/tractor-beam\n",
            "https://nplus1.ru/news/2020/06/01/gray-hair\n",
            "https://nplus1.ru/news/2022/12/08/cauldron\n",
            "https://nplus1.ru/news/2023/01/07/killers-activation\n",
            "https://nplus1.ru/news/2022/12/23/scythian-sword\n",
            "https://nplus1.ru/news/2022/12/27/entanglement-via-rotation\n",
            "https://nplus1.ru/news/2022/12/27/stars-in-very-far-quasars\n",
            "https://nplus1.ru/news/2022/12/27/kepler-signals\n",
            "https://nplus1.ru/news/2022/12/28/Berry-in-Mobius\n",
            "https://nplus1.ru/news/2022/12/29/quantum-bit-encoding-converter\n",
            "https://nplus1.ru/news/2022/12/29/bismuth-claster-aromaticity\n",
            "https://nplus1.ru/news/2022/12/30/over-300-km\n",
            "https://nplus1.ru/news/2023/01/07/photon-gluon-collisions\n",
            "https://nplus1.ru/news/2023/01/09/dual-cheshire\n",
            "https://nplus1.ru/news/2023/01/10/elastic-bit\n",
            "https://nplus1.ru/news/2023/01/11/no-light-sterile-neutrino\n",
            "https://nplus1.ru/news/2023/01/12/STEREO-no-sterile\n",
            "https://nplus1.ru/news/2023/01/13/electric-molecular-motor\n",
            "https://nplus1.ru/news/2023/01/13/tractor-beam\n",
            "https://nplus1.ru/news/2023/01/16/found-in-translation\n",
            "https://nplus1.ru/news/2023/01/16/Mister-Bubbles\n",
            "https://nplus1.ru/news/2023/01/17/Molecule-in-SlowMo\n"
          ]
        }
      ],
      "source": [
        "info = []\n",
        "for n in news:\n",
        "    # пробуй исполнить следующий код\n",
        "    try:\n",
        "        res = get_news(n)\n",
        "        info.append(res)\n",
        "        print(n)\n",
        "    # если он вызвал ошибку, печатай сообщение и иди дальше\n",
        "    except:\n",
        "        print(\"Something went wrong\")\n",
        "        print(n)\n",
        "    sleep(1.5)"
      ]
    },
    {
      "cell_type": "markdown",
      "metadata": {
        "id": "Ar_Ll7Tip10p"
      },
      "source": [
        "Посмотрим на несколько элементов `info`:"
      ]
    },
    {
      "cell_type": "code",
      "execution_count": null,
      "metadata": {
        "id": "udGR03xxp10q"
      },
      "outputs": [],
      "source": [
        "#info[10:12]"
      ]
    },
    {
      "cell_type": "markdown",
      "metadata": {
        "id": "KmTISUEVp10q"
      },
      "source": [
        "Финальный штрих – импортируем `pandas` и преобразуемый полученный список кортежей в датафрейм:"
      ]
    },
    {
      "cell_type": "code",
      "execution_count": null,
      "metadata": {
        "id": "3I7x9FlPp10q"
      },
      "outputs": [],
      "source": [
        "import pandas as pd"
      ]
    },
    {
      "cell_type": "code",
      "execution_count": null,
      "metadata": {
        "id": "JChw2mY_p10q",
        "outputId": "af3a2278-b419-4986-8b86-2eb887ea81ad"
      },
      "outputs": [
        {
          "data": {
            "text/html": [
              "<div>\n",
              "<style scoped>\n",
              "    .dataframe tbody tr th:only-of-type {\n",
              "        vertical-align: middle;\n",
              "    }\n",
              "\n",
              "    .dataframe tbody tr th {\n",
              "        vertical-align: top;\n",
              "    }\n",
              "\n",
              "    .dataframe thead th {\n",
              "        text-align: right;\n",
              "    }\n",
              "</style>\n",
              "<table border=\"1\" class=\"dataframe\">\n",
              "  <thead>\n",
              "    <tr style=\"text-align: right;\">\n",
              "      <th></th>\n",
              "      <th>0</th>\n",
              "      <th>1</th>\n",
              "      <th>2</th>\n",
              "      <th>3</th>\n",
              "      <th>4</th>\n",
              "      <th>5</th>\n",
              "    </tr>\n",
              "  </thead>\n",
              "  <tbody>\n",
              "    <tr>\n",
              "      <td>0</td>\n",
              "      <td>Сокращающийся имплантат защитил мышцы от атрофии</td>\n",
              "      <td>Амина Садреева</td>\n",
              "      <td>2023-01-16</td>\n",
              "      <td>2.5</td>\n",
              "      <td>Медицина, Биология</td>\n",
              "      <td>Технология помогла мышам лучше восстановиться ...</td>\n",
              "    </tr>\n",
              "    <tr>\n",
              "      <td>1</td>\n",
              "      <td>Транс-женщины восстановили сперматогенез после...</td>\n",
              "      <td>Слава Гоменюк</td>\n",
              "      <td>2023-01-17</td>\n",
              "      <td>2.6</td>\n",
              "      <td>Медицина</td>\n",
              "      <td>Их партнеры смогли забеременеть После отмены з...</td>\n",
              "    </tr>\n",
              "    <tr>\n",
              "      <td>2</td>\n",
              "      <td>Репрограммирование клеток впервые продлило жиз...</td>\n",
              "      <td>Полина Лосева</td>\n",
              "      <td>2023-01-17</td>\n",
              "      <td>5.8</td>\n",
              "      <td>Биология, Медицина</td>\n",
              "      <td>До сих пор этот метод проверяли только на моде...</td>\n",
              "    </tr>\n",
              "    <tr>\n",
              "      <td>3</td>\n",
              "      <td>Дельфины не смогли перекричать антропогенный шум</td>\n",
              "      <td>Сергей Коленов</td>\n",
              "      <td>2023-01-17</td>\n",
              "      <td>2.1</td>\n",
              "      <td>Зоология, Экология и климат</td>\n",
              "      <td>Это очередное подтверждение того, насколько им...</td>\n",
              "    </tr>\n",
              "    <tr>\n",
              "      <td>4</td>\n",
              "      <td>Счастливую юность связали со здоровым сердцем ...</td>\n",
              "      <td>Слава Гоменюк</td>\n",
              "      <td>2023-01-17</td>\n",
              "      <td>2.4</td>\n",
              "      <td>Медицина</td>\n",
              "      <td>Ученые собрали данные за 20 лет Взрослые амери...</td>\n",
              "    </tr>\n",
              "  </tbody>\n",
              "</table>\n",
              "</div>"
            ],
            "text/plain": [
              "                                                   0               1  \\\n",
              "0   Сокращающийся имплантат защитил мышцы от атрофии  Амина Садреева   \n",
              "1  Транс-женщины восстановили сперматогенез после...   Слава Гоменюк   \n",
              "2  Репрограммирование клеток впервые продлило жиз...   Полина Лосева   \n",
              "3   Дельфины не смогли перекричать антропогенный шум  Сергей Коленов   \n",
              "4  Счастливую юность связали со здоровым сердцем ...   Слава Гоменюк   \n",
              "\n",
              "            2    3                            4  \\\n",
              "0  2023-01-16  2.5           Медицина, Биология   \n",
              "1  2023-01-17  2.6                     Медицина   \n",
              "2  2023-01-17  5.8           Биология, Медицина   \n",
              "3  2023-01-17  2.1  Зоология, Экология и климат   \n",
              "4  2023-01-17  2.4                     Медицина   \n",
              "\n",
              "                                                   5  \n",
              "0  Технология помогла мышам лучше восстановиться ...  \n",
              "1  Их партнеры смогли забеременеть После отмены з...  \n",
              "2  До сих пор этот метод проверяли только на моде...  \n",
              "3  Это очередное подтверждение того, насколько им...  \n",
              "4  Ученые собрали данные за 20 лет Взрослые амери...  "
            ]
          },
          "execution_count": 26,
          "metadata": {},
          "output_type": "execute_result"
        }
      ],
      "source": [
        "df = pd.DataFrame(info)\n",
        "df.head()"
      ]
    },
    {
      "cell_type": "markdown",
      "metadata": {
        "id": "eLtMCyoZp10q"
      },
      "source": [
        "Добавим содержательные названия столбцов:"
      ]
    },
    {
      "cell_type": "code",
      "execution_count": null,
      "metadata": {
        "id": "bowiv38Jp10q"
      },
      "outputs": [],
      "source": [
        "df.columns = [\"title\", \"author\", \"date\", \"diffc\", \"rubrics\", \"text\"]"
      ]
    },
    {
      "cell_type": "markdown",
      "metadata": {
        "id": "-j3ryHBZp10q"
      },
      "source": [
        "Изменим тип столбца `diffc` на `float`, чтобы со значениями можно было проводить операции как с числами (например, построить гистограмму или отфильтровать/отсортировать):"
      ]
    },
    {
      "cell_type": "code",
      "execution_count": null,
      "metadata": {
        "id": "DLgTWWLOp10q"
      },
      "outputs": [],
      "source": [
        "df[\"diffc\"] = df[\"diffc\"].astype(float)"
      ]
    },
    {
      "cell_type": "code",
      "execution_count": null,
      "metadata": {
        "id": "4GRWmVm6p10r",
        "outputId": "3598cfd0-5ad6-4b3c-e2ad-f662d21ab878"
      },
      "outputs": [
        {
          "data": {
            "text/plain": [
              "count    67.000000\n",
              "mean      4.725373\n",
              "std       2.283494\n",
              "min       1.300000\n",
              "25%       2.700000\n",
              "50%       4.100000\n",
              "75%       6.800000\n",
              "max       8.900000\n",
              "Name: diffc, dtype: float64"
            ]
          },
          "execution_count": 30,
          "metadata": {},
          "output_type": "execute_result"
        }
      ],
      "source": [
        "# описательные статистики как для числового столбца\n",
        "df[\"diffc\"].describe()"
      ]
    },
    {
      "cell_type": "markdown",
      "metadata": {
        "id": "FudoaK3gp10r"
      },
      "source": [
        "Выгрузим датафрейм в файл:"
      ]
    },
    {
      "cell_type": "code",
      "execution_count": null,
      "metadata": {
        "id": "PxUAK_dmp10r"
      },
      "outputs": [],
      "source": [
        "df.to_excel(\"nplus1.xlsx\")"
      ]
    }
  ],
  "metadata": {
    "kernelspec": {
      "display_name": "Python 3",
      "language": "python",
      "name": "python3"
    },
    "language_info": {
      "codemirror_mode": {
        "name": "ipython",
        "version": 3
      },
      "file_extension": ".py",
      "mimetype": "text/x-python",
      "name": "python",
      "nbconvert_exporter": "python",
      "pygments_lexer": "ipython3",
      "version": "3.7.4"
    },
    "colab": {
      "provenance": []
    }
  },
  "nbformat": 4,
  "nbformat_minor": 0
}