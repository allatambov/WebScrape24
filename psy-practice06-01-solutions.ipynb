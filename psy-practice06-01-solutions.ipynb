{
 "cells": [
  {
   "cell_type": "markdown",
   "metadata": {},
   "source": [
    "# Web-scraping: сбор данных из баз данных и интернет-источников\n",
    "\n",
    "## Управление браузером с Selenium: поиск элементов, запросы XPATH\n",
    "\n",
    "*Алла Тамбовцева, НИУ ВШЭ*"
   ]
  },
  {
   "cell_type": "markdown",
   "metadata": {},
   "source": [
    "### Часть 1: базовый поиск элементов на странице"
   ]
  },
  {
   "cell_type": "markdown",
   "metadata": {},
   "source": [
    "Импортируем необходимые модули и компоненты:\n",
    "    \n",
    "* модуль `webdriver`, нужен непосредственно для запуска браузера через Python;\n",
    "* коллекция атрибутов для поиска элементов на странице `By`;\n",
    "* коллекция атрибутов для имитации нажатия клавиш `Keys`."
   ]
  },
  {
   "cell_type": "code",
   "execution_count": 1,
   "metadata": {},
   "outputs": [],
   "source": [
    "from selenium import webdriver as wd\n",
    "from selenium.webdriver.common.by import By\n",
    "from selenium.webdriver.common.keys import Keys"
   ]
  },
  {
   "cell_type": "markdown",
   "metadata": {},
   "source": [
    "Запускаем браузер Chrome:"
   ]
  },
  {
   "cell_type": "code",
   "execution_count": 2,
   "metadata": {},
   "outputs": [],
   "source": [
    "br = wd.Chrome()"
   ]
  },
  {
   "cell_type": "markdown",
   "metadata": {},
   "source": [
    "Продолжим работать с сайтом книжного магазина «Библио-Глобус». Отправляем запрос – перейдём в открытом окне по ссылке на [главную страницу](https://www.biblio-globus.ru/) сайта:"
   ]
  },
  {
   "cell_type": "code",
   "execution_count": 3,
   "metadata": {},
   "outputs": [],
   "source": [
    "br.get(\"https://www.biblio-globus.ru/\")"
   ]
  },
  {
   "cell_type": "markdown",
   "metadata": {},
   "source": [
    "Найдём на странице поле для ввода ключевых слов для поиска по его ID:"
   ]
  },
  {
   "cell_type": "code",
   "execution_count": 4,
   "metadata": {},
   "outputs": [],
   "source": [
    "search = br.find_element(By.ID, \"SearchBooks\")"
   ]
  },
  {
   "cell_type": "markdown",
   "metadata": {},
   "source": [
    "Введём в это поле текст – запросим книги по Python:"
   ]
  },
  {
   "cell_type": "code",
   "execution_count": 5,
   "metadata": {},
   "outputs": [],
   "source": [
    "search.send_keys(\"Python\")"
   ]
  },
  {
   "cell_type": "markdown",
   "metadata": {},
   "source": [
    "Как мы уже знаем, для активации поиска нужно найти соответствующую кнопку рядом с полем и кликнуть на неё. Но можно поступить проще (не всегда подобные кнопки удобно искать), ведь мы часто вместо кликания просто нажимаем на *Enter*!"
   ]
  },
  {
   "cell_type": "markdown",
   "metadata": {},
   "source": [
    "Используя метод `.send_keys()`, «отправьте» в поле `search` нажатие клавиши *Enter*. "
   ]
  },
  {
   "cell_type": "code",
   "execution_count": 6,
   "metadata": {},
   "outputs": [],
   "source": [
    "search.send_keys(Keys.ENTER)"
   ]
  },
  {
   "cell_type": "markdown",
   "metadata": {},
   "source": [
    "Отлично! Теперь нужно поработать с результатами поиска. Технически, нам достаточно извлечь исходный код страницы из открытого браузера и стандартным образом выгрузить необходимую информацию с помощью BeautifulSoup. Но давайте мыслить более глобально – результаты не помещаются на одной странице, поэтому для общего решения нам надо научиться выяснять, сколько страниц пролистывать для сбора всех товаров по ключевым словам. \n",
    "\n",
    "Для этого нам нужно найти кнопку со стрелкой `»»` и внимательно её изучить. Давайте попробуем найти эту стрелку разными способами, чтобы познакомиться с разными атрибутами в `By`. \n",
    "\n",
    "Сначала найдём её последовательно по классам и тэгам (последовательно, потому что стрелка представлена ссылкой, а ссылок на странице много, нужно сначала зафиксировать более общий раздел, где её искать) и сохраним как `arrow`.\n",
    "\n",
    "**Подсказка.** Сначала имеет смысл найти список со ссылками на разные страницы по классу."
   ]
  },
  {
   "cell_type": "code",
   "execution_count": 7,
   "metadata": {},
   "outputs": [],
   "source": [
    "ul = br.find_element(By.CLASS_NAME, \"pagination\")"
   ]
  },
  {
   "cell_type": "code",
   "execution_count": 8,
   "metadata": {},
   "outputs": [],
   "source": [
    "arrow = ul.find_elements(By.TAG_NAME, \"a\")[-1]"
   ]
  },
  {
   "cell_type": "markdown",
   "metadata": {},
   "source": [
    "Посмотрим, что внутри. Можем запросить весь код HTML, который есть внутри найденного объекта (его тип *WebElement*):"
   ]
  },
  {
   "cell_type": "code",
   "execution_count": 9,
   "metadata": {},
   "outputs": [
    {
     "data": {
      "text/plain": [
       "'<span aria-hidden=\"true\">»»</span><span class=\"sr-only\">Next</span>'"
      ]
     },
     "execution_count": 9,
     "metadata": {},
     "output_type": "execute_result"
    }
   ],
   "source": [
    "arrow.get_attribute('innerHTML')"
   ]
  },
  {
   "cell_type": "markdown",
   "metadata": {},
   "source": [
    "В нашем случае полный код не очень интересен, потому что ссылка, которая отправляет нас на последнюю страницу с результатами, хранится не внутри тэгов, а в отдельном атрибуте `href` (как и обычно). Текст `»»` нам, скорее, полезен просто для того, чтобы убедиться, что мы нашли то, что нужно :) \n",
    "\n",
    "Запросим аналогичным образом `href`:"
   ]
  },
  {
   "cell_type": "code",
   "execution_count": 10,
   "metadata": {},
   "outputs": [
    {
     "data": {
      "text/plain": [
       "'https://www.biblio-globus.ru/search?query=Python&page=14&sort=0&instock=&cat=0&isdiscount='"
      ]
     },
     "execution_count": 10,
     "metadata": {},
     "output_type": "execute_result"
    }
   ],
   "source": [
    "arrow.get_attribute('href')"
   ]
  },
  {
   "cell_type": "markdown",
   "metadata": {},
   "source": [
    "Вот эта информация уже гораздо полезнее, внутри этой ссылки есть указание на то, какая страница является последней. То есть, нам не придётся кликать на стрелки *Далее* до тех пор, пока мы не дойдём до конца, через какой-нибудь цикл while, мы сможем написать код, который будет пролистывать 10 страниц и забирать результаты. \n",
    "\n",
    "И да, эта ссылка, на которую мы вышли через Selenium, подсказывает нам, что и без Selenium можно справиться. Переход на каждую страницу сопровождается изменением ссылки, а значит, можно просто формировать запрос, подставляя в шаблон ссылки ключевые слова после `query` и номер страницы после `page`. Так бывает не всегда, иногда страница обновляется динамически, при активации каких-то процессов ссылка на страницу остаётся та же, а её содержимое меняется – в код HTML «встраиваются» новые объекты. Тогда без Selenium не обойтись, потому что без имитации конкретных действий необходимые объекты просто не появятся (страница или её часть просто не обновится, так как не запустится соответствующая функция на JavaScript, которая реагирует на действия пользователя).\n",
    "\n",
    "**Вопрос.** Подумайте, как можно организовать код без использования Selenium, чтобы запрос пользователя отправлялся на сайт магазина и чтобы ему возвращались все результаты по запросу. \n",
    "\n",
    "Со страницами результатов разобрались, к ним мы вернёмся, чтобы забрать исходный код и ссылки на товары, а пока давайте посмотрим на ещё один способ поиска объектов – найдём нужную стрелку проще – по тексту ссылки."
   ]
  },
  {
   "cell_type": "code",
   "execution_count": 11,
   "metadata": {},
   "outputs": [
    {
     "data": {
      "text/plain": [
       "<selenium.webdriver.remote.webelement.WebElement (session=\"139e5a85551e19e7c47887d915754f35\", element=\"EB72928E73BABC011BB681466A3D2638_element_65\")>"
      ]
     },
     "execution_count": 11,
     "metadata": {},
     "output_type": "execute_result"
    }
   ],
   "source": [
    "br.find_element(By.PARTIAL_LINK_TEXT, \"»»\")"
   ]
  },
  {
   "cell_type": "markdown",
   "metadata": {},
   "source": [
    "Использованные выше способы поиска хорошие, но не всегда надёжные и универсальные. В первом случае смущает поиск элемента внутри другого, да ещё и по индексу. Во втором случае потенциальных проблем меньше, но не всегда на нужной кнопке будет текст, там вообще может быть картинка. Поэтому давайте познакомимся с универсальным способом поиска через запросы XPATH."
   ]
  },
  {
   "cell_type": "markdown",
   "metadata": {},
   "source": [
    "### Часть 2: поиск с помощью запросов XPATH"
   ]
  },
  {
   "cell_type": "markdown",
   "metadata": {},
   "source": [
    "Немного теории.\n",
    "\n",
    "**XML** (от *eXtended MarkUp Language*) – язык разметки, только в отличие от HTML не позволяет регулировать внешний вид страницы, а просто хранит данные в виде строки с удобными тэгами.\n",
    "\n",
    "На XML-файл можно смотреть как на хранилище, откуда по запросу динамически подгружаются данные для подстановки в HTML-файл. Смысл: когда нам нужно постоянно обновлять информацию на веб-странице (каталоги товаров в магазине, данные о погоде, курсе валют), не нужно каждый раз переписывать HTML-файл, достаточно изменить XML-файл, а из него уже информация «подтянется» на страницу с помощью запроса, написанного на JavaScript.\n",
    "\n",
    "**XPATH** (от *XML Path Language*) – язык запросов в XML-файлу, который можно использовать и для HTML тоже.\n",
    "\n",
    "Примеры запросов (честно взяты [отсюда](https://www.w3schools.com/xml/xpath_intro.asp), очень полезный тьюториал по XPATH, у них же есть классные материалы по XML):\n",
    "\n",
    "* `//title[@lang]`: все элементы с тэгом `<title>`, имеющие атрибут `lang`;\n",
    "* `//title[@lang='en']` : все элементы с тэгом `<title>`, имеющие атрибут `lang`, равный `'en'`;\n",
    "* `//title[@*]`: все элементы с тэгом `<title>`, имеющие хоть какие-нибудь атрибуты.\n"
   ]
  },
  {
   "cell_type": "markdown",
   "metadata": {},
   "source": [
    "Давайте воспользуемся поиском с помощью запроса XPATH и найдём стрелку-ссылку на последнюю страницу (внимание на атрибут `aria-label`)."
   ]
  },
  {
   "cell_type": "code",
   "execution_count": 12,
   "metadata": {},
   "outputs": [
    {
     "data": {
      "text/plain": [
       "[<selenium.webdriver.remote.webelement.WebElement (session=\"139e5a85551e19e7c47887d915754f35\", element=\"EB72928E73BABC011BB681466A3D2638_element_64\")>,\n",
       " <selenium.webdriver.remote.webelement.WebElement (session=\"139e5a85551e19e7c47887d915754f35\", element=\"EB72928E73BABC011BB681466A3D2638_element_65\")>]"
      ]
     },
     "execution_count": 12,
     "metadata": {},
     "output_type": "execute_result"
    }
   ],
   "source": [
    "# поиск по атрибуту aria-label\n",
    "# проблема – элемент с Next не один\n",
    "\n",
    "br.find_elements(By.XPATH, \"//a[@aria-label='Next']\")"
   ]
  },
  {
   "cell_type": "code",
   "execution_count": 13,
   "metadata": {},
   "outputs": [],
   "source": [
    "# более надежный способ – найти через текст »»\n",
    "# ищем тэг span внутри тэга a (отсюда .// – точка отвечает за вложенность),\n",
    "# такой, что текст внутри равен »»\n",
    "\n",
    "a = br.find_element(By.XPATH, \"//a[.//span[text()='»»']]\")"
   ]
  },
  {
   "cell_type": "code",
   "execution_count": 14,
   "metadata": {},
   "outputs": [
    {
     "data": {
      "text/plain": [
       "'https://www.biblio-globus.ru/search?query=Python&page=14&sort=0&instock=&cat=0&isdiscount='"
      ]
     },
     "execution_count": 14,
     "metadata": {},
     "output_type": "execute_result"
    }
   ],
   "source": [
    "# вот ссылка на последнюю страницу – забираем\n",
    "# атрибут href\n",
    "# а в самой ссылке есть номер последней страницы\n",
    "# будет понятно, сколько раз запускать цикл for для пролистывания\n",
    "\n",
    "a.get_attribute(\"href\")"
   ]
  },
  {
   "cell_type": "markdown",
   "metadata": {},
   "source": [
    "### Часть 3: собираем всё вместе и сохраняем результаты"
   ]
  },
  {
   "cell_type": "markdown",
   "metadata": {},
   "source": [
    "Итак, допустим, у нас есть переменная `to_search` с ключевыми словами для поиска.  "
   ]
  },
  {
   "cell_type": "code",
   "execution_count": 15,
   "metadata": {},
   "outputs": [],
   "source": [
    "to_search = \"Python\""
   ]
  },
  {
   "cell_type": "markdown",
   "metadata": {},
   "source": [
    "Импортируем вспомогательные модули и функции:"
   ]
  },
  {
   "cell_type": "code",
   "execution_count": 16,
   "metadata": {},
   "outputs": [],
   "source": [
    "import re\n",
    "from bs4 import BeautifulSoup\n",
    "from time import sleep"
   ]
  },
  {
   "cell_type": "markdown",
   "metadata": {},
   "source": [
    "Напишем код, который будет выполнять поиск по ключевым словам и сохранять ссылки на страницы товаров."
   ]
  },
  {
   "cell_type": "code",
   "execution_count": 17,
   "metadata": {},
   "outputs": [],
   "source": [
    "# начало кода из ячеек выше – открываем страницу\n",
    "# отправляем ключевые слова и забираем номер последней \n",
    "# страницы с результатами\n",
    "\n",
    "br.get(\"https://www.biblio-globus.ru/\")\n",
    "sleep(1)\n",
    "\n",
    "search = br.find_element(By.ID, \"SearchBooks\")\n",
    "search.send_keys(to_search)\n",
    "search.send_keys(Keys.ENTER)\n",
    "\n",
    "arrow = br.find_element(By.XPATH, \"//a[.//span[text()='»»']]\")\n",
    "link = arrow.get_attribute(\"href\")\n",
    "\n",
    "# выпендриваемся, вместо нескольких .split() \n",
    "# пользуемся регулярными выражениями\n",
    "\n",
    "n = re.search('(page=)(\\d+)', link).group(2)\n",
    "\n",
    "# для шаблона\n",
    "# https://www.biblio-globus.ru/search?query=Python&page=9&sort=0&instock=&cat=0&isdiscount=\n",
    "\n",
    "# в soups – объекты bs с кодом HTML для каждой страницы\n",
    "# с результатами\n",
    "\n",
    "soups = []\n",
    "\n",
    "for i in range(1, int(n) + 1):\n",
    "    req = f\"https://www.biblio-globus.ru/search?query={to_search}&page={i}&sort=0&instock=&cat=0&isdiscount=\"\n",
    "    br.get(req)\n",
    "    sleep(2)\n",
    "    html = br.page_source\n",
    "    soup = BeautifulSoup(html)\n",
    "    soups.append(soup)"
   ]
  },
  {
   "cell_type": "markdown",
   "metadata": {},
   "source": [
    "Пишем функцию, которая забирает из кода HTML с одной страницей результатов поиска список ссылок:"
   ]
  },
  {
   "cell_type": "code",
   "execution_count": 18,
   "metadata": {},
   "outputs": [],
   "source": [
    "def get_books(s):\n",
    "    \"\"\"\n",
    "    Parameters:\n",
    "        s – BeautifulSoup object with HTML code\n",
    "        for one page with results\n",
    "    Returns:\n",
    "        hrefs – list of strings with links\n",
    "    \"\"\"\n",
    "    prods = s.find_all(\"div\", {\"class\" : \"product\"})\n",
    "    hrefs = [p.find(\"a\").get(\"href\") for p in prods]\n",
    "    return hrefs"
   ]
  },
  {
   "cell_type": "markdown",
   "metadata": {},
   "source": [
    "Применяем функцию ко всем фрагментам кода в `soups`:"
   ]
  },
  {
   "cell_type": "code",
   "execution_count": 19,
   "metadata": {},
   "outputs": [],
   "source": [
    "res = [get_books(s) for s in soups]"
   ]
  },
  {
   "cell_type": "markdown",
   "metadata": {},
   "source": [
    "Получили список списков, где один список – список неполных ссылок на товары с каждой страницы результатов:"
   ]
  },
  {
   "cell_type": "code",
   "execution_count": 20,
   "metadata": {},
   "outputs": [
    {
     "name": "stdout",
     "output_type": "stream",
     "text": [
      "['/product/10829080', '/product/10780215', '/product/10898149', '/product/10954900', '/product/10263752', '/product/10938051', '/product/10973493', '/product/10952299', '/product/10917575', '/product/10569801', '/product/10532193', '/product/10548788']\n"
     ]
    }
   ],
   "source": [
    "print(res[0])"
   ]
  },
  {
   "cell_type": "markdown",
   "metadata": {},
   "source": [
    "Теперь можем распаковать списки и доклеить к каждой ссылке начало `\"https://www.biblio-globus.ru\"`. Чтобы избежать цикла в цикле для перебора ссылок, импортируем модуль `itertools` и возьмём оттуда функцию `from_iterable()`, она умеет склеивать список вложенных списков в единый список:"
   ]
  },
  {
   "cell_type": "code",
   "execution_count": 22,
   "metadata": {},
   "outputs": [],
   "source": [
    "import itertools"
   ]
  },
  {
   "cell_type": "code",
   "execution_count": 24,
   "metadata": {},
   "outputs": [
    {
     "name": "stdout",
     "output_type": "stream",
     "text": [
      "['/product/10829080', '/product/10780215', '/product/10898149', '/product/10954900', '/product/10263752', '/product/10938051', '/product/10973493', '/product/10952299', '/product/10917575', '/product/10569801', '/product/10532193', '/product/10548788', '/product/10877910', '/product/10754289', '/product/10829190', '/product/10977442', '/product/10823441', '/product/10741680', '/product/10839595', '/product/10627655']\n"
     ]
    }
   ],
   "source": [
    "links = list(itertools.chain.from_iterable(res))\n",
    "print(links[0:20])"
   ]
  },
  {
   "cell_type": "code",
   "execution_count": 25,
   "metadata": {},
   "outputs": [
    {
     "name": "stdout",
     "output_type": "stream",
     "text": [
      "['https://www.biblio-globus.ru/product/10829080', 'https://www.biblio-globus.ru/product/10780215', 'https://www.biblio-globus.ru/product/10898149', 'https://www.biblio-globus.ru/product/10954900', 'https://www.biblio-globus.ru/product/10263752', 'https://www.biblio-globus.ru/product/10938051', 'https://www.biblio-globus.ru/product/10973493', 'https://www.biblio-globus.ru/product/10952299', 'https://www.biblio-globus.ru/product/10917575', 'https://www.biblio-globus.ru/product/10569801', 'https://www.biblio-globus.ru/product/10532193', 'https://www.biblio-globus.ru/product/10548788', 'https://www.biblio-globus.ru/product/10877910', 'https://www.biblio-globus.ru/product/10754289', 'https://www.biblio-globus.ru/product/10829190', 'https://www.biblio-globus.ru/product/10977442', 'https://www.biblio-globus.ru/product/10823441', 'https://www.biblio-globus.ru/product/10741680', 'https://www.biblio-globus.ru/product/10839595', 'https://www.biblio-globus.ru/product/10627655']\n"
     ]
    }
   ],
   "source": [
    "links_full = [\"https://www.biblio-globus.ru\" + link for link in links]\n",
    "print(links_full[0:20])"
   ]
  }
 ],
 "metadata": {
  "kernelspec": {
   "display_name": "Python 3",
   "language": "python",
   "name": "python3"
  },
  "language_info": {
   "codemirror_mode": {
    "name": "ipython",
    "version": 3
   },
   "file_extension": ".py",
   "mimetype": "text/x-python",
   "name": "python",
   "nbconvert_exporter": "python",
   "pygments_lexer": "ipython3",
   "version": "3.7.4"
  }
 },
 "nbformat": 4,
 "nbformat_minor": 2
}
