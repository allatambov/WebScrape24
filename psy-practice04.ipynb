{
 "cells": [
  {
   "cell_type": "markdown",
   "metadata": {},
   "source": [
    "# Web-scraping: сбор данных из баз данных и интернет-источников\n",
    "\n",
    "*Алла Тамбовцева*\n",
    "\n",
    "### Практикум 4. Введение в работу с API (на примере Википедии)"
   ]
  },
  {
   "cell_type": "markdown",
   "metadata": {},
   "source": [
    "Если мы не используем готовые библиотеки для работы с API («оболочки» для построения запросов и обработки результатов), для работы достаточно импортировать уже знакомый нам модуль `requests`:"
   ]
  },
  {
   "cell_type": "code",
   "execution_count": null,
   "metadata": {},
   "outputs": [],
   "source": [
    "import requests"
   ]
  },
  {
   "cell_type": "markdown",
   "metadata": {},
   "source": [
    "### Часть 1: получаем информацию о пользователях Википедии"
   ]
  },
  {
   "cell_type": "markdown",
   "metadata": {},
   "source": [
    "### Задача 1\n",
    "\n",
    "Создайте запрос для получения информации о пользователе Википедии *Ilya Voyager*, используя следующую информацию:\n",
    "\n",
    "* ссылка на API как базу данных https://ru.wikipedia.org/w/api.php;\n",
    "* действие (аргумент `action`) для получения результата – `query`;\n",
    "* формат результата (аргумент `format`) – `json`;\n",
    "* название списка с интересующей нас информацией (аргумент `list`) – `users`;\n",
    "* имя пользователя (аргумент `ususers`) – `Ilya_Voyager`.\n",
    "\n",
    "Строку с запросом сохраните в переменную `q1`. Отправьте запрос к API, используя модуль `requests`, сохраните результат в переменную `response1` и извлеките из полученного объекта ответ на запрос:\n",
    "\n",
    "* в виде обычной строки (`.text`);\n",
    "* в формате JSON (`.json()`).\n",
    "\n",
    "Сравните полученные результаты."
   ]
  },
  {
   "cell_type": "code",
   "execution_count": null,
   "metadata": {},
   "outputs": [],
   "source": [
    "### YOUR CODE HERE ###"
   ]
  },
  {
   "cell_type": "markdown",
   "metadata": {},
   "source": [
    "### Задача 2\n",
    "\n",
    "Создайте запрос для получения информации по тому же участнику, только с уточнением разделов (полей), информация о которых нам нужна:\n",
    "\n",
    "* аргумент `usprop`, разделы `gender` и `groups`.\n",
    "\n",
    "Строку с запросом сохраните в переменную `q2`. Отправьте запрос к API и извлеките из полученного объекта ответ на запрос в формате JSON. Создайте список, состоящий из id участника, имени участника, пола участника и списка групп, к которым он принадлежит.  "
   ]
  },
  {
   "cell_type": "code",
   "execution_count": null,
   "metadata": {},
   "outputs": [],
   "source": [
    "### YOUR CODE HERE ###"
   ]
  },
  {
   "cell_type": "markdown",
   "metadata": {},
   "source": [
    "### Задача 3\n",
    "\n",
    "Представьте, что нам нужно собрать информацию по нескольким участникам сразу. Известно, что имена пользователей можно вводить через `|`, как и названия разделов. Напишите код, который \n",
    "\n",
    "* забирает имена участников из списка `names`;\n",
    "* забирает названия разделов из списка `fields`;\n",
    "* подставляет всё в нужную строку с запросом, отправляет его к API и получает ответ в формате JSON. \n",
    "\n",
    "**Подсказка:** вспомните про форматирование строк и f-строки."
   ]
  },
  {
   "cell_type": "code",
   "execution_count": null,
   "metadata": {},
   "outputs": [],
   "source": [
    "names = [\"Ilya_Voyager\", \"Drbug\", \"Kaganer\"]\n",
    "fields = [\"gender\", \"groups\", \"registration\"]"
   ]
  },
  {
   "cell_type": "code",
   "execution_count": null,
   "metadata": {},
   "outputs": [],
   "source": [
    "### YOUR CODE HERE ###"
   ]
  },
  {
   "cell_type": "markdown",
   "metadata": {},
   "source": [
    "### Задача 4\n",
    "\n",
    "Форматировать строки не очень сложно, но если запросы сами по себе длинные, не всегда удобно. Поэтому для подстановки нужных аргументов можно использовать возможности модуля `requests`, а именно функции `get()`. Эта функция умеет объединять ссылку на API и пары *аргумент-значение*, если эти пары *аргумент-значение* поданы ей на вход в виде словаря. \n",
    "\n",
    "Решите задачу 3, пользуясь этой возможностью."
   ]
  },
  {
   "cell_type": "code",
   "execution_count": null,
   "metadata": {},
   "outputs": [],
   "source": [
    "### YOUR CODE HERE ###"
   ]
  },
  {
   "cell_type": "markdown",
   "metadata": {},
   "source": [
    "### Задача 5\n",
    "\n",
    "Превратите результаты, полученные в предыдущей задаче, в датафрейм pandas, где одна строка соответствует одному пользователю. Выгрузите результаты в файл Excel."
   ]
  },
  {
   "cell_type": "code",
   "execution_count": null,
   "metadata": {},
   "outputs": [],
   "source": [
    "### YOUR CODE HERE ###"
   ]
  },
  {
   "cell_type": "markdown",
   "metadata": {},
   "source": [
    "В завершение этой части – в самой документации к API есть готовые [примеры](https://www.mediawiki.org/wiki/API:Users) запросов на Python, причём с удобным способом их создания :)"
   ]
  },
  {
   "cell_type": "markdown",
   "metadata": {},
   "source": [
    "### Часть 2: получаем текст статей Википедии"
   ]
  },
  {
   "cell_type": "markdown",
   "metadata": {},
   "source": [
    "### Задача 6\n",
    "\n",
    "\n",
    "В качестве примера выгрузки текста статьи в документации приведена страница об Альберте Эйнштейне. Попробуем выгрузить текст статьи по уже привычной схеме (только немного другие названия методов и аргументов):"
   ]
  },
  {
   "cell_type": "code",
   "execution_count": null,
   "metadata": {},
   "outputs": [],
   "source": [
    "URL = \"https://en.wikipedia.org/w/api.php\"\n",
    "\n",
    "PARAMS = {\n",
    "    \"action\": \"parse\",\n",
    "    \"page\": \"Albert Einstein\",\n",
    "    \"prop\": \"wikitext\",\n",
    "    \"format\": \"json\"\n",
    "}\n",
    "\n",
    "R = requests.get(url=URL, params=PARAMS)\n",
    "DATA = R.json()"
   ]
  },
  {
   "cell_type": "markdown",
   "metadata": {},
   "source": [
    "Извлеките элемент с ключом `wikitext` и изучите его структуру. Удобно ли работать с текстом в таком виде?"
   ]
  },
  {
   "cell_type": "code",
   "execution_count": null,
   "metadata": {},
   "outputs": [],
   "source": [
    "### YOUR CODE HERE ###"
   ]
  },
  {
   "cell_type": "markdown",
   "metadata": {},
   "source": [
    "### Задача 7\n",
    "\n",
    "Измените в коде выше аргумент `prop` на `text`. Посмотрите, что получилось (по аналогии с предыдущей задачей нас интересует элемент `text`)."
   ]
  },
  {
   "cell_type": "code",
   "execution_count": null,
   "metadata": {},
   "outputs": [],
   "source": [
    "### YOUR CODE HERE ###"
   ]
  },
  {
   "cell_type": "markdown",
   "metadata": {},
   "source": [
    "В свободном режиме давайте поизучаем, каким образом получить текст или его фрагменты в удобном виде.\n",
    "Не помешает обратиться к документации по [методу](https://www.mediawiki.org/w/api.php?action=help&modules=parse) `parse` и по [методу](https://www.mediawiki.org/w/api.php?action=help&modules=query) `query`."
   ]
  },
  {
   "cell_type": "code",
   "execution_count": null,
   "metadata": {},
   "outputs": [],
   "source": [
    "### YOUR CODE HERE ###\n",
    "### AND HERE ###\n",
    "### AND HERE ...###"
   ]
  }
 ],
 "metadata": {
  "kernelspec": {
   "display_name": "Python 3",
   "language": "python",
   "name": "python3"
  },
  "language_info": {
   "codemirror_mode": {
    "name": "ipython",
    "version": 3
   },
   "file_extension": ".py",
   "mimetype": "text/x-python",
   "name": "python",
   "nbconvert_exporter": "python",
   "pygments_lexer": "ipython3",
   "version": "3.7.4"
  }
 },
 "nbformat": 4,
 "nbformat_minor": 2
}
