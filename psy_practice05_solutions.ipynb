{
 "cells": [
  {
   "cell_type": "markdown",
   "metadata": {},
   "source": [
    "# Web-scraping: сбор данных из баз данных и интернет-источников\n",
    "\n",
    "*Алла Тамбовцева, НИУ ВШЭ*\n",
    "\n",
    "## Практикум 5. Работа с API ВКонтакте: собираем посты со стены, комментарии к постам и информацию пользователях"
   ]
  },
  {
   "cell_type": "markdown",
   "metadata": {},
   "source": [
    "## Подготовка к работе"
   ]
  },
  {
   "cell_type": "markdown",
   "metadata": {},
   "source": [
    "Загружаем модули и библиотеки, необходимые для работы:"
   ]
  },
  {
   "cell_type": "code",
   "execution_count": 2,
   "metadata": {},
   "outputs": [],
   "source": [
    "import requests\n",
    "import time\n",
    "import pandas as pd"
   ]
  },
  {
   "cell_type": "markdown",
   "metadata": {},
   "source": [
    "Для начала давайте посмотрим на документацию API и посмотрим, как к нему формировать запросы: https://dev.vk.com/api/api-requests.\n",
    "По [инструкции](https://allatambov.github.io/pypolit/vk-auth.pdf) мы можем получить доступ к API, создадим приложение и скопируем его ID, чтобы получить ссылку для токена доступа:"
   ]
  },
  {
   "cell_type": "code",
   "execution_count": 3,
   "metadata": {},
   "outputs": [
    {
     "name": "stdout",
     "output_type": "stream",
     "text": [
      "Enter your client id: 51660535\n"
     ]
    }
   ],
   "source": [
    "app_id = input(\"Enter your client id: \")\n",
    "url = f\"https://oauth.vk.com/authorize?client_id={app_id}&display=page&redirect_uri=http://oauth.vk.com/blank.html&scope=all&response_type=token\"\n",
    "print(url)"
   ]
  },
  {
   "cell_type": "markdown",
   "metadata": {},
   "source": [
    "Переходим по ссылке выше и копируем ссылку (полностью!) из адресной строки:"
   ]
  },
  {
   "cell_type": "code",
   "execution_count": 7,
   "metadata": {},
   "outputs": [],
   "source": [
    "full_link = input()"
   ]
  },
  {
   "cell_type": "markdown",
   "metadata": {},
   "source": [
    "Разбиваем полученную ссылку (сначала по `access_token=`, потом часть после `=` по `&`) и забираем токен в чистом виде:"
   ]
  },
  {
   "cell_type": "code",
   "execution_count": 8,
   "metadata": {},
   "outputs": [],
   "source": [
    "token = full_link.split(\"access_token=\")[1].split(\"&\")[0]"
   ]
  },
  {
   "cell_type": "markdown",
   "metadata": {},
   "source": [
    "Ура! Теперь токен доступа у нас есть, всё готово к работе!"
   ]
  },
  {
   "cell_type": "markdown",
   "metadata": {},
   "source": [
    "## Часть 1: выгружаем посты со стены сообщества"
   ]
  },
  {
   "cell_type": "markdown",
   "metadata": {},
   "source": [
    "На этом практическом занятии мы будем выгружать посты из сообщества [скалодрома Rock Zona](https://vk.com/rzclimbing). Сохраним в переменные версию API, ссылку для метода работы со стеной сообщества и название сообщества:"
   ]
  },
  {
   "cell_type": "code",
   "execution_count": 9,
   "metadata": {},
   "outputs": [],
   "source": [
    "v = \"5.131\"\n",
    "main_wall = \"https://api.vk.com/method/wall.get\"\n",
    "domain = \"rzclimbing\""
   ]
  },
  {
   "cell_type": "markdown",
   "metadata": {},
   "source": [
    "Функция `get()` из библиотеки `requests` умеет подставлять в запрос необходимые параметры и объединять их с помощью `?` и `&`. Сохраним необходимые параметры в виде словаря:"
   ]
  },
  {
   "cell_type": "code",
   "execution_count": 10,
   "metadata": {},
   "outputs": [],
   "source": [
    "params_wall = {\"access_token\" : token, \n",
    "              \"domain\" : domain, \n",
    "              \"count\" : 100,\n",
    "              \"v\" : v}"
   ]
  },
  {
   "cell_type": "markdown",
   "metadata": {},
   "source": [
    "А теперь сформируем запрос и выгрузим результаты в формате JSON – в Python данные в таком формате будут представлены в виде словаря:"
   ]
  },
  {
   "cell_type": "code",
   "execution_count": 11,
   "metadata": {},
   "outputs": [],
   "source": [
    "req_wall = requests.get(main_wall, params = params_wall)"
   ]
  },
  {
   "cell_type": "code",
   "execution_count": 12,
   "metadata": {},
   "outputs": [],
   "source": [
    "json_wall = req_wall.json()\n",
    "#json_wall"
   ]
  },
  {
   "cell_type": "markdown",
   "metadata": {},
   "source": [
    "Извлечём из этого большого словаря элемент, который отвечает за общее число постов на стене:"
   ]
  },
  {
   "cell_type": "code",
   "execution_count": 13,
   "metadata": {},
   "outputs": [
    {
     "name": "stdout",
     "output_type": "stream",
     "text": [
      "1742\n"
     ]
    }
   ],
   "source": [
    "nposts = json_wall['response']['count']\n",
    "print(nposts)"
   ]
  },
  {
   "cell_type": "markdown",
   "metadata": {},
   "source": [
    "Теперь извлечём элемент, который хранит результаты – список из маленьких словарей с информацией о постах (1 словарь = 1 пост):"
   ]
  },
  {
   "cell_type": "code",
   "execution_count": 14,
   "metadata": {},
   "outputs": [],
   "source": [
    "items_wall = json_wall['response']['items']"
   ]
  },
  {
   "cell_type": "markdown",
   "metadata": {},
   "source": [
    "Посмотрим на один элемент такого списка:"
   ]
  },
  {
   "cell_type": "code",
   "execution_count": 16,
   "metadata": {},
   "outputs": [
    {
     "data": {
      "text/plain": [
       "{'inner_type': 'wall_wallpost',\n",
       " 'donut': {'is_donut': False},\n",
       " 'comments': {'can_post': 1, 'count': 0, 'groups_can_post': True},\n",
       " 'marked_as_ads': 0,\n",
       " 'short_text_rate': 0.8,\n",
       " 'hash': '5feRmK_fVWyXwNGvSQ-nu7Wkej0',\n",
       " 'type': 'post',\n",
       " 'attachments': [{'type': 'photo',\n",
       "   'photo': {'album_id': -7,\n",
       "    'date': 1708097659,\n",
       "    'id': 457244846,\n",
       "    'owner_id': -38936316,\n",
       "    'access_key': '88a7d053faaa0aea7b',\n",
       "    'sizes': [{'height': 75,\n",
       "      'type': 's',\n",
       "      'width': 75,\n",
       "      'url': 'https://sun9-41.userapi.com/impg/tFMy6c11P0g3S2Uf3TVdepGUxM9hhP9T8TMTLw/2fWzaOvI0ZU.jpg?size=75x75&quality=95&sign=76d6e483798341727d0861dcd11cfeac&c_uniq_tag=mHUTkgoddewQIJaTVLAroBVs096Q0ds_UZ89O8r7ebg&type=album'},\n",
       "     {'height': 130,\n",
       "      'type': 'm',\n",
       "      'width': 130,\n",
       "      'url': 'https://sun9-41.userapi.com/impg/tFMy6c11P0g3S2Uf3TVdepGUxM9hhP9T8TMTLw/2fWzaOvI0ZU.jpg?size=130x130&quality=95&sign=84297a7c16e5f3788c2131bbf66875da&c_uniq_tag=is9YyXL1gZnG9snUB_Vkx6TPznMiIzAQs_GcrfKAM1w&type=album'},\n",
       "     {'height': 604,\n",
       "      'type': 'x',\n",
       "      'width': 604,\n",
       "      'url': 'https://sun9-41.userapi.com/impg/tFMy6c11P0g3S2Uf3TVdepGUxM9hhP9T8TMTLw/2fWzaOvI0ZU.jpg?size=604x604&quality=95&sign=65a35312922685023acb5ab74d99a87c&c_uniq_tag=GGnCbmXQ6EsswoXNUkWsnPOESbZrZEKiieXcM-OR-Nw&type=album'},\n",
       "     {'height': 807,\n",
       "      'type': 'y',\n",
       "      'width': 807,\n",
       "      'url': 'https://sun9-41.userapi.com/impg/tFMy6c11P0g3S2Uf3TVdepGUxM9hhP9T8TMTLw/2fWzaOvI0ZU.jpg?size=807x807&quality=95&sign=f96ef39a9facdd13df72a1b6f8cb27bd&c_uniq_tag=1BM7MGtGXSTsT6QrMPwJ0aEHUEAk6JFTsE49d08wGnU&type=album'},\n",
       "     {'height': 1080,\n",
       "      'type': 'z',\n",
       "      'width': 1080,\n",
       "      'url': 'https://sun9-41.userapi.com/impg/tFMy6c11P0g3S2Uf3TVdepGUxM9hhP9T8TMTLw/2fWzaOvI0ZU.jpg?size=1080x1080&quality=95&sign=ba31540d90fe713739ed368fb352c14f&c_uniq_tag=rR9UxzL2hCMV2WrYEkKYg1zL9c9Vyl1-3qcqJpiPfpM&type=album'},\n",
       "     {'height': 130,\n",
       "      'type': 'o',\n",
       "      'width': 130,\n",
       "      'url': 'https://sun9-41.userapi.com/impg/tFMy6c11P0g3S2Uf3TVdepGUxM9hhP9T8TMTLw/2fWzaOvI0ZU.jpg?size=130x130&quality=95&sign=84297a7c16e5f3788c2131bbf66875da&c_uniq_tag=is9YyXL1gZnG9snUB_Vkx6TPznMiIzAQs_GcrfKAM1w&type=album'},\n",
       "     {'height': 200,\n",
       "      'type': 'p',\n",
       "      'width': 200,\n",
       "      'url': 'https://sun9-41.userapi.com/impg/tFMy6c11P0g3S2Uf3TVdepGUxM9hhP9T8TMTLw/2fWzaOvI0ZU.jpg?size=200x200&quality=95&sign=790f6cdd649bc26afbb23f6fb1fc7700&c_uniq_tag=WIr7SMBs5G-MlNg6cV7AB4XWf0Hsh5ApHDEo1P5DJ9Q&type=album'},\n",
       "     {'height': 320,\n",
       "      'type': 'q',\n",
       "      'width': 320,\n",
       "      'url': 'https://sun9-41.userapi.com/impg/tFMy6c11P0g3S2Uf3TVdepGUxM9hhP9T8TMTLw/2fWzaOvI0ZU.jpg?size=320x320&quality=95&sign=d09308a9d10c96f8631d06320c10fce6&c_uniq_tag=UymajO99K1cy1HoDqDiToAbCm346T6NdjOYtuR2ae7c&type=album'},\n",
       "     {'height': 510,\n",
       "      'type': 'r',\n",
       "      'width': 510,\n",
       "      'url': 'https://sun9-41.userapi.com/impg/tFMy6c11P0g3S2Uf3TVdepGUxM9hhP9T8TMTLw/2fWzaOvI0ZU.jpg?size=510x510&quality=95&sign=97c36086f5d1053dd48ffc90ff8a8348&c_uniq_tag=0VznAiA9ltEH62Gnv1ipit9wcYxYeQrHbTXpJ9iN9i8&type=album'}],\n",
       "    'text': '',\n",
       "    'user_id': 100,\n",
       "    'web_view_token': '317689e0bcf972ece7',\n",
       "    'has_tags': False}}],\n",
       " 'date': 1708097659,\n",
       " 'edited': 1708127141,\n",
       " 'from_id': -38936316,\n",
       " 'id': 4410,\n",
       " 'is_favorite': False,\n",
       " 'likes': {'can_like': 1,\n",
       "  'count': 14,\n",
       "  'user_likes': 0,\n",
       "  'can_publish': 1,\n",
       "  'repost_disabled': False},\n",
       " 'owner_id': -38936316,\n",
       " 'post_source': {'platform': 'iphone', 'type': 'api'},\n",
       " 'post_type': 'post',\n",
       " 'reposts': {'count': 0, 'user_reposted': 0},\n",
       " 'text': '💥 С 19 по 27 февраля - фестиваль Boulderhouse Fest в [club38936316|@rzclimbing]!\\nОколо 50 трасс! 💪\\n\\n1️⃣ Первая накрутка: понедельник 19.02, начало лазания с 09:00\\n2️⃣ Вторая накрутка - вторник 20.02, начало лазания с 15:00 \\n\\nЛазать фестивальные трассы можно до 27.02 20:30 включительно. \\n\\nНаграждение проводится 27 февраля в 21:00! 🍾\\n\\n💪 А в 20:00 для вас будет подготовлена ПОЛОСА ПРЕПЯТСТВИЙ, можете больше не завидовать детям, а попробовать сами: длинные перехваты, динамические движения и просто веселье!\\n\\n🔥 Лазить можно в любые дни, самостоятельно отмечая пролазы. \\n\\n🔥 Зачет в категориях новички (CLIMB) и любители (CLIMB+).\\n\\nСтартового взноса нет, просто списывайте занятия с абонемента или оплатите обычный вход на скалодром 💚\\n\\n📌 Заявиться на участие в фестивале можно у администратора на скалодроме «Rock Zona Boulderhouse» в любой из дней проведения фестиваля и получить карточку участника и уникальный код.',\n",
       " 'views': {'count': 534}}"
      ]
     },
     "execution_count": 16,
     "metadata": {},
     "output_type": "execute_result"
    }
   ],
   "source": [
    "i = items_wall[2]\n",
    "i"
   ]
  },
  {
   "cell_type": "markdown",
   "metadata": {},
   "source": [
    "### Задача 1\n",
    "\n",
    "Извлеките из элемента `i` следующие компоненты:\n",
    "\n",
    "* id поста;\n",
    "* дата поста;\n",
    "* текст поста;\n",
    "* число лайков;\n",
    "* число репостов;\n",
    "* число просмотров;\n",
    "* число комментариев."
   ]
  },
  {
   "cell_type": "code",
   "execution_count": 17,
   "metadata": {},
   "outputs": [
    {
     "name": "stdout",
     "output_type": "stream",
     "text": [
      "4410 1708097659 14 0 0\n",
      "💥 С 19 по 27 февраля - фестиваль Boulderhouse Fest в [club38936316|@rzclimbing]!\n",
      "Около 50 трасс! 💪\n",
      "\n",
      "1️⃣ Первая накрутка: понедельник 19.02, начало лазания с 09:00\n",
      "2️⃣ Вторая накрутка - вторник 20.02, начало лазания с 15:00 \n",
      "\n",
      "Лазать фестивальные трассы можно до 27.02 20:30 включительно. \n",
      "\n",
      "Награждение проводится 27 февраля в 21:00! 🍾\n",
      "\n",
      "💪 А в 20:00 для вас будет подготовлена ПОЛОСА ПРЕПЯТСТВИЙ, можете больше не завидовать детям, а попробовать сами: длинные перехваты, динамические движения и просто веселье!\n",
      "\n",
      "🔥 Лазить можно в любые дни, самостоятельно отмечая пролазы. \n",
      "\n",
      "🔥 Зачет в категориях новички (CLIMB) и любители (CLIMB+).\n",
      "\n",
      "Стартового взноса нет, просто списывайте занятия с абонемента или оплатите обычный вход на скалодром 💚\n",
      "\n",
      "📌 Заявиться на участие в фестивале можно у администратора на скалодроме «Rock Zona Boulderhouse» в любой из дней проведения фестиваля и получить карточку участника и уникальный код.\n"
     ]
    }
   ],
   "source": [
    "id_ = i[\"id\"]\n",
    "date = i[\"date\"]\n",
    "text = i[\"text\"]\n",
    "nlikes = i[\"likes\"][\"count\"]\n",
    "nreposts = i[\"reposts\"][\"count\"]\n",
    "ncomments = i[\"comments\"][\"count\"]\n",
    "\n",
    "print(id_, date, nlikes, nreposts, ncomments)\n",
    "print(text)"
   ]
  },
  {
   "cell_type": "markdown",
   "metadata": {},
   "source": [
    "### Задача 2\n",
    "\n",
    "Изучить один пост и понять, что нам от него нужно, это хорошо, но, конечно, мы захотим выгрузить все посты сразу, а уже потом разобраться, какую информацию о них нам оставить. Ограничения данного API таковы, что за один раз мы можем выгрузить только 100 постов. Хорошие новости: каждый раз при выгрузке мы можем начинать с того поста, на котором закончили, то есть сначала выгрузить первые 100 постов, потом – следующие 100 постов, и так до тех пор, пока не заполучим все. \n",
    "\n",
    "Общее число постов сохранено в `nposts`. Посчитайте, сколько раз нужно будет выполнить выгрузку по 100 постов, чтобы собрать все тексты, и сохраните его в переменную `iterate`."
   ]
  },
  {
   "cell_type": "code",
   "execution_count": 18,
   "metadata": {},
   "outputs": [],
   "source": [
    "iterate = nposts // 100 + 1"
   ]
  },
  {
   "cell_type": "markdown",
   "metadata": {},
   "source": [
    "### Задача 3\n",
    "\n",
    "Прочитайте в документации к API ВКонтакте про аргумент `offset` в методе `wall.get`. Используя полученную информацию и блоки кода ниже, выгрузите и сохраните в список `items_all` данные по всем постам на стене сообщества.\n",
    "\n",
    "**Подсказка:** чтобы расширять список правильным образом, используйте метод `.extend()`, а не `.append()`, он добавляет не один элемент, а сразу несколько."
   ]
  },
  {
   "cell_type": "code",
   "execution_count": 19,
   "metadata": {},
   "outputs": [],
   "source": [
    "params_wall_long = {\"access_token\" : token, \n",
    "              \"domain\" : domain, \n",
    "              \"count\" : 100,\n",
    "              \"v\" : v,\n",
    "              \"offset\" : 0}"
   ]
  },
  {
   "cell_type": "code",
   "execution_count": 20,
   "metadata": {},
   "outputs": [
    {
     "name": "stdout",
     "output_type": "stream",
     "text": [
      "0\n",
      "1\n",
      "2\n",
      "3\n",
      "4\n",
      "5\n",
      "6\n",
      "7\n",
      "8\n",
      "9\n",
      "10\n",
      "11\n",
      "12\n",
      "13\n",
      "14\n",
      "15\n",
      "16\n",
      "17\n"
     ]
    }
   ],
   "source": [
    "items_all = []\n",
    "\n",
    "for i in range(iterate):\n",
    "    req_wall_long = requests.get(main_wall, params = params_wall_long)\n",
    "    json_wall_long = req_wall_long.json()\n",
    "    items_wall_long = json_wall_long['response']['items']\n",
    "    \n",
    "    # обновляем список items_all\n",
    "    # обновляем парметр offset - увеличиваем на 100\n",
    "    items_all.extend(items_wall_long)\n",
    "    params_wall_long[\"offset\"] = params_wall_long[\"offset\"] + 100\n",
    "    \n",
    "    time.sleep(1.5)\n",
    "    print(i)"
   ]
  },
  {
   "cell_type": "markdown",
   "metadata": {},
   "source": [
    "Проверяем длину списка – все ли посты собраны:"
   ]
  },
  {
   "cell_type": "code",
   "execution_count": 21,
   "metadata": {},
   "outputs": [
    {
     "data": {
      "text/plain": [
       "1742"
      ]
     },
     "execution_count": 21,
     "metadata": {},
     "output_type": "execute_result"
    }
   ],
   "source": [
    "len(items_all)"
   ]
  },
  {
   "cell_type": "markdown",
   "metadata": {},
   "source": [
    "Не отбираем ничего на этом этапе, просто превращаем список словарей в датафрейм:"
   ]
  },
  {
   "cell_type": "code",
   "execution_count": 22,
   "metadata": {},
   "outputs": [
    {
     "data": {
      "text/html": [
       "<div>\n",
       "<style scoped>\n",
       "    .dataframe tbody tr th:only-of-type {\n",
       "        vertical-align: middle;\n",
       "    }\n",
       "\n",
       "    .dataframe tbody tr th {\n",
       "        vertical-align: top;\n",
       "    }\n",
       "\n",
       "    .dataframe thead th {\n",
       "        text-align: right;\n",
       "    }\n",
       "</style>\n",
       "<table border=\"1\" class=\"dataframe\">\n",
       "  <thead>\n",
       "    <tr style=\"text-align: right;\">\n",
       "      <th></th>\n",
       "      <th>inner_type</th>\n",
       "      <th>donut</th>\n",
       "      <th>comments</th>\n",
       "      <th>marked_as_ads</th>\n",
       "      <th>short_text_rate</th>\n",
       "      <th>hash</th>\n",
       "      <th>type</th>\n",
       "      <th>carousel_offset</th>\n",
       "      <th>attachments</th>\n",
       "      <th>date</th>\n",
       "      <th>...</th>\n",
       "      <th>post_source</th>\n",
       "      <th>post_type</th>\n",
       "      <th>reposts</th>\n",
       "      <th>text</th>\n",
       "      <th>views</th>\n",
       "      <th>edited</th>\n",
       "      <th>copy_history</th>\n",
       "      <th>geo</th>\n",
       "      <th>signer_id</th>\n",
       "      <th>zoom_text</th>\n",
       "    </tr>\n",
       "  </thead>\n",
       "  <tbody>\n",
       "    <tr>\n",
       "      <th>0</th>\n",
       "      <td>wall_wallpost</td>\n",
       "      <td>{'is_donut': False}</td>\n",
       "      <td>{'can_post': 1, 'count': 0, 'groups_can_post':...</td>\n",
       "      <td>0</td>\n",
       "      <td>0.8</td>\n",
       "      <td>mf3h7SfvWi5LnfRQ2UfD3-2JscQ</td>\n",
       "      <td>post</td>\n",
       "      <td>0.0</td>\n",
       "      <td>[{'type': 'photo', 'photo': {'album_id': -7, '...</td>\n",
       "      <td>1708357405</td>\n",
       "      <td>...</td>\n",
       "      <td>{'platform': 'iphone', 'type': 'api'}</td>\n",
       "      <td>post</td>\n",
       "      <td>{'count': 0, 'user_reposted': 0}</td>\n",
       "      <td>🔥🔥🔥 Друзья, наш фестиваль Boulderhouse.Fest ст...</td>\n",
       "      <td>{'count': 155}</td>\n",
       "      <td>NaN</td>\n",
       "      <td>NaN</td>\n",
       "      <td>NaN</td>\n",
       "      <td>NaN</td>\n",
       "      <td>NaN</td>\n",
       "    </tr>\n",
       "    <tr>\n",
       "      <th>1</th>\n",
       "      <td>wall_wallpost</td>\n",
       "      <td>{'is_donut': False}</td>\n",
       "      <td>{'can_post': 1, 'count': 0, 'groups_can_post':...</td>\n",
       "      <td>0</td>\n",
       "      <td>0.8</td>\n",
       "      <td>Nd94usWVdsEmTa24a6hmxB2s3Ko</td>\n",
       "      <td>post</td>\n",
       "      <td>NaN</td>\n",
       "      <td>[{'type': 'video', 'video': {'response_type': ...</td>\n",
       "      <td>1708354461</td>\n",
       "      <td>...</td>\n",
       "      <td>{'type': 'vk'}</td>\n",
       "      <td>post</td>\n",
       "      <td>{'count': 0, 'user_reposted': 0}</td>\n",
       "      <td></td>\n",
       "      <td>{'count': 195}</td>\n",
       "      <td>NaN</td>\n",
       "      <td>NaN</td>\n",
       "      <td>NaN</td>\n",
       "      <td>NaN</td>\n",
       "      <td>NaN</td>\n",
       "    </tr>\n",
       "    <tr>\n",
       "      <th>2</th>\n",
       "      <td>wall_wallpost</td>\n",
       "      <td>{'is_donut': False}</td>\n",
       "      <td>{'can_post': 1, 'count': 0, 'groups_can_post':...</td>\n",
       "      <td>0</td>\n",
       "      <td>0.8</td>\n",
       "      <td>5feRmK_fVWyXwNGvSQ-nu7Wkej0</td>\n",
       "      <td>post</td>\n",
       "      <td>NaN</td>\n",
       "      <td>[{'type': 'photo', 'photo': {'album_id': -7, '...</td>\n",
       "      <td>1708097659</td>\n",
       "      <td>...</td>\n",
       "      <td>{'platform': 'iphone', 'type': 'api'}</td>\n",
       "      <td>post</td>\n",
       "      <td>{'count': 0, 'user_reposted': 0}</td>\n",
       "      <td>💥 С 19 по 27 февраля - фестиваль Boulderhouse ...</td>\n",
       "      <td>{'count': 534}</td>\n",
       "      <td>1.708127e+09</td>\n",
       "      <td>NaN</td>\n",
       "      <td>NaN</td>\n",
       "      <td>NaN</td>\n",
       "      <td>NaN</td>\n",
       "    </tr>\n",
       "    <tr>\n",
       "      <th>3</th>\n",
       "      <td>wall_wallpost</td>\n",
       "      <td>{'is_donut': False}</td>\n",
       "      <td>{'can_post': 1, 'count': 1, 'groups_can_post':...</td>\n",
       "      <td>0</td>\n",
       "      <td>0.8</td>\n",
       "      <td>Qe0Jjk1YXCbZxZcv_2SdXSnKp84</td>\n",
       "      <td>post</td>\n",
       "      <td>NaN</td>\n",
       "      <td>[{'type': 'photo', 'photo': {'album_id': -7, '...</td>\n",
       "      <td>1708002654</td>\n",
       "      <td>...</td>\n",
       "      <td>{'platform': 'iphone', 'type': 'api'}</td>\n",
       "      <td>post</td>\n",
       "      <td>{'count': 2, 'user_reposted': 0}</td>\n",
       "      <td>Новички, охваченные энтузиазмом, часто попадаю...</td>\n",
       "      <td>{'count': 1075}</td>\n",
       "      <td>NaN</td>\n",
       "      <td>NaN</td>\n",
       "      <td>NaN</td>\n",
       "      <td>NaN</td>\n",
       "      <td>NaN</td>\n",
       "    </tr>\n",
       "    <tr>\n",
       "      <th>4</th>\n",
       "      <td>wall_wallpost</td>\n",
       "      <td>{'is_donut': False}</td>\n",
       "      <td>{'can_post': 1, 'count': 0, 'groups_can_post':...</td>\n",
       "      <td>0</td>\n",
       "      <td>0.8</td>\n",
       "      <td>EYLMGqUFAaJ3DQcnWu1vDQ6rk6w</td>\n",
       "      <td>post</td>\n",
       "      <td>NaN</td>\n",
       "      <td>[{'type': 'video', 'video': {'response_type': ...</td>\n",
       "      <td>1707990427</td>\n",
       "      <td>...</td>\n",
       "      <td>{'type': 'vk'}</td>\n",
       "      <td>post</td>\n",
       "      <td>{'count': 1, 'user_reposted': 0}</td>\n",
       "      <td></td>\n",
       "      <td>{'count': 425}</td>\n",
       "      <td>NaN</td>\n",
       "      <td>NaN</td>\n",
       "      <td>NaN</td>\n",
       "      <td>NaN</td>\n",
       "      <td>NaN</td>\n",
       "    </tr>\n",
       "    <tr>\n",
       "      <th>5</th>\n",
       "      <td>wall_wallpost</td>\n",
       "      <td>{'is_donut': False}</td>\n",
       "      <td>{'can_post': 1, 'count': 3, 'groups_can_post':...</td>\n",
       "      <td>0</td>\n",
       "      <td>0.8</td>\n",
       "      <td>bb8ez30eWrwStF-RNLWd8mavfEA</td>\n",
       "      <td>post</td>\n",
       "      <td>NaN</td>\n",
       "      <td>[{'type': 'photo', 'photo': {'album_id': -7, '...</td>\n",
       "      <td>1707849256</td>\n",
       "      <td>...</td>\n",
       "      <td>{'platform': 'iphone', 'type': 'api'}</td>\n",
       "      <td>post</td>\n",
       "      <td>{'count': 0, 'user_reposted': 0}</td>\n",
       "      <td>Друзья! \\nБудьте внимательны - с 15 по 18 февр...</td>\n",
       "      <td>{'count': 1385}</td>\n",
       "      <td>NaN</td>\n",
       "      <td>NaN</td>\n",
       "      <td>NaN</td>\n",
       "      <td>NaN</td>\n",
       "      <td>NaN</td>\n",
       "    </tr>\n",
       "    <tr>\n",
       "      <th>6</th>\n",
       "      <td>wall_wallpost</td>\n",
       "      <td>{'is_donut': False}</td>\n",
       "      <td>{'can_post': 1, 'count': 4, 'groups_can_post':...</td>\n",
       "      <td>0</td>\n",
       "      <td>0.8</td>\n",
       "      <td>az20aD-Z1heagC_txkfDxjnlTao</td>\n",
       "      <td>post</td>\n",
       "      <td>NaN</td>\n",
       "      <td>[{'type': 'video', 'video': {'response_type': ...</td>\n",
       "      <td>1707751452</td>\n",
       "      <td>...</td>\n",
       "      <td>{'type': 'vk'}</td>\n",
       "      <td>post</td>\n",
       "      <td>{'count': 2, 'user_reposted': 0}</td>\n",
       "      <td></td>\n",
       "      <td>{'count': 859}</td>\n",
       "      <td>NaN</td>\n",
       "      <td>NaN</td>\n",
       "      <td>NaN</td>\n",
       "      <td>NaN</td>\n",
       "      <td>NaN</td>\n",
       "    </tr>\n",
       "    <tr>\n",
       "      <th>7</th>\n",
       "      <td>wall_wallpost</td>\n",
       "      <td>{'is_donut': False}</td>\n",
       "      <td>{'can_post': 1, 'count': 0, 'groups_can_post':...</td>\n",
       "      <td>0</td>\n",
       "      <td>0.8</td>\n",
       "      <td>1hNngvRVtwmqnLxqZAWx54_GlDQ</td>\n",
       "      <td>post</td>\n",
       "      <td>0.0</td>\n",
       "      <td>[{'type': 'photo', 'photo': {'album_id': -7, '...</td>\n",
       "      <td>1707413546</td>\n",
       "      <td>...</td>\n",
       "      <td>{'platform': 'iphone', 'type': 'api'}</td>\n",
       "      <td>post</td>\n",
       "      <td>{'count': 0, 'user_reposted': 0}</td>\n",
       "      <td>🔥 Наши подготовщики каждую неделю добавляют но...</td>\n",
       "      <td>{'count': 1095}</td>\n",
       "      <td>NaN</td>\n",
       "      <td>NaN</td>\n",
       "      <td>NaN</td>\n",
       "      <td>NaN</td>\n",
       "      <td>NaN</td>\n",
       "    </tr>\n",
       "    <tr>\n",
       "      <th>8</th>\n",
       "      <td>wall_wallpost</td>\n",
       "      <td>{'is_donut': False}</td>\n",
       "      <td>{'can_post': 1, 'count': 0, 'groups_can_post':...</td>\n",
       "      <td>0</td>\n",
       "      <td>0.8</td>\n",
       "      <td>AAGDCqDCOnvZMBsQkjZtMYw-l-s</td>\n",
       "      <td>post</td>\n",
       "      <td>NaN</td>\n",
       "      <td>[{'type': 'photo', 'photo': {'album_id': -7, '...</td>\n",
       "      <td>1707413480</td>\n",
       "      <td>...</td>\n",
       "      <td>{'platform': 'iphone', 'type': 'api'}</td>\n",
       "      <td>post</td>\n",
       "      <td>{'count': 3, 'user_reposted': 0}</td>\n",
       "      <td>Скалолазам невысокого роста часто бывает нелег...</td>\n",
       "      <td>{'count': 1254}</td>\n",
       "      <td>NaN</td>\n",
       "      <td>NaN</td>\n",
       "      <td>NaN</td>\n",
       "      <td>NaN</td>\n",
       "      <td>NaN</td>\n",
       "    </tr>\n",
       "    <tr>\n",
       "      <th>9</th>\n",
       "      <td>wall_wallpost</td>\n",
       "      <td>{'is_donut': False}</td>\n",
       "      <td>{'can_post': 1, 'count': 0, 'groups_can_post':...</td>\n",
       "      <td>0</td>\n",
       "      <td>0.8</td>\n",
       "      <td>Z-zCRERQnm6nGLbxYYCfFAsdUjQ</td>\n",
       "      <td>post</td>\n",
       "      <td>NaN</td>\n",
       "      <td>[{'type': 'video', 'video': {'response_type': ...</td>\n",
       "      <td>1707397215</td>\n",
       "      <td>...</td>\n",
       "      <td>{'type': 'vk'}</td>\n",
       "      <td>post</td>\n",
       "      <td>{'count': 0, 'user_reposted': 0}</td>\n",
       "      <td></td>\n",
       "      <td>{'count': 562}</td>\n",
       "      <td>NaN</td>\n",
       "      <td>NaN</td>\n",
       "      <td>NaN</td>\n",
       "      <td>NaN</td>\n",
       "      <td>NaN</td>\n",
       "    </tr>\n",
       "  </tbody>\n",
       "</table>\n",
       "<p>10 rows × 25 columns</p>\n",
       "</div>"
      ],
      "text/plain": [
       "      inner_type                donut  \\\n",
       "0  wall_wallpost  {'is_donut': False}   \n",
       "1  wall_wallpost  {'is_donut': False}   \n",
       "2  wall_wallpost  {'is_donut': False}   \n",
       "3  wall_wallpost  {'is_donut': False}   \n",
       "4  wall_wallpost  {'is_donut': False}   \n",
       "5  wall_wallpost  {'is_donut': False}   \n",
       "6  wall_wallpost  {'is_donut': False}   \n",
       "7  wall_wallpost  {'is_donut': False}   \n",
       "8  wall_wallpost  {'is_donut': False}   \n",
       "9  wall_wallpost  {'is_donut': False}   \n",
       "\n",
       "                                            comments  marked_as_ads  \\\n",
       "0  {'can_post': 1, 'count': 0, 'groups_can_post':...              0   \n",
       "1  {'can_post': 1, 'count': 0, 'groups_can_post':...              0   \n",
       "2  {'can_post': 1, 'count': 0, 'groups_can_post':...              0   \n",
       "3  {'can_post': 1, 'count': 1, 'groups_can_post':...              0   \n",
       "4  {'can_post': 1, 'count': 0, 'groups_can_post':...              0   \n",
       "5  {'can_post': 1, 'count': 3, 'groups_can_post':...              0   \n",
       "6  {'can_post': 1, 'count': 4, 'groups_can_post':...              0   \n",
       "7  {'can_post': 1, 'count': 0, 'groups_can_post':...              0   \n",
       "8  {'can_post': 1, 'count': 0, 'groups_can_post':...              0   \n",
       "9  {'can_post': 1, 'count': 0, 'groups_can_post':...              0   \n",
       "\n",
       "   short_text_rate                         hash  type  carousel_offset  \\\n",
       "0              0.8  mf3h7SfvWi5LnfRQ2UfD3-2JscQ  post              0.0   \n",
       "1              0.8  Nd94usWVdsEmTa24a6hmxB2s3Ko  post              NaN   \n",
       "2              0.8  5feRmK_fVWyXwNGvSQ-nu7Wkej0  post              NaN   \n",
       "3              0.8  Qe0Jjk1YXCbZxZcv_2SdXSnKp84  post              NaN   \n",
       "4              0.8  EYLMGqUFAaJ3DQcnWu1vDQ6rk6w  post              NaN   \n",
       "5              0.8  bb8ez30eWrwStF-RNLWd8mavfEA  post              NaN   \n",
       "6              0.8  az20aD-Z1heagC_txkfDxjnlTao  post              NaN   \n",
       "7              0.8  1hNngvRVtwmqnLxqZAWx54_GlDQ  post              0.0   \n",
       "8              0.8  AAGDCqDCOnvZMBsQkjZtMYw-l-s  post              NaN   \n",
       "9              0.8  Z-zCRERQnm6nGLbxYYCfFAsdUjQ  post              NaN   \n",
       "\n",
       "                                         attachments        date  ...  \\\n",
       "0  [{'type': 'photo', 'photo': {'album_id': -7, '...  1708357405  ...   \n",
       "1  [{'type': 'video', 'video': {'response_type': ...  1708354461  ...   \n",
       "2  [{'type': 'photo', 'photo': {'album_id': -7, '...  1708097659  ...   \n",
       "3  [{'type': 'photo', 'photo': {'album_id': -7, '...  1708002654  ...   \n",
       "4  [{'type': 'video', 'video': {'response_type': ...  1707990427  ...   \n",
       "5  [{'type': 'photo', 'photo': {'album_id': -7, '...  1707849256  ...   \n",
       "6  [{'type': 'video', 'video': {'response_type': ...  1707751452  ...   \n",
       "7  [{'type': 'photo', 'photo': {'album_id': -7, '...  1707413546  ...   \n",
       "8  [{'type': 'photo', 'photo': {'album_id': -7, '...  1707413480  ...   \n",
       "9  [{'type': 'video', 'video': {'response_type': ...  1707397215  ...   \n",
       "\n",
       "                             post_source  post_type  \\\n",
       "0  {'platform': 'iphone', 'type': 'api'}       post   \n",
       "1                         {'type': 'vk'}       post   \n",
       "2  {'platform': 'iphone', 'type': 'api'}       post   \n",
       "3  {'platform': 'iphone', 'type': 'api'}       post   \n",
       "4                         {'type': 'vk'}       post   \n",
       "5  {'platform': 'iphone', 'type': 'api'}       post   \n",
       "6                         {'type': 'vk'}       post   \n",
       "7  {'platform': 'iphone', 'type': 'api'}       post   \n",
       "8  {'platform': 'iphone', 'type': 'api'}       post   \n",
       "9                         {'type': 'vk'}       post   \n",
       "\n",
       "                            reposts  \\\n",
       "0  {'count': 0, 'user_reposted': 0}   \n",
       "1  {'count': 0, 'user_reposted': 0}   \n",
       "2  {'count': 0, 'user_reposted': 0}   \n",
       "3  {'count': 2, 'user_reposted': 0}   \n",
       "4  {'count': 1, 'user_reposted': 0}   \n",
       "5  {'count': 0, 'user_reposted': 0}   \n",
       "6  {'count': 2, 'user_reposted': 0}   \n",
       "7  {'count': 0, 'user_reposted': 0}   \n",
       "8  {'count': 3, 'user_reposted': 0}   \n",
       "9  {'count': 0, 'user_reposted': 0}   \n",
       "\n",
       "                                                text            views  \\\n",
       "0  🔥🔥🔥 Друзья, наш фестиваль Boulderhouse.Fest ст...   {'count': 155}   \n",
       "1                                                      {'count': 195}   \n",
       "2  💥 С 19 по 27 февраля - фестиваль Boulderhouse ...   {'count': 534}   \n",
       "3  Новички, охваченные энтузиазмом, часто попадаю...  {'count': 1075}   \n",
       "4                                                      {'count': 425}   \n",
       "5  Друзья! \\nБудьте внимательны - с 15 по 18 февр...  {'count': 1385}   \n",
       "6                                                      {'count': 859}   \n",
       "7  🔥 Наши подготовщики каждую неделю добавляют но...  {'count': 1095}   \n",
       "8  Скалолазам невысокого роста часто бывает нелег...  {'count': 1254}   \n",
       "9                                                      {'count': 562}   \n",
       "\n",
       "         edited copy_history  geo signer_id zoom_text  \n",
       "0           NaN          NaN  NaN       NaN       NaN  \n",
       "1           NaN          NaN  NaN       NaN       NaN  \n",
       "2  1.708127e+09          NaN  NaN       NaN       NaN  \n",
       "3           NaN          NaN  NaN       NaN       NaN  \n",
       "4           NaN          NaN  NaN       NaN       NaN  \n",
       "5           NaN          NaN  NaN       NaN       NaN  \n",
       "6           NaN          NaN  NaN       NaN       NaN  \n",
       "7           NaN          NaN  NaN       NaN       NaN  \n",
       "8           NaN          NaN  NaN       NaN       NaN  \n",
       "9           NaN          NaN  NaN       NaN       NaN  \n",
       "\n",
       "[10 rows x 25 columns]"
      ]
     },
     "execution_count": 22,
     "metadata": {},
     "output_type": "execute_result"
    }
   ],
   "source": [
    "df = pd.DataFrame(items_all)\n",
    "df.head(10)"
   ]
  },
  {
   "cell_type": "markdown",
   "metadata": {},
   "source": [
    "### Задача 4\n",
    "\n",
    "Создайте на основе датафрейма `df` новый датафрейм `small` со следующими столбцами:\n",
    "\n",
    "* id поста (`id`);\n",
    "* дата поста (`date`);\n",
    "* текст поста (`text`);\n",
    "* число лайков (`nlikes`);\n",
    "* число просмотров (`nviews`);\n",
    "* число комментариев (`ncomments`).\n",
    "\n",
    "**Подсказка:** отберите сначала все столбцы с нужной информацией, напишите функцию для извлечения только числа лайков/просмотров/комментариев и примените её, удалите лишние столбцы."
   ]
  },
  {
   "cell_type": "code",
   "execution_count": 25,
   "metadata": {},
   "outputs": [],
   "source": [
    "small = df[[\"id\", \"date\", \"text\", \"likes\", \"reposts\", \"views\", \"comments\"]]"
   ]
  },
  {
   "cell_type": "code",
   "execution_count": 26,
   "metadata": {},
   "outputs": [
    {
     "name": "stderr",
     "output_type": "stream",
     "text": [
      "/opt/anaconda3/lib/python3.7/site-packages/ipykernel_launcher.py:6: SettingWithCopyWarning: \n",
      "A value is trying to be set on a copy of a slice from a DataFrame.\n",
      "Try using .loc[row_indexer,col_indexer] = value instead\n",
      "\n",
      "See the caveats in the documentation: https://pandas.pydata.org/pandas-docs/stable/user_guide/indexing.html#returning-a-view-versus-a-copy\n",
      "  \n",
      "/opt/anaconda3/lib/python3.7/site-packages/ipykernel_launcher.py:7: SettingWithCopyWarning: \n",
      "A value is trying to be set on a copy of a slice from a DataFrame.\n",
      "Try using .loc[row_indexer,col_indexer] = value instead\n",
      "\n",
      "See the caveats in the documentation: https://pandas.pydata.org/pandas-docs/stable/user_guide/indexing.html#returning-a-view-versus-a-copy\n",
      "  import sys\n",
      "/opt/anaconda3/lib/python3.7/site-packages/ipykernel_launcher.py:8: SettingWithCopyWarning: \n",
      "A value is trying to be set on a copy of a slice from a DataFrame.\n",
      "Try using .loc[row_indexer,col_indexer] = value instead\n",
      "\n",
      "See the caveats in the documentation: https://pandas.pydata.org/pandas-docs/stable/user_guide/indexing.html#returning-a-view-versus-a-copy\n",
      "  \n",
      "/opt/anaconda3/lib/python3.7/site-packages/ipykernel_launcher.py:9: SettingWithCopyWarning: \n",
      "A value is trying to be set on a copy of a slice from a DataFrame.\n",
      "Try using .loc[row_indexer,col_indexer] = value instead\n",
      "\n",
      "See the caveats in the documentation: https://pandas.pydata.org/pandas-docs/stable/user_guide/indexing.html#returning-a-view-versus-a-copy\n",
      "  if __name__ == '__main__':\n"
     ]
    }
   ],
   "source": [
    "# пишем lambda-функцию, которая принимает на вход ячейку (x)\n",
    "# и забирает оттуда значение по ключу count\n",
    "# для nviews пишем условие с if-else на случай пустых ячеек –\n",
    "# для старых постов данных о просмотрах нет\n",
    "\n",
    "small[\"nlikes\"] = small[\"likes\"].apply(lambda x: x[\"count\"])\n",
    "small[\"nreposts\"] = small[\"reposts\"].apply(lambda x: x[\"count\"])\n",
    "small[\"ncomments\"] = small[\"comments\"].apply(lambda x: x[\"count\"])\n",
    "small[\"nviews\"] = small[\"views\"].apply(lambda x: x[\"count\"] if x is dict else x)"
   ]
  },
  {
   "cell_type": "code",
   "execution_count": 27,
   "metadata": {},
   "outputs": [
    {
     "name": "stderr",
     "output_type": "stream",
     "text": [
      "/opt/anaconda3/lib/python3.7/site-packages/pandas/core/frame.py:4913: SettingWithCopyWarning: \n",
      "A value is trying to be set on a copy of a slice from a DataFrame\n",
      "\n",
      "See the caveats in the documentation: https://pandas.pydata.org/pandas-docs/stable/user_guide/indexing.html#returning-a-view-versus-a-copy\n",
      "  errors=errors,\n"
     ]
    }
   ],
   "source": [
    "small.drop(columns = [\"reposts\", \"comments\", \"likes\"], inplace = True)"
   ]
  },
  {
   "cell_type": "markdown",
   "metadata": {},
   "source": [
    "**Дополнение.** Преобразуем дату из формата POSIX во что-то более привычное:"
   ]
  },
  {
   "cell_type": "code",
   "execution_count": 28,
   "metadata": {},
   "outputs": [
    {
     "name": "stderr",
     "output_type": "stream",
     "text": [
      "/opt/anaconda3/lib/python3.7/site-packages/ipykernel_launcher.py:3: SettingWithCopyWarning: \n",
      "A value is trying to be set on a copy of a slice from a DataFrame.\n",
      "Try using .loc[row_indexer,col_indexer] = value instead\n",
      "\n",
      "See the caveats in the documentation: https://pandas.pydata.org/pandas-docs/stable/user_guide/indexing.html#returning-a-view-versus-a-copy\n",
      "  This is separate from the ipykernel package so we can avoid doing imports until\n"
     ]
    }
   ],
   "source": [
    "# unit = 's': переводим из метки, которая является числом секунд с 1 января 1970\n",
    "\n",
    "small[\"date_time\"] = pd.to_datetime(small['date'], unit = 's')"
   ]
  },
  {
   "cell_type": "code",
   "execution_count": 30,
   "metadata": {},
   "outputs": [
    {
     "name": "stderr",
     "output_type": "stream",
     "text": [
      "/opt/anaconda3/lib/python3.7/site-packages/ipykernel_launcher.py:8: SettingWithCopyWarning: \n",
      "A value is trying to be set on a copy of a slice from a DataFrame.\n",
      "Try using .loc[row_indexer,col_indexer] = value instead\n",
      "\n",
      "See the caveats in the documentation: https://pandas.pydata.org/pandas-docs/stable/user_guide/indexing.html#returning-a-view-versus-a-copy\n",
      "  \n",
      "/opt/anaconda3/lib/python3.7/site-packages/ipykernel_launcher.py:9: SettingWithCopyWarning: \n",
      "A value is trying to be set on a copy of a slice from a DataFrame.\n",
      "Try using .loc[row_indexer,col_indexer] = value instead\n",
      "\n",
      "See the caveats in the documentation: https://pandas.pydata.org/pandas-docs/stable/user_guide/indexing.html#returning-a-view-versus-a-copy\n",
      "  if __name__ == '__main__':\n",
      "/opt/anaconda3/lib/python3.7/site-packages/ipykernel_launcher.py:10: SettingWithCopyWarning: \n",
      "A value is trying to be set on a copy of a slice from a DataFrame.\n",
      "Try using .loc[row_indexer,col_indexer] = value instead\n",
      "\n",
      "See the caveats in the documentation: https://pandas.pydata.org/pandas-docs/stable/user_guide/indexing.html#returning-a-view-versus-a-copy\n",
      "  # Remove the CWD from sys.path while we load stuff.\n",
      "/opt/anaconda3/lib/python3.7/site-packages/ipykernel_launcher.py:11: SettingWithCopyWarning: \n",
      "A value is trying to be set on a copy of a slice from a DataFrame.\n",
      "Try using .loc[row_indexer,col_indexer] = value instead\n",
      "\n",
      "See the caveats in the documentation: https://pandas.pydata.org/pandas-docs/stable/user_guide/indexing.html#returning-a-view-versus-a-copy\n",
      "  # This is added back by InteractiveShellApp.init_path()\n",
      "/opt/anaconda3/lib/python3.7/site-packages/ipykernel_launcher.py:12: SettingWithCopyWarning: \n",
      "A value is trying to be set on a copy of a slice from a DataFrame.\n",
      "Try using .loc[row_indexer,col_indexer] = value instead\n",
      "\n",
      "See the caveats in the documentation: https://pandas.pydata.org/pandas-docs/stable/user_guide/indexing.html#returning-a-view-versus-a-copy\n",
      "  if sys.path[0] == '':\n"
     ]
    }
   ],
   "source": [
    "# забираем части даты-времени в виде строки (тип string)\n",
    "# %Y – год в четырехзначном виде, %y – год в двузначном виде\n",
    "# %m – месяц в числовом виде\n",
    "# %d – день в числовом виде\n",
    "# %A – день недели полностью, %a – день недели сокращенно\n",
    "# %H, %M, %S – часы, минуты, секунды\n",
    "\n",
    "small[\"year\"] = small[\"date_time\"].dt.strftime('%Y')\n",
    "small[\"month\"] = small[\"date_time\"].dt.strftime('%m')\n",
    "small[\"day\"] = small[\"date_time\"].dt.strftime('%d')\n",
    "small[\"week_day\"] = small[\"date_time\"].dt.strftime('%A')\n",
    "small[\"time\"] = small[\"date_time\"].dt.strftime('%H:%M:%S')"
   ]
  },
  {
   "cell_type": "markdown",
   "metadata": {},
   "source": [
    "### Задача 5\n",
    "\n",
    "Выберите только те строки в полученном датафрейме, которые соответствуют постам с числом комментариев больше 0, и сохраните их в датафрейм `with_comm`."
   ]
  },
  {
   "cell_type": "code",
   "execution_count": 31,
   "metadata": {},
   "outputs": [],
   "source": [
    "with_comm = small[small[\"ncomments\"] > 0] "
   ]
  },
  {
   "cell_type": "markdown",
   "metadata": {},
   "source": [
    "## Часть 2: собираем комментарии к постам"
   ]
  },
  {
   "cell_type": "markdown",
   "metadata": {},
   "source": [
    "В целях экономии времени не будем брать весь датафрейм `with_comm`, для примера отберем первые 10 строк:"
   ]
  },
  {
   "cell_type": "code",
   "execution_count": 32,
   "metadata": {},
   "outputs": [],
   "source": [
    "with_comm10 = with_comm.head(10)"
   ]
  },
  {
   "cell_type": "markdown",
   "metadata": {},
   "source": [
    "Заберем id постов и преобразуем их в список:"
   ]
  },
  {
   "cell_type": "code",
   "execution_count": 33,
   "metadata": {},
   "outputs": [],
   "source": [
    "ids = list(with_comm10[\"id\"])"
   ]
  },
  {
   "cell_type": "markdown",
   "metadata": {},
   "source": [
    "Возьмем один id для примера и сформулируем запрос для получения комментариев к посту с этим id:"
   ]
  },
  {
   "cell_type": "code",
   "execution_count": 34,
   "metadata": {},
   "outputs": [],
   "source": [
    "i = 3782\n",
    "\n",
    "# метод wall.getComments\n",
    "# owner_id: id сообщества\n",
    "# post_id: id поста\n",
    "# v: версия API, все та же\n",
    "# access_token: токен доступа, все тот же\n",
    "# count: число комментариев, берем 100, max возможное за раз\n",
    "# thread_items_count: число ответов на комментарий, 10, max за раз\n",
    "\n",
    "main_comm = \"https://api.vk.com/method/wall.getComments\"\n",
    "params_comm = {\"owner_id\" : -38936316,\n",
    "              \"post_id\" : i,\n",
    "              \"v\" : v,\n",
    "              \"access_token\" : token,\n",
    "              \"count\" : 100, \n",
    "              \"thread_items_count\" : 10}"
   ]
  },
  {
   "cell_type": "markdown",
   "metadata": {},
   "source": [
    "Формулируем запрос, отправляем и смотрим на результат в виде словаря:"
   ]
  },
  {
   "cell_type": "code",
   "execution_count": 35,
   "metadata": {},
   "outputs": [
    {
     "data": {
      "text/plain": [
       "{'response': {'count': 4,\n",
       "  'items': [{'id': 3783,\n",
       "    'from_id': 527923327,\n",
       "    'date': 1669311085,\n",
       "    'text': 'Мотивация не нужна, нужна дисциплина.',\n",
       "    'post_id': 3782,\n",
       "    'owner_id': -38936316,\n",
       "    'parents_stack': [],\n",
       "    'thread': {'count': 1,\n",
       "     'items': [{'id': 3784,\n",
       "       'from_id': 2311030,\n",
       "       'date': 1669314785,\n",
       "       'text': '[id527923327|Николай], 👍',\n",
       "       'post_id': 3782,\n",
       "       'owner_id': -38936316,\n",
       "       'parents_stack': [3783],\n",
       "       'reply_to_user': 527923327,\n",
       "       'reply_to_comment': 3783}],\n",
       "     'can_post': True,\n",
       "     'show_reply_button': True,\n",
       "     'groups_can_post': True}},\n",
       "   {'id': 3785,\n",
       "    'from_id': 2847724,\n",
       "    'date': 1669373425,\n",
       "    'text': 'Мотивация тоже нужна)',\n",
       "    'post_id': 3782,\n",
       "    'owner_id': -38936316,\n",
       "    'parents_stack': [],\n",
       "    'thread': {'count': 1,\n",
       "     'items': [{'id': 3788,\n",
       "       'from_id': 527923327,\n",
       "       'date': 1669400413,\n",
       "       'text': '[id2847724|Татьяна], мотивация лишь временный фактор, дисциплина - вечна. Дисциплина делает твой сегодняшний день тяжелее, но завтрашний легче',\n",
       "       'post_id': 3782,\n",
       "       'owner_id': -38936316,\n",
       "       'parents_stack': [3785],\n",
       "       'reply_to_user': 2847724,\n",
       "       'reply_to_comment': 3785}],\n",
       "     'can_post': True,\n",
       "     'show_reply_button': True,\n",
       "     'groups_can_post': True}}],\n",
       "  'current_level_count': 2,\n",
       "  'can_post': True,\n",
       "  'show_reply_button': True,\n",
       "  'groups_can_post': True}}"
      ]
     },
     "execution_count": 35,
     "metadata": {},
     "output_type": "execute_result"
    }
   ],
   "source": [
    "req = requests.get(main_comm, params = params_comm)\n",
    "req.json()"
   ]
  },
  {
   "cell_type": "markdown",
   "metadata": {},
   "source": [
    "### Задача 6"
   ]
  },
  {
   "cell_type": "markdown",
   "metadata": {},
   "source": [
    "Давайте считать, что 100 самых новых комментариев и 10 ответов на них нам достаточно (если нет – аргумент `offset` есть, задача аналогична предыдущей по сбору постов). Повторите эту операцию выше для всех id в списке `ids` и сформируйте список с результатами. Преобразуйте результат в датафрейм `df_comm`. "
   ]
  },
  {
   "cell_type": "code",
   "execution_count": 36,
   "metadata": {},
   "outputs": [],
   "source": [
    "# по аналогии с циклом ранее, только ничего не увеличиваем\n",
    "# подставляем на место post_id значение i\n",
    "\n",
    "comments_all = []\n",
    "\n",
    "for i in ids:\n",
    "    params_comm = {\"owner_id\" : -38936316,\n",
    "              \"post_id\" : i,\n",
    "              \"v\" : v,\n",
    "              \"access_token\" : token,\n",
    "              \"count\" : 100, \n",
    "              \"thread_items_count\" : 10}\n",
    "    req = requests.get(main_comm, params = params_comm)\n",
    "    comm_json = req.json() \n",
    "    comm_list = comm_json[\"response\"][\"items\"]\n",
    "    comments_all.extend(comm_list)\n",
    "    time.sleep(1)"
   ]
  },
  {
   "cell_type": "code",
   "execution_count": 37,
   "metadata": {},
   "outputs": [],
   "source": [
    "df_comm = pd.DataFrame(comments_all)"
   ]
  },
  {
   "cell_type": "markdown",
   "metadata": {},
   "source": [
    "### Задача 7\n",
    "\n",
    "Объедините датафрейм с собранными комментариями `df_comm` и датафрейм `with_comm10` через функцию `merge()` из `pandas`."
   ]
  },
  {
   "cell_type": "code",
   "execution_count": 38,
   "metadata": {},
   "outputs": [
    {
     "name": "stderr",
     "output_type": "stream",
     "text": [
      "/opt/anaconda3/lib/python3.7/site-packages/pandas/core/frame.py:5047: SettingWithCopyWarning: \n",
      "A value is trying to be set on a copy of a slice from a DataFrame\n",
      "\n",
      "See the caveats in the documentation: https://pandas.pydata.org/pandas-docs/stable/user_guide/indexing.html#returning-a-view-versus-a-copy\n",
      "  errors=errors,\n"
     ]
    },
    {
     "data": {
      "text/html": [
       "<div>\n",
       "<style scoped>\n",
       "    .dataframe tbody tr th:only-of-type {\n",
       "        vertical-align: middle;\n",
       "    }\n",
       "\n",
       "    .dataframe tbody tr th {\n",
       "        vertical-align: top;\n",
       "    }\n",
       "\n",
       "    .dataframe thead th {\n",
       "        text-align: right;\n",
       "    }\n",
       "</style>\n",
       "<table border=\"1\" class=\"dataframe\">\n",
       "  <thead>\n",
       "    <tr style=\"text-align: right;\">\n",
       "      <th></th>\n",
       "      <th>post_id</th>\n",
       "      <th>date</th>\n",
       "      <th>text</th>\n",
       "      <th>views</th>\n",
       "      <th>nlikes</th>\n",
       "      <th>nreposts</th>\n",
       "      <th>ncomments</th>\n",
       "      <th>nviews</th>\n",
       "      <th>date_time</th>\n",
       "      <th>year</th>\n",
       "      <th>month</th>\n",
       "      <th>day</th>\n",
       "      <th>week_day</th>\n",
       "      <th>time</th>\n",
       "    </tr>\n",
       "  </thead>\n",
       "  <tbody>\n",
       "    <tr>\n",
       "      <th>3</th>\n",
       "      <td>4406</td>\n",
       "      <td>1708002654</td>\n",
       "      <td>Новички, охваченные энтузиазмом, часто попадаю...</td>\n",
       "      <td>{'count': 1075}</td>\n",
       "      <td>13</td>\n",
       "      <td>2</td>\n",
       "      <td>1</td>\n",
       "      <td>{'count': 1075}</td>\n",
       "      <td>2024-02-15 13:10:54</td>\n",
       "      <td>2024</td>\n",
       "      <td>02</td>\n",
       "      <td>15</td>\n",
       "      <td>Thursday</td>\n",
       "      <td>13:10:54</td>\n",
       "    </tr>\n",
       "    <tr>\n",
       "      <th>5</th>\n",
       "      <td>4402</td>\n",
       "      <td>1707849256</td>\n",
       "      <td>Друзья! \\nБудьте внимательны - с 15 по 18 февр...</td>\n",
       "      <td>{'count': 1385}</td>\n",
       "      <td>11</td>\n",
       "      <td>0</td>\n",
       "      <td>3</td>\n",
       "      <td>{'count': 1385}</td>\n",
       "      <td>2024-02-13 18:34:16</td>\n",
       "      <td>2024</td>\n",
       "      <td>02</td>\n",
       "      <td>13</td>\n",
       "      <td>Tuesday</td>\n",
       "      <td>18:34:16</td>\n",
       "    </tr>\n",
       "  </tbody>\n",
       "</table>\n",
       "</div>"
      ],
      "text/plain": [
       "   post_id        date                                               text  \\\n",
       "3     4406  1708002654  Новички, охваченные энтузиазмом, часто попадаю...   \n",
       "5     4402  1707849256  Друзья! \\nБудьте внимательны - с 15 по 18 февр...   \n",
       "\n",
       "             views  nlikes  nreposts  ncomments           nviews  \\\n",
       "3  {'count': 1075}      13         2          1  {'count': 1075}   \n",
       "5  {'count': 1385}      11         0          3  {'count': 1385}   \n",
       "\n",
       "            date_time  year month day  week_day      time  \n",
       "3 2024-02-15 13:10:54  2024    02  15  Thursday  13:10:54  \n",
       "5 2024-02-13 18:34:16  2024    02  13   Tuesday  18:34:16  "
      ]
     },
     "execution_count": 38,
     "metadata": {},
     "output_type": "execute_result"
    }
   ],
   "source": [
    "# переименовываем столбцы в with_comm10, чтобы \n",
    "# столбец с id поста назывался везде одинаково\n",
    "# inplace = True: сохраняем изменения\n",
    "\n",
    "with_comm10.rename(columns = {\"id\" : \"post_id\"}, inplace = True)\n",
    "with_comm10.head(2)"
   ]
  },
  {
   "cell_type": "code",
   "execution_count": 39,
   "metadata": {},
   "outputs": [],
   "source": [
    "# объединяем with_comm10 и df_comm по столбцу post_id\n",
    "# left: к левому датафрейму (with_comm10) подтягиваем данные из правого (df_comm)\n",
    "\n",
    "final = with_comm10.merge(df_comm, on = \"post_id\", how = \"left\")"
   ]
  },
  {
   "cell_type": "markdown",
   "metadata": {},
   "source": [
    "## Часть 3:  собираем информацию о пользователях"
   ]
  },
  {
   "cell_type": "markdown",
   "metadata": {},
   "source": [
    "Для примера выберем пользователя с id 20473269 (пока не из датафрейма, это всего лишь я):"
   ]
  },
  {
   "cell_type": "code",
   "execution_count": 40,
   "metadata": {},
   "outputs": [],
   "source": [
    "j = 20473269"
   ]
  },
  {
   "cell_type": "markdown",
   "metadata": {},
   "source": [
    "Сформируем запрос:"
   ]
  },
  {
   "cell_type": "code",
   "execution_count": 41,
   "metadata": {},
   "outputs": [
    {
     "data": {
      "text/plain": [
       "{'response': [{'id': 20473269,\n",
       "   'bdate': '25.3.1994',\n",
       "   'city': {'id': 1, 'title': 'Москва'},\n",
       "   'home_town': 'Москва',\n",
       "   'universities': [{'city': 1,\n",
       "     'country': 1,\n",
       "     'education_status': 'Студентка (бакалавр)',\n",
       "     'education_status_id': 3,\n",
       "     'graduation': 2016,\n",
       "     'id': 128,\n",
       "     'name': 'НИУ ВШЭ (ГУ-ВШЭ)'}],\n",
       "   'first_name': 'Алла',\n",
       "   'last_name': 'Тамбовцева',\n",
       "   'can_access_closed': True,\n",
       "   'is_closed': False}]}"
      ]
     },
     "execution_count": 41,
     "metadata": {},
     "output_type": "execute_result"
    }
   ],
   "source": [
    "# метод users.get\n",
    "# все знакомые параметры\n",
    "# в fields перечисляем дополнительню информацию,\n",
    "# которую хотим получить\n",
    "# перечисляем через запятую без пробелов\n",
    "\n",
    "main_user = \"https://api.vk.com/method/users.get\"\n",
    "params_user = {\"access_token\" : token,\n",
    "               \"v\" : v,\n",
    "               \"user_id\" : j,\n",
    "               \"fields\" : \"bdate,city,home_town,universities\"\n",
    "}\n",
    "req2 = requests.get(main_user, params = params_user)\n",
    "req2.json()"
   ]
  },
  {
   "cell_type": "markdown",
   "metadata": {},
   "source": [
    "### Задача 8\n",
    "\n",
    "Выберите какого-нибудь пользователя, оставившего комментарий, из датафрейма и запросите по нему интересующую информацию."
   ]
  },
  {
   "cell_type": "code",
   "execution_count": 43,
   "metadata": {},
   "outputs": [],
   "source": [
    "user = final[\"from_id\"][0]"
   ]
  },
  {
   "cell_type": "code",
   "execution_count": 44,
   "metadata": {},
   "outputs": [
    {
     "data": {
      "text/plain": [
       "{'response': [{'id': 260091507,\n",
       "   'home_town': 'Москва',\n",
       "   'universities': [{'city': 1,\n",
       "     'country': 1,\n",
       "     'id': 332,\n",
       "     'name': 'РГТЭУ (бывш. ЗИСТ, МКИ, МКУ, МГУК)'}],\n",
       "   'first_name': 'Владимир',\n",
       "   'last_name': 'Цепаев',\n",
       "   'can_access_closed': True,\n",
       "   'is_closed': False}]}"
      ]
     },
     "execution_count": 44,
     "metadata": {},
     "output_type": "execute_result"
    }
   ],
   "source": [
    "params_user = {\"access_token\" : token,\n",
    "               \"v\" : v,\n",
    "               \"user_id\" : user,\n",
    "               \"fields\" : \"bdate,city,home_town,universities\"\n",
    "}\n",
    "req2 = requests.get(main_user, params = params_user)\n",
    "req2.json()"
   ]
  }
 ],
 "metadata": {
  "kernelspec": {
   "display_name": "Python 3",
   "language": "python",
   "name": "python3"
  },
  "language_info": {
   "codemirror_mode": {
    "name": "ipython",
    "version": 3
   },
   "file_extension": ".py",
   "mimetype": "text/x-python",
   "name": "python",
   "nbconvert_exporter": "python",
   "pygments_lexer": "ipython3",
   "version": "3.7.4"
  }
 },
 "nbformat": 4,
 "nbformat_minor": 2
}
