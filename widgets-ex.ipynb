{
 "cells": [
  {
   "cell_type": "markdown",
   "metadata": {},
   "source": [
    "## Примеры виджетов Jupyter Notebook\n",
    "\n",
    "Импортируем библиотеку `ipywidgets` (и `pandas`, конечно):"
   ]
  },
  {
   "cell_type": "code",
   "execution_count": 1,
   "metadata": {},
   "outputs": [],
   "source": [
    "import ipywidgets as widgets\n",
    "import pandas as pd"
   ]
  },
  {
   "cell_type": "markdown",
   "metadata": {},
   "source": [
    "Забираем названия столбцов из файла `Salaries.csv`:"
   ]
  },
  {
   "cell_type": "code",
   "execution_count": 2,
   "metadata": {},
   "outputs": [
    {
     "name": "stdout",
     "output_type": "stream",
     "text": [
      "Index(['Unnamed: 0', 'rank', 'discipline', 'yrs.since.phd', 'yrs.service',\n",
      "       'sex', 'salary'],\n",
      "      dtype='object')\n"
     ]
    }
   ],
   "source": [
    "df = pd.read_csv(\"Salaries.csv\")\n",
    "print(df.columns)"
   ]
  },
  {
   "cell_type": "code",
   "execution_count": 3,
   "metadata": {},
   "outputs": [
    {
     "name": "stdout",
     "output_type": "stream",
     "text": [
      "['rank', 'discipline', 'yrs.since.phd', 'yrs.service', 'sex', 'salary']\n"
     ]
    }
   ],
   "source": [
    "choices = list(df.columns)[1:]\n",
    "print(choices)"
   ]
  },
  {
   "cell_type": "markdown",
   "metadata": {},
   "source": [
    "### Выпадающее меню и его настройка\n",
    "\n",
    "Пример виджета с выпадающим меню:\n",
    "\n",
    "* `options`: список опций для выбора;\n",
    "* `value`: значение по умолчанию (выбрано, если пользователь ничего не меняет);\n",
    "* `description`: описание меню."
   ]
  },
  {
   "cell_type": "code",
   "execution_count": 4,
   "metadata": {},
   "outputs": [
    {
     "data": {
      "application/vnd.jupyter.widget-view+json": {
       "model_id": "dc281d000e5e4beab32595b98a27470c",
       "version_major": 2,
       "version_minor": 0
      },
      "text/plain": [
       "Dropdown(description='Choose:', options=('rank', 'discipline', 'yrs.since.phd', 'yrs.service', 'sex', 'salary'…"
      ]
     },
     "metadata": {},
     "output_type": "display_data"
    }
   ],
   "source": [
    "down = widgets.Dropdown(\n",
    "    options = choices,\n",
    "    value = \"rank\",\n",
    "    description = \"Choose:\")\n",
    "down"
   ]
  },
  {
   "cell_type": "markdown",
   "metadata": {},
   "source": [
    "Выбранное значение хранится в атрибуте `.value`:"
   ]
  },
  {
   "cell_type": "code",
   "execution_count": 5,
   "metadata": {},
   "outputs": [
    {
     "name": "stdout",
     "output_type": "stream",
     "text": [
      "discipline\n"
     ]
    }
   ],
   "source": [
    "print(down.value)"
   ]
  },
  {
   "cell_type": "markdown",
   "metadata": {},
   "source": [
    "Его можно использовать для дальнейшего отбора данных:"
   ]
  },
  {
   "cell_type": "code",
   "execution_count": 6,
   "metadata": {},
   "outputs": [
    {
     "data": {
      "text/plain": [
       "count     397\n",
       "unique      2\n",
       "top         B\n",
       "freq      216\n",
       "Name: discipline, dtype: object"
      ]
     },
     "execution_count": 6,
     "metadata": {},
     "output_type": "execute_result"
    }
   ],
   "source": [
    "df[down.value].describe()"
   ]
  },
  {
   "cell_type": "markdown",
   "metadata": {},
   "source": [
    "Доработаем виджет с выпадающим меню:\n",
    "\n",
    "* в `options` помещаем пары *красивое название для меню*-*название как в датафрейме*;\n",
    "* в `style` настраиваем длину описания к виджету."
   ]
  },
  {
   "cell_type": "code",
   "execution_count": 7,
   "metadata": {},
   "outputs": [
    {
     "data": {
      "application/vnd.jupyter.widget-view+json": {
       "model_id": "d75da76e47724f12b1f21a1362930c9f",
       "version_major": 2,
       "version_minor": 0
      },
      "text/plain": [
       "Dropdown(description='Choose a variable to explore:', options=(('Rank', 'rank'), ('Discipline', 'discipline'),…"
      ]
     },
     "metadata": {},
     "output_type": "display_data"
    }
   ],
   "source": [
    "choices = [(\"Rank\", \"rank\"), (\"Discipline\", \"discipline\"), \n",
    "           (\"Years since PhD\", \"yrs.since.phd\"), \n",
    "           (\"Service\", \"yrs.service\"), \n",
    "           (\"Sex\", \"sex\"),\n",
    "           (\"Salary\", \"salary\")]\n",
    "\n",
    "style = {'description_width': 'initial'}\n",
    "\n",
    "down = widgets.Dropdown(\n",
    "    options = choices,\n",
    "    value = \"rank\",\n",
    "    description = \"Choose a variable to explore:\", \n",
    "    style = style)\n",
    "down"
   ]
  },
  {
   "cell_type": "markdown",
   "metadata": {},
   "source": [
    "### Слайдер с двумя границами и его настройки\n",
    "\n",
    "Пример виджета со слайдером, который позволяет выбрать две границы отрезка в виде целых чисел:\n",
    "\n",
    "* `value`: пара значений по умолчанию;\n",
    "* `min` и `max`: минимальное и максимальное значение в слайдере;\n",
    "* `step`: шаг слайдера;\n",
    "* `orientation`: положение, горизонтальное или вертикальное."
   ]
  },
  {
   "cell_type": "code",
   "execution_count": 8,
   "metadata": {},
   "outputs": [
    {
     "data": {
      "application/vnd.jupyter.widget-view+json": {
       "model_id": "aa410e5d18fc4424a1e7683d0ef479de",
       "version_major": 2,
       "version_minor": 0
      },
      "text/plain": [
       "IntRangeSlider(value=(5, 20), description='Service:', max=60)"
      ]
     },
     "metadata": {},
     "output_type": "display_data"
    }
   ],
   "source": [
    "min_ = df[\"yrs.service\"].min()\n",
    "max_ = df[\"yrs.service\"].max()\n",
    "\n",
    "slide = widgets.IntRangeSlider(\n",
    "    value = [5, 20],\n",
    "    min = min_,\n",
    "    max = max_,\n",
    "    step = 1,\n",
    "    description = 'Service:',\n",
    "    orientation = 'horizontal'\n",
    ")\n",
    "\n",
    "slide"
   ]
  },
  {
   "cell_type": "markdown",
   "metadata": {},
   "source": [
    "Доработаем виджет со слайдером:\n",
    "\n",
    "* увеличим его длину, чтобы было удобнее делать выбор (для шага в один год здесь тесно);\n",
    "* изменим цвет «бегунка»."
   ]
  },
  {
   "cell_type": "code",
   "execution_count": 9,
   "metadata": {},
   "outputs": [],
   "source": [
    "from ipywidgets import Layout"
   ]
  },
  {
   "cell_type": "code",
   "execution_count": 10,
   "metadata": {},
   "outputs": [
    {
     "data": {
      "application/vnd.jupyter.widget-view+json": {
       "model_id": "f89c56cac62e45d98cd5d65963dd8ade",
       "version_major": 2,
       "version_minor": 0
      },
      "text/plain": [
       "IntRangeSlider(value=(5, 20), description='Service:', layout=Layout(width='70%'), max=60, style=SliderStyle(ha…"
      ]
     },
     "metadata": {},
     "output_type": "display_data"
    }
   ],
   "source": [
    "# ширина 70% от страницы\n",
    "# handle_color – цвет\n",
    "\n",
    "slide = widgets.IntRangeSlider(\n",
    "    value = [5, 20],\n",
    "    min = min_,\n",
    "    max = max_,\n",
    "    step = 1,\n",
    "    description = 'Service:',\n",
    "    orientation = 'horizontal',\n",
    "    layout = Layout(width = '70%'),\n",
    "    style = {'handle_color' : 'red'}\n",
    ")\n",
    "\n",
    "slide"
   ]
  },
  {
   "cell_type": "markdown",
   "metadata": {},
   "source": [
    "Забираем выбранные значения и фильтруем строки:"
   ]
  },
  {
   "cell_type": "code",
   "execution_count": 11,
   "metadata": {},
   "outputs": [
    {
     "name": "stdout",
     "output_type": "stream",
     "text": [
      "(15, 30)\n"
     ]
    }
   ],
   "source": [
    "print(slide.value)\n",
    "start, end = slide.value"
   ]
  },
  {
   "cell_type": "code",
   "execution_count": 12,
   "metadata": {},
   "outputs": [],
   "source": [
    "chosen = df[(df[\"yrs.service\"] >= start) & (df[\"yrs.service\"] <= end)]"
   ]
  },
  {
   "cell_type": "markdown",
   "metadata": {},
   "source": [
    "### Кнопки и настройка действий при их нажатии"
   ]
  },
  {
   "cell_type": "markdown",
   "metadata": {},
   "source": [
    "Допустим, у нас есть уже слайдер для фильтрации строк и мы хотим предложить пользователю выбирать действия с отобранными данными."
   ]
  },
  {
   "cell_type": "code",
   "execution_count": 13,
   "metadata": {},
   "outputs": [
    {
     "data": {
      "application/vnd.jupyter.widget-view+json": {
       "model_id": "a45815bf5efa4ce2a3311edf21d25a44",
       "version_major": 2,
       "version_minor": 0
      },
      "text/plain": [
       "IntRangeSlider(value=(5, 20), description='Service:', layout=Layout(width='70%'), max=60, style=SliderStyle(ha…"
      ]
     },
     "metadata": {},
     "output_type": "display_data"
    }
   ],
   "source": [
    "slide = widgets.IntRangeSlider(\n",
    "    value = [5, 20],\n",
    "    min = min_,\n",
    "    max = max_,\n",
    "    step = 1,\n",
    "    description = 'Service:',\n",
    "    orientation = 'horizontal',\n",
    "    layout = Layout(width = '70%'),\n",
    "    style = {'handle_color' : 'red'}\n",
    ")\n",
    "\n",
    "slide"
   ]
  },
  {
   "cell_type": "code",
   "execution_count": 14,
   "metadata": {},
   "outputs": [],
   "source": [
    "# важно: код для извлечения value должен быть в отдельной ячейке от slide,\n",
    "# так как обновление значений будет после выбора пользователя\n",
    "\n",
    "start, end = slide.value\n",
    "chosen = df[(df[\"yrs.service\"] >= start) & (df[\"yrs.service\"] <= end)]"
   ]
  },
  {
   "cell_type": "markdown",
   "metadata": {},
   "source": [
    "Создаем две кнопки – пока без действий, но с некоторой стилизацией:"
   ]
  },
  {
   "cell_type": "code",
   "execution_count": 15,
   "metadata": {},
   "outputs": [],
   "source": [
    "from IPython.display import display"
   ]
  },
  {
   "cell_type": "code",
   "execution_count": 16,
   "metadata": {},
   "outputs": [
    {
     "data": {
      "application/vnd.jupyter.widget-view+json": {
       "model_id": "3dcfd364686446d283c06eaaa58a504f",
       "version_major": 2,
       "version_minor": 0
      },
      "text/plain": [
       "Button(description='Show descriptive stats!', layout=Layout(width='60%'), style=ButtonStyle(button_color='lave…"
      ]
     },
     "metadata": {},
     "output_type": "display_data"
    },
    {
     "data": {
      "application/vnd.jupyter.widget-view+json": {
       "model_id": "897d346b1b724fa4b9aebc71ef870d53",
       "version_major": 2,
       "version_minor": 0
      },
      "text/plain": [
       "Button(description='Show histogram for salary!', layout=Layout(width='60%'), style=ButtonStyle(button_color='l…"
      ]
     },
     "metadata": {},
     "output_type": "display_data"
    }
   ],
   "source": [
    "button01 = widgets.Button(description = \"Show descriptive stats!\", \n",
    "                         layout = Layout(width='60%'),\n",
    "                         style = {\"button_color\" : \"lavender\"})\n",
    "button02 = widgets.Button(description = \"Show histogram for salary!\",\n",
    "                         layout = Layout(width='60%'),\n",
    "                         style = {\"button_color\" : \"lavender\"})\n",
    "\n",
    "display(button01, button02)"
   ]
  },
  {
   "cell_type": "markdown",
   "metadata": {},
   "source": [
    "Пишем функции для действий, которые должны происходить при нажатии на кнопки:"
   ]
  },
  {
   "cell_type": "code",
   "execution_count": 17,
   "metadata": {},
   "outputs": [],
   "source": [
    "def for_button01(b):\n",
    "    print(chosen.describe())\n",
    "    \n",
    "def for_button02(b):\n",
    "    print(chosen[\"salary\"].hist(color = \"darkslateblue\", edgecolor = \"white\"))"
   ]
  },
  {
   "cell_type": "markdown",
   "metadata": {},
   "source": [
    "Закрепляем их за ранее созданными кнопками:"
   ]
  },
  {
   "cell_type": "code",
   "execution_count": 18,
   "metadata": {},
   "outputs": [],
   "source": [
    "button01.on_click(for_button01)\n",
    "button02.on_click(for_button02)"
   ]
  },
  {
   "cell_type": "markdown",
   "metadata": {},
   "source": [
    "Ещё раз выводим кнопки:"
   ]
  },
  {
   "cell_type": "code",
   "execution_count": 20,
   "metadata": {},
   "outputs": [
    {
     "data": {
      "application/vnd.jupyter.widget-view+json": {
       "model_id": "3dcfd364686446d283c06eaaa58a504f",
       "version_major": 2,
       "version_minor": 0
      },
      "text/plain": [
       "Button(description='Show descriptive stats!', layout=Layout(width='60%'), style=ButtonStyle(button_color='lave…"
      ]
     },
     "metadata": {},
     "output_type": "display_data"
    },
    {
     "data": {
      "application/vnd.jupyter.widget-view+json": {
       "model_id": "897d346b1b724fa4b9aebc71ef870d53",
       "version_major": 2,
       "version_minor": 0
      },
      "text/plain": [
       "Button(description='Show histogram for salary!', layout=Layout(width='60%'), style=ButtonStyle(button_color='l…"
      ]
     },
     "metadata": {},
     "output_type": "display_data"
    },
    {
     "name": "stdout",
     "output_type": "stream",
     "text": [
      "       Unnamed: 0  yrs.since.phd  yrs.service         salary\n",
      "count  144.000000     144.000000   144.000000     144.000000\n",
      "mean   205.791667      26.951389    21.833333  127007.972222\n",
      "std    117.908930       6.908321     4.396438   26792.446069\n",
      "min      1.000000      12.000000    15.000000   62884.000000\n",
      "25%    109.750000      21.750000    18.000000  106591.750000\n",
      "50%    203.500000      27.000000    21.000000  125696.000000\n",
      "75%    310.750000      31.000000    26.000000  144745.250000\n",
      "max    396.000000      43.000000    30.000000  194800.000000\n"
     ]
    }
   ],
   "source": [
    "# при кликании на кнопку появляется результат\n",
    "# по умолчанию предыдущий не стирается\n",
    "# если кликнем последовательно на обе кнопки, получим все сразу\n",
    "\n",
    "display(button01, button02)"
   ]
  },
  {
   "cell_type": "markdown",
   "metadata": {},
   "source": [
    "Если функций много и они громоздкие (относится не только к кнопкам, а к функциям вообще), можно вынести их в отдельный файл с расширением `.py`. Тогда в самом начале ipynb-файла их можно импортировать из `.py` (как обычно из библиотек) и применять."
   ]
  },
  {
   "cell_type": "code",
   "execution_count": null,
   "metadata": {},
   "outputs": [],
   "source": [
    "# сохранили код с def в файл aux.py\n",
    "# импортируем все функции из него"
   ]
  },
  {
   "cell_type": "code",
   "execution_count": null,
   "metadata": {},
   "outputs": [],
   "source": [
    "from aux import *"
   ]
  }
 ],
 "metadata": {
  "kernelspec": {
   "display_name": "Python 3",
   "language": "python",
   "name": "python3"
  },
  "language_info": {
   "codemirror_mode": {
    "name": "ipython",
    "version": 3
   },
   "file_extension": ".py",
   "mimetype": "text/x-python",
   "name": "python",
   "nbconvert_exporter": "python",
   "pygments_lexer": "ipython3",
   "version": "3.7.4"
  }
 },
 "nbformat": 4,
 "nbformat_minor": 2
}
