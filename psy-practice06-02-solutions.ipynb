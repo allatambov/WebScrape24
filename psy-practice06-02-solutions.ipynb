{
 "cells": [
  {
   "cell_type": "markdown",
   "metadata": {},
   "source": [
    "# Web-scraping: сбор данных из баз данных и интернет-источников\n",
    "\n",
    "*Алла Тамбовцева, НИУ ВШЭ*\n",
    "\n",
    "## Управление браузером с Selenium: ВКонтакте и скроллинг"
   ]
  },
  {
   "cell_type": "markdown",
   "metadata": {},
   "source": [
    "### Часть 1: залогиниваемся во ВКонтакте\n",
    "\n",
    "Импортируем необходимые компоненты Selenium:"
   ]
  },
  {
   "cell_type": "code",
   "execution_count": 1,
   "metadata": {},
   "outputs": [],
   "source": [
    "from selenium import webdriver as wd\n",
    "from selenium.webdriver.common.keys import Keys\n",
    "from selenium.webdriver.common.by import By"
   ]
  },
  {
   "cell_type": "markdown",
   "metadata": {},
   "source": [
    "Открываем браузер – начинаем новую сессию работы с Selenium:"
   ]
  },
  {
   "cell_type": "code",
   "execution_count": 2,
   "metadata": {},
   "outputs": [],
   "source": [
    "br = wd.Chrome()"
   ]
  },
  {
   "cell_type": "markdown",
   "metadata": {},
   "source": [
    "Переходим в браузере на главную страницу ВКонтакте:"
   ]
  },
  {
   "cell_type": "code",
   "execution_count": 3,
   "metadata": {},
   "outputs": [],
   "source": [
    "br.get(\"https://vk.com/\")"
   ]
  },
  {
   "cell_type": "markdown",
   "metadata": {},
   "source": [
    "Находим поле для логина:"
   ]
  },
  {
   "cell_type": "code",
   "execution_count": 4,
   "metadata": {},
   "outputs": [],
   "source": [
    "login = br.find_element(By.ID, \"index_email\")"
   ]
  },
  {
   "cell_type": "markdown",
   "metadata": {},
   "source": [
    "Отправляем туда свой логин:"
   ]
  },
  {
   "cell_type": "code",
   "execution_count": 5,
   "metadata": {},
   "outputs": [],
   "source": [
    "login.send_keys(\"allatambov@mail.ru\")"
   ]
  },
  {
   "cell_type": "markdown",
   "metadata": {},
   "source": [
    "Чтобы не искать на странице кнопку Войти (не очень удобно), просто имитируем нажатие кнопки *Enter*:"
   ]
  },
  {
   "cell_type": "code",
   "execution_count": 6,
   "metadata": {},
   "outputs": [],
   "source": [
    "login.send_keys(Keys.ENTER)"
   ]
  },
  {
   "cell_type": "markdown",
   "metadata": {},
   "source": [
    "Тут придётся вручную ввести код из сообщения, всё равно Python его автоматически из смс-ки не считает. Будем считать, что залогинились. Можно искать информацию!"
   ]
  },
  {
   "cell_type": "markdown",
   "metadata": {},
   "source": [
    "### Часть 2: ищем пользователей"
   ]
  },
  {
   "cell_type": "markdown",
   "metadata": {},
   "source": [
    "Перейдём на страницу поиска друзей:"
   ]
  },
  {
   "cell_type": "code",
   "execution_count": 7,
   "metadata": {},
   "outputs": [],
   "source": [
    "br.get(\"https://vk.com/friends\")"
   ]
  },
  {
   "cell_type": "markdown",
   "metadata": {},
   "source": [
    "Найдём на этой странице ссылку с текстом *Поиск друзей*, чтобы перейти к странице поиска пользователей по заданным критериям, и кликнем на неё:"
   ]
  },
  {
   "cell_type": "code",
   "execution_count": 8,
   "metadata": {},
   "outputs": [],
   "source": [
    "search = br.find_element(By.LINK_TEXT, \"Поиск друзей\")\n",
    "search.click()"
   ]
  },
  {
   "cell_type": "markdown",
   "metadata": {},
   "source": [
    "Чтобы формировать критерии для поиска, нам нужно открыть меню с фильтрами – развернуть меню *Параметры поиска*. Изучив исходный код страницы, видим, что параметры поиска можно найти по id:"
   ]
  },
  {
   "cell_type": "code",
   "execution_count": 9,
   "metadata": {},
   "outputs": [],
   "source": [
    "pars = br.find_element(By.ID, \"friends_filters_block\")\n",
    "pars.click()"
   ]
  },
  {
   "cell_type": "markdown",
   "metadata": {},
   "source": [
    "Для начала выберем город. В исходном коде страницы поле для ввода города имеет тэг `<input>` и id, равный `cCity`:"
   ]
  },
  {
   "cell_type": "code",
   "execution_count": 10,
   "metadata": {},
   "outputs": [],
   "source": [
    "city = br.find_element(By.ID, \"cCity\")"
   ]
  },
  {
   "cell_type": "markdown",
   "metadata": {},
   "source": [
    "Объект `city` – это объект типа `webelement.WebElement`, то есть элемент страницы, с которым умеет работать модуль `webdriver` из Selenium. По такому объекту тоже можно выполнять поиск с помощью метода `.find_element()`.\n",
    "\n",
    "В нашем случае внутри этого элемента нужно найти другой, с тэгом `<input>`, потому что нас интересует поле для ввода значения. Если этим шагом пренебречь и попытаться ввести название страны прямо в `city`, мы получим ошибку вида `element not interactable`, потому что сам по себе раздел со страной никакого взаимодействия с пользователем не предполагает, его нельзя редактировать, на него нельзя кликать и прочее.\n",
    "\n",
    "Поэтому найдём внутри `city` поле для ввода значения по тэгу:"
   ]
  },
  {
   "cell_type": "code",
   "execution_count": 11,
   "metadata": {},
   "outputs": [],
   "source": [
    "city_inp = city.find_element(By.TAG_NAME, \"input\")\n",
    "city_inp.send_keys(\"Москва\")"
   ]
  },
  {
   "cell_type": "markdown",
   "metadata": {},
   "source": [
    "Отлично! Значение выбрано. Но есть проблема – оно «повисло» в воздухе, опция с выбором страны отображается как выбранная в выпадающем меню, но в самом поле выбор не зафиксирован. Чтобы подтвердить выбор, нужно нажать на клавишу *Enter*:"
   ]
  },
  {
   "cell_type": "code",
   "execution_count": 12,
   "metadata": {},
   "outputs": [],
   "source": [
    "br.implicitly_wait(3)  # задержка 3 секунды\n",
    "city_inp.send_keys(Keys.ENTER)"
   ]
  },
  {
   "cell_type": "markdown",
   "metadata": {},
   "source": [
    "А вот с полом всё поинтереснее: найти поле для ввода пола просто, а вот значения нужно выбирать, нажимая на радиокнопки (*radiobuttons*). Сначала найдём поле для выбора пола:"
   ]
  },
  {
   "cell_type": "code",
   "execution_count": 13,
   "metadata": {},
   "outputs": [],
   "source": [
    "sex = br.find_element(By.ID, \"cSex\")"
   ]
  },
  {
   "cell_type": "markdown",
   "metadata": {},
   "source": [
    "А теперь – все опции внутри (согласно исходному коду, они имеют тэг `<div>`):"
   ]
  },
  {
   "cell_type": "code",
   "execution_count": 14,
   "metadata": {},
   "outputs": [
    {
     "data": {
      "text/plain": [
       "[<selenium.webdriver.remote.webelement.WebElement (session=\"fe4ca10e3d69721a6a92cae732f83f20\", element=\"FD7265A8F9BEA42FBFC55D2D2517CBC5_element_168\")>,\n",
       " <selenium.webdriver.remote.webelement.WebElement (session=\"fe4ca10e3d69721a6a92cae732f83f20\", element=\"FD7265A8F9BEA42FBFC55D2D2517CBC5_element_169\")>,\n",
       " <selenium.webdriver.remote.webelement.WebElement (session=\"fe4ca10e3d69721a6a92cae732f83f20\", element=\"FD7265A8F9BEA42FBFC55D2D2517CBC5_element_170\")>]"
      ]
     },
     "execution_count": 14,
     "metadata": {},
     "output_type": "execute_result"
    }
   ],
   "source": [
    "values = sex.find_elements(By.TAG_NAME, \"div\")\n",
    "values"
   ]
  },
  {
   "cell_type": "markdown",
   "metadata": {},
   "source": [
    "Обратите внимание: здесь метод `.find_elements()`, не `.find_element()`, потому что результатов ожидается несколько. Выбираем мужской пол – это второй элемент списка – и кликаем на него:"
   ]
  },
  {
   "cell_type": "code",
   "execution_count": 15,
   "metadata": {},
   "outputs": [],
   "source": [
    "values[1].click()"
   ]
  },
  {
   "cell_type": "markdown",
   "metadata": {},
   "source": [
    "На этом закончим работу с фильтрами и перейдём к результатам. На этом этапе возможности Selenium нам пока не понадобятся, нам нужно только запросить исходный код страницы, которая сейчас открыта в окне браузера, управляемом из Python, и продолжить работу с HTML с помощью BeautifulSoup."
   ]
  },
  {
   "cell_type": "code",
   "execution_count": 16,
   "metadata": {},
   "outputs": [],
   "source": [
    "html = br.page_source"
   ]
  },
  {
   "cell_type": "markdown",
   "metadata": {},
   "source": [
    "Импортируем BeautifulSoup:"
   ]
  },
  {
   "cell_type": "code",
   "execution_count": 17,
   "metadata": {},
   "outputs": [],
   "source": [
    "from bs4 import BeautifulSoup"
   ]
  },
  {
   "cell_type": "markdown",
   "metadata": {},
   "source": [
    "Преобразуем HTML в `soup`:"
   ]
  },
  {
   "cell_type": "code",
   "execution_count": 18,
   "metadata": {},
   "outputs": [],
   "source": [
    "soup = BeautifulSoup(html)"
   ]
  },
  {
   "cell_type": "markdown",
   "metadata": {},
   "source": [
    "Создадим список `divs` с фрагментами html-кода, каждый из которых соответствует одной «карточке» пользователя с именем и ссылкой на профиль."
   ]
  },
  {
   "cell_type": "code",
   "execution_count": 19,
   "metadata": {},
   "outputs": [],
   "source": [
    "divs = soup.find_all(\"div\", {\"class\" : \"labeled name\"})"
   ]
  },
  {
   "cell_type": "markdown",
   "metadata": {},
   "source": [
    "Напишем функцию `get_person()` для извлечения имени и ссылки на профиль пользователя:"
   ]
  },
  {
   "cell_type": "code",
   "execution_count": 20,
   "metadata": {},
   "outputs": [],
   "source": [
    "def get_person(d):\n",
    "    name = d.text\n",
    "    href = d.find(\"a\")[\"href\"]\n",
    "    full_href = \"https://vk.com\" + href\n",
    "    return name, full_href"
   ]
  },
  {
   "cell_type": "markdown",
   "metadata": {},
   "source": [
    "Применим функцию ко всем элементам в `divs`:"
   ]
  },
  {
   "cell_type": "code",
   "execution_count": 21,
   "metadata": {},
   "outputs": [
    {
     "data": {
      "text/plain": [
       "[('Дмитрий Ефимов', 'https://vk.com/dbefimov'),\n",
       " ('Михаил Пензин', 'https://vk.com/charodall'),\n",
       " ('Madjid Tashpulatov', 'https://vk.com/id573663822'),\n",
       " ('Иван Анкудинов', 'https://vk.com/vanyank'),\n",
       " ('Эмир Юнусов', 'https://vk.com/id470787305'),\n",
       " ('Михаил Журавлев', 'https://vk.com/catt_inside'),\n",
       " ('Вадим Анисимов', 'https://vk.com/vadumus'),\n",
       " ('Семён Маляров', 'https://vk.com/fishcatfish'),\n",
       " ('Андрей Савельев', 'https://vk.com/aasavelev'),\n",
       " ('Иоанн Довгополый', 'https://vk.com/dereinzigemitdemeigentum'),\n",
       " ('Андрей Шульга', 'https://vk.com/shulga_andrei'),\n",
       " ('Михаил Новосёлов', 'https://vk.com/newoselove'),\n",
       " ('Герман Быков', 'https://vk.com/phenomen_sage'),\n",
       " ('Антон Айсин', 'https://vk.com/anton.aisin'),\n",
       " ('Александр Стоев', 'https://vk.com/stoevkaiser'),\n",
       " ('Ярослав Кандыба', 'https://vk.com/hangareighteen'),\n",
       " ('Максим Мицкевич', 'https://vk.com/mitskm'),\n",
       " ('Никита Зарипов', 'https://vk.com/letsgowithyou'),\n",
       " ('Иван Куницын', 'https://vk.com/kunitssyn'),\n",
       " ('Олег Антопкин', 'https://vk.com/id99888813'),\n",
       " ('Илья Иншаков', 'https://vk.com/id136161093'),\n",
       " ('Владимир Григорьев', 'https://vk.com/grigorievvladimir'),\n",
       " ('Дмитрий Сорокин', 'https://vk.com/birdnice'),\n",
       " ('Роман Киселёв-Август', 'https://vk.com/id4161834'),\n",
       " ('Константин Корягин', 'https://vk.com/kostyakoryagin'),\n",
       " ('Дмитрий Толкачев', 'https://vk.com/dstolkachev'),\n",
       " ('Артём Клемешов', 'https://vk.com/asklemeshov'),\n",
       " ('Дмитрий Муравьёв', 'https://vk.com/howcouldifail'),\n",
       " ('Савва Дудин', 'https://vk.com/savvadu'),\n",
       " ('Алексей Мироненков', 'https://vk.com/mironenkov'),\n",
       " ('Сергей Михайлов', 'https://vk.com/samikhaylov21'),\n",
       " ('Иван Александров', 'https://vk.com/halarge'),\n",
       " ('Азиз Тулаганов', 'https://vk.com/aziz_tulaganov'),\n",
       " ('Сергей Кабацкий', 'https://vk.com/kaba_kabaz'),\n",
       " ('Егор Юрескул', 'https://vk.com/sydney'),\n",
       " ('Геннадий Поросенков', 'https://vk.com/gaporosenkov'),\n",
       " ('Илья Щуров', 'https://vk.com/ischurov'),\n",
       " ('Иван Чернявский', 'https://vk.com/4ernyavsky'),\n",
       " ('Валерий Окунев', 'https://vk.com/valeriyokunev'),\n",
       " ('Павел Дуров', 'https://vk.com/durov')]"
      ]
     },
     "execution_count": 21,
     "metadata": {},
     "output_type": "execute_result"
    }
   ],
   "source": [
    "people = [get_person(d) for d in divs] \n",
    "people"
   ]
  },
  {
   "cell_type": "markdown",
   "metadata": {},
   "source": [
    "### Часть 3: скроллинг\n",
    "\n",
    "Осталась одна проблема – мы извлекли далеко не все результаты, а только те результаты, которые «видит» браузер, то есть то, что мы как пользователи видим до скроллинга. Библиотека Selenium умеет скроллить страницы, точнее, активировать запуск кода на JavaScript, который отвечает за скроллинг. В общем виде строка с кодом для скроллинга выглядит так (Y – на сколько пикселей нужно проскроллить):\n",
    "\n",
    "    br.execute_script(\"window.scrollTo(0, Y)\") \n",
    "\n",
    "Если нужно проскроллить до конца страницы, то тогда вместо `Y` нужно вписать значение, которое извлекается из тела документа HTML:\n",
    "\n",
    "    document.body.scrollHeight\n",
    "\n",
    "Например, проскроллим текущую страницу до самого низа:"
   ]
  },
  {
   "cell_type": "code",
   "execution_count": 22,
   "metadata": {},
   "outputs": [],
   "source": [
    "br.execute_script(\"window.scrollTo(0, document.body.scrollHeight);\")"
   ]
  },
  {
   "cell_type": "markdown",
   "metadata": {},
   "source": [
    "Далее, чтобы открыть новые результаты, нам нужно найти кнопку *Показать ещё*. Если посмотрим внимательно на исходный код, найдём id этой кнопки:"
   ]
  },
  {
   "cell_type": "code",
   "execution_count": 23,
   "metadata": {},
   "outputs": [],
   "source": [
    "button_more = br.find_element(By.ID, \"ui_search_load_more\")"
   ]
  },
  {
   "cell_type": "markdown",
   "metadata": {},
   "source": [
    "Кликаем:"
   ]
  },
  {
   "cell_type": "code",
   "execution_count": 24,
   "metadata": {},
   "outputs": [],
   "source": [
    "button_more.click()"
   ]
  },
  {
   "cell_type": "markdown",
   "metadata": {},
   "source": [
    "Теперь нам нужно сделать следующее: выгружать информацию из исходного кода страницы по новым пользователям и скроллить страницу дальше. И повторять эти действия до тех пор, пока результаты не закончатся. Для начала напишем функцию `get_users_info()`, которая принимает на вход объект `br` (окно браузера), считывает исходный код и возвращает список с «чистыми» результатами – список пар (имя пользователя, ссылка на профиль)."
   ]
  },
  {
   "cell_type": "markdown",
   "metadata": {},
   "source": [
    "### Задача 1\n",
    "\n",
    "Напишите функцию `get_users_info()` согласно описанию выше."
   ]
  },
  {
   "cell_type": "code",
   "execution_count": 25,
   "metadata": {},
   "outputs": [],
   "source": [
    "def get_users_info(br):\n",
    "    html = br.page_source\n",
    "    soup = BeautifulSoup(html)\n",
    "    divs = soup.find_all(\"div\", {\"class\" : \"labeled name\"})\n",
    "    people = [get_person(d) for d in divs] \n",
    "    return people"
   ]
  },
  {
   "cell_type": "markdown",
   "metadata": {},
   "source": [
    "Теперь напишем код (адаптированный ответ с [StackOverflow](https://stackoverflow.com/questions/20986631/how-can-i-scroll-a-web-page-using-selenium-webdriver-in-python)) для цикла. Какой тип цикла нам нужен? Нам нужен цикл, который умеет повторять операции до тех пор, пока мы не дойдём до последнего результата, то есть до того момента, когда скроллить будет некуда. Воспользуемся конструкцией `while True`, бесконечным вариантом цикла `while`, который будет запускаться до тех пор, пока не дойдёт до кода с оператором `break` (выход из цикла) или не столкнётся с ошибкой. "
   ]
  },
  {
   "cell_type": "code",
   "execution_count": 26,
   "metadata": {},
   "outputs": [],
   "source": [
    "from time import sleep"
   ]
  },
  {
   "cell_type": "code",
   "execution_count": 27,
   "metadata": {},
   "outputs": [
    {
     "ename": "KeyboardInterrupt",
     "evalue": "",
     "output_type": "error",
     "traceback": [
      "\u001b[0;31m---------------------------------------------------------------------------\u001b[0m",
      "\u001b[0;31mKeyboardInterrupt\u001b[0m                         Traceback (most recent call last)",
      "\u001b[0;32m<ipython-input-27-b32bf6624c03>\u001b[0m in \u001b[0;36m<module>\u001b[0;34m\u001b[0m\n\u001b[1;32m     11\u001b[0m     \u001b[0mbr\u001b[0m\u001b[0;34m.\u001b[0m\u001b[0mexecute_script\u001b[0m\u001b[0;34m(\u001b[0m\u001b[0;34m\"window.scrollTo(0, document.body.scrollHeight);\"\u001b[0m\u001b[0;34m)\u001b[0m\u001b[0;34m\u001b[0m\u001b[0;34m\u001b[0m\u001b[0m\n\u001b[1;32m     12\u001b[0m     \u001b[0mnew_height\u001b[0m \u001b[0;34m=\u001b[0m \u001b[0mbr\u001b[0m\u001b[0;34m.\u001b[0m\u001b[0mexecute_script\u001b[0m\u001b[0;34m(\u001b[0m\u001b[0;34m\"return document.body.scrollHeight\"\u001b[0m\u001b[0;34m)\u001b[0m\u001b[0;34m\u001b[0m\u001b[0;34m\u001b[0m\u001b[0m\n\u001b[0;32m---> 13\u001b[0;31m     \u001b[0msleep\u001b[0m\u001b[0;34m(\u001b[0m\u001b[0;36m1\u001b[0m\u001b[0;34m)\u001b[0m\u001b[0;34m\u001b[0m\u001b[0;34m\u001b[0m\u001b[0m\n\u001b[0m\u001b[1;32m     14\u001b[0m \u001b[0;34m\u001b[0m\u001b[0m\n\u001b[1;32m     15\u001b[0m     \u001b[0;32mif\u001b[0m \u001b[0mnew_height\u001b[0m \u001b[0;34m==\u001b[0m \u001b[0mlast_height\u001b[0m\u001b[0;34m:\u001b[0m\u001b[0;34m\u001b[0m\u001b[0;34m\u001b[0m\u001b[0m\n",
      "\u001b[0;31mKeyboardInterrupt\u001b[0m: "
     ]
    }
   ],
   "source": [
    "# результатов много, фильтры очень общие\n",
    "# оставновим цикл сами через Стоп (Kernel – Interrupt)\n",
    "\n",
    "all_results = []\n",
    "last_height = br.execute_script(\"return document.body.scrollHeight\")\n",
    "\n",
    "while True:\n",
    "    res = get_users_info(br)\n",
    "    all_results.extend(res) \n",
    "    \n",
    "    br.execute_script(\"window.scrollTo(0, document.body.scrollHeight);\")\n",
    "    new_height = br.execute_script(\"return document.body.scrollHeight\")\n",
    "    sleep(1)\n",
    "    \n",
    "    if new_height == last_height:\n",
    "        break\n",
    "        \n",
    "    last_height = new_height"
   ]
  },
  {
   "cell_type": "code",
   "execution_count": 28,
   "metadata": {},
   "outputs": [
    {
     "data": {
      "text/plain": [
       "[('Дмитрий Ефимов', 'https://vk.com/dbefimov'),\n",
       " ('Михаил Пензин', 'https://vk.com/charodall'),\n",
       " ('Madjid Tashpulatov', 'https://vk.com/id573663822'),\n",
       " ('Иван Анкудинов', 'https://vk.com/vanyank'),\n",
       " ('Эмир Юнусов', 'https://vk.com/id470787305'),\n",
       " ('Михаил Журавлев', 'https://vk.com/catt_inside'),\n",
       " ('Вадим Анисимов', 'https://vk.com/vadumus'),\n",
       " ('Семён Маляров', 'https://vk.com/fishcatfish'),\n",
       " ('Андрей Савельев', 'https://vk.com/aasavelev'),\n",
       " ('Иоанн Довгополый', 'https://vk.com/dereinzigemitdemeigentum'),\n",
       " ('Андрей Шульга', 'https://vk.com/shulga_andrei'),\n",
       " ('Михаил Новосёлов', 'https://vk.com/newoselove'),\n",
       " ('Герман Быков', 'https://vk.com/phenomen_sage'),\n",
       " ('Антон Айсин', 'https://vk.com/anton.aisin'),\n",
       " ('Александр Стоев', 'https://vk.com/stoevkaiser')]"
      ]
     },
     "execution_count": 28,
     "metadata": {},
     "output_type": "execute_result"
    }
   ],
   "source": [
    "all_results[0:15]"
   ]
  },
  {
   "cell_type": "markdown",
   "metadata": {},
   "source": [
    "Пояснения к коду.\n",
    "\n",
    "1. Сохраняем в переменную `last_height` величину, на которую мы можем проскроллить страницу за один раз в данный момент времени, чтобы дойти до конца страницы. \n",
    "\n",
    "2. На каждой итерации цикла `while` мы выгружаем информацию, добавляем её в список `all_results` и скроллим страницу до самого низа. После скроллинга проверяем, на сколько ещё можно проскроллить, сохраняем полученное значение в `new_height`. \n",
    "\n",
    "3. Если скроллить уже некуда, если мы находимся в самом низу «бесконечной» страницы с результатами поиска, то `new_height` совпадает с `last_height`. Значит, нам нужно остановить исполнение кода – выходим из цикла с помощью `break`. \n",
    "\n",
    "4. Если мы ещё не закончили скроллить, обновляем значение `last_height`, заменяя его на `new_height` (теперь уже в нём хранится величина, на которую мы можем проскроллить страницу за один раз в данный момент времени). Продолжаем выполнять выгрузку информации и скроллинг."
   ]
  },
  {
   "cell_type": "markdown",
   "metadata": {},
   "source": [
    "### Задача 2\n",
    "\n",
    "Создайте новый список `results_unique`, который не содержит повторений (набор уникальных пар значений)."
   ]
  },
  {
   "cell_type": "code",
   "execution_count": 29,
   "metadata": {},
   "outputs": [],
   "source": [
    "results_unique = list(set(all_results)) "
   ]
  },
  {
   "cell_type": "code",
   "execution_count": 30,
   "metadata": {},
   "outputs": [
    {
     "name": "stdout",
     "output_type": "stream",
     "text": [
      "620\n"
     ]
    }
   ],
   "source": [
    "print(len(results_unique))"
   ]
  },
  {
   "cell_type": "markdown",
   "metadata": {},
   "source": [
    "### Задача 3\n",
    "\n",
    "Создайте датафрейм на основе списка `results_unique`, присвойте столбцам подходящие названия и выгрузите таблицу в файл Excel."
   ]
  },
  {
   "cell_type": "code",
   "execution_count": 31,
   "metadata": {},
   "outputs": [],
   "source": [
    "import pandas as pd"
   ]
  },
  {
   "cell_type": "code",
   "execution_count": 32,
   "metadata": {},
   "outputs": [
    {
     "data": {
      "text/html": [
       "<div>\n",
       "<style scoped>\n",
       "    .dataframe tbody tr th:only-of-type {\n",
       "        vertical-align: middle;\n",
       "    }\n",
       "\n",
       "    .dataframe tbody tr th {\n",
       "        vertical-align: top;\n",
       "    }\n",
       "\n",
       "    .dataframe thead th {\n",
       "        text-align: right;\n",
       "    }\n",
       "</style>\n",
       "<table border=\"1\" class=\"dataframe\">\n",
       "  <thead>\n",
       "    <tr style=\"text-align: right;\">\n",
       "      <th></th>\n",
       "      <th>name</th>\n",
       "      <th>link</th>\n",
       "    </tr>\n",
       "  </thead>\n",
       "  <tbody>\n",
       "    <tr>\n",
       "      <th>0</th>\n",
       "      <td>Василий Виноградов</td>\n",
       "      <td>https://vk.com/id324192335</td>\n",
       "    </tr>\n",
       "    <tr>\n",
       "      <th>1</th>\n",
       "      <td>Рома Частин</td>\n",
       "      <td>https://vk.com/romanchastin</td>\n",
       "    </tr>\n",
       "    <tr>\n",
       "      <th>2</th>\n",
       "      <td>Антон Гребенников</td>\n",
       "      <td>https://vk.com/whatmeworry</td>\n",
       "    </tr>\n",
       "    <tr>\n",
       "      <th>3</th>\n",
       "      <td>Алексей Нестеренко</td>\n",
       "      <td>https://vk.com/id132319</td>\n",
       "    </tr>\n",
       "    <tr>\n",
       "      <th>4</th>\n",
       "      <td>Артур Магамалиев</td>\n",
       "      <td>https://vk.com/mr_incognito777</td>\n",
       "    </tr>\n",
       "    <tr>\n",
       "      <th>5</th>\n",
       "      <td>Элвин Грей</td>\n",
       "      <td>https://vk.com/elvingrey</td>\n",
       "    </tr>\n",
       "    <tr>\n",
       "      <th>6</th>\n",
       "      <td>Григорий Хвацкий</td>\n",
       "      <td>https://vk.com/ax0lotl</td>\n",
       "    </tr>\n",
       "    <tr>\n",
       "      <th>7</th>\n",
       "      <td>Даулет Жанайдаров</td>\n",
       "      <td>https://vk.com/pripev_dva_raza</td>\n",
       "    </tr>\n",
       "    <tr>\n",
       "      <th>8</th>\n",
       "      <td>Антон Айсин</td>\n",
       "      <td>https://vk.com/anton.aisin</td>\n",
       "    </tr>\n",
       "    <tr>\n",
       "      <th>9</th>\n",
       "      <td>Миша Бутков</td>\n",
       "      <td>https://vk.com/misha_butkov</td>\n",
       "    </tr>\n",
       "  </tbody>\n",
       "</table>\n",
       "</div>"
      ],
      "text/plain": [
       "                 name                            link\n",
       "0  Василий Виноградов      https://vk.com/id324192335\n",
       "1         Рома Частин     https://vk.com/romanchastin\n",
       "2   Антон Гребенников      https://vk.com/whatmeworry\n",
       "3  Алексей Нестеренко         https://vk.com/id132319\n",
       "4    Артур Магамалиев  https://vk.com/mr_incognito777\n",
       "5          Элвин Грей        https://vk.com/elvingrey\n",
       "6    Григорий Хвацкий          https://vk.com/ax0lotl\n",
       "7   Даулет Жанайдаров  https://vk.com/pripev_dva_raza\n",
       "8         Антон Айсин      https://vk.com/anton.aisin\n",
       "9         Миша Бутков     https://vk.com/misha_butkov"
      ]
     },
     "execution_count": 32,
     "metadata": {},
     "output_type": "execute_result"
    }
   ],
   "source": [
    "df = pd.DataFrame(results_unique)\n",
    "df.columns = [\"name\", \"link\"]\n",
    "\n",
    "# 10 строк для примера\n",
    "df.head(10)"
   ]
  },
  {
   "cell_type": "code",
   "execution_count": 33,
   "metadata": {},
   "outputs": [],
   "source": [
    "df.to_excel(\"users.xlsx\")"
   ]
  }
 ],
 "metadata": {
  "kernelspec": {
   "display_name": "Python 3",
   "language": "python",
   "name": "python3"
  },
  "language_info": {
   "codemirror_mode": {
    "name": "ipython",
    "version": 3
   },
   "file_extension": ".py",
   "mimetype": "text/x-python",
   "name": "python",
   "nbconvert_exporter": "python",
   "pygments_lexer": "ipython3",
   "version": "3.7.4"
  }
 },
 "nbformat": 4,
 "nbformat_minor": 2
}
