{
  "cells": [
    {
      "cell_type": "markdown",
      "metadata": {
        "id": "o7l7RJCTj7LG"
      },
      "source": [
        "# Web-scraping: сбор данных из баз данных и интернет-источников\n",
        "\n",
        "*Алла Тамбовцева*\n",
        "\n",
        "## Практикум 1.1. Введение в парсинг с BeautifulSoup: поиск по тэгам"
      ]
    },
    {
      "cell_type": "markdown",
      "metadata": {
        "id": "xJfkYrNYj7LK"
      },
      "source": [
        "Импортируем необходимые библиотеки. Нам понадобится модуль `requests` для отправки запросов, для «подключения» к странице и получения её содержимого в виде строки, и функция `BeautifulSoup` из библиотеки `bs4` для удобного поиска по полученной строке:"
      ]
    },
    {
      "cell_type": "code",
      "execution_count": 1,
      "metadata": {
        "id": "utJwKve2j7LK"
      },
      "outputs": [],
      "source": [
        "import requests"
      ]
    },
    {
      "cell_type": "code",
      "execution_count": 2,
      "metadata": {
        "id": "jocA_e7Jj7LL"
      },
      "outputs": [],
      "source": [
        "from bs4 import BeautifulSoup"
      ]
    },
    {
      "cell_type": "markdown",
      "metadata": {
        "id": "StqxshAbj7LM"
      },
      "source": [
        "Подключаемся к странице сайта с материалами [math-info.hse.ru](http://math-info.hse.ru):"
      ]
    },
    {
      "cell_type": "code",
      "execution_count": 3,
      "metadata": {
        "id": "abn4B9Qgj7LM"
      },
      "outputs": [],
      "source": [
        "page = requests.get(\"http://math-info.hse.ru/2023-24\")"
      ]
    },
    {
      "cell_type": "code",
      "execution_count": 4,
      "metadata": {
        "colab": {
          "base_uri": "https://localhost:8080/"
        },
        "id": "0TrmbvJGj7LM",
        "outputId": "fe911822-7424-4ddb-c2bc-5615900aafe9"
      },
      "outputs": [
        {
          "output_type": "execute_result",
          "data": {
            "text/plain": [
              "<Response [404]>"
            ]
          },
          "metadata": {},
          "execution_count": 4
        }
      ],
      "source": [
        "page"
      ]
    },
    {
      "cell_type": "markdown",
      "metadata": {
        "id": "PiVuMYE9j7LN"
      },
      "source": [
        "Объект, который мы сохранили в `page`, имеет особый тип *request*, он же запрос. Из него можно извлечь исходный код страницы в виде обычного текста (тип *string*). Однако в нашем случае мы этого сделать не сможем, потому что в ответ на запрос мы получили результат с кодом 404. Известная ошибка, которая возникает тогда, когда ссылка ведёт вникуда. Исправляемся – добавляем слэш в конце ссылки, в данном случае это важно:"
      ]
    },
    {
      "cell_type": "code",
      "execution_count": 5,
      "metadata": {
        "colab": {
          "base_uri": "https://localhost:8080/"
        },
        "id": "ohP4XhTKj7LO",
        "outputId": "e966d3c6-3b90-45d6-d018-97446fe082db"
      },
      "outputs": [
        {
          "output_type": "execute_result",
          "data": {
            "text/plain": [
              "<Response [200]>"
            ]
          },
          "metadata": {},
          "execution_count": 5
        }
      ],
      "source": [
        "page = requests.get(\"http://math-info.hse.ru/2023-24/\")\n",
        "page"
      ]
    },
    {
      "cell_type": "markdown",
      "metadata": {
        "id": "FdRGzavWj7LO"
      },
      "source": [
        "Теперь код 200, это означает, что запрос был благополучно отправлен и на него был получен ответ. Извлечём из полученного ответа код HTML в виде обычной строки:"
      ]
    },
    {
      "cell_type": "code",
      "execution_count": null,
      "metadata": {
        "id": "jidqluzZj7LO"
      },
      "outputs": [],
      "source": [
        "# page.text"
      ]
    },
    {
      "cell_type": "markdown",
      "metadata": {
        "id": "XkaRv8NFj7LO"
      },
      "source": [
        "Выполнять поиск по такой строке с тэгами не очень удобно (даже если вы знакомы с регулярными выражениями), поэтому преобразуем строку в объект типа `BeautifulSoup`. Такой объект внешне несильно отличается от обычной строки, однако внутри по структуре похож на словарь, и это сходство значительно упрощает поиск по тэгам и атрибутам."
      ]
    },
    {
      "cell_type": "code",
      "execution_count": 6,
      "metadata": {
        "id": "ZkFzoRZrj7LP"
      },
      "outputs": [],
      "source": [
        "soup = BeautifulSoup(page.text)"
      ]
    },
    {
      "cell_type": "code",
      "execution_count": null,
      "metadata": {
        "id": "Ytc5E-Fmj7LP"
      },
      "outputs": [],
      "source": [
        "# внешне то же самое, что и ранее\n",
        "# soup"
      ]
    },
    {
      "cell_type": "markdown",
      "metadata": {
        "id": "1TsT3Ri2j7LP"
      },
      "source": [
        "На объектах `BeautifulSoup` определены методы `.find()` и `.find_all()`. Оба метода возвращают фрагменты кода HTML, которые соответствуют критериям поиска, различие заключается в том, что метод `.find()` предназначен для поиска одного совпадения (если критериям поиска соответствует несколько элементов на странице, то берётся только первый), а метод `.find_all()` – для поиска всех совпадений. В первом случае результат возвращается в виде одного элемента типа `BeautifulSoup`, а во втором – в виде списка таких элементов. Давайте попробуем что-то поискать!\n",
        "\n",
        "Найдём сначала заголовок первого уровня – он здесь точно один (тэг `<h1>`):"
      ]
    },
    {
      "cell_type": "code",
      "execution_count": 7,
      "metadata": {
        "colab": {
          "base_uri": "https://localhost:8080/"
        },
        "id": "A3z0N54Cj7LQ",
        "outputId": "fbf9097c-b0f8-43ad-ba6f-39256b674425"
      },
      "outputs": [
        {
          "output_type": "execute_result",
          "data": {
            "text/plain": [
              "<h1 class=\"firstHeading\" id=\"firstHeading\" lang=\"ru\">Заглавная страница</h1>"
            ]
          },
          "metadata": {},
          "execution_count": 7
        }
      ],
      "source": [
        "soup.find(\"h1\")"
      ]
    },
    {
      "cell_type": "markdown",
      "metadata": {
        "id": "TQtHdPF3j7LQ"
      },
      "source": [
        "Результат – фрагмент кода HTML со всеми тэгами. Как получить «чистый» текст? Запросить текст с помощью атрибута `.text`:"
      ]
    },
    {
      "cell_type": "code",
      "execution_count": 8,
      "metadata": {
        "colab": {
          "base_uri": "https://localhost:8080/",
          "height": 35
        },
        "id": "GLJoXDjlj7LQ",
        "outputId": "1d3056a8-f3a6-46df-dccf-53ae991e53f4"
      },
      "outputs": [
        {
          "output_type": "execute_result",
          "data": {
            "text/plain": [
              "'Заглавная страница'"
            ],
            "application/vnd.google.colaboratory.intrinsic+json": {
              "type": "string"
            }
          },
          "metadata": {},
          "execution_count": 8
        }
      ],
      "source": [
        "soup.find(\"h1\").text"
      ]
    },
    {
      "cell_type": "markdown",
      "metadata": {
        "id": "2FCrcQuPj7LR"
      },
      "source": [
        "Теперь найдём все заголовки второго уровня:"
      ]
    },
    {
      "cell_type": "code",
      "execution_count": 9,
      "metadata": {
        "colab": {
          "base_uri": "https://localhost:8080/"
        },
        "id": "Y1VyZTJ_j7LR",
        "outputId": "7307de99-d092-40c7-fcfe-b685f7a0a095"
      },
      "outputs": [
        {
          "output_type": "execute_result",
          "data": {
            "text/plain": [
              "[<h2>Содержание</h2>,\n",
              " <h2><span id=\"Школа_лингвистики\"></span><span class=\"mw-headline\" id=\".D0.A8.D0.BA.D0.BE.D0.BB.D0.B0_.D0.BB.D0.B8.D0.BD.D0.B3.D0.B2.D0.B8.D1.81.D1.82.D0.B8.D0.BA.D0.B8\">Школа лингвистики</span></h2>,\n",
              " <h2><span id=\"ОП_Политология\"></span><span class=\"mw-headline\" id=\".D0.9E.D0.9F_.D0.9F.D0.BE.D0.BB.D0.B8.D1.82.D0.BE.D0.BB.D0.BE.D0.B3.D0.B8.D1.8F\">ОП Политология</span></h2>,\n",
              " <h2><span id=\"Вычислительные_социальные_науки\"></span><span class=\"mw-headline\" id=\".D0.92.D1.8B.D1.87.D0.B8.D1.81.D0.BB.D0.B8.D1.82.D0.B5.D0.BB.D1.8C.D0.BD.D1.8B.D0.B5_.D1.81.D0.BE.D1.86.D0.B8.D0.B0.D0.BB.D1.8C.D0.BD.D1.8B.D0.B5_.D0.BD.D0.B0.D1.83.D0.BA.D0.B8\">Вычислительные социальные науки</span></h2>,\n",
              " <h2><span id=\"Факультет_креативных_индустрий\"></span><span class=\"mw-headline\" id=\".D0.A4.D0.B0.D0.BA.D1.83.D0.BB.D1.8C.D1.82.D0.B5.D1.82_.D0.BA.D1.80.D0.B5.D0.B0.D1.82.D0.B8.D0.B2.D0.BD.D1.8B.D1.85_.D0.B8.D0.BD.D0.B4.D1.83.D1.81.D1.82.D1.80.D0.B8.D0.B9\">Факультет креативных индустрий</span></h2>,\n",
              " <h2><span id=\"ОП_социология\"></span><span class=\"mw-headline\" id=\".D0.9E.D0.9F_.D1.81.D0.BE.D1.86.D0.B8.D0.BE.D0.BB.D0.BE.D0.B3.D0.B8.D1.8F\">ОП социология</span></h2>,\n",
              " <h2><span id=\"ОП_Психология\"></span><span class=\"mw-headline\" id=\".D0.9E.D0.9F_.D0.9F.D1.81.D0.B8.D1.85.D0.BE.D0.BB.D0.BE.D0.B3.D0.B8.D1.8F\">ОП Психология</span></h2>,\n",
              " <h2>Навигация</h2>]"
            ]
          },
          "metadata": {},
          "execution_count": 9
        }
      ],
      "source": [
        "soup.find_all(\"h2\")"
      ]
    },
    {
      "cell_type": "markdown",
      "metadata": {
        "id": "d8H31HgDj7LR"
      },
      "source": [
        "Сохраним полученный с названием `h2` и поработаем с ним (и не только)!"
      ]
    },
    {
      "cell_type": "code",
      "execution_count": 10,
      "metadata": {
        "id": "PER7Z_Bcj7LS"
      },
      "outputs": [],
      "source": [
        "h2 = soup.find_all(\"h2\")"
      ]
    },
    {
      "cell_type": "markdown",
      "metadata": {
        "id": "PPofTNpxj7LS"
      },
      "source": [
        "### Задача 1"
      ]
    },
    {
      "cell_type": "markdown",
      "metadata": {
        "id": "jofHPl3mj7LS"
      },
      "source": [
        "Сохраните в новый список `hh` только названия образовательных программ или факультетов/школ, то есть все элементы списка `h2`, кроме первого и последнего."
      ]
    },
    {
      "cell_type": "code",
      "execution_count": 11,
      "metadata": {
        "colab": {
          "base_uri": "https://localhost:8080/"
        },
        "id": "PUzWqh3zj7LS",
        "outputId": "a745e286-aa89-4203-c660-3ad6a5359ba4"
      },
      "outputs": [
        {
          "output_type": "stream",
          "name": "stdout",
          "text": [
            "[<h2><span id=\"Школа_лингвистики\"></span><span class=\"mw-headline\" id=\".D0.A8.D0.BA.D0.BE.D0.BB.D0.B0_.D0.BB.D0.B8.D0.BD.D0.B3.D0.B2.D0.B8.D1.81.D1.82.D0.B8.D0.BA.D0.B8\">Школа лингвистики</span></h2>, <h2><span id=\"ОП_Политология\"></span><span class=\"mw-headline\" id=\".D0.9E.D0.9F_.D0.9F.D0.BE.D0.BB.D0.B8.D1.82.D0.BE.D0.BB.D0.BE.D0.B3.D0.B8.D1.8F\">ОП Политология</span></h2>, <h2><span id=\"Вычислительные_социальные_науки\"></span><span class=\"mw-headline\" id=\".D0.92.D1.8B.D1.87.D0.B8.D1.81.D0.BB.D0.B8.D1.82.D0.B5.D0.BB.D1.8C.D0.BD.D1.8B.D0.B5_.D1.81.D0.BE.D1.86.D0.B8.D0.B0.D0.BB.D1.8C.D0.BD.D1.8B.D0.B5_.D0.BD.D0.B0.D1.83.D0.BA.D0.B8\">Вычислительные социальные науки</span></h2>, <h2><span id=\"Факультет_креативных_индустрий\"></span><span class=\"mw-headline\" id=\".D0.A4.D0.B0.D0.BA.D1.83.D0.BB.D1.8C.D1.82.D0.B5.D1.82_.D0.BA.D1.80.D0.B5.D0.B0.D1.82.D0.B8.D0.B2.D0.BD.D1.8B.D1.85_.D0.B8.D0.BD.D0.B4.D1.83.D1.81.D1.82.D1.80.D0.B8.D0.B9\">Факультет креативных индустрий</span></h2>, <h2><span id=\"ОП_социология\"></span><span class=\"mw-headline\" id=\".D0.9E.D0.9F_.D1.81.D0.BE.D1.86.D0.B8.D0.BE.D0.BB.D0.BE.D0.B3.D0.B8.D1.8F\">ОП социология</span></h2>, <h2><span id=\"ОП_Психология\"></span><span class=\"mw-headline\" id=\".D0.9E.D0.9F_.D0.9F.D1.81.D0.B8.D1.85.D0.BE.D0.BB.D0.BE.D0.B3.D0.B8.D1.8F\">ОП Психология</span></h2>]\n"
          ]
        }
      ],
      "source": [
        "hh = h2[1:-1]\n",
        "print(hh)"
      ]
    },
    {
      "cell_type": "markdown",
      "metadata": {
        "id": "ITrSdsnmj7LS"
      },
      "source": [
        "### Задача 2"
      ]
    },
    {
      "cell_type": "markdown",
      "metadata": {
        "id": "kATmTtsbj7LT"
      },
      "source": [
        "Извлеките из каждого элемента списка `hh` текст и сохраните полученные названия программ/факультетов/школ в список `headers`."
      ]
    },
    {
      "cell_type": "code",
      "execution_count": 12,
      "metadata": {
        "colab": {
          "base_uri": "https://localhost:8080/"
        },
        "id": "JDzwUfY3j7LT",
        "outputId": "b23acf83-b060-4c33-c0c9-c01be7a96baa"
      },
      "outputs": [
        {
          "output_type": "stream",
          "name": "stdout",
          "text": [
            "['Школа лингвистики', 'ОП Политология', 'Вычислительные социальные науки', 'Факультет креативных индустрий', 'ОП социология', 'ОП Психология']\n"
          ]
        }
      ],
      "source": [
        "# с циклом\n",
        "headers = []\n",
        "for h in hh:\n",
        "    headers.append(h.text)\n",
        "print(headers)"
      ]
    },
    {
      "cell_type": "code",
      "execution_count": 13,
      "metadata": {
        "colab": {
          "base_uri": "https://localhost:8080/"
        },
        "id": "Atq12Ovyj7LT",
        "outputId": "e4a5fc39-7b96-481c-e9eb-69b484249075"
      },
      "outputs": [
        {
          "output_type": "stream",
          "name": "stdout",
          "text": [
            "['Школа лингвистики', 'ОП Политология', 'Вычислительные социальные науки', 'Факультет креативных индустрий', 'ОП социология', 'ОП Психология']\n"
          ]
        }
      ],
      "source": [
        "# со списковым включением\n",
        "headers = [i.text for i in hh]\n",
        "print(headers)"
      ]
    },
    {
      "cell_type": "markdown",
      "metadata": {
        "id": "-FaHEiNQj7LU"
      },
      "source": [
        "### Задача 3"
      ]
    },
    {
      "cell_type": "markdown",
      "metadata": {
        "id": "_6GjnZswj7LU"
      },
      "source": [
        "Найдите на странице список курсов ОП «Политология» (их просто больше всего) и сохраните его в переменную `polit`."
      ]
    },
    {
      "cell_type": "code",
      "execution_count": 14,
      "metadata": {
        "id": "HphHoysxj7LU"
      },
      "outputs": [],
      "source": [
        "# находим все ненумерованные списки и берем третий\n",
        "polit = soup.find_all(\"ul\")[2]"
      ]
    },
    {
      "cell_type": "markdown",
      "metadata": {
        "id": "mFFm3TMej7LU"
      },
      "source": [
        "### Задача 4"
      ]
    },
    {
      "cell_type": "markdown",
      "metadata": {
        "id": "f9u_Zl9mj7LU"
      },
      "source": [
        "Используя `polit`, получите список названий курсов и назовите его `names`."
      ]
    },
    {
      "cell_type": "code",
      "execution_count": 15,
      "metadata": {
        "colab": {
          "base_uri": "https://localhost:8080/"
        },
        "id": "M8VCXoXsj7LU",
        "outputId": "0c95d721-864e-4cdd-8c33-197f5cfd1417"
      },
      "outputs": [
        {
          "output_type": "stream",
          "name": "stdout",
          "text": [
            "['Высшая математика (1 курс)', 'Введение в регрессионный анализ (2 курс)', 'Основы анализа данных в Python (3 курс)', 'Программирование для всех (основы Python) (1 курс магистратуры)', 'Введение в теорию вероятностей и математическую статистику (1 курс)']\n"
          ]
        }
      ],
      "source": [
        "# элементы списка с тэгами\n",
        "courses = polit.find_all(\"li\")\n",
        "\n",
        "# извлекаем текст из каждого элемента\n",
        "names = [c.text for c in courses]\n",
        "print(names)"
      ]
    },
    {
      "cell_type": "markdown",
      "metadata": {
        "id": "sJ2qAA0aj7LV"
      },
      "source": [
        "### Задача 5"
      ]
    },
    {
      "cell_type": "markdown",
      "metadata": {
        "id": "uMJyERRpj7LV"
      },
      "source": [
        "Извлеките из каждого элемента `names` названия предметов «в чистом» виде, без указаний на то, на каком курсе они читаются, и сохраните результаты в новый список `names_clean`.\n",
        "\n",
        "Подсказка: метод `.split()` для строк."
      ]
    },
    {
      "cell_type": "code",
      "execution_count": 16,
      "metadata": {
        "colab": {
          "base_uri": "https://localhost:8080/",
          "height": 35
        },
        "id": "LEVTTTH0j7LV",
        "outputId": "847cf4ed-0185-4806-ad14-a1b9ecbbdb8c"
      },
      "outputs": [
        {
          "output_type": "execute_result",
          "data": {
            "text/plain": [
              "'Высшая математика'"
            ],
            "application/vnd.google.colaboratory.intrinsic+json": {
              "type": "string"
            }
          },
          "metadata": {},
          "execution_count": 16
        }
      ],
      "source": [
        "# на примере одного элемента: разбиваем строку\n",
        "# по ( и из списка выбираем первый элемент (до скобки)\n",
        "\n",
        "n = names[0]\n",
        "n.split(\" (\")[0]"
      ]
    },
    {
      "cell_type": "code",
      "execution_count": 17,
      "metadata": {
        "colab": {
          "base_uri": "https://localhost:8080/"
        },
        "id": "KLkSs2GIj7LW",
        "outputId": "29134a5e-88fb-4224-da7b-bd48362ef9e0"
      },
      "outputs": [
        {
          "output_type": "execute_result",
          "data": {
            "text/plain": [
              "['Высшая математика',\n",
              " 'Введение в регрессионный анализ',\n",
              " 'Основы анализа данных в Python',\n",
              " 'Программирование для всех',\n",
              " 'Введение в теорию вероятностей и математическую статистику']"
            ]
          },
          "metadata": {},
          "execution_count": 17
        }
      ],
      "source": [
        "# теперь для всех\n",
        "names_clean = [n.split(\" (\")[0] for n in names]\n",
        "names_clean"
      ]
    },
    {
      "cell_type": "markdown",
      "metadata": {
        "id": "Jeb_O5taj7LX"
      },
      "source": [
        "### Задача 6"
      ]
    },
    {
      "cell_type": "markdown",
      "metadata": {
        "id": "SQMj3rwSj7LX"
      },
      "source": [
        "Дан перечень id для курсов, созданный с помощью функции `range()`:"
      ]
    },
    {
      "cell_type": "code",
      "execution_count": 18,
      "metadata": {
        "colab": {
          "base_uri": "https://localhost:8080/"
        },
        "id": "qUAwF3TBj7LX",
        "outputId": "849dceef-b932-40aa-cfdd-cf6c782a63b4"
      },
      "outputs": [
        {
          "output_type": "stream",
          "name": "stdout",
          "text": [
            "1 2 3 4 5\n"
          ]
        }
      ],
      "source": [
        "ids = range(1, 6)\n",
        "print(*ids)"
      ]
    },
    {
      "cell_type": "markdown",
      "metadata": {
        "id": "VVv-ROOlj7LY"
      },
      "source": [
        "Используя `ids` и список `names_clean`, создайте словарь `info`, где ключами являются id, а значениями – названия курсов."
      ]
    },
    {
      "cell_type": "code",
      "execution_count": 20,
      "metadata": {
        "colab": {
          "base_uri": "https://localhost:8080/"
        },
        "id": "aobpCK_kj7LZ",
        "outputId": "4aaf0d18-4c9b-42fe-c2f0-94416c8682fd"
      },
      "outputs": [
        {
          "output_type": "stream",
          "name": "stdout",
          "text": [
            "(1, 'Высшая математика') (2, 'Введение в регрессионный анализ') (3, 'Основы анализа данных в Python') (4, 'Программирование для всех') (5, 'Введение в теорию вероятностей и математическую статистику')\n"
          ]
        }
      ],
      "source": [
        "# склеиваем элементы списков попарно\n",
        "print(*zip(ids, names_clean))"
      ]
    },
    {
      "cell_type": "code",
      "source": [
        "# склеиваем элементы списков попарно\n",
        "# и превращаем список пар в словарь\n",
        "\n",
        "info = dict(zip(ids, names_clean))\n",
        "info"
      ],
      "metadata": {
        "colab": {
          "base_uri": "https://localhost:8080/"
        },
        "id": "2hmnNTiClJTi",
        "outputId": "d873cadd-0111-492c-e20e-17e2bb51c87a"
      },
      "execution_count": 21,
      "outputs": [
        {
          "output_type": "execute_result",
          "data": {
            "text/plain": [
              "{1: 'Высшая математика',\n",
              " 2: 'Введение в регрессионный анализ',\n",
              " 3: 'Основы анализа данных в Python',\n",
              " 4: 'Программирование для всех',\n",
              " 5: 'Введение в теорию вероятностей и математическую статистику'}"
            ]
          },
          "metadata": {},
          "execution_count": 21
        }
      ]
    }
  ],
  "metadata": {
    "kernelspec": {
      "display_name": "Python 3",
      "language": "python",
      "name": "python3"
    },
    "language_info": {
      "codemirror_mode": {
        "name": "ipython",
        "version": 3
      },
      "file_extension": ".py",
      "mimetype": "text/x-python",
      "name": "python",
      "nbconvert_exporter": "python",
      "pygments_lexer": "ipython3",
      "version": "3.7.4"
    },
    "colab": {
      "provenance": []
    }
  },
  "nbformat": 4,
  "nbformat_minor": 0
}