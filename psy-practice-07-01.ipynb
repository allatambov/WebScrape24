{
 "cells": [
  {
   "cell_type": "markdown",
   "metadata": {},
   "source": [
    "# Web-scraping: сбор данных из баз данных и интернет-источников\n",
    "\n",
    "*Алла Тамбовцева, НИУ ВШЭ*\n",
    "\n",
    "## Практикум 7.1. Управление браузером с Selenium: динамические таблицы"
   ]
  },
  {
   "cell_type": "markdown",
   "metadata": {},
   "source": [
    "Импортируем необходимые модули и коллекции методов:"
   ]
  },
  {
   "cell_type": "code",
   "execution_count": 1,
   "metadata": {},
   "outputs": [],
   "source": [
    "import pandas as pd\n",
    "from bs4 import BeautifulSoup\n",
    "from time import sleep\n",
    "\n",
    "from selenium import webdriver as wd\n",
    "from selenium.webdriver.common.by import By"
   ]
  },
  {
   "cell_type": "markdown",
   "metadata": {},
   "source": [
    "Сохраняем ссылку на страницу со статистикой по футбольным матчам в переменную `url` (специально выбран довольно специфический ресурс, с кучей лишних окон, картинок и рекламы, которые потенциально могут мешать):"
   ]
  },
  {
   "cell_type": "code",
   "execution_count": 2,
   "metadata": {},
   "outputs": [
    {
     "name": "stdout",
     "output_type": "stream",
     "text": [
      "https://1xbet.whoscored.com/Statistics\n"
     ]
    }
   ],
   "source": [
    "url = \"https://1xbet.whoscored.com/Statistics\"\n",
    "print(url)"
   ]
  },
  {
   "cell_type": "markdown",
   "metadata": {},
   "source": [
    "Открываем новое окно браузера через Selenium и переходим на страницу по ссылке `url`:"
   ]
  },
  {
   "cell_type": "code",
   "execution_count": 3,
   "metadata": {},
   "outputs": [],
   "source": [
    "br = wd.Chrome()\n",
    "br.get(url)"
   ]
  },
  {
   "cell_type": "markdown",
   "metadata": {},
   "source": [
    "### Задача 1\n",
    "\n",
    "Извлеките исходный код страницы и найдите в нём первую таблицу с результатами. Преобразуйте её в полноценный датафрейм pandas."
   ]
  },
  {
   "cell_type": "code",
   "execution_count": 4,
   "metadata": {},
   "outputs": [],
   "source": [
    "html = br.page_source\n",
    "soup = BeautifulSoup(html)\n",
    "tab = soup.find(\"table\", \n",
    "                {\"id\" : \"top-team-stats-summary-grid\"})\n",
    "df = pd.read_html(str(tab))[0]"
   ]
  },
  {
   "cell_type": "code",
   "execution_count": 5,
   "metadata": {},
   "outputs": [
    {
     "name": "stdout",
     "output_type": "stream",
     "text": [
      "(20, 9)\n",
      "                     Team      Tournament  Goals  Shots pg  Discipline  \\\n",
      "0        1. Bayern Munich      Bundesliga     78      20.2         422   \n",
      "1     2. Bayer Leverkusen      Bundesliga     66      17.7         470   \n",
      "2  3. Paris Saint-Germain         Ligue 1     62      15.0         372   \n",
      "3      4. Manchester City  Premier League     63      18.0         462   \n",
      "4          5. Real Madrid          LaLiga     64      16.4         524   \n",
      "\n",
      "   Possession%  Pass%  AerialsWon  Rating  \n",
      "0         62.0   88.6        12.5    7.01  \n",
      "1         63.1   88.9        10.4    6.97  \n",
      "2         65.6   89.8         8.0    6.95  \n",
      "3         65.3   90.1         9.2    6.93  \n",
      "4         59.6   90.1         8.7    6.89  \n"
     ]
    }
   ],
   "source": [
    "# все отлично, но мы видим только один фрагмент таблицы\n",
    "# так как для дальнейших результатов ее надо листать\n",
    "\n",
    "print(df.shape)\n",
    "print(df.head())"
   ]
  },
  {
   "cell_type": "markdown",
   "metadata": {},
   "source": [
    "### Задача 2\n",
    "\n",
    "Напишите функцию `get_table()`, которая принимает на вход объект `br` и возвращает датафрейм с результатами из первой таблицы на странице. "
   ]
  },
  {
   "cell_type": "code",
   "execution_count": 6,
   "metadata": {},
   "outputs": [],
   "source": [
    "from time import sleep"
   ]
  },
  {
   "cell_type": "code",
   "execution_count": 7,
   "metadata": {},
   "outputs": [],
   "source": [
    "def get_table(br):\n",
    "    sleep(2)\n",
    "    html = br.page_source\n",
    "    soup = BeautifulSoup(html)\n",
    "    tab = soup.find(\"table\", \n",
    "                {\"id\" : \"top-team-stats-summary-grid\"})\n",
    "    df = pd.read_html(str(tab))[0]\n",
    "    return df"
   ]
  },
  {
   "cell_type": "markdown",
   "metadata": {},
   "source": [
    "### Задача 3\n",
    "\n",
    "Напишите программу, которая пролистывает все страницы в первой таблице и сохраняет все данные из нее в датафрейм pandas.\n",
    "\n",
    "**NB.** Перед запуском кода убедитесь, что окно браузера открыто полностью (по крайней мере на всю ширину экрана, иначе некоторые элементы меню будут перекрывать нужную кнопку для перелистывания."
   ]
  },
  {
   "cell_type": "code",
   "execution_count": 8,
   "metadata": {},
   "outputs": [],
   "source": [
    "# while True: исполняем код, пока не столкнемся с выходом из цикла break\n",
    "# а столкнемся мы с ним тогда, когда не будет выполняться условие в if\n",
    "# условие проверяет, правда ли у элемента button_next в атрибуте class\n",
    "# указано значение option  clickable \n",
    "# –> кнопка для листания кликабельна, дальше есть, куда листать\n",
    "\n",
    "tables = []\n",
    "while True:\n",
    "    res = get_table(br)\n",
    "    tables.append(res)\n",
    "    button_next = br.find_element(By.ID, \"next\")\n",
    "    if button_next.get_dom_attribute(\"class\") == \"option  clickable \":\n",
    "        button_next.click()\n",
    "        sleep(3)\n",
    "    else:\n",
    "        break"
   ]
  },
  {
   "cell_type": "code",
   "execution_count": 10,
   "metadata": {},
   "outputs": [
    {
     "name": "stdout",
     "output_type": "stream",
     "text": [
      "                     Team      Tournament  Goals  Shots pg  Discipline  \\\n",
      "0        1. Bayern Munich      Bundesliga     78      20.2         422   \n",
      "1     2. Bayer Leverkusen      Bundesliga     66      17.7         470   \n",
      "2  3. Paris Saint-Germain         Ligue 1     62      15.0         372   \n",
      "3      4. Manchester City  Premier League     63      18.0         462   \n",
      "4          5. Real Madrid          LaLiga     64      16.4         524   \n",
      "\n",
      "   Possession%  Pass%  AerialsWon  Rating  \n",
      "0         62.0   88.6        12.5    7.01  \n",
      "1         63.1   88.9        10.4    6.97  \n",
      "2         65.6   89.8         8.0    6.95  \n",
      "3         65.3   90.1         9.2    6.93  \n",
      "4         59.6   90.1         8.7    6.89  \n",
      "(96, 9)\n"
     ]
    }
   ],
   "source": [
    "fin = pd.concat(tables)\n",
    "print(fin.head())\n",
    "print(fin.shape) # все 96 строк"
   ]
  }
 ],
 "metadata": {
  "kernelspec": {
   "display_name": "Python 3",
   "language": "python",
   "name": "python3"
  },
  "language_info": {
   "codemirror_mode": {
    "name": "ipython",
    "version": 3
   },
   "file_extension": ".py",
   "mimetype": "text/x-python",
   "name": "python",
   "nbconvert_exporter": "python",
   "pygments_lexer": "ipython3",
   "version": "3.7.4"
  }
 },
 "nbformat": 4,
 "nbformat_minor": 2
}
