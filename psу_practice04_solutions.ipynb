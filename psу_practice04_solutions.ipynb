{
 "cells": [
  {
   "cell_type": "markdown",
   "metadata": {},
   "source": [
    "# Web-scraping: сбор данных из баз данных и интернет-источников\n",
    "\n",
    "*Алла Тамбовцева*\n",
    "\n",
    "### Практикум 4. Введение в работу с API (на примере Википедии)"
   ]
  },
  {
   "cell_type": "markdown",
   "metadata": {},
   "source": [
    "Если мы не используем готовые библиотеки для работы с API («оболочки» для построения запросов и обработки результатов), для работы достаточно импортировать уже знакомый нам модуль `requests`:"
   ]
  },
  {
   "cell_type": "code",
   "execution_count": 1,
   "metadata": {},
   "outputs": [],
   "source": [
    "import requests"
   ]
  },
  {
   "cell_type": "markdown",
   "metadata": {},
   "source": [
    "### Часть 1: получаем информацию о пользователях Википедии"
   ]
  },
  {
   "cell_type": "markdown",
   "metadata": {},
   "source": [
    "### Задача 1\n",
    "\n",
    "Создайте запрос для получения информации о пользователе Википедии *Ilya Voyager*, используя следующую информацию:\n",
    "\n",
    "* ссылка на API как базу данных https://ru.wikipedia.org/w/api.php;\n",
    "* действие (аргумент `action`) для получения результата – `query`;\n",
    "* формат результата (аргумент `format`) – `json`;\n",
    "* название списка с интересующей нас информацией (аргумент `list`) – `users`;\n",
    "* имя пользователя (аргумент `ususers`) – `Ilya_Voyager`.\n",
    "\n",
    "Строку с запросом сохраните в переменную `q1`. Отправьте запрос к API, используя модуль `requests`, сохраните результат в переменную `response1` и извлеките из полученного объекта ответ на запрос:\n",
    "\n",
    "* в виде обычной строки (`.text`);\n",
    "* в формате JSON (`.json()`).\n",
    "\n",
    "Сравните полученные результаты."
   ]
  },
  {
   "cell_type": "code",
   "execution_count": 2,
   "metadata": {},
   "outputs": [],
   "source": [
    "q1 = \"https://ru.wikipedia.org/w/api.php?action=query&format=json&list=users&ususers=Ilya_Voyager\"\n",
    "response1 = requests.get(q1)"
   ]
  },
  {
   "cell_type": "code",
   "execution_count": 3,
   "metadata": {},
   "outputs": [
    {
     "name": "stdout",
     "output_type": "stream",
     "text": [
      "{\"batchcomplete\":\"\",\"query\":{\"users\":[{\"userid\":2403,\"name\":\"Ilya Voyager\"}]}}\n",
      "{'batchcomplete': '', 'query': {'users': [{'userid': 2403, 'name': 'Ilya Voyager'}]}}\n"
     ]
    }
   ],
   "source": [
    "# визуально одно и то же, но первое – строка, второе – словарь\n",
    "# со словарем работать удобнее\n",
    "\n",
    "print(response1.text)\n",
    "print(response1.json())"
   ]
  },
  {
   "cell_type": "markdown",
   "metadata": {},
   "source": [
    "### Задача 2\n",
    "\n",
    "Создайте запрос для получения информации по тому же участнику, только с уточнением разделов (полей), информация о которых нам нужна:\n",
    "\n",
    "* аргумент `usprop`, разделы `gender` и `groups`.\n",
    "\n",
    "Строку с запросом сохраните в переменную `q2`. Отправьте запрос к API и извлеките из полученного объекта ответ на запрос в формате JSON. Создайте список, состоящий из id участника, имени участника, пола участника и списка групп, к которым он принадлежит.  "
   ]
  },
  {
   "cell_type": "code",
   "execution_count": 4,
   "metadata": {},
   "outputs": [],
   "source": [
    "q2 = \"https://ru.wikipedia.org/w/api.php?action=query&format=json&list=users&ususers=Ilya_Voyager&usprop=gender|groups\""
   ]
  },
  {
   "cell_type": "code",
   "execution_count": 5,
   "metadata": {},
   "outputs": [
    {
     "name": "stdout",
     "output_type": "stream",
     "text": [
      "{'batchcomplete': '', 'query': {'users': [{'userid': 2403, 'name': 'Ilya Voyager', 'groups': ['editor', 'rollbacker', 'uploader', '*', 'user', 'autoconfirmed'], 'gender': 'male'}]}}\n"
     ]
    }
   ],
   "source": [
    "# .json() сразу после get()\n",
    "\n",
    "res = requests.get(q2).json()\n",
    "print(res)"
   ]
  },
  {
   "cell_type": "code",
   "execution_count": 6,
   "metadata": {},
   "outputs": [
    {
     "name": "stdout",
     "output_type": "stream",
     "text": [
      "{'userid': 2403, 'name': 'Ilya Voyager', 'groups': ['editor', 'rollbacker', 'uploader', '*', 'user', 'autoconfirmed'], 'gender': 'male'}\n"
     ]
    }
   ],
   "source": [
    "# работаем как со словарем, внутри которого словари и списки\n",
    "# последовательно извлекаем элементы\n",
    "\n",
    "user = res[\"query\"][\"users\"][0]\n",
    "print(user)"
   ]
  },
  {
   "cell_type": "code",
   "execution_count": 7,
   "metadata": {},
   "outputs": [
    {
     "name": "stdout",
     "output_type": "stream",
     "text": [
      "[2403, 'Ilya Voyager', 'male', ['editor', 'rollbacker', 'uploader', '*', 'user', 'autoconfirmed']]\n"
     ]
    }
   ],
   "source": [
    "info = [user[\"userid\"], user[\"name\"], user[\"gender\"], user[\"groups\"]]\n",
    "print(info)"
   ]
  },
  {
   "cell_type": "markdown",
   "metadata": {},
   "source": [
    "### Задача 3\n",
    "\n",
    "Представьте, что нам нужно собрать информацию по нескольким участникам сразу. Известно, что имена пользователей можно вводить через `|`, как и названия разделов. Напишите код, который \n",
    "\n",
    "* забирает имена участников из списка `names`;\n",
    "* забирает названия разделов из списка `fields`;\n",
    "* подставляет всё в нужную строку с запросом, отправляет его к API и получает ответ в формате JSON. \n",
    "\n",
    "**Подсказка:** вспомните про форматирование строк и f-строки."
   ]
  },
  {
   "cell_type": "code",
   "execution_count": 8,
   "metadata": {},
   "outputs": [],
   "source": [
    "names = [\"Ilya_Voyager\", \"Drbug\", \"Kaganer\"]\n",
    "fields = [\"gender\", \"groups\", \"registration\"]"
   ]
  },
  {
   "cell_type": "code",
   "execution_count": 9,
   "metadata": {},
   "outputs": [],
   "source": [
    "# склеиваем строки в списке в одну строку с разделителями |\n",
    "\n",
    "names_str = \"|\".join(names)\n",
    "fields_str = \"|\".join(fields)\n",
    "\n",
    "# подставляем в f-строку names_str и fields_str\n",
    "req = f\"https://ru.wikipedia.org/w/api.php?action=query&format=json&list=users&ususers={names_str}&usprop={fields_str}\""
   ]
  },
  {
   "cell_type": "code",
   "execution_count": 10,
   "metadata": {},
   "outputs": [
    {
     "name": "stdout",
     "output_type": "stream",
     "text": [
      "{'batchcomplete': '', 'query': {'users': [{'userid': 2403, 'name': 'Ilya Voyager', 'registration': None, 'groups': ['editor', 'rollbacker', 'uploader', '*', 'user', 'autoconfirmed'], 'gender': 'male'}, {'userid': 47, 'name': 'Drbug', 'registration': None, 'groups': ['*', 'user', 'autoconfirmed'], 'gender': 'unknown'}, {'userid': 1090, 'name': 'Kaganer', 'registration': None, 'groups': ['editor', 'filemover', 'rollbacker', '*', 'user', 'autoconfirmed'], 'gender': 'male'}]}}\n"
     ]
    }
   ],
   "source": [
    "# отправляем запрос и забираем результат\n",
    "\n",
    "users_dict = requests.get(req).json()\n",
    "print(users_dict)"
   ]
  },
  {
   "cell_type": "markdown",
   "metadata": {},
   "source": [
    "### Задача 4\n",
    "\n",
    "Форматировать строки не очень сложно, но если запросы сами по себе длинные, не всегда удобно. Поэтому для подстановки нужных аргументов можно использовать возможности модуля `requests`, а именно функции `get()`. Эта функция умеет объединять ссылку на API и пары *аргумент-значение*, если эти пары *аргумент-значение* поданы ей на вход в виде словаря. \n",
    "\n",
    "Решите задачу 3, пользуясь этой возможностью."
   ]
  },
  {
   "cell_type": "code",
   "execution_count": 11,
   "metadata": {},
   "outputs": [
    {
     "name": "stdout",
     "output_type": "stream",
     "text": [
      "{'batchcomplete': '', 'query': {'users': [{'userid': 2403, 'name': 'Ilya Voyager', 'registration': None, 'groups': ['editor', 'rollbacker', 'uploader', '*', 'user', 'autoconfirmed'], 'gender': 'male'}, {'userid': 47, 'name': 'Drbug', 'registration': None, 'groups': ['*', 'user', 'autoconfirmed'], 'gender': 'unknown'}, {'userid': 1090, 'name': 'Kaganer', 'registration': None, 'groups': ['editor', 'filemover', 'rollbacker', '*', 'user', 'autoconfirmed'], 'gender': 'male'}]}}\n"
     ]
    }
   ],
   "source": [
    "users_dict = requests.get(url = \"https://ru.wikipedia.org/w/api.php\", \n",
    "            params = {\"action\" : \"query\",\n",
    "            \"format\" : \"json\", \n",
    "            \"list\" : \"users\", \n",
    "            \"ususers\" : names_str,\n",
    "            \"usprop\" : fields_str}).json()\n",
    "print(users_dict)"
   ]
  },
  {
   "cell_type": "markdown",
   "metadata": {},
   "source": [
    "### Задача 5\n",
    "\n",
    "Превратите результаты, полученные в предыдущей задаче, в датафрейм pandas, где одна строка соответствует одному пользователю. Выгрузите результаты в файл Excel."
   ]
  },
  {
   "cell_type": "code",
   "execution_count": 12,
   "metadata": {},
   "outputs": [],
   "source": [
    "import pandas as pd"
   ]
  },
  {
   "cell_type": "code",
   "execution_count": 13,
   "metadata": {},
   "outputs": [
    {
     "data": {
      "text/html": [
       "<div>\n",
       "<style scoped>\n",
       "    .dataframe tbody tr th:only-of-type {\n",
       "        vertical-align: middle;\n",
       "    }\n",
       "\n",
       "    .dataframe tbody tr th {\n",
       "        vertical-align: top;\n",
       "    }\n",
       "\n",
       "    .dataframe thead th {\n",
       "        text-align: right;\n",
       "    }\n",
       "</style>\n",
       "<table border=\"1\" class=\"dataframe\">\n",
       "  <thead>\n",
       "    <tr style=\"text-align: right;\">\n",
       "      <th></th>\n",
       "      <th>userid</th>\n",
       "      <th>name</th>\n",
       "      <th>registration</th>\n",
       "      <th>groups</th>\n",
       "      <th>gender</th>\n",
       "    </tr>\n",
       "  </thead>\n",
       "  <tbody>\n",
       "    <tr>\n",
       "      <th>0</th>\n",
       "      <td>2403</td>\n",
       "      <td>Ilya Voyager</td>\n",
       "      <td>None</td>\n",
       "      <td>[editor, rollbacker, uploader, *, user, autoco...</td>\n",
       "      <td>male</td>\n",
       "    </tr>\n",
       "    <tr>\n",
       "      <th>1</th>\n",
       "      <td>47</td>\n",
       "      <td>Drbug</td>\n",
       "      <td>None</td>\n",
       "      <td>[*, user, autoconfirmed]</td>\n",
       "      <td>unknown</td>\n",
       "    </tr>\n",
       "    <tr>\n",
       "      <th>2</th>\n",
       "      <td>1090</td>\n",
       "      <td>Kaganer</td>\n",
       "      <td>None</td>\n",
       "      <td>[editor, filemover, rollbacker, *, user, autoc...</td>\n",
       "      <td>male</td>\n",
       "    </tr>\n",
       "  </tbody>\n",
       "</table>\n",
       "</div>"
      ],
      "text/plain": [
       "   userid          name registration  \\\n",
       "0    2403  Ilya Voyager         None   \n",
       "1      47         Drbug         None   \n",
       "2    1090       Kaganer         None   \n",
       "\n",
       "                                              groups   gender  \n",
       "0  [editor, rollbacker, uploader, *, user, autoco...     male  \n",
       "1                           [*, user, autoconfirmed]  unknown  \n",
       "2  [editor, filemover, rollbacker, *, user, autoc...     male  "
      ]
     },
     "execution_count": 13,
     "metadata": {},
     "output_type": "execute_result"
    }
   ],
   "source": [
    "# важно – в датафрейм превращаем список словарей внутри users\n",
    "# не сам большой словарь users_dict и не query,\n",
    "# иначе в датафрейме будет одна строка и один столбец\n",
    "\n",
    "df = pd.DataFrame(users_dict[\"query\"][\"users\"])\n",
    "df"
   ]
  },
  {
   "cell_type": "code",
   "execution_count": 14,
   "metadata": {},
   "outputs": [],
   "source": [
    "df.to_excel(\"users_wiki.xlsx\")"
   ]
  },
  {
   "cell_type": "markdown",
   "metadata": {},
   "source": [
    "В завершение этой части – в самой документации к API есть готовые [примеры](https://www.mediawiki.org/wiki/API:Users) запросов на Python, причём с удобным способом их создания :)"
   ]
  },
  {
   "cell_type": "markdown",
   "metadata": {},
   "source": [
    "### Часть 2: получаем текст статей Википедии"
   ]
  },
  {
   "cell_type": "markdown",
   "metadata": {},
   "source": [
    "### Задача 6\n",
    "\n",
    "\n",
    "В качестве примера выгрузки текста статьи в документации приведена страница об Альберте Эйнштейне. Попробуем выгрузить текст статьи по уже привычной схеме (только немного другие названия методов и аргументов):"
   ]
  },
  {
   "cell_type": "code",
   "execution_count": 15,
   "metadata": {},
   "outputs": [],
   "source": [
    "URL = \"https://en.wikipedia.org/w/api.php\"\n",
    "\n",
    "PARAMS = {\n",
    "    \"action\": \"parse\",\n",
    "    \"page\": \"Albert Einstein\",\n",
    "    \"prop\": \"wikitext\",\n",
    "    \"format\": \"json\"\n",
    "}\n",
    "\n",
    "R = requests.get(url=URL, params=PARAMS)\n",
    "DATA = R.json()"
   ]
  },
  {
   "cell_type": "markdown",
   "metadata": {},
   "source": [
    "Извлеките элемент с ключом `wikitext` и изучите его структуру. Удобно ли работать с текстом в таком виде?"
   ]
  },
  {
   "cell_type": "code",
   "execution_count": 16,
   "metadata": {},
   "outputs": [],
   "source": [
    "# дикая строка с кучей скобок внутри \n",
    "# wikitext – текст с разметкой Википедии, свои специальные символы,\n",
    "# даже с ходу не распарсишь\n",
    "\n",
    "wikitext = DATA[\"parse\"][\"wikitext\"][\"*\"]"
   ]
  },
  {
   "cell_type": "markdown",
   "metadata": {},
   "source": [
    "### Задача 7\n",
    "\n",
    "Измените в коде выше аргумент `prop` на `text`. Посмотрите, что получилось (по аналогии с предыдущей задачей нас интересует элемент `text`)."
   ]
  },
  {
   "cell_type": "code",
   "execution_count": 17,
   "metadata": {},
   "outputs": [
    {
     "name": "stdout",
     "output_type": "stream",
     "text": [
      "<div class=\"mw-content-ltr mw-parser-output\" lang=\"en\" dir=\"ltr\"><div class=\"shortdescription nomobile noexcerpt noprint searchaux\" style=\"display:none\">German-born scientist (1879–1955)</div>\n",
      "<style \n"
     ]
    }
   ],
   "source": [
    "URL = \"https://en.wikipedia.org/w/api.php\"\n",
    "\n",
    "# меняем prop\n",
    "PARAMS = {\n",
    "    \"action\": \"parse\",\n",
    "    \"page\": \"Albert Einstein\",\n",
    "    \"prop\": \"text\",\n",
    "    \"format\": \"json\"\n",
    "}\n",
    "\n",
    "R = requests.get(url=URL, params=PARAMS)\n",
    "DATA = R.json()\n",
    "\n",
    "# повторяем – первые 200 символов для примера\n",
    "# уже обычный HTML – хотя бы парсить будет проще\n",
    "\n",
    "text = DATA[\"parse\"][\"text\"][\"*\"]\n",
    "print(text[0:200])"
   ]
  },
  {
   "cell_type": "markdown",
   "metadata": {},
   "source": [
    "В свободном режиме давайте поизучаем, каким образом получить текст или его фрагменты в удобном виде.\n",
    "Не помешает обратиться к документации по [методу](https://www.mediawiki.org/w/api.php?action=help&modules=parse) `parse` и по [методу](https://www.mediawiki.org/w/api.php?action=help&modules=query) `query`."
   ]
  },
  {
   "cell_type": "code",
   "execution_count": 18,
   "metadata": {},
   "outputs": [],
   "source": [
    "# ссылка та же\n",
    "\n",
    "URL = \"https://en.wikipedia.org/w/api.php\"\n",
    "\n",
    "# но выгружаем только вводную часть статьи – summary\n",
    "# для многих задач хватает\n",
    "\n",
    "# action = query, обычный запрос\n",
    "# prop = extracts, отрывки\n",
    "# exintro = True, забираем вводную часть\n",
    "# explaintext = True, забираем отрывок (ex) в виде чистого текста (plaintext)\n",
    "# titles, название статьи\n",
    "\n",
    "PARAMS = {\"action\" : \"query\", \n",
    "         \"prop\" : \"extracts\", \n",
    "         \"exintro\" : True, \n",
    "         \"explaintext\" : True, \n",
    "         \"titles\" : \"Albert Einstein\",\n",
    "         \"format\" : \"json\"}"
   ]
  },
  {
   "cell_type": "code",
   "execution_count": 19,
   "metadata": {},
   "outputs": [
    {
     "data": {
      "text/plain": [
       "{'batchcomplete': '',\n",
       " 'query': {'pages': {'736': {'pageid': 736,\n",
       "    'ns': 0,\n",
       "    'title': 'Albert Einstein',\n",
       "    'extract': 'Albert Einstein ( EYEN-styne; German: [ˈalbɛɐt ˈʔaɪnʃtaɪn] ; 14 March 1879 – 18 April 1955) was a German-born theoretical physicist who is widely held to be one of the greatest and most influential scientists of all time. Best known for developing the theory of relativity, Einstein also made important contributions to quantum mechanics, and was thus a central figure in the revolutionary reshaping of the scientific understanding of nature that modern physics accomplished in the first decades of the twentieth century. His mass–energy equivalence formula E = mc2, which arises from relativity theory, has been called \"the world\\'s most famous equation\". He received the 1921 Nobel Prize in Physics \"for his services to theoretical physics, and especially for his discovery of the law of the photoelectric effect\", a pivotal step in the development of quantum theory. His work is also known for its influence on the philosophy of science. In a 1999 poll of 130 leading physicists worldwide by the British journal Physics World, Einstein was ranked the greatest physicist of all time. His intellectual achievements and originality have made the word Einstein broadly synonymous with genius.Born in the German Empire, Einstein moved to Switzerland in 1895, forsaking his German citizenship (as a subject of the Kingdom of Württemberg) the following year. In 1897, at the age of seventeen, he enrolled in the mathematics and physics teaching diploma program at the Swiss Federal polytechnic school in Zürich, graduating in 1900. In 1901, he acquired Swiss citizenship, which he kept for the rest of his life. In 1903, he secured a permanent position at the Swiss Patent Office in Bern. In 1905, he submitted a successful PhD dissertation to the University of Zurich. In 1914, he moved to Berlin in order to join the Prussian Academy of Sciences and the Humboldt University of Berlin. In 1917, he became director of the Kaiser Wilhelm Institute for Physics; he also became a German citizen again, this time as a subject of the Kingdom of Prussia.In 1933, while he was visiting the United States, Adolf Hitler came to power in Germany. Horrified by the Nazi \"war of extermination\" against his fellow Jews, Einstein decided to remain in the US, and was granted American citizenship in 1940. On the eve of World War II, he endorsed a letter to President Franklin D. Roosevelt alerting him to the potential German nuclear weapons program and recommending that the US begin similar research. Einstein supported the Allies but generally viewed the idea of nuclear weapons with great dismay.In 1905, sometimes described as his annus mirabilis (miracle year), Einstein published four groundbreaking papers. These outlined a theory of the photoelectric effect, explained Brownian motion, introduced his special theory of relativity—a theory which addressed the inability of classical mechanics to account satisfactorily for the behavior of the electromagnetic field—and demonstrated that if the special theory is correct, mass and energy are equivalent to each other. In 1915, he proposed a general theory of relativity that extended his system of mechanics to incorporate gravitation. A cosmological paper that he published the following year laid out the implications of general relativity for the modeling of the structure and evolution of the universe as a whole. The middle part of his career also saw him making important contributions to statistical mechanics and quantum theory. Especially notable was his work on the quantum physics of radiation, in which light consists of particles, subsequently called photons. For much of the last phase of his academic life, Einstein worked on two endeavors that proved ultimately unsuccessful. Firstly, he advocated against quantum theory\\'s introduction of fundamental randomness into science\\'s picture of the world, objecting that \"God does not play dice\". Secondly, he attempted to devise a unified field theory by generalizing his geometric theory of gravitation to include electromagnetism too. As a result, he became increasingly isolated from the mainstream of modern physics.'}}}}"
      ]
     },
     "execution_count": 19,
     "metadata": {},
     "output_type": "execute_result"
    }
   ],
   "source": [
    "# с этим уже можно работать\n",
    "\n",
    "resp = requests.get(URL, PARAMS)\n",
    "resp.json()"
   ]
  }
 ],
 "metadata": {
  "kernelspec": {
   "display_name": "Python 3 (ipykernel)",
   "language": "python",
   "name": "python3"
  },
  "language_info": {
   "codemirror_mode": {
    "name": "ipython",
    "version": 3
   },
   "file_extension": ".py",
   "mimetype": "text/x-python",
   "name": "python",
   "nbconvert_exporter": "python",
   "pygments_lexer": "ipython3",
   "version": "3.9.7"
  }
 },
 "nbformat": 4,
 "nbformat_minor": 2
}
